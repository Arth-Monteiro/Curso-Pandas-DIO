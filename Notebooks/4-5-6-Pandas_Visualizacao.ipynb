{
  "nbformat": 4,
  "nbformat_minor": 2,
  "metadata": {
    "colab": {
      "name": "Pandas_Aula7_Visualizacao.ipynb",
      "provenance": []
    },
    "kernelspec": {
      "name": "python3",
      "display_name": "Python 3.8.3 64-bit ('base': conda)"
    },
    "language_info": {
      "name": "python",
      "version": "3.8.3",
      "mimetype": "text/x-python",
      "codemirror_mode": {
        "name": "ipython",
        "version": 3
      },
      "pygments_lexer": "ipython3",
      "nbconvert_exporter": "python",
      "file_extension": ".py"
    },
    "interpreter": {
      "hash": "36df8c59027b9343fe3e4e2289fe77c10598a01879cdeee59c11161dec731be8"
    }
  },
  "cells": [
    {
      "cell_type": "markdown",
      "source": [
        "#**Trabalhando com Planilhas do Excel**"
      ],
      "metadata": {
        "id": "ZeNH2z6OzfND",
        "colab_type": "text"
      }
    },
    {
      "cell_type": "code",
      "execution_count": 1,
      "source": [
        "#Importando a biblioteca\r\n",
        "import pandas as pd"
      ],
      "outputs": [],
      "metadata": {
        "id": "Jwz3_uGfzmYp",
        "colab_type": "code",
        "colab": {}
      }
    },
    {
      "cell_type": "code",
      "execution_count": 2,
      "source": [
        "#Leitura dos arquivos\r\n",
        "df1 = pd.read_excel(\"./../datasets/Aracaju.xlsx\")\r\n",
        "df2 = pd.read_excel(\"./../datasets/Fortaleza.xlsx\")\r\n",
        "df3 = pd.read_excel(\"./../datasets/Natal.xlsx\")\r\n",
        "df4 = pd.read_excel(\"./../datasets/Recife.xlsx\")\r\n",
        "df5 = pd.read_excel(\"./../datasets/Salvador.xlsx\")"
      ],
      "outputs": [],
      "metadata": {
        "id": "pCTDd0YKzqkc",
        "colab_type": "code",
        "colab": {}
      }
    },
    {
      "cell_type": "code",
      "execution_count": 3,
      "source": [
        "df5.head()"
      ],
      "outputs": [
        {
          "output_type": "execute_result",
          "data": {
            "text/plain": [
              "     Cidade       Data  Vendas  LojaID  Qtde\n",
              "0  Salvador 2018-01-01   31.06    1037     3\n",
              "1  Salvador 2018-01-01   19.02    1034     3\n",
              "2  Salvador 2019-02-10  173.59    1035     3\n",
              "3  Salvador 2019-02-10  176.34    1037     3\n",
              "4  Salvador 2019-02-14   19.47    1037     3"
            ],
            "text/html": [
              "<div>\n",
              "<style scoped>\n",
              "    .dataframe tbody tr th:only-of-type {\n",
              "        vertical-align: middle;\n",
              "    }\n",
              "\n",
              "    .dataframe tbody tr th {\n",
              "        vertical-align: top;\n",
              "    }\n",
              "\n",
              "    .dataframe thead th {\n",
              "        text-align: right;\n",
              "    }\n",
              "</style>\n",
              "<table border=\"1\" class=\"dataframe\">\n",
              "  <thead>\n",
              "    <tr style=\"text-align: right;\">\n",
              "      <th></th>\n",
              "      <th>Cidade</th>\n",
              "      <th>Data</th>\n",
              "      <th>Vendas</th>\n",
              "      <th>LojaID</th>\n",
              "      <th>Qtde</th>\n",
              "    </tr>\n",
              "  </thead>\n",
              "  <tbody>\n",
              "    <tr>\n",
              "      <th>0</th>\n",
              "      <td>Salvador</td>\n",
              "      <td>2018-01-01</td>\n",
              "      <td>31.06</td>\n",
              "      <td>1037</td>\n",
              "      <td>3</td>\n",
              "    </tr>\n",
              "    <tr>\n",
              "      <th>1</th>\n",
              "      <td>Salvador</td>\n",
              "      <td>2018-01-01</td>\n",
              "      <td>19.02</td>\n",
              "      <td>1034</td>\n",
              "      <td>3</td>\n",
              "    </tr>\n",
              "    <tr>\n",
              "      <th>2</th>\n",
              "      <td>Salvador</td>\n",
              "      <td>2019-02-10</td>\n",
              "      <td>173.59</td>\n",
              "      <td>1035</td>\n",
              "      <td>3</td>\n",
              "    </tr>\n",
              "    <tr>\n",
              "      <th>3</th>\n",
              "      <td>Salvador</td>\n",
              "      <td>2019-02-10</td>\n",
              "      <td>176.34</td>\n",
              "      <td>1037</td>\n",
              "      <td>3</td>\n",
              "    </tr>\n",
              "    <tr>\n",
              "      <th>4</th>\n",
              "      <td>Salvador</td>\n",
              "      <td>2019-02-14</td>\n",
              "      <td>19.47</td>\n",
              "      <td>1037</td>\n",
              "      <td>3</td>\n",
              "    </tr>\n",
              "  </tbody>\n",
              "</table>\n",
              "</div>"
            ]
          },
          "metadata": {},
          "execution_count": 3
        }
      ],
      "metadata": {
        "id": "bt3rZ7tWBPj7",
        "colab_type": "code",
        "outputId": "ffe2a67a-51ad-4749-d941-81cdd22dd29b",
        "colab": {
          "base_uri": "https://localhost:8080/",
          "height": 204
        }
      }
    },
    {
      "cell_type": "code",
      "execution_count": 4,
      "source": [
        "#juntando todos os arquivos\r\n",
        "df = pd.concat([df1,df2,df3,df4,df5])"
      ],
      "outputs": [],
      "metadata": {
        "id": "7CUnX6220WVx",
        "colab_type": "code",
        "colab": {}
      }
    },
    {
      "cell_type": "code",
      "execution_count": 5,
      "source": [
        "#Exibindo as 5 primeiras linhas\r\n",
        "df.head()"
      ],
      "outputs": [
        {
          "output_type": "execute_result",
          "data": {
            "text/plain": [
              "    Cidade       Data  Vendas  LojaID  Qtde\n",
              "0  Aracaju 2018-01-01  142.00    1520     1\n",
              "1  Aracaju 2018-01-01   14.21    1522     6\n",
              "2  Aracaju 2018-01-01   71.55    1520     1\n",
              "3  Aracaju 2018-01-01    3.01    1521     7\n",
              "4  Aracaju 2018-01-01   24.51    1522     8"
            ],
            "text/html": [
              "<div>\n",
              "<style scoped>\n",
              "    .dataframe tbody tr th:only-of-type {\n",
              "        vertical-align: middle;\n",
              "    }\n",
              "\n",
              "    .dataframe tbody tr th {\n",
              "        vertical-align: top;\n",
              "    }\n",
              "\n",
              "    .dataframe thead th {\n",
              "        text-align: right;\n",
              "    }\n",
              "</style>\n",
              "<table border=\"1\" class=\"dataframe\">\n",
              "  <thead>\n",
              "    <tr style=\"text-align: right;\">\n",
              "      <th></th>\n",
              "      <th>Cidade</th>\n",
              "      <th>Data</th>\n",
              "      <th>Vendas</th>\n",
              "      <th>LojaID</th>\n",
              "      <th>Qtde</th>\n",
              "    </tr>\n",
              "  </thead>\n",
              "  <tbody>\n",
              "    <tr>\n",
              "      <th>0</th>\n",
              "      <td>Aracaju</td>\n",
              "      <td>2018-01-01</td>\n",
              "      <td>142.00</td>\n",
              "      <td>1520</td>\n",
              "      <td>1</td>\n",
              "    </tr>\n",
              "    <tr>\n",
              "      <th>1</th>\n",
              "      <td>Aracaju</td>\n",
              "      <td>2018-01-01</td>\n",
              "      <td>14.21</td>\n",
              "      <td>1522</td>\n",
              "      <td>6</td>\n",
              "    </tr>\n",
              "    <tr>\n",
              "      <th>2</th>\n",
              "      <td>Aracaju</td>\n",
              "      <td>2018-01-01</td>\n",
              "      <td>71.55</td>\n",
              "      <td>1520</td>\n",
              "      <td>1</td>\n",
              "    </tr>\n",
              "    <tr>\n",
              "      <th>3</th>\n",
              "      <td>Aracaju</td>\n",
              "      <td>2018-01-01</td>\n",
              "      <td>3.01</td>\n",
              "      <td>1521</td>\n",
              "      <td>7</td>\n",
              "    </tr>\n",
              "    <tr>\n",
              "      <th>4</th>\n",
              "      <td>Aracaju</td>\n",
              "      <td>2018-01-01</td>\n",
              "      <td>24.51</td>\n",
              "      <td>1522</td>\n",
              "      <td>8</td>\n",
              "    </tr>\n",
              "  </tbody>\n",
              "</table>\n",
              "</div>"
            ]
          },
          "metadata": {},
          "execution_count": 5
        }
      ],
      "metadata": {
        "id": "3ZFau-ii08Lr",
        "colab_type": "code",
        "outputId": "f1ed7fc3-ac01-4af0-cfae-392c343ffb03",
        "colab": {
          "base_uri": "https://localhost:8080/",
          "height": 204
        }
      }
    },
    {
      "cell_type": "code",
      "execution_count": 6,
      "source": [
        "#Exibindo as 5 últimas linhas\r\n",
        "df.tail()"
      ],
      "outputs": [
        {
          "output_type": "execute_result",
          "data": {
            "text/plain": [
              "       Cidade       Data  Vendas  LojaID  Qtde\n",
              "235  Salvador 2019-01-03   41.84    1034     1\n",
              "236  Salvador 2019-01-03  126.29    1035     3\n",
              "237  Salvador 2019-01-03   38.06    1036     3\n",
              "238  Salvador 2019-01-03  139.64    1035     1\n",
              "239  Salvador 2019-01-03  161.41    1037     3"
            ],
            "text/html": [
              "<div>\n",
              "<style scoped>\n",
              "    .dataframe tbody tr th:only-of-type {\n",
              "        vertical-align: middle;\n",
              "    }\n",
              "\n",
              "    .dataframe tbody tr th {\n",
              "        vertical-align: top;\n",
              "    }\n",
              "\n",
              "    .dataframe thead th {\n",
              "        text-align: right;\n",
              "    }\n",
              "</style>\n",
              "<table border=\"1\" class=\"dataframe\">\n",
              "  <thead>\n",
              "    <tr style=\"text-align: right;\">\n",
              "      <th></th>\n",
              "      <th>Cidade</th>\n",
              "      <th>Data</th>\n",
              "      <th>Vendas</th>\n",
              "      <th>LojaID</th>\n",
              "      <th>Qtde</th>\n",
              "    </tr>\n",
              "  </thead>\n",
              "  <tbody>\n",
              "    <tr>\n",
              "      <th>235</th>\n",
              "      <td>Salvador</td>\n",
              "      <td>2019-01-03</td>\n",
              "      <td>41.84</td>\n",
              "      <td>1034</td>\n",
              "      <td>1</td>\n",
              "    </tr>\n",
              "    <tr>\n",
              "      <th>236</th>\n",
              "      <td>Salvador</td>\n",
              "      <td>2019-01-03</td>\n",
              "      <td>126.29</td>\n",
              "      <td>1035</td>\n",
              "      <td>3</td>\n",
              "    </tr>\n",
              "    <tr>\n",
              "      <th>237</th>\n",
              "      <td>Salvador</td>\n",
              "      <td>2019-01-03</td>\n",
              "      <td>38.06</td>\n",
              "      <td>1036</td>\n",
              "      <td>3</td>\n",
              "    </tr>\n",
              "    <tr>\n",
              "      <th>238</th>\n",
              "      <td>Salvador</td>\n",
              "      <td>2019-01-03</td>\n",
              "      <td>139.64</td>\n",
              "      <td>1035</td>\n",
              "      <td>1</td>\n",
              "    </tr>\n",
              "    <tr>\n",
              "      <th>239</th>\n",
              "      <td>Salvador</td>\n",
              "      <td>2019-01-03</td>\n",
              "      <td>161.41</td>\n",
              "      <td>1037</td>\n",
              "      <td>3</td>\n",
              "    </tr>\n",
              "  </tbody>\n",
              "</table>\n",
              "</div>"
            ]
          },
          "metadata": {},
          "execution_count": 6
        }
      ],
      "metadata": {
        "id": "oURFLxhL09Uq",
        "colab_type": "code",
        "outputId": "15c819f5-a1c0-42ac-a1be-4727c424340a",
        "colab": {
          "base_uri": "https://localhost:8080/",
          "height": 204
        }
      }
    },
    {
      "cell_type": "code",
      "execution_count": 7,
      "source": [
        "df.sample(5)"
      ],
      "outputs": [
        {
          "output_type": "execute_result",
          "data": {
            "text/plain": [
              "       Cidade       Data  Vendas  LojaID  Qtde\n",
              "120     Natal 2019-01-02  140.17    1036     2\n",
              "45    Aracaju 2018-01-01  131.12    1523     5\n",
              "15   Salvador 2019-01-01   20.15    1036     3\n",
              "179     Natal 2019-01-02   64.95    1036     1\n",
              "213     Natal 2019-01-02   42.12    1035     1"
            ],
            "text/html": [
              "<div>\n",
              "<style scoped>\n",
              "    .dataframe tbody tr th:only-of-type {\n",
              "        vertical-align: middle;\n",
              "    }\n",
              "\n",
              "    .dataframe tbody tr th {\n",
              "        vertical-align: top;\n",
              "    }\n",
              "\n",
              "    .dataframe thead th {\n",
              "        text-align: right;\n",
              "    }\n",
              "</style>\n",
              "<table border=\"1\" class=\"dataframe\">\n",
              "  <thead>\n",
              "    <tr style=\"text-align: right;\">\n",
              "      <th></th>\n",
              "      <th>Cidade</th>\n",
              "      <th>Data</th>\n",
              "      <th>Vendas</th>\n",
              "      <th>LojaID</th>\n",
              "      <th>Qtde</th>\n",
              "    </tr>\n",
              "  </thead>\n",
              "  <tbody>\n",
              "    <tr>\n",
              "      <th>120</th>\n",
              "      <td>Natal</td>\n",
              "      <td>2019-01-02</td>\n",
              "      <td>140.17</td>\n",
              "      <td>1036</td>\n",
              "      <td>2</td>\n",
              "    </tr>\n",
              "    <tr>\n",
              "      <th>45</th>\n",
              "      <td>Aracaju</td>\n",
              "      <td>2018-01-01</td>\n",
              "      <td>131.12</td>\n",
              "      <td>1523</td>\n",
              "      <td>5</td>\n",
              "    </tr>\n",
              "    <tr>\n",
              "      <th>15</th>\n",
              "      <td>Salvador</td>\n",
              "      <td>2019-01-01</td>\n",
              "      <td>20.15</td>\n",
              "      <td>1036</td>\n",
              "      <td>3</td>\n",
              "    </tr>\n",
              "    <tr>\n",
              "      <th>179</th>\n",
              "      <td>Natal</td>\n",
              "      <td>2019-01-02</td>\n",
              "      <td>64.95</td>\n",
              "      <td>1036</td>\n",
              "      <td>1</td>\n",
              "    </tr>\n",
              "    <tr>\n",
              "      <th>213</th>\n",
              "      <td>Natal</td>\n",
              "      <td>2019-01-02</td>\n",
              "      <td>42.12</td>\n",
              "      <td>1035</td>\n",
              "      <td>1</td>\n",
              "    </tr>\n",
              "  </tbody>\n",
              "</table>\n",
              "</div>"
            ]
          },
          "metadata": {},
          "execution_count": 7
        }
      ],
      "metadata": {
        "id": "j8eDDblOBsRG",
        "colab_type": "code",
        "outputId": "efe39301-6ece-4446-a3b9-60cb39095e69",
        "colab": {
          "base_uri": "https://localhost:8080/",
          "height": 204
        }
      }
    },
    {
      "cell_type": "code",
      "execution_count": 8,
      "source": [
        "#Verificando o tipo de dado de cada coluna\r\n",
        "df.dtypes"
      ],
      "outputs": [
        {
          "output_type": "execute_result",
          "data": {
            "text/plain": [
              "Cidade            object\n",
              "Data      datetime64[ns]\n",
              "Vendas           float64\n",
              "LojaID             int64\n",
              "Qtde               int64\n",
              "dtype: object"
            ]
          },
          "metadata": {},
          "execution_count": 8
        }
      ],
      "metadata": {
        "id": "kw0zQfVL0_-L",
        "colab_type": "code",
        "outputId": "3617ad27-63b0-483f-ea6e-1a8413272afc",
        "colab": {
          "base_uri": "https://localhost:8080/",
          "height": 119
        }
      }
    },
    {
      "cell_type": "code",
      "execution_count": 9,
      "source": [
        "#Alterando o tipo de dado da coluna LojaID\r\n",
        "df[\"LojaID\"] = df[\"LojaID\"].astype(\"object\")"
      ],
      "outputs": [],
      "metadata": {
        "id": "JB2rkM0b1kKF",
        "colab_type": "code",
        "colab": {}
      }
    },
    {
      "cell_type": "code",
      "execution_count": 10,
      "source": [
        "df.dtypes"
      ],
      "outputs": [
        {
          "output_type": "execute_result",
          "data": {
            "text/plain": [
              "Cidade            object\n",
              "Data      datetime64[ns]\n",
              "Vendas           float64\n",
              "LojaID            object\n",
              "Qtde               int64\n",
              "dtype: object"
            ]
          },
          "metadata": {},
          "execution_count": 10
        }
      ],
      "metadata": {
        "id": "3t1uir2H1w3x",
        "colab_type": "code",
        "outputId": "a8d766f2-504e-4fcb-dc09-842b4c5218b6",
        "colab": {
          "base_uri": "https://localhost:8080/",
          "height": 119
        }
      }
    },
    {
      "cell_type": "code",
      "execution_count": 11,
      "source": [
        "df.head()"
      ],
      "outputs": [
        {
          "output_type": "execute_result",
          "data": {
            "text/plain": [
              "    Cidade       Data  Vendas LojaID  Qtde\n",
              "0  Aracaju 2018-01-01  142.00   1520     1\n",
              "1  Aracaju 2018-01-01   14.21   1522     6\n",
              "2  Aracaju 2018-01-01   71.55   1520     1\n",
              "3  Aracaju 2018-01-01    3.01   1521     7\n",
              "4  Aracaju 2018-01-01   24.51   1522     8"
            ],
            "text/html": [
              "<div>\n",
              "<style scoped>\n",
              "    .dataframe tbody tr th:only-of-type {\n",
              "        vertical-align: middle;\n",
              "    }\n",
              "\n",
              "    .dataframe tbody tr th {\n",
              "        vertical-align: top;\n",
              "    }\n",
              "\n",
              "    .dataframe thead th {\n",
              "        text-align: right;\n",
              "    }\n",
              "</style>\n",
              "<table border=\"1\" class=\"dataframe\">\n",
              "  <thead>\n",
              "    <tr style=\"text-align: right;\">\n",
              "      <th></th>\n",
              "      <th>Cidade</th>\n",
              "      <th>Data</th>\n",
              "      <th>Vendas</th>\n",
              "      <th>LojaID</th>\n",
              "      <th>Qtde</th>\n",
              "    </tr>\n",
              "  </thead>\n",
              "  <tbody>\n",
              "    <tr>\n",
              "      <th>0</th>\n",
              "      <td>Aracaju</td>\n",
              "      <td>2018-01-01</td>\n",
              "      <td>142.00</td>\n",
              "      <td>1520</td>\n",
              "      <td>1</td>\n",
              "    </tr>\n",
              "    <tr>\n",
              "      <th>1</th>\n",
              "      <td>Aracaju</td>\n",
              "      <td>2018-01-01</td>\n",
              "      <td>14.21</td>\n",
              "      <td>1522</td>\n",
              "      <td>6</td>\n",
              "    </tr>\n",
              "    <tr>\n",
              "      <th>2</th>\n",
              "      <td>Aracaju</td>\n",
              "      <td>2018-01-01</td>\n",
              "      <td>71.55</td>\n",
              "      <td>1520</td>\n",
              "      <td>1</td>\n",
              "    </tr>\n",
              "    <tr>\n",
              "      <th>3</th>\n",
              "      <td>Aracaju</td>\n",
              "      <td>2018-01-01</td>\n",
              "      <td>3.01</td>\n",
              "      <td>1521</td>\n",
              "      <td>7</td>\n",
              "    </tr>\n",
              "    <tr>\n",
              "      <th>4</th>\n",
              "      <td>Aracaju</td>\n",
              "      <td>2018-01-01</td>\n",
              "      <td>24.51</td>\n",
              "      <td>1522</td>\n",
              "      <td>8</td>\n",
              "    </tr>\n",
              "  </tbody>\n",
              "</table>\n",
              "</div>"
            ]
          },
          "metadata": {},
          "execution_count": 11
        }
      ],
      "metadata": {
        "id": "B0Z8PPuJ19dc",
        "colab_type": "code",
        "outputId": "10d2f11c-d421-4434-fe61-dfa537b7d6bf",
        "colab": {
          "base_uri": "https://localhost:8080/",
          "height": 204
        }
      }
    },
    {
      "cell_type": "markdown",
      "source": [
        "**Tratando valores faltantes**"
      ],
      "metadata": {
        "id": "br1B_k4v2HVF",
        "colab_type": "text"
      }
    },
    {
      "cell_type": "code",
      "execution_count": 12,
      "source": [
        "#Consultando linhas com valores faltantes\r\n",
        "df.isnull().sum()"
      ],
      "outputs": [
        {
          "output_type": "execute_result",
          "data": {
            "text/plain": [
              "Cidade    0\n",
              "Data      0\n",
              "Vendas    0\n",
              "LojaID    0\n",
              "Qtde      0\n",
              "dtype: int64"
            ]
          },
          "metadata": {},
          "execution_count": 12
        }
      ],
      "metadata": {
        "id": "J5L9EehP2MQ_",
        "colab_type": "code",
        "outputId": "91e21217-879a-426d-8b2b-fb15e77b2f87",
        "colab": {
          "base_uri": "https://localhost:8080/",
          "height": 119
        }
      }
    },
    {
      "cell_type": "code",
      "execution_count": 13,
      "source": [
        "#Substituindo os valores nulos pela média\r\n",
        "df[\"Vendas\"].fillna(df[\"Vendas\"].mean(), inplace=True)"
      ],
      "outputs": [],
      "metadata": {
        "id": "Pbq2ztpN3Qn8",
        "colab_type": "code",
        "colab": {}
      }
    },
    {
      "cell_type": "code",
      "execution_count": 14,
      "source": [
        "df[\"Vendas\"].mean()"
      ],
      "outputs": [
        {
          "output_type": "execute_result",
          "data": {
            "text/plain": [
              "122.61180089485438"
            ]
          },
          "metadata": {},
          "execution_count": 14
        }
      ],
      "metadata": {
        "id": "mD0kfsgSC4Qm",
        "colab_type": "code",
        "outputId": "ed9d1efa-e3b7-479e-9119-bab340148876",
        "colab": {
          "base_uri": "https://localhost:8080/",
          "height": 34
        }
      }
    },
    {
      "cell_type": "code",
      "execution_count": 15,
      "source": [
        "df.isnull().sum()"
      ],
      "outputs": [
        {
          "output_type": "execute_result",
          "data": {
            "text/plain": [
              "Cidade    0\n",
              "Data      0\n",
              "Vendas    0\n",
              "LojaID    0\n",
              "Qtde      0\n",
              "dtype: int64"
            ]
          },
          "metadata": {},
          "execution_count": 15
        }
      ],
      "metadata": {
        "id": "lA5QVn5N4C-A",
        "colab_type": "code",
        "outputId": "84874d37-3368-452f-bed6-43782dea6cf6",
        "colab": {
          "base_uri": "https://localhost:8080/",
          "height": 119
        }
      }
    },
    {
      "cell_type": "code",
      "execution_count": 16,
      "source": [
        "df.sample(15)"
      ],
      "outputs": [
        {
          "output_type": "execute_result",
          "data": {
            "text/plain": [
              "        Cidade       Data  Vendas LojaID  Qtde\n",
              "128  Fortaleza 2019-03-02   38.70    982     4\n",
              "103  Fortaleza 2019-01-01  142.57   1002     3\n",
              "79     Aracaju 2018-01-01    5.59   1521     4\n",
              "31       Natal 2018-04-03  401.00    854     4\n",
              "26      Recife 2019-01-01  126.05    980     1\n",
              "54       Natal 2018-10-03  373.00    852     4\n",
              "11    Salvador 2019-01-01   30.62   1034     3\n",
              "86     Aracaju 2018-01-01  154.92   1521     5\n",
              "60   Fortaleza 2019-01-01  182.14   1002     4\n",
              "137      Natal 2019-01-02   51.66   1036     3\n",
              "114  Fortaleza 2019-03-02   16.82    983     4\n",
              "5        Natal 2019-03-30  674.00    854     2\n",
              "229   Salvador 2019-01-02   43.08   1036     2\n",
              "26     Aracaju 2018-01-01    6.98   1521    10\n",
              "50   Fortaleza 2019-01-01   33.69   1005     3"
            ],
            "text/html": [
              "<div>\n",
              "<style scoped>\n",
              "    .dataframe tbody tr th:only-of-type {\n",
              "        vertical-align: middle;\n",
              "    }\n",
              "\n",
              "    .dataframe tbody tr th {\n",
              "        vertical-align: top;\n",
              "    }\n",
              "\n",
              "    .dataframe thead th {\n",
              "        text-align: right;\n",
              "    }\n",
              "</style>\n",
              "<table border=\"1\" class=\"dataframe\">\n",
              "  <thead>\n",
              "    <tr style=\"text-align: right;\">\n",
              "      <th></th>\n",
              "      <th>Cidade</th>\n",
              "      <th>Data</th>\n",
              "      <th>Vendas</th>\n",
              "      <th>LojaID</th>\n",
              "      <th>Qtde</th>\n",
              "    </tr>\n",
              "  </thead>\n",
              "  <tbody>\n",
              "    <tr>\n",
              "      <th>128</th>\n",
              "      <td>Fortaleza</td>\n",
              "      <td>2019-03-02</td>\n",
              "      <td>38.70</td>\n",
              "      <td>982</td>\n",
              "      <td>4</td>\n",
              "    </tr>\n",
              "    <tr>\n",
              "      <th>103</th>\n",
              "      <td>Fortaleza</td>\n",
              "      <td>2019-01-01</td>\n",
              "      <td>142.57</td>\n",
              "      <td>1002</td>\n",
              "      <td>3</td>\n",
              "    </tr>\n",
              "    <tr>\n",
              "      <th>79</th>\n",
              "      <td>Aracaju</td>\n",
              "      <td>2018-01-01</td>\n",
              "      <td>5.59</td>\n",
              "      <td>1521</td>\n",
              "      <td>4</td>\n",
              "    </tr>\n",
              "    <tr>\n",
              "      <th>31</th>\n",
              "      <td>Natal</td>\n",
              "      <td>2018-04-03</td>\n",
              "      <td>401.00</td>\n",
              "      <td>854</td>\n",
              "      <td>4</td>\n",
              "    </tr>\n",
              "    <tr>\n",
              "      <th>26</th>\n",
              "      <td>Recife</td>\n",
              "      <td>2019-01-01</td>\n",
              "      <td>126.05</td>\n",
              "      <td>980</td>\n",
              "      <td>1</td>\n",
              "    </tr>\n",
              "    <tr>\n",
              "      <th>54</th>\n",
              "      <td>Natal</td>\n",
              "      <td>2018-10-03</td>\n",
              "      <td>373.00</td>\n",
              "      <td>852</td>\n",
              "      <td>4</td>\n",
              "    </tr>\n",
              "    <tr>\n",
              "      <th>11</th>\n",
              "      <td>Salvador</td>\n",
              "      <td>2019-01-01</td>\n",
              "      <td>30.62</td>\n",
              "      <td>1034</td>\n",
              "      <td>3</td>\n",
              "    </tr>\n",
              "    <tr>\n",
              "      <th>86</th>\n",
              "      <td>Aracaju</td>\n",
              "      <td>2018-01-01</td>\n",
              "      <td>154.92</td>\n",
              "      <td>1521</td>\n",
              "      <td>5</td>\n",
              "    </tr>\n",
              "    <tr>\n",
              "      <th>60</th>\n",
              "      <td>Fortaleza</td>\n",
              "      <td>2019-01-01</td>\n",
              "      <td>182.14</td>\n",
              "      <td>1002</td>\n",
              "      <td>4</td>\n",
              "    </tr>\n",
              "    <tr>\n",
              "      <th>137</th>\n",
              "      <td>Natal</td>\n",
              "      <td>2019-01-02</td>\n",
              "      <td>51.66</td>\n",
              "      <td>1036</td>\n",
              "      <td>3</td>\n",
              "    </tr>\n",
              "    <tr>\n",
              "      <th>114</th>\n",
              "      <td>Fortaleza</td>\n",
              "      <td>2019-03-02</td>\n",
              "      <td>16.82</td>\n",
              "      <td>983</td>\n",
              "      <td>4</td>\n",
              "    </tr>\n",
              "    <tr>\n",
              "      <th>5</th>\n",
              "      <td>Natal</td>\n",
              "      <td>2019-03-30</td>\n",
              "      <td>674.00</td>\n",
              "      <td>854</td>\n",
              "      <td>2</td>\n",
              "    </tr>\n",
              "    <tr>\n",
              "      <th>229</th>\n",
              "      <td>Salvador</td>\n",
              "      <td>2019-01-02</td>\n",
              "      <td>43.08</td>\n",
              "      <td>1036</td>\n",
              "      <td>2</td>\n",
              "    </tr>\n",
              "    <tr>\n",
              "      <th>26</th>\n",
              "      <td>Aracaju</td>\n",
              "      <td>2018-01-01</td>\n",
              "      <td>6.98</td>\n",
              "      <td>1521</td>\n",
              "      <td>10</td>\n",
              "    </tr>\n",
              "    <tr>\n",
              "      <th>50</th>\n",
              "      <td>Fortaleza</td>\n",
              "      <td>2019-01-01</td>\n",
              "      <td>33.69</td>\n",
              "      <td>1005</td>\n",
              "      <td>3</td>\n",
              "    </tr>\n",
              "  </tbody>\n",
              "</table>\n",
              "</div>"
            ]
          },
          "metadata": {},
          "execution_count": 16
        }
      ],
      "metadata": {
        "id": "ds7pcl-ZCzb_",
        "colab_type": "code",
        "outputId": "e37c7b13-8bd1-46e2-e3f3-104e7fce8f8a",
        "colab": {
          "base_uri": "https://localhost:8080/",
          "height": 514
        }
      }
    },
    {
      "cell_type": "code",
      "execution_count": 17,
      "source": [
        "#Substituindo os valores nulos por zero\r\n",
        "df[\"Vendas\"].fillna(0, inplace=True)"
      ],
      "outputs": [],
      "metadata": {
        "id": "mMzEuPzg4N7U",
        "colab_type": "code",
        "colab": {}
      }
    },
    {
      "cell_type": "code",
      "execution_count": 18,
      "source": [
        "#Apagando as linhas com valores nulos\r\n",
        "df.dropna(inplace=True)"
      ],
      "outputs": [],
      "metadata": {
        "id": "pS7Hw6Df4Z7x",
        "colab_type": "code",
        "colab": {}
      }
    },
    {
      "cell_type": "code",
      "execution_count": 19,
      "source": [
        "#Apagando as linhas com valores nulos com base apenas em 1 coluna\r\n",
        "df.dropna(subset=[\"Vendas\"], inplace=True)"
      ],
      "outputs": [],
      "metadata": {
        "id": "iCpMj9MD4mW4",
        "colab_type": "code",
        "colab": {}
      }
    },
    {
      "cell_type": "code",
      "execution_count": 20,
      "source": [
        "#Removendo linhas que estejam com valores faltantes em todas as colunas\r\n",
        "df.dropna(how=\"all\", inplace=True)"
      ],
      "outputs": [],
      "metadata": {
        "id": "LYGy2VqH8uaM",
        "colab_type": "code",
        "colab": {}
      }
    },
    {
      "cell_type": "markdown",
      "source": [
        "**Criando colunas novas**"
      ],
      "metadata": {
        "id": "6qEyt17h9IwX",
        "colab_type": "text"
      }
    },
    {
      "cell_type": "code",
      "execution_count": 21,
      "source": [
        "#Criando a coluna de receita\r\n",
        "df[\"Receita\"] = df[\"Vendas\"].mul(df[\"Qtde\"])"
      ],
      "outputs": [],
      "metadata": {
        "id": "1HAAiPkh1yIN",
        "colab_type": "code",
        "colab": {}
      }
    },
    {
      "cell_type": "code",
      "execution_count": 22,
      "source": [
        "df.head()"
      ],
      "outputs": [
        {
          "output_type": "execute_result",
          "data": {
            "text/plain": [
              "    Cidade       Data  Vendas LojaID  Qtde  Receita\n",
              "0  Aracaju 2018-01-01  142.00   1520     1   142.00\n",
              "1  Aracaju 2018-01-01   14.21   1522     6    85.26\n",
              "2  Aracaju 2018-01-01   71.55   1520     1    71.55\n",
              "3  Aracaju 2018-01-01    3.01   1521     7    21.07\n",
              "4  Aracaju 2018-01-01   24.51   1522     8   196.08"
            ],
            "text/html": [
              "<div>\n",
              "<style scoped>\n",
              "    .dataframe tbody tr th:only-of-type {\n",
              "        vertical-align: middle;\n",
              "    }\n",
              "\n",
              "    .dataframe tbody tr th {\n",
              "        vertical-align: top;\n",
              "    }\n",
              "\n",
              "    .dataframe thead th {\n",
              "        text-align: right;\n",
              "    }\n",
              "</style>\n",
              "<table border=\"1\" class=\"dataframe\">\n",
              "  <thead>\n",
              "    <tr style=\"text-align: right;\">\n",
              "      <th></th>\n",
              "      <th>Cidade</th>\n",
              "      <th>Data</th>\n",
              "      <th>Vendas</th>\n",
              "      <th>LojaID</th>\n",
              "      <th>Qtde</th>\n",
              "      <th>Receita</th>\n",
              "    </tr>\n",
              "  </thead>\n",
              "  <tbody>\n",
              "    <tr>\n",
              "      <th>0</th>\n",
              "      <td>Aracaju</td>\n",
              "      <td>2018-01-01</td>\n",
              "      <td>142.00</td>\n",
              "      <td>1520</td>\n",
              "      <td>1</td>\n",
              "      <td>142.00</td>\n",
              "    </tr>\n",
              "    <tr>\n",
              "      <th>1</th>\n",
              "      <td>Aracaju</td>\n",
              "      <td>2018-01-01</td>\n",
              "      <td>14.21</td>\n",
              "      <td>1522</td>\n",
              "      <td>6</td>\n",
              "      <td>85.26</td>\n",
              "    </tr>\n",
              "    <tr>\n",
              "      <th>2</th>\n",
              "      <td>Aracaju</td>\n",
              "      <td>2018-01-01</td>\n",
              "      <td>71.55</td>\n",
              "      <td>1520</td>\n",
              "      <td>1</td>\n",
              "      <td>71.55</td>\n",
              "    </tr>\n",
              "    <tr>\n",
              "      <th>3</th>\n",
              "      <td>Aracaju</td>\n",
              "      <td>2018-01-01</td>\n",
              "      <td>3.01</td>\n",
              "      <td>1521</td>\n",
              "      <td>7</td>\n",
              "      <td>21.07</td>\n",
              "    </tr>\n",
              "    <tr>\n",
              "      <th>4</th>\n",
              "      <td>Aracaju</td>\n",
              "      <td>2018-01-01</td>\n",
              "      <td>24.51</td>\n",
              "      <td>1522</td>\n",
              "      <td>8</td>\n",
              "      <td>196.08</td>\n",
              "    </tr>\n",
              "  </tbody>\n",
              "</table>\n",
              "</div>"
            ]
          },
          "metadata": {},
          "execution_count": 22
        }
      ],
      "metadata": {
        "id": "_gMBlvMq5fPj",
        "colab_type": "code",
        "outputId": "a971500e-05cb-417a-f782-9a7737c2728f",
        "colab": {
          "base_uri": "https://localhost:8080/",
          "height": 204
        }
      }
    },
    {
      "cell_type": "code",
      "execution_count": 23,
      "source": [
        "df[\"Receita/Vendas\"] = df[\"Receita\"] / df[\"Vendas\"] "
      ],
      "outputs": [],
      "metadata": {
        "id": "DyU5SIhB9Q8w",
        "colab_type": "code",
        "colab": {}
      }
    },
    {
      "cell_type": "code",
      "execution_count": 24,
      "source": [
        "df.head()"
      ],
      "outputs": [
        {
          "output_type": "execute_result",
          "data": {
            "text/plain": [
              "    Cidade       Data  Vendas LojaID  Qtde  Receita  Receita/Vendas\n",
              "0  Aracaju 2018-01-01  142.00   1520     1   142.00             1.0\n",
              "1  Aracaju 2018-01-01   14.21   1522     6    85.26             6.0\n",
              "2  Aracaju 2018-01-01   71.55   1520     1    71.55             1.0\n",
              "3  Aracaju 2018-01-01    3.01   1521     7    21.07             7.0\n",
              "4  Aracaju 2018-01-01   24.51   1522     8   196.08             8.0"
            ],
            "text/html": [
              "<div>\n",
              "<style scoped>\n",
              "    .dataframe tbody tr th:only-of-type {\n",
              "        vertical-align: middle;\n",
              "    }\n",
              "\n",
              "    .dataframe tbody tr th {\n",
              "        vertical-align: top;\n",
              "    }\n",
              "\n",
              "    .dataframe thead th {\n",
              "        text-align: right;\n",
              "    }\n",
              "</style>\n",
              "<table border=\"1\" class=\"dataframe\">\n",
              "  <thead>\n",
              "    <tr style=\"text-align: right;\">\n",
              "      <th></th>\n",
              "      <th>Cidade</th>\n",
              "      <th>Data</th>\n",
              "      <th>Vendas</th>\n",
              "      <th>LojaID</th>\n",
              "      <th>Qtde</th>\n",
              "      <th>Receita</th>\n",
              "      <th>Receita/Vendas</th>\n",
              "    </tr>\n",
              "  </thead>\n",
              "  <tbody>\n",
              "    <tr>\n",
              "      <th>0</th>\n",
              "      <td>Aracaju</td>\n",
              "      <td>2018-01-01</td>\n",
              "      <td>142.00</td>\n",
              "      <td>1520</td>\n",
              "      <td>1</td>\n",
              "      <td>142.00</td>\n",
              "      <td>1.0</td>\n",
              "    </tr>\n",
              "    <tr>\n",
              "      <th>1</th>\n",
              "      <td>Aracaju</td>\n",
              "      <td>2018-01-01</td>\n",
              "      <td>14.21</td>\n",
              "      <td>1522</td>\n",
              "      <td>6</td>\n",
              "      <td>85.26</td>\n",
              "      <td>6.0</td>\n",
              "    </tr>\n",
              "    <tr>\n",
              "      <th>2</th>\n",
              "      <td>Aracaju</td>\n",
              "      <td>2018-01-01</td>\n",
              "      <td>71.55</td>\n",
              "      <td>1520</td>\n",
              "      <td>1</td>\n",
              "      <td>71.55</td>\n",
              "      <td>1.0</td>\n",
              "    </tr>\n",
              "    <tr>\n",
              "      <th>3</th>\n",
              "      <td>Aracaju</td>\n",
              "      <td>2018-01-01</td>\n",
              "      <td>3.01</td>\n",
              "      <td>1521</td>\n",
              "      <td>7</td>\n",
              "      <td>21.07</td>\n",
              "      <td>7.0</td>\n",
              "    </tr>\n",
              "    <tr>\n",
              "      <th>4</th>\n",
              "      <td>Aracaju</td>\n",
              "      <td>2018-01-01</td>\n",
              "      <td>24.51</td>\n",
              "      <td>1522</td>\n",
              "      <td>8</td>\n",
              "      <td>196.08</td>\n",
              "      <td>8.0</td>\n",
              "    </tr>\n",
              "  </tbody>\n",
              "</table>\n",
              "</div>"
            ]
          },
          "metadata": {},
          "execution_count": 24
        }
      ],
      "metadata": {
        "id": "YfMgO16q9m8F",
        "colab_type": "code",
        "outputId": "6b323566-e8aa-4a51-8623-cd0c7ec0cd69",
        "colab": {
          "base_uri": "https://localhost:8080/",
          "height": 204
        }
      }
    },
    {
      "cell_type": "code",
      "execution_count": 25,
      "source": [
        "#Retornando a maior receita\r\n",
        "df[\"Receita\"].max()"
      ],
      "outputs": [
        {
          "output_type": "execute_result",
          "data": {
            "text/plain": [
              "3544.0"
            ]
          },
          "metadata": {},
          "execution_count": 25
        }
      ],
      "metadata": {
        "id": "8uy9S6JZ3DB4",
        "colab_type": "code",
        "outputId": "1e059579-152c-4151-8aaf-2f61e689644b",
        "colab": {
          "base_uri": "https://localhost:8080/",
          "height": 34
        }
      }
    },
    {
      "cell_type": "code",
      "execution_count": 26,
      "source": [
        "#Retornando a menor receita\r\n",
        "df[\"Receita\"].min()"
      ],
      "outputs": [
        {
          "output_type": "execute_result",
          "data": {
            "text/plain": [
              "3.34"
            ]
          },
          "metadata": {},
          "execution_count": 26
        }
      ],
      "metadata": {
        "id": "y0eoDEcQ5cZC",
        "colab_type": "code",
        "outputId": "4a520c61-b418-4bdc-8196-f4ea5eee07c8",
        "colab": {
          "base_uri": "https://localhost:8080/",
          "height": 34
        }
      }
    },
    {
      "cell_type": "code",
      "execution_count": 27,
      "source": [
        "#nlargest\r\n",
        "df.nlargest(3, \"Receita\")"
      ],
      "outputs": [
        {
          "output_type": "execute_result",
          "data": {
            "text/plain": [
              "   Cidade       Data  Vendas LojaID  Qtde  Receita  Receita/Vendas\n",
              "7   Natal 2019-03-18   886.0    853     4   3544.0             4.0\n",
              "51  Natal 2018-01-21   859.0    852     4   3436.0             4.0\n",
              "55  Natal 2019-01-08   859.0    854     4   3436.0             4.0"
            ],
            "text/html": [
              "<div>\n",
              "<style scoped>\n",
              "    .dataframe tbody tr th:only-of-type {\n",
              "        vertical-align: middle;\n",
              "    }\n",
              "\n",
              "    .dataframe tbody tr th {\n",
              "        vertical-align: top;\n",
              "    }\n",
              "\n",
              "    .dataframe thead th {\n",
              "        text-align: right;\n",
              "    }\n",
              "</style>\n",
              "<table border=\"1\" class=\"dataframe\">\n",
              "  <thead>\n",
              "    <tr style=\"text-align: right;\">\n",
              "      <th></th>\n",
              "      <th>Cidade</th>\n",
              "      <th>Data</th>\n",
              "      <th>Vendas</th>\n",
              "      <th>LojaID</th>\n",
              "      <th>Qtde</th>\n",
              "      <th>Receita</th>\n",
              "      <th>Receita/Vendas</th>\n",
              "    </tr>\n",
              "  </thead>\n",
              "  <tbody>\n",
              "    <tr>\n",
              "      <th>7</th>\n",
              "      <td>Natal</td>\n",
              "      <td>2019-03-18</td>\n",
              "      <td>886.0</td>\n",
              "      <td>853</td>\n",
              "      <td>4</td>\n",
              "      <td>3544.0</td>\n",
              "      <td>4.0</td>\n",
              "    </tr>\n",
              "    <tr>\n",
              "      <th>51</th>\n",
              "      <td>Natal</td>\n",
              "      <td>2018-01-21</td>\n",
              "      <td>859.0</td>\n",
              "      <td>852</td>\n",
              "      <td>4</td>\n",
              "      <td>3436.0</td>\n",
              "      <td>4.0</td>\n",
              "    </tr>\n",
              "    <tr>\n",
              "      <th>55</th>\n",
              "      <td>Natal</td>\n",
              "      <td>2019-01-08</td>\n",
              "      <td>859.0</td>\n",
              "      <td>854</td>\n",
              "      <td>4</td>\n",
              "      <td>3436.0</td>\n",
              "      <td>4.0</td>\n",
              "    </tr>\n",
              "  </tbody>\n",
              "</table>\n",
              "</div>"
            ]
          },
          "metadata": {},
          "execution_count": 27
        }
      ],
      "metadata": {
        "id": "gX87zZJ45p5e",
        "colab_type": "code",
        "outputId": "bf1cce13-9157-4752-cf40-32b31f0c6977",
        "colab": {
          "base_uri": "https://localhost:8080/",
          "height": 142
        }
      }
    },
    {
      "cell_type": "code",
      "execution_count": 28,
      "source": [
        "#nsamllest\r\n",
        "df.nsmallest(3, \"Receita\")"
      ],
      "outputs": [
        {
          "output_type": "execute_result",
          "data": {
            "text/plain": [
              "      Cidade       Data  Vendas LojaID  Qtde  Receita  Receita/Vendas\n",
              "118  Aracaju 2018-01-01    3.34   1522     1     3.34             1.0\n",
              "65    Recife 2019-01-01    4.01    981     1     4.01             1.0\n",
              "92     Natal 2019-01-02    4.57   1035     1     4.57             1.0"
            ],
            "text/html": [
              "<div>\n",
              "<style scoped>\n",
              "    .dataframe tbody tr th:only-of-type {\n",
              "        vertical-align: middle;\n",
              "    }\n",
              "\n",
              "    .dataframe tbody tr th {\n",
              "        vertical-align: top;\n",
              "    }\n",
              "\n",
              "    .dataframe thead th {\n",
              "        text-align: right;\n",
              "    }\n",
              "</style>\n",
              "<table border=\"1\" class=\"dataframe\">\n",
              "  <thead>\n",
              "    <tr style=\"text-align: right;\">\n",
              "      <th></th>\n",
              "      <th>Cidade</th>\n",
              "      <th>Data</th>\n",
              "      <th>Vendas</th>\n",
              "      <th>LojaID</th>\n",
              "      <th>Qtde</th>\n",
              "      <th>Receita</th>\n",
              "      <th>Receita/Vendas</th>\n",
              "    </tr>\n",
              "  </thead>\n",
              "  <tbody>\n",
              "    <tr>\n",
              "      <th>118</th>\n",
              "      <td>Aracaju</td>\n",
              "      <td>2018-01-01</td>\n",
              "      <td>3.34</td>\n",
              "      <td>1522</td>\n",
              "      <td>1</td>\n",
              "      <td>3.34</td>\n",
              "      <td>1.0</td>\n",
              "    </tr>\n",
              "    <tr>\n",
              "      <th>65</th>\n",
              "      <td>Recife</td>\n",
              "      <td>2019-01-01</td>\n",
              "      <td>4.01</td>\n",
              "      <td>981</td>\n",
              "      <td>1</td>\n",
              "      <td>4.01</td>\n",
              "      <td>1.0</td>\n",
              "    </tr>\n",
              "    <tr>\n",
              "      <th>92</th>\n",
              "      <td>Natal</td>\n",
              "      <td>2019-01-02</td>\n",
              "      <td>4.57</td>\n",
              "      <td>1035</td>\n",
              "      <td>1</td>\n",
              "      <td>4.57</td>\n",
              "      <td>1.0</td>\n",
              "    </tr>\n",
              "  </tbody>\n",
              "</table>\n",
              "</div>"
            ]
          },
          "metadata": {},
          "execution_count": 28
        }
      ],
      "metadata": {
        "id": "gPK25dF_5w8q",
        "colab_type": "code",
        "outputId": "dc8bdffa-f584-4baa-a1d9-67bf4006048a",
        "colab": {
          "base_uri": "https://localhost:8080/",
          "height": 142
        }
      }
    },
    {
      "cell_type": "code",
      "execution_count": 29,
      "source": [
        "#Agrupamento por cidade\r\n",
        "df.groupby(\"Cidade\")[\"Receita\"].sum()"
      ],
      "outputs": [
        {
          "output_type": "execute_result",
          "data": {
            "text/plain": [
              "Cidade\n",
              "Aracaju       48748.25\n",
              "Fortaleza     37913.97\n",
              "Natal        167227.52\n",
              "Recife        51936.51\n",
              "Salvador      40596.73\n",
              "Name: Receita, dtype: float64"
            ]
          },
          "metadata": {},
          "execution_count": 29
        }
      ],
      "metadata": {
        "id": "VS5Bu2fQ53fG",
        "colab_type": "code",
        "outputId": "8d41e480-5db7-4175-cb4e-184f91a52a38",
        "colab": {
          "base_uri": "https://localhost:8080/",
          "height": 136
        }
      }
    },
    {
      "cell_type": "code",
      "execution_count": 30,
      "source": [
        "#Ordenando o conjunto de dados\r\n",
        "df.sort_values(\"Receita\", ascending=False).head(10)"
      ],
      "outputs": [
        {
          "output_type": "execute_result",
          "data": {
            "text/plain": [
              "   Cidade       Data  Vendas LojaID  Qtde  Receita  Receita/Vendas\n",
              "7   Natal 2019-03-18   886.0    853     4   3544.0             4.0\n",
              "55  Natal 2019-01-08   859.0    854     4   3436.0             4.0\n",
              "51  Natal 2018-01-21   859.0    852     4   3436.0             4.0\n",
              "30  Natal 2018-10-02   856.0    853     4   3424.0             4.0\n",
              "41  Natal 2018-05-20   835.0    852     4   3340.0             4.0\n",
              "38  Natal 2018-02-25   828.0    852     4   3312.0             4.0\n",
              "10  Natal 2018-10-27   828.0    852     4   3312.0             4.0\n",
              "69  Natal 2019-03-24   817.0    852     4   3268.0             4.0\n",
              "62  Natal 2018-02-10   793.0    854     4   3172.0             4.0\n",
              "52  Natal 2018-04-27   778.0    854     4   3112.0             4.0"
            ],
            "text/html": [
              "<div>\n",
              "<style scoped>\n",
              "    .dataframe tbody tr th:only-of-type {\n",
              "        vertical-align: middle;\n",
              "    }\n",
              "\n",
              "    .dataframe tbody tr th {\n",
              "        vertical-align: top;\n",
              "    }\n",
              "\n",
              "    .dataframe thead th {\n",
              "        text-align: right;\n",
              "    }\n",
              "</style>\n",
              "<table border=\"1\" class=\"dataframe\">\n",
              "  <thead>\n",
              "    <tr style=\"text-align: right;\">\n",
              "      <th></th>\n",
              "      <th>Cidade</th>\n",
              "      <th>Data</th>\n",
              "      <th>Vendas</th>\n",
              "      <th>LojaID</th>\n",
              "      <th>Qtde</th>\n",
              "      <th>Receita</th>\n",
              "      <th>Receita/Vendas</th>\n",
              "    </tr>\n",
              "  </thead>\n",
              "  <tbody>\n",
              "    <tr>\n",
              "      <th>7</th>\n",
              "      <td>Natal</td>\n",
              "      <td>2019-03-18</td>\n",
              "      <td>886.0</td>\n",
              "      <td>853</td>\n",
              "      <td>4</td>\n",
              "      <td>3544.0</td>\n",
              "      <td>4.0</td>\n",
              "    </tr>\n",
              "    <tr>\n",
              "      <th>55</th>\n",
              "      <td>Natal</td>\n",
              "      <td>2019-01-08</td>\n",
              "      <td>859.0</td>\n",
              "      <td>854</td>\n",
              "      <td>4</td>\n",
              "      <td>3436.0</td>\n",
              "      <td>4.0</td>\n",
              "    </tr>\n",
              "    <tr>\n",
              "      <th>51</th>\n",
              "      <td>Natal</td>\n",
              "      <td>2018-01-21</td>\n",
              "      <td>859.0</td>\n",
              "      <td>852</td>\n",
              "      <td>4</td>\n",
              "      <td>3436.0</td>\n",
              "      <td>4.0</td>\n",
              "    </tr>\n",
              "    <tr>\n",
              "      <th>30</th>\n",
              "      <td>Natal</td>\n",
              "      <td>2018-10-02</td>\n",
              "      <td>856.0</td>\n",
              "      <td>853</td>\n",
              "      <td>4</td>\n",
              "      <td>3424.0</td>\n",
              "      <td>4.0</td>\n",
              "    </tr>\n",
              "    <tr>\n",
              "      <th>41</th>\n",
              "      <td>Natal</td>\n",
              "      <td>2018-05-20</td>\n",
              "      <td>835.0</td>\n",
              "      <td>852</td>\n",
              "      <td>4</td>\n",
              "      <td>3340.0</td>\n",
              "      <td>4.0</td>\n",
              "    </tr>\n",
              "    <tr>\n",
              "      <th>38</th>\n",
              "      <td>Natal</td>\n",
              "      <td>2018-02-25</td>\n",
              "      <td>828.0</td>\n",
              "      <td>852</td>\n",
              "      <td>4</td>\n",
              "      <td>3312.0</td>\n",
              "      <td>4.0</td>\n",
              "    </tr>\n",
              "    <tr>\n",
              "      <th>10</th>\n",
              "      <td>Natal</td>\n",
              "      <td>2018-10-27</td>\n",
              "      <td>828.0</td>\n",
              "      <td>852</td>\n",
              "      <td>4</td>\n",
              "      <td>3312.0</td>\n",
              "      <td>4.0</td>\n",
              "    </tr>\n",
              "    <tr>\n",
              "      <th>69</th>\n",
              "      <td>Natal</td>\n",
              "      <td>2019-03-24</td>\n",
              "      <td>817.0</td>\n",
              "      <td>852</td>\n",
              "      <td>4</td>\n",
              "      <td>3268.0</td>\n",
              "      <td>4.0</td>\n",
              "    </tr>\n",
              "    <tr>\n",
              "      <th>62</th>\n",
              "      <td>Natal</td>\n",
              "      <td>2018-02-10</td>\n",
              "      <td>793.0</td>\n",
              "      <td>854</td>\n",
              "      <td>4</td>\n",
              "      <td>3172.0</td>\n",
              "      <td>4.0</td>\n",
              "    </tr>\n",
              "    <tr>\n",
              "      <th>52</th>\n",
              "      <td>Natal</td>\n",
              "      <td>2018-04-27</td>\n",
              "      <td>778.0</td>\n",
              "      <td>854</td>\n",
              "      <td>4</td>\n",
              "      <td>3112.0</td>\n",
              "      <td>4.0</td>\n",
              "    </tr>\n",
              "  </tbody>\n",
              "</table>\n",
              "</div>"
            ]
          },
          "metadata": {},
          "execution_count": 30
        }
      ],
      "metadata": {
        "id": "wYZDthyQ6DMI",
        "colab_type": "code",
        "outputId": "524d93a9-0246-46fe-8bfe-9451bc52b65a",
        "colab": {
          "base_uri": "https://localhost:8080/",
          "height": 359
        }
      }
    },
    {
      "cell_type": "markdown",
      "source": [
        "#**Trabalhando com datas**"
      ],
      "metadata": {
        "id": "6cA7C78N6sV2",
        "colab_type": "text"
      }
    },
    {
      "cell_type": "code",
      "execution_count": 31,
      "source": [
        "#Trasnformando a coluna de data em tipo inteiro\r\n",
        "df[\"Data\"] = df[\"Data\"].astype(\"int64\")"
      ],
      "outputs": [],
      "metadata": {
        "id": "bRaEoWjR6deI",
        "colab_type": "code",
        "colab": {}
      }
    },
    {
      "cell_type": "code",
      "execution_count": 32,
      "source": [
        "#Verificando o tipo de dado de cada coluna\r\n",
        "df.dtypes"
      ],
      "outputs": [
        {
          "output_type": "execute_result",
          "data": {
            "text/plain": [
              "Cidade             object\n",
              "Data                int64\n",
              "Vendas            float64\n",
              "LojaID             object\n",
              "Qtde                int64\n",
              "Receita           float64\n",
              "Receita/Vendas    float64\n",
              "dtype: object"
            ]
          },
          "metadata": {},
          "execution_count": 32
        }
      ],
      "metadata": {
        "id": "dz5kfhncHi7Y",
        "colab_type": "code",
        "outputId": "275eb110-54a8-450e-b8c6-165961d670b7",
        "colab": {
          "base_uri": "https://localhost:8080/",
          "height": 153
        }
      }
    },
    {
      "cell_type": "code",
      "execution_count": 33,
      "source": [
        "#Transformando coluna de data em data\r\n",
        "df[\"Data\"] = pd.to_datetime(df[\"Data\"])"
      ],
      "outputs": [],
      "metadata": {
        "id": "oQhrdhlyHkED",
        "colab_type": "code",
        "colab": {}
      }
    },
    {
      "cell_type": "code",
      "execution_count": 34,
      "source": [
        "df.dtypes"
      ],
      "outputs": [
        {
          "output_type": "execute_result",
          "data": {
            "text/plain": [
              "Cidade                    object\n",
              "Data              datetime64[ns]\n",
              "Vendas                   float64\n",
              "LojaID                    object\n",
              "Qtde                       int64\n",
              "Receita                  float64\n",
              "Receita/Vendas           float64\n",
              "dtype: object"
            ]
          },
          "metadata": {},
          "execution_count": 34
        }
      ],
      "metadata": {
        "id": "F5zeaq6tH1P0",
        "colab_type": "code",
        "outputId": "5b8043b2-c63b-4322-df5a-dd41737591c6",
        "colab": {
          "base_uri": "https://localhost:8080/",
          "height": 153
        }
      }
    },
    {
      "cell_type": "code",
      "execution_count": 35,
      "source": [
        "#Agrupamento por ano\r\n",
        "df.groupby(df[\"Data\"].dt.year)[\"Receita\"].sum()"
      ],
      "outputs": [
        {
          "output_type": "execute_result",
          "data": {
            "text/plain": [
              "Data\n",
              "2018    118176.53\n",
              "2019    228246.45\n",
              "Name: Receita, dtype: float64"
            ]
          },
          "metadata": {},
          "execution_count": 35
        }
      ],
      "metadata": {
        "id": "c027o0jyH2qg",
        "colab_type": "code",
        "outputId": "4db1851a-4712-44b6-f297-ec2c16d61f67",
        "colab": {
          "base_uri": "https://localhost:8080/",
          "height": 85
        }
      }
    },
    {
      "cell_type": "code",
      "execution_count": 36,
      "source": [
        "#Criando uma nova coluna com o ano\r\n",
        "df[\"Ano_Venda\"] = df[\"Data\"].dt.year"
      ],
      "outputs": [],
      "metadata": {
        "id": "kX_HYKgQIEPD",
        "colab_type": "code",
        "colab": {}
      }
    },
    {
      "cell_type": "code",
      "execution_count": 37,
      "source": [
        "df.sample(5)"
      ],
      "outputs": [
        {
          "output_type": "execute_result",
          "data": {
            "text/plain": [
              "        Cidade       Data  Vendas LojaID  Qtde  Receita  Receita/Vendas  \\\n",
              "54     Aracaju 2018-01-01   20.85   1523     1    20.85             1.0   \n",
              "84    Salvador 2019-01-01   22.99   1036     1    22.99             1.0   \n",
              "6    Fortaleza 2019-01-01   38.40   1003     4   153.60             4.0   \n",
              "108  Fortaleza 2019-03-02  152.89    981     4   611.56             4.0   \n",
              "118     Recife 2019-03-02   17.70    981     5    88.50             5.0   \n",
              "\n",
              "     Ano_Venda  \n",
              "54        2018  \n",
              "84        2019  \n",
              "6         2019  \n",
              "108       2019  \n",
              "118       2019  "
            ],
            "text/html": [
              "<div>\n",
              "<style scoped>\n",
              "    .dataframe tbody tr th:only-of-type {\n",
              "        vertical-align: middle;\n",
              "    }\n",
              "\n",
              "    .dataframe tbody tr th {\n",
              "        vertical-align: top;\n",
              "    }\n",
              "\n",
              "    .dataframe thead th {\n",
              "        text-align: right;\n",
              "    }\n",
              "</style>\n",
              "<table border=\"1\" class=\"dataframe\">\n",
              "  <thead>\n",
              "    <tr style=\"text-align: right;\">\n",
              "      <th></th>\n",
              "      <th>Cidade</th>\n",
              "      <th>Data</th>\n",
              "      <th>Vendas</th>\n",
              "      <th>LojaID</th>\n",
              "      <th>Qtde</th>\n",
              "      <th>Receita</th>\n",
              "      <th>Receita/Vendas</th>\n",
              "      <th>Ano_Venda</th>\n",
              "    </tr>\n",
              "  </thead>\n",
              "  <tbody>\n",
              "    <tr>\n",
              "      <th>54</th>\n",
              "      <td>Aracaju</td>\n",
              "      <td>2018-01-01</td>\n",
              "      <td>20.85</td>\n",
              "      <td>1523</td>\n",
              "      <td>1</td>\n",
              "      <td>20.85</td>\n",
              "      <td>1.0</td>\n",
              "      <td>2018</td>\n",
              "    </tr>\n",
              "    <tr>\n",
              "      <th>84</th>\n",
              "      <td>Salvador</td>\n",
              "      <td>2019-01-01</td>\n",
              "      <td>22.99</td>\n",
              "      <td>1036</td>\n",
              "      <td>1</td>\n",
              "      <td>22.99</td>\n",
              "      <td>1.0</td>\n",
              "      <td>2019</td>\n",
              "    </tr>\n",
              "    <tr>\n",
              "      <th>6</th>\n",
              "      <td>Fortaleza</td>\n",
              "      <td>2019-01-01</td>\n",
              "      <td>38.40</td>\n",
              "      <td>1003</td>\n",
              "      <td>4</td>\n",
              "      <td>153.60</td>\n",
              "      <td>4.0</td>\n",
              "      <td>2019</td>\n",
              "    </tr>\n",
              "    <tr>\n",
              "      <th>108</th>\n",
              "      <td>Fortaleza</td>\n",
              "      <td>2019-03-02</td>\n",
              "      <td>152.89</td>\n",
              "      <td>981</td>\n",
              "      <td>4</td>\n",
              "      <td>611.56</td>\n",
              "      <td>4.0</td>\n",
              "      <td>2019</td>\n",
              "    </tr>\n",
              "    <tr>\n",
              "      <th>118</th>\n",
              "      <td>Recife</td>\n",
              "      <td>2019-03-02</td>\n",
              "      <td>17.70</td>\n",
              "      <td>981</td>\n",
              "      <td>5</td>\n",
              "      <td>88.50</td>\n",
              "      <td>5.0</td>\n",
              "      <td>2019</td>\n",
              "    </tr>\n",
              "  </tbody>\n",
              "</table>\n",
              "</div>"
            ]
          },
          "metadata": {},
          "execution_count": 37
        }
      ],
      "metadata": {
        "id": "MJjiTggaISUi",
        "colab_type": "code",
        "outputId": "664952a0-57c6-4f6d-ad6f-03a5d846d557",
        "colab": {
          "base_uri": "https://localhost:8080/",
          "height": 204
        }
      }
    },
    {
      "cell_type": "code",
      "execution_count": 38,
      "source": [
        "#Extraindo o mês e o dia\r\n",
        "df[\"mes_venda\"], df[\"dia_venda\"] = (df[\"Data\"].dt.month, df[\"Data\"].dt.day)"
      ],
      "outputs": [],
      "metadata": {
        "id": "QPNcE_6rIT6F",
        "colab_type": "code",
        "colab": {}
      }
    },
    {
      "cell_type": "code",
      "execution_count": 39,
      "source": [
        "df.sample(5)"
      ],
      "outputs": [
        {
          "output_type": "execute_result",
          "data": {
            "text/plain": [
              "       Cidade       Data  Vendas LojaID  Qtde  Receita  Receita/Vendas  \\\n",
              "129   Aracaju 2018-01-01   13.70   1522     6    82.20             6.0   \n",
              "17   Salvador 2019-02-14  158.66   1037     1   158.66             1.0   \n",
              "176     Natal 2019-01-02   19.42   1035     3    58.26             3.0   \n",
              "97    Aracaju 2018-01-01   32.69   1521     5   163.45             5.0   \n",
              "10    Aracaju 2019-01-01   42.34   1522     6   254.04             6.0   \n",
              "\n",
              "     Ano_Venda  mes_venda  dia_venda  \n",
              "129       2018          1          1  \n",
              "17        2019          2         14  \n",
              "176       2019          1          2  \n",
              "97        2018          1          1  \n",
              "10        2019          1          1  "
            ],
            "text/html": [
              "<div>\n",
              "<style scoped>\n",
              "    .dataframe tbody tr th:only-of-type {\n",
              "        vertical-align: middle;\n",
              "    }\n",
              "\n",
              "    .dataframe tbody tr th {\n",
              "        vertical-align: top;\n",
              "    }\n",
              "\n",
              "    .dataframe thead th {\n",
              "        text-align: right;\n",
              "    }\n",
              "</style>\n",
              "<table border=\"1\" class=\"dataframe\">\n",
              "  <thead>\n",
              "    <tr style=\"text-align: right;\">\n",
              "      <th></th>\n",
              "      <th>Cidade</th>\n",
              "      <th>Data</th>\n",
              "      <th>Vendas</th>\n",
              "      <th>LojaID</th>\n",
              "      <th>Qtde</th>\n",
              "      <th>Receita</th>\n",
              "      <th>Receita/Vendas</th>\n",
              "      <th>Ano_Venda</th>\n",
              "      <th>mes_venda</th>\n",
              "      <th>dia_venda</th>\n",
              "    </tr>\n",
              "  </thead>\n",
              "  <tbody>\n",
              "    <tr>\n",
              "      <th>129</th>\n",
              "      <td>Aracaju</td>\n",
              "      <td>2018-01-01</td>\n",
              "      <td>13.70</td>\n",
              "      <td>1522</td>\n",
              "      <td>6</td>\n",
              "      <td>82.20</td>\n",
              "      <td>6.0</td>\n",
              "      <td>2018</td>\n",
              "      <td>1</td>\n",
              "      <td>1</td>\n",
              "    </tr>\n",
              "    <tr>\n",
              "      <th>17</th>\n",
              "      <td>Salvador</td>\n",
              "      <td>2019-02-14</td>\n",
              "      <td>158.66</td>\n",
              "      <td>1037</td>\n",
              "      <td>1</td>\n",
              "      <td>158.66</td>\n",
              "      <td>1.0</td>\n",
              "      <td>2019</td>\n",
              "      <td>2</td>\n",
              "      <td>14</td>\n",
              "    </tr>\n",
              "    <tr>\n",
              "      <th>176</th>\n",
              "      <td>Natal</td>\n",
              "      <td>2019-01-02</td>\n",
              "      <td>19.42</td>\n",
              "      <td>1035</td>\n",
              "      <td>3</td>\n",
              "      <td>58.26</td>\n",
              "      <td>3.0</td>\n",
              "      <td>2019</td>\n",
              "      <td>1</td>\n",
              "      <td>2</td>\n",
              "    </tr>\n",
              "    <tr>\n",
              "      <th>97</th>\n",
              "      <td>Aracaju</td>\n",
              "      <td>2018-01-01</td>\n",
              "      <td>32.69</td>\n",
              "      <td>1521</td>\n",
              "      <td>5</td>\n",
              "      <td>163.45</td>\n",
              "      <td>5.0</td>\n",
              "      <td>2018</td>\n",
              "      <td>1</td>\n",
              "      <td>1</td>\n",
              "    </tr>\n",
              "    <tr>\n",
              "      <th>10</th>\n",
              "      <td>Aracaju</td>\n",
              "      <td>2019-01-01</td>\n",
              "      <td>42.34</td>\n",
              "      <td>1522</td>\n",
              "      <td>6</td>\n",
              "      <td>254.04</td>\n",
              "      <td>6.0</td>\n",
              "      <td>2019</td>\n",
              "      <td>1</td>\n",
              "      <td>1</td>\n",
              "    </tr>\n",
              "  </tbody>\n",
              "</table>\n",
              "</div>"
            ]
          },
          "metadata": {},
          "execution_count": 39
        }
      ],
      "metadata": {
        "id": "9AOp3NNfIrah",
        "colab_type": "code",
        "outputId": "be23b592-06ec-4eab-88f0-46da74f85544",
        "colab": {
          "base_uri": "https://localhost:8080/",
          "height": 204
        }
      }
    },
    {
      "cell_type": "code",
      "execution_count": 40,
      "source": [
        "#Retornando a data mais antiga\r\n",
        "df[\"Data\"].min()"
      ],
      "outputs": [
        {
          "output_type": "execute_result",
          "data": {
            "text/plain": [
              "Timestamp('2018-01-01 00:00:00')"
            ]
          },
          "metadata": {},
          "execution_count": 40
        }
      ],
      "metadata": {
        "id": "r0la0X6aIuTR",
        "colab_type": "code",
        "outputId": "bd244f1b-6e69-4991-c290-f071af4e0d60",
        "colab": {
          "base_uri": "https://localhost:8080/",
          "height": 34
        }
      }
    },
    {
      "cell_type": "code",
      "execution_count": 41,
      "source": [
        "#Calculando a diferença de dias\r\n",
        "df[\"diferenca_dias\"] = df[\"Data\"] - df[\"Data\"].min()"
      ],
      "outputs": [],
      "metadata": {
        "id": "7fxtFDflI7L0",
        "colab_type": "code",
        "colab": {}
      }
    },
    {
      "cell_type": "code",
      "execution_count": 42,
      "source": [
        "df.sample(5)"
      ],
      "outputs": [
        {
          "output_type": "execute_result",
          "data": {
            "text/plain": [
              "        Cidade       Data  Vendas LojaID  Qtde  Receita  Receita/Vendas  \\\n",
              "190   Salvador 2019-01-02   78.78   1035     3   236.34             3.0   \n",
              "20       Natal 2018-06-08  608.00    852     4  2432.00             4.0   \n",
              "135  Fortaleza 2019-03-02   10.79    983     5    53.95             5.0   \n",
              "137     Recife 2019-03-02   51.99    983     3   155.97             3.0   \n",
              "114   Salvador 2019-03-02   25.52   1034     1    25.52             1.0   \n",
              "\n",
              "     Ano_Venda  mes_venda  dia_venda diferenca_dias  \n",
              "190       2019          1          2       366 days  \n",
              "20        2018          6          8       158 days  \n",
              "135       2019          3          2       425 days  \n",
              "137       2019          3          2       425 days  \n",
              "114       2019          3          2       425 days  "
            ],
            "text/html": [
              "<div>\n",
              "<style scoped>\n",
              "    .dataframe tbody tr th:only-of-type {\n",
              "        vertical-align: middle;\n",
              "    }\n",
              "\n",
              "    .dataframe tbody tr th {\n",
              "        vertical-align: top;\n",
              "    }\n",
              "\n",
              "    .dataframe thead th {\n",
              "        text-align: right;\n",
              "    }\n",
              "</style>\n",
              "<table border=\"1\" class=\"dataframe\">\n",
              "  <thead>\n",
              "    <tr style=\"text-align: right;\">\n",
              "      <th></th>\n",
              "      <th>Cidade</th>\n",
              "      <th>Data</th>\n",
              "      <th>Vendas</th>\n",
              "      <th>LojaID</th>\n",
              "      <th>Qtde</th>\n",
              "      <th>Receita</th>\n",
              "      <th>Receita/Vendas</th>\n",
              "      <th>Ano_Venda</th>\n",
              "      <th>mes_venda</th>\n",
              "      <th>dia_venda</th>\n",
              "      <th>diferenca_dias</th>\n",
              "    </tr>\n",
              "  </thead>\n",
              "  <tbody>\n",
              "    <tr>\n",
              "      <th>190</th>\n",
              "      <td>Salvador</td>\n",
              "      <td>2019-01-02</td>\n",
              "      <td>78.78</td>\n",
              "      <td>1035</td>\n",
              "      <td>3</td>\n",
              "      <td>236.34</td>\n",
              "      <td>3.0</td>\n",
              "      <td>2019</td>\n",
              "      <td>1</td>\n",
              "      <td>2</td>\n",
              "      <td>366 days</td>\n",
              "    </tr>\n",
              "    <tr>\n",
              "      <th>20</th>\n",
              "      <td>Natal</td>\n",
              "      <td>2018-06-08</td>\n",
              "      <td>608.00</td>\n",
              "      <td>852</td>\n",
              "      <td>4</td>\n",
              "      <td>2432.00</td>\n",
              "      <td>4.0</td>\n",
              "      <td>2018</td>\n",
              "      <td>6</td>\n",
              "      <td>8</td>\n",
              "      <td>158 days</td>\n",
              "    </tr>\n",
              "    <tr>\n",
              "      <th>135</th>\n",
              "      <td>Fortaleza</td>\n",
              "      <td>2019-03-02</td>\n",
              "      <td>10.79</td>\n",
              "      <td>983</td>\n",
              "      <td>5</td>\n",
              "      <td>53.95</td>\n",
              "      <td>5.0</td>\n",
              "      <td>2019</td>\n",
              "      <td>3</td>\n",
              "      <td>2</td>\n",
              "      <td>425 days</td>\n",
              "    </tr>\n",
              "    <tr>\n",
              "      <th>137</th>\n",
              "      <td>Recife</td>\n",
              "      <td>2019-03-02</td>\n",
              "      <td>51.99</td>\n",
              "      <td>983</td>\n",
              "      <td>3</td>\n",
              "      <td>155.97</td>\n",
              "      <td>3.0</td>\n",
              "      <td>2019</td>\n",
              "      <td>3</td>\n",
              "      <td>2</td>\n",
              "      <td>425 days</td>\n",
              "    </tr>\n",
              "    <tr>\n",
              "      <th>114</th>\n",
              "      <td>Salvador</td>\n",
              "      <td>2019-03-02</td>\n",
              "      <td>25.52</td>\n",
              "      <td>1034</td>\n",
              "      <td>1</td>\n",
              "      <td>25.52</td>\n",
              "      <td>1.0</td>\n",
              "      <td>2019</td>\n",
              "      <td>3</td>\n",
              "      <td>2</td>\n",
              "      <td>425 days</td>\n",
              "    </tr>\n",
              "  </tbody>\n",
              "</table>\n",
              "</div>"
            ]
          },
          "metadata": {},
          "execution_count": 42
        }
      ],
      "metadata": {
        "id": "997DVEidJKNG",
        "colab_type": "code",
        "outputId": "3cdb03c2-cb8d-4891-b10b-27474beb1806",
        "colab": {
          "base_uri": "https://localhost:8080/",
          "height": 204
        }
      }
    },
    {
      "cell_type": "code",
      "execution_count": 43,
      "source": [
        "#Criando a coluna de trimestre\r\n",
        "df[\"trimestre_venda\"] = df[\"Data\"].dt.quarter"
      ],
      "outputs": [],
      "metadata": {
        "id": "KHAOU_EuJLkb",
        "colab_type": "code",
        "colab": {}
      }
    },
    {
      "cell_type": "code",
      "execution_count": 44,
      "source": [
        "df.sample(5)"
      ],
      "outputs": [
        {
          "output_type": "execute_result",
          "data": {
            "text/plain": [
              "        Cidade       Data  Vendas LojaID  Qtde  Receita  Receita/Vendas  \\\n",
              "32   Fortaleza 2019-01-01   43.33   1004     4   173.32             4.0   \n",
              "212      Natal 2019-01-02   50.73   1037     3   152.19             3.0   \n",
              "51      Recife 2019-01-01  146.95    982     2   293.90             2.0   \n",
              "61   Fortaleza 2019-01-01   37.41   1002     5   187.05             5.0   \n",
              "58       Natal 2018-12-23  272.00    853     3   816.00             3.0   \n",
              "\n",
              "     Ano_Venda  mes_venda  dia_venda diferenca_dias  trimestre_venda  \n",
              "32        2019          1          1       365 days                1  \n",
              "212       2019          1          2       366 days                1  \n",
              "51        2019          1          1       365 days                1  \n",
              "61        2019          1          1       365 days                1  \n",
              "58        2018         12         23       356 days                4  "
            ],
            "text/html": [
              "<div>\n",
              "<style scoped>\n",
              "    .dataframe tbody tr th:only-of-type {\n",
              "        vertical-align: middle;\n",
              "    }\n",
              "\n",
              "    .dataframe tbody tr th {\n",
              "        vertical-align: top;\n",
              "    }\n",
              "\n",
              "    .dataframe thead th {\n",
              "        text-align: right;\n",
              "    }\n",
              "</style>\n",
              "<table border=\"1\" class=\"dataframe\">\n",
              "  <thead>\n",
              "    <tr style=\"text-align: right;\">\n",
              "      <th></th>\n",
              "      <th>Cidade</th>\n",
              "      <th>Data</th>\n",
              "      <th>Vendas</th>\n",
              "      <th>LojaID</th>\n",
              "      <th>Qtde</th>\n",
              "      <th>Receita</th>\n",
              "      <th>Receita/Vendas</th>\n",
              "      <th>Ano_Venda</th>\n",
              "      <th>mes_venda</th>\n",
              "      <th>dia_venda</th>\n",
              "      <th>diferenca_dias</th>\n",
              "      <th>trimestre_venda</th>\n",
              "    </tr>\n",
              "  </thead>\n",
              "  <tbody>\n",
              "    <tr>\n",
              "      <th>32</th>\n",
              "      <td>Fortaleza</td>\n",
              "      <td>2019-01-01</td>\n",
              "      <td>43.33</td>\n",
              "      <td>1004</td>\n",
              "      <td>4</td>\n",
              "      <td>173.32</td>\n",
              "      <td>4.0</td>\n",
              "      <td>2019</td>\n",
              "      <td>1</td>\n",
              "      <td>1</td>\n",
              "      <td>365 days</td>\n",
              "      <td>1</td>\n",
              "    </tr>\n",
              "    <tr>\n",
              "      <th>212</th>\n",
              "      <td>Natal</td>\n",
              "      <td>2019-01-02</td>\n",
              "      <td>50.73</td>\n",
              "      <td>1037</td>\n",
              "      <td>3</td>\n",
              "      <td>152.19</td>\n",
              "      <td>3.0</td>\n",
              "      <td>2019</td>\n",
              "      <td>1</td>\n",
              "      <td>2</td>\n",
              "      <td>366 days</td>\n",
              "      <td>1</td>\n",
              "    </tr>\n",
              "    <tr>\n",
              "      <th>51</th>\n",
              "      <td>Recife</td>\n",
              "      <td>2019-01-01</td>\n",
              "      <td>146.95</td>\n",
              "      <td>982</td>\n",
              "      <td>2</td>\n",
              "      <td>293.90</td>\n",
              "      <td>2.0</td>\n",
              "      <td>2019</td>\n",
              "      <td>1</td>\n",
              "      <td>1</td>\n",
              "      <td>365 days</td>\n",
              "      <td>1</td>\n",
              "    </tr>\n",
              "    <tr>\n",
              "      <th>61</th>\n",
              "      <td>Fortaleza</td>\n",
              "      <td>2019-01-01</td>\n",
              "      <td>37.41</td>\n",
              "      <td>1002</td>\n",
              "      <td>5</td>\n",
              "      <td>187.05</td>\n",
              "      <td>5.0</td>\n",
              "      <td>2019</td>\n",
              "      <td>1</td>\n",
              "      <td>1</td>\n",
              "      <td>365 days</td>\n",
              "      <td>1</td>\n",
              "    </tr>\n",
              "    <tr>\n",
              "      <th>58</th>\n",
              "      <td>Natal</td>\n",
              "      <td>2018-12-23</td>\n",
              "      <td>272.00</td>\n",
              "      <td>853</td>\n",
              "      <td>3</td>\n",
              "      <td>816.00</td>\n",
              "      <td>3.0</td>\n",
              "      <td>2018</td>\n",
              "      <td>12</td>\n",
              "      <td>23</td>\n",
              "      <td>356 days</td>\n",
              "      <td>4</td>\n",
              "    </tr>\n",
              "  </tbody>\n",
              "</table>\n",
              "</div>"
            ]
          },
          "metadata": {},
          "execution_count": 44
        }
      ],
      "metadata": {
        "id": "OWZos9y5JbDQ",
        "colab_type": "code",
        "outputId": "79806c1f-ed51-4705-d0b9-cbb2659f5844",
        "colab": {
          "base_uri": "https://localhost:8080/",
          "height": 204
        }
      }
    },
    {
      "cell_type": "code",
      "execution_count": 45,
      "source": [
        "#Filtrando as vendas de 2019 do mês de março\r\n",
        "vendas_marco_19 = df.loc[(df[\"Data\"].dt.year == 2019) & (df[\"Data\"].dt.month == 3)]"
      ],
      "outputs": [],
      "metadata": {
        "id": "ie2WTtU5Jc-G",
        "colab_type": "code",
        "colab": {}
      }
    },
    {
      "cell_type": "code",
      "execution_count": 46,
      "source": [
        "vendas_marco_19.sample(20)"
      ],
      "outputs": [
        {
          "output_type": "execute_result",
          "data": {
            "text/plain": [
              "        Cidade       Data  Vendas LojaID  Qtde  Receita  Receita/Vendas  \\\n",
              "2        Natal 2019-03-11  308.00    852     3   924.00             3.0   \n",
              "113     Recife 2019-03-02   38.63    980     2    77.26             2.0   \n",
              "112   Salvador 2019-03-02   43.00   1036     3   129.00             3.0   \n",
              "136  Fortaleza 2019-03-02   39.09    982     4   156.36             4.0   \n",
              "117   Salvador 2019-03-02   39.41   1034     1    39.41             1.0   \n",
              "128     Recife 2019-03-02   38.70    982     4   154.80             4.0   \n",
              "46       Natal 2019-03-26  753.00    853     2  1506.00             2.0   \n",
              "117     Recife 2019-03-02   15.42    983     8   123.36             8.0   \n",
              "137     Recife 2019-03-02   51.99    983     3   155.97             3.0   \n",
              "82       Natal 2019-03-07  868.00    854     3  2604.00             3.0   \n",
              "139   Salvador 2019-03-02  169.01   1036     1   169.01             1.0   \n",
              "117  Fortaleza 2019-03-02   15.42    983     8   123.36             8.0   \n",
              "119     Recife 2019-03-02  152.30    982     7  1066.10             7.0   \n",
              "140  Fortaleza 2019-03-02  166.89    983     5   834.45             5.0   \n",
              "50       Natal 2019-03-08  324.00    854     4  1296.00             4.0   \n",
              "7        Natal 2019-03-18  886.00    853     4  3544.00             4.0   \n",
              "135  Fortaleza 2019-03-02   10.79    983     5    53.95             5.0   \n",
              "116     Recife 2019-03-02   79.10    982     2   158.20             2.0   \n",
              "135     Recife 2019-03-02   10.79    983     5    53.95             5.0   \n",
              "115   Salvador 2019-03-02  202.33   1035     2   404.66             2.0   \n",
              "\n",
              "     Ano_Venda  mes_venda  dia_venda diferenca_dias  trimestre_venda  \n",
              "2         2019          3         11       434 days                1  \n",
              "113       2019          3          2       425 days                1  \n",
              "112       2019          3          2       425 days                1  \n",
              "136       2019          3          2       425 days                1  \n",
              "117       2019          3          2       425 days                1  \n",
              "128       2019          3          2       425 days                1  \n",
              "46        2019          3         26       449 days                1  \n",
              "117       2019          3          2       425 days                1  \n",
              "137       2019          3          2       425 days                1  \n",
              "82        2019          3          7       430 days                1  \n",
              "139       2019          3          2       425 days                1  \n",
              "117       2019          3          2       425 days                1  \n",
              "119       2019          3          2       425 days                1  \n",
              "140       2019          3          2       425 days                1  \n",
              "50        2019          3          8       431 days                1  \n",
              "7         2019          3         18       441 days                1  \n",
              "135       2019          3          2       425 days                1  \n",
              "116       2019          3          2       425 days                1  \n",
              "135       2019          3          2       425 days                1  \n",
              "115       2019          3          2       425 days                1  "
            ],
            "text/html": [
              "<div>\n",
              "<style scoped>\n",
              "    .dataframe tbody tr th:only-of-type {\n",
              "        vertical-align: middle;\n",
              "    }\n",
              "\n",
              "    .dataframe tbody tr th {\n",
              "        vertical-align: top;\n",
              "    }\n",
              "\n",
              "    .dataframe thead th {\n",
              "        text-align: right;\n",
              "    }\n",
              "</style>\n",
              "<table border=\"1\" class=\"dataframe\">\n",
              "  <thead>\n",
              "    <tr style=\"text-align: right;\">\n",
              "      <th></th>\n",
              "      <th>Cidade</th>\n",
              "      <th>Data</th>\n",
              "      <th>Vendas</th>\n",
              "      <th>LojaID</th>\n",
              "      <th>Qtde</th>\n",
              "      <th>Receita</th>\n",
              "      <th>Receita/Vendas</th>\n",
              "      <th>Ano_Venda</th>\n",
              "      <th>mes_venda</th>\n",
              "      <th>dia_venda</th>\n",
              "      <th>diferenca_dias</th>\n",
              "      <th>trimestre_venda</th>\n",
              "    </tr>\n",
              "  </thead>\n",
              "  <tbody>\n",
              "    <tr>\n",
              "      <th>2</th>\n",
              "      <td>Natal</td>\n",
              "      <td>2019-03-11</td>\n",
              "      <td>308.00</td>\n",
              "      <td>852</td>\n",
              "      <td>3</td>\n",
              "      <td>924.00</td>\n",
              "      <td>3.0</td>\n",
              "      <td>2019</td>\n",
              "      <td>3</td>\n",
              "      <td>11</td>\n",
              "      <td>434 days</td>\n",
              "      <td>1</td>\n",
              "    </tr>\n",
              "    <tr>\n",
              "      <th>113</th>\n",
              "      <td>Recife</td>\n",
              "      <td>2019-03-02</td>\n",
              "      <td>38.63</td>\n",
              "      <td>980</td>\n",
              "      <td>2</td>\n",
              "      <td>77.26</td>\n",
              "      <td>2.0</td>\n",
              "      <td>2019</td>\n",
              "      <td>3</td>\n",
              "      <td>2</td>\n",
              "      <td>425 days</td>\n",
              "      <td>1</td>\n",
              "    </tr>\n",
              "    <tr>\n",
              "      <th>112</th>\n",
              "      <td>Salvador</td>\n",
              "      <td>2019-03-02</td>\n",
              "      <td>43.00</td>\n",
              "      <td>1036</td>\n",
              "      <td>3</td>\n",
              "      <td>129.00</td>\n",
              "      <td>3.0</td>\n",
              "      <td>2019</td>\n",
              "      <td>3</td>\n",
              "      <td>2</td>\n",
              "      <td>425 days</td>\n",
              "      <td>1</td>\n",
              "    </tr>\n",
              "    <tr>\n",
              "      <th>136</th>\n",
              "      <td>Fortaleza</td>\n",
              "      <td>2019-03-02</td>\n",
              "      <td>39.09</td>\n",
              "      <td>982</td>\n",
              "      <td>4</td>\n",
              "      <td>156.36</td>\n",
              "      <td>4.0</td>\n",
              "      <td>2019</td>\n",
              "      <td>3</td>\n",
              "      <td>2</td>\n",
              "      <td>425 days</td>\n",
              "      <td>1</td>\n",
              "    </tr>\n",
              "    <tr>\n",
              "      <th>117</th>\n",
              "      <td>Salvador</td>\n",
              "      <td>2019-03-02</td>\n",
              "      <td>39.41</td>\n",
              "      <td>1034</td>\n",
              "      <td>1</td>\n",
              "      <td>39.41</td>\n",
              "      <td>1.0</td>\n",
              "      <td>2019</td>\n",
              "      <td>3</td>\n",
              "      <td>2</td>\n",
              "      <td>425 days</td>\n",
              "      <td>1</td>\n",
              "    </tr>\n",
              "    <tr>\n",
              "      <th>128</th>\n",
              "      <td>Recife</td>\n",
              "      <td>2019-03-02</td>\n",
              "      <td>38.70</td>\n",
              "      <td>982</td>\n",
              "      <td>4</td>\n",
              "      <td>154.80</td>\n",
              "      <td>4.0</td>\n",
              "      <td>2019</td>\n",
              "      <td>3</td>\n",
              "      <td>2</td>\n",
              "      <td>425 days</td>\n",
              "      <td>1</td>\n",
              "    </tr>\n",
              "    <tr>\n",
              "      <th>46</th>\n",
              "      <td>Natal</td>\n",
              "      <td>2019-03-26</td>\n",
              "      <td>753.00</td>\n",
              "      <td>853</td>\n",
              "      <td>2</td>\n",
              "      <td>1506.00</td>\n",
              "      <td>2.0</td>\n",
              "      <td>2019</td>\n",
              "      <td>3</td>\n",
              "      <td>26</td>\n",
              "      <td>449 days</td>\n",
              "      <td>1</td>\n",
              "    </tr>\n",
              "    <tr>\n",
              "      <th>117</th>\n",
              "      <td>Recife</td>\n",
              "      <td>2019-03-02</td>\n",
              "      <td>15.42</td>\n",
              "      <td>983</td>\n",
              "      <td>8</td>\n",
              "      <td>123.36</td>\n",
              "      <td>8.0</td>\n",
              "      <td>2019</td>\n",
              "      <td>3</td>\n",
              "      <td>2</td>\n",
              "      <td>425 days</td>\n",
              "      <td>1</td>\n",
              "    </tr>\n",
              "    <tr>\n",
              "      <th>137</th>\n",
              "      <td>Recife</td>\n",
              "      <td>2019-03-02</td>\n",
              "      <td>51.99</td>\n",
              "      <td>983</td>\n",
              "      <td>3</td>\n",
              "      <td>155.97</td>\n",
              "      <td>3.0</td>\n",
              "      <td>2019</td>\n",
              "      <td>3</td>\n",
              "      <td>2</td>\n",
              "      <td>425 days</td>\n",
              "      <td>1</td>\n",
              "    </tr>\n",
              "    <tr>\n",
              "      <th>82</th>\n",
              "      <td>Natal</td>\n",
              "      <td>2019-03-07</td>\n",
              "      <td>868.00</td>\n",
              "      <td>854</td>\n",
              "      <td>3</td>\n",
              "      <td>2604.00</td>\n",
              "      <td>3.0</td>\n",
              "      <td>2019</td>\n",
              "      <td>3</td>\n",
              "      <td>7</td>\n",
              "      <td>430 days</td>\n",
              "      <td>1</td>\n",
              "    </tr>\n",
              "    <tr>\n",
              "      <th>139</th>\n",
              "      <td>Salvador</td>\n",
              "      <td>2019-03-02</td>\n",
              "      <td>169.01</td>\n",
              "      <td>1036</td>\n",
              "      <td>1</td>\n",
              "      <td>169.01</td>\n",
              "      <td>1.0</td>\n",
              "      <td>2019</td>\n",
              "      <td>3</td>\n",
              "      <td>2</td>\n",
              "      <td>425 days</td>\n",
              "      <td>1</td>\n",
              "    </tr>\n",
              "    <tr>\n",
              "      <th>117</th>\n",
              "      <td>Fortaleza</td>\n",
              "      <td>2019-03-02</td>\n",
              "      <td>15.42</td>\n",
              "      <td>983</td>\n",
              "      <td>8</td>\n",
              "      <td>123.36</td>\n",
              "      <td>8.0</td>\n",
              "      <td>2019</td>\n",
              "      <td>3</td>\n",
              "      <td>2</td>\n",
              "      <td>425 days</td>\n",
              "      <td>1</td>\n",
              "    </tr>\n",
              "    <tr>\n",
              "      <th>119</th>\n",
              "      <td>Recife</td>\n",
              "      <td>2019-03-02</td>\n",
              "      <td>152.30</td>\n",
              "      <td>982</td>\n",
              "      <td>7</td>\n",
              "      <td>1066.10</td>\n",
              "      <td>7.0</td>\n",
              "      <td>2019</td>\n",
              "      <td>3</td>\n",
              "      <td>2</td>\n",
              "      <td>425 days</td>\n",
              "      <td>1</td>\n",
              "    </tr>\n",
              "    <tr>\n",
              "      <th>140</th>\n",
              "      <td>Fortaleza</td>\n",
              "      <td>2019-03-02</td>\n",
              "      <td>166.89</td>\n",
              "      <td>983</td>\n",
              "      <td>5</td>\n",
              "      <td>834.45</td>\n",
              "      <td>5.0</td>\n",
              "      <td>2019</td>\n",
              "      <td>3</td>\n",
              "      <td>2</td>\n",
              "      <td>425 days</td>\n",
              "      <td>1</td>\n",
              "    </tr>\n",
              "    <tr>\n",
              "      <th>50</th>\n",
              "      <td>Natal</td>\n",
              "      <td>2019-03-08</td>\n",
              "      <td>324.00</td>\n",
              "      <td>854</td>\n",
              "      <td>4</td>\n",
              "      <td>1296.00</td>\n",
              "      <td>4.0</td>\n",
              "      <td>2019</td>\n",
              "      <td>3</td>\n",
              "      <td>8</td>\n",
              "      <td>431 days</td>\n",
              "      <td>1</td>\n",
              "    </tr>\n",
              "    <tr>\n",
              "      <th>7</th>\n",
              "      <td>Natal</td>\n",
              "      <td>2019-03-18</td>\n",
              "      <td>886.00</td>\n",
              "      <td>853</td>\n",
              "      <td>4</td>\n",
              "      <td>3544.00</td>\n",
              "      <td>4.0</td>\n",
              "      <td>2019</td>\n",
              "      <td>3</td>\n",
              "      <td>18</td>\n",
              "      <td>441 days</td>\n",
              "      <td>1</td>\n",
              "    </tr>\n",
              "    <tr>\n",
              "      <th>135</th>\n",
              "      <td>Fortaleza</td>\n",
              "      <td>2019-03-02</td>\n",
              "      <td>10.79</td>\n",
              "      <td>983</td>\n",
              "      <td>5</td>\n",
              "      <td>53.95</td>\n",
              "      <td>5.0</td>\n",
              "      <td>2019</td>\n",
              "      <td>3</td>\n",
              "      <td>2</td>\n",
              "      <td>425 days</td>\n",
              "      <td>1</td>\n",
              "    </tr>\n",
              "    <tr>\n",
              "      <th>116</th>\n",
              "      <td>Recife</td>\n",
              "      <td>2019-03-02</td>\n",
              "      <td>79.10</td>\n",
              "      <td>982</td>\n",
              "      <td>2</td>\n",
              "      <td>158.20</td>\n",
              "      <td>2.0</td>\n",
              "      <td>2019</td>\n",
              "      <td>3</td>\n",
              "      <td>2</td>\n",
              "      <td>425 days</td>\n",
              "      <td>1</td>\n",
              "    </tr>\n",
              "    <tr>\n",
              "      <th>135</th>\n",
              "      <td>Recife</td>\n",
              "      <td>2019-03-02</td>\n",
              "      <td>10.79</td>\n",
              "      <td>983</td>\n",
              "      <td>5</td>\n",
              "      <td>53.95</td>\n",
              "      <td>5.0</td>\n",
              "      <td>2019</td>\n",
              "      <td>3</td>\n",
              "      <td>2</td>\n",
              "      <td>425 days</td>\n",
              "      <td>1</td>\n",
              "    </tr>\n",
              "    <tr>\n",
              "      <th>115</th>\n",
              "      <td>Salvador</td>\n",
              "      <td>2019-03-02</td>\n",
              "      <td>202.33</td>\n",
              "      <td>1035</td>\n",
              "      <td>2</td>\n",
              "      <td>404.66</td>\n",
              "      <td>2.0</td>\n",
              "      <td>2019</td>\n",
              "      <td>3</td>\n",
              "      <td>2</td>\n",
              "      <td>425 days</td>\n",
              "      <td>1</td>\n",
              "    </tr>\n",
              "  </tbody>\n",
              "</table>\n",
              "</div>"
            ]
          },
          "metadata": {},
          "execution_count": 46
        }
      ],
      "metadata": {
        "id": "4x6GgzC9KB_e",
        "colab_type": "code",
        "outputId": "c65a0365-31d1-4876-96a9-803c355a4bed",
        "colab": {
          "base_uri": "https://localhost:8080/",
          "height": 669
        }
      }
    },
    {
      "cell_type": "markdown",
      "source": [
        "#**Visualização de dados**"
      ],
      "metadata": {
        "id": "G2RavTidRF8A",
        "colab_type": "text"
      }
    },
    {
      "cell_type": "code",
      "execution_count": 47,
      "source": [
        "df[\"LojaID\"].value_counts(ascending=False)"
      ],
      "outputs": [
        {
          "output_type": "execute_result",
          "data": {
            "text/plain": [
              "1036    117\n",
              "1035    112\n",
              "1037    101\n",
              "1034     67\n",
              "983      65\n",
              "982      44\n",
              "1522     41\n",
              "1520     39\n",
              "980      36\n",
              "981      31\n",
              "1002     30\n",
              "1005     30\n",
              "852      29\n",
              "1523     29\n",
              "1004     28\n",
              "854      28\n",
              "853      26\n",
              "1521     21\n",
              "1003     20\n",
              "Name: LojaID, dtype: int64"
            ]
          },
          "metadata": {},
          "execution_count": 47
        }
      ],
      "metadata": {
        "id": "JmZ6dy1xKEtC",
        "colab_type": "code",
        "colab": {
          "base_uri": "https://localhost:8080/",
          "height": 357
        },
        "outputId": "fcc0d3fd-32a1-4059-c89f-d14c033842ea"
      }
    },
    {
      "cell_type": "code",
      "execution_count": 48,
      "source": [
        "#Gráfico de barras\r\n",
        "df[\"LojaID\"].value_counts(ascending=False).plot.bar()"
      ],
      "outputs": [
        {
          "output_type": "execute_result",
          "data": {
            "text/plain": [
              "<matplotlib.axes._subplots.AxesSubplot at 0x1d2b981f250>"
            ]
          },
          "metadata": {},
          "execution_count": 48
        },
        {
          "output_type": "display_data",
          "data": {
            "text/plain": [
              "<Figure size 432x288 with 1 Axes>"
            ],
            "image/svg+xml": "<?xml version=\"1.0\" encoding=\"utf-8\" standalone=\"no\"?>\r\n<!DOCTYPE svg PUBLIC \"-//W3C//DTD SVG 1.1//EN\"\r\n  \"http://www.w3.org/Graphics/SVG/1.1/DTD/svg11.dtd\">\r\n<!-- Created with matplotlib (https://matplotlib.org/) -->\r\n<svg height=\"264.29pt\" version=\"1.1\" viewBox=\"0 0 375.2875 264.29\" width=\"375.2875pt\" xmlns=\"http://www.w3.org/2000/svg\" xmlns:xlink=\"http://www.w3.org/1999/xlink\">\r\n <defs>\r\n  <style type=\"text/css\">\r\n*{stroke-linecap:butt;stroke-linejoin:round;}\r\n  </style>\r\n </defs>\r\n <g id=\"figure_1\">\r\n  <g id=\"patch_1\">\r\n   <path d=\"M 0 264.29 \r\nL 375.2875 264.29 \r\nL 375.2875 0 \r\nL 0 0 \r\nz\r\n\" style=\"fill:none;\"/>\r\n  </g>\r\n  <g id=\"axes_1\">\r\n   <g id=\"patch_2\">\r\n    <path d=\"M 33.2875 224.64 \r\nL 368.0875 224.64 \r\nL 368.0875 7.2 \r\nL 33.2875 7.2 \r\nz\r\n\" style=\"fill:#ffffff;\"/>\r\n   </g>\r\n   <g id=\"patch_3\">\r\n    <path clip-path=\"url(#pbc034570e0)\" d=\"M 37.692763 224.64 \r\nL 46.503289 224.64 \r\nL 46.503289 17.554286 \r\nL 37.692763 17.554286 \r\nz\r\n\" style=\"fill:#1f77b4;\"/>\r\n   </g>\r\n   <g id=\"patch_4\">\r\n    <path clip-path=\"url(#pbc034570e0)\" d=\"M 55.313816 224.64 \r\nL 64.124342 224.64 \r\nL 64.124342 26.404103 \r\nL 55.313816 26.404103 \r\nz\r\n\" style=\"fill:#1f77b4;\"/>\r\n   </g>\r\n   <g id=\"patch_5\">\r\n    <path clip-path=\"url(#pbc034570e0)\" d=\"M 72.934868 224.64 \r\nL 81.745395 224.64 \r\nL 81.745395 45.8737 \r\nL 72.934868 45.8737 \r\nz\r\n\" style=\"fill:#1f77b4;\"/>\r\n   </g>\r\n   <g id=\"patch_6\">\r\n    <path clip-path=\"url(#pbc034570e0)\" d=\"M 90.555921 224.64 \r\nL 99.366447 224.64 \r\nL 99.366447 106.052454 \r\nL 90.555921 106.052454 \r\nz\r\n\" style=\"fill:#1f77b4;\"/>\r\n   </g>\r\n   <g id=\"patch_7\">\r\n    <path clip-path=\"url(#pbc034570e0)\" d=\"M 108.176974 224.64 \r\nL 116.9875 224.64 \r\nL 116.9875 109.592381 \r\nL 108.176974 109.592381 \r\nz\r\n\" style=\"fill:#1f77b4;\"/>\r\n   </g>\r\n   <g id=\"patch_8\">\r\n    <path clip-path=\"url(#pbc034570e0)\" d=\"M 125.798026 224.64 \r\nL 134.608553 224.64 \r\nL 134.608553 146.761612 \r\nL 125.798026 146.761612 \r\nz\r\n\" style=\"fill:#1f77b4;\"/>\r\n   </g>\r\n   <g id=\"patch_9\">\r\n    <path clip-path=\"url(#pbc034570e0)\" d=\"M 143.419079 224.64 \r\nL 152.229605 224.64 \r\nL 152.229605 152.071502 \r\nL 143.419079 152.071502 \r\nz\r\n\" style=\"fill:#1f77b4;\"/>\r\n   </g>\r\n   <g id=\"patch_10\">\r\n    <path clip-path=\"url(#pbc034570e0)\" d=\"M 161.040132 224.64 \r\nL 169.850658 224.64 \r\nL 169.850658 155.611429 \r\nL 161.040132 155.611429 \r\nz\r\n\" style=\"fill:#1f77b4;\"/>\r\n   </g>\r\n   <g id=\"patch_11\">\r\n    <path clip-path=\"url(#pbc034570e0)\" d=\"M 178.661184 224.64 \r\nL 187.471711 224.64 \r\nL 187.471711 160.921319 \r\nL 178.661184 160.921319 \r\nz\r\n\" style=\"fill:#1f77b4;\"/>\r\n   </g>\r\n   <g id=\"patch_12\">\r\n    <path clip-path=\"url(#pbc034570e0)\" d=\"M 196.282237 224.64 \r\nL 205.092763 224.64 \r\nL 205.092763 169.771136 \r\nL 196.282237 169.771136 \r\nz\r\n\" style=\"fill:#1f77b4;\"/>\r\n   </g>\r\n   <g id=\"patch_13\">\r\n    <path clip-path=\"url(#pbc034570e0)\" d=\"M 213.903289 224.64 \r\nL 222.713816 224.64 \r\nL 222.713816 171.541099 \r\nL 213.903289 171.541099 \r\nz\r\n\" style=\"fill:#1f77b4;\"/>\r\n   </g>\r\n   <g id=\"patch_14\">\r\n    <path clip-path=\"url(#pbc034570e0)\" d=\"M 231.524342 224.64 \r\nL 240.334868 224.64 \r\nL 240.334868 171.541099 \r\nL 231.524342 171.541099 \r\nz\r\n\" style=\"fill:#1f77b4;\"/>\r\n   </g>\r\n   <g id=\"patch_15\">\r\n    <path clip-path=\"url(#pbc034570e0)\" d=\"M 249.145395 224.64 \r\nL 257.955921 224.64 \r\nL 257.955921 173.311062 \r\nL 249.145395 173.311062 \r\nz\r\n\" style=\"fill:#1f77b4;\"/>\r\n   </g>\r\n   <g id=\"patch_16\">\r\n    <path clip-path=\"url(#pbc034570e0)\" d=\"M 266.766447 224.64 \r\nL 275.576974 224.64 \r\nL 275.576974 173.311062 \r\nL 266.766447 173.311062 \r\nz\r\n\" style=\"fill:#1f77b4;\"/>\r\n   </g>\r\n   <g id=\"patch_17\">\r\n    <path clip-path=\"url(#pbc034570e0)\" d=\"M 284.3875 224.64 \r\nL 293.198026 224.64 \r\nL 293.198026 175.081026 \r\nL 284.3875 175.081026 \r\nz\r\n\" style=\"fill:#1f77b4;\"/>\r\n   </g>\r\n   <g id=\"patch_18\">\r\n    <path clip-path=\"url(#pbc034570e0)\" d=\"M 302.008553 224.64 \r\nL 310.819079 224.64 \r\nL 310.819079 175.081026 \r\nL 302.008553 175.081026 \r\nz\r\n\" style=\"fill:#1f77b4;\"/>\r\n   </g>\r\n   <g id=\"patch_19\">\r\n    <path clip-path=\"url(#pbc034570e0)\" d=\"M 319.629605 224.64 \r\nL 328.440132 224.64 \r\nL 328.440132 178.620952 \r\nL 319.629605 178.620952 \r\nz\r\n\" style=\"fill:#1f77b4;\"/>\r\n   </g>\r\n   <g id=\"patch_20\">\r\n    <path clip-path=\"url(#pbc034570e0)\" d=\"M 337.250658 224.64 \r\nL 346.061184 224.64 \r\nL 346.061184 187.470769 \r\nL 337.250658 187.470769 \r\nz\r\n\" style=\"fill:#1f77b4;\"/>\r\n   </g>\r\n   <g id=\"patch_21\">\r\n    <path clip-path=\"url(#pbc034570e0)\" d=\"M 354.871711 224.64 \r\nL 363.682237 224.64 \r\nL 363.682237 189.240733 \r\nL 354.871711 189.240733 \r\nz\r\n\" style=\"fill:#1f77b4;\"/>\r\n   </g>\r\n   <g id=\"matplotlib.axis_1\">\r\n    <g id=\"xtick_1\">\r\n     <g id=\"line2d_1\">\r\n      <defs>\r\n       <path d=\"M 0 0 \r\nL 0 3.5 \r\n\" id=\"m26ccac02cb\" style=\"stroke:#000000;stroke-width:0.8;\"/>\r\n      </defs>\r\n      <g>\r\n       <use style=\"stroke:#000000;stroke-width:0.8;\" x=\"42.098026\" xlink:href=\"#m26ccac02cb\" y=\"224.64\"/>\r\n      </g>\r\n     </g>\r\n     <g id=\"text_1\">\r\n      <!-- 1036 -->\r\n      <defs>\r\n       <path d=\"M 12.40625 8.296875 \r\nL 28.515625 8.296875 \r\nL 28.515625 63.921875 \r\nL 10.984375 60.40625 \r\nL 10.984375 69.390625 \r\nL 28.421875 72.90625 \r\nL 38.28125 72.90625 \r\nL 38.28125 8.296875 \r\nL 54.390625 8.296875 \r\nL 54.390625 0 \r\nL 12.40625 0 \r\nz\r\n\" id=\"DejaVuSans-49\"/>\r\n       <path d=\"M 31.78125 66.40625 \r\nQ 24.171875 66.40625 20.328125 58.90625 \r\nQ 16.5 51.421875 16.5 36.375 \r\nQ 16.5 21.390625 20.328125 13.890625 \r\nQ 24.171875 6.390625 31.78125 6.390625 \r\nQ 39.453125 6.390625 43.28125 13.890625 \r\nQ 47.125 21.390625 47.125 36.375 \r\nQ 47.125 51.421875 43.28125 58.90625 \r\nQ 39.453125 66.40625 31.78125 66.40625 \r\nz\r\nM 31.78125 74.21875 \r\nQ 44.046875 74.21875 50.515625 64.515625 \r\nQ 56.984375 54.828125 56.984375 36.375 \r\nQ 56.984375 17.96875 50.515625 8.265625 \r\nQ 44.046875 -1.421875 31.78125 -1.421875 \r\nQ 19.53125 -1.421875 13.0625 8.265625 \r\nQ 6.59375 17.96875 6.59375 36.375 \r\nQ 6.59375 54.828125 13.0625 64.515625 \r\nQ 19.53125 74.21875 31.78125 74.21875 \r\nz\r\n\" id=\"DejaVuSans-48\"/>\r\n       <path d=\"M 40.578125 39.3125 \r\nQ 47.65625 37.796875 51.625 33 \r\nQ 55.609375 28.21875 55.609375 21.1875 \r\nQ 55.609375 10.40625 48.1875 4.484375 \r\nQ 40.765625 -1.421875 27.09375 -1.421875 \r\nQ 22.515625 -1.421875 17.65625 -0.515625 \r\nQ 12.796875 0.390625 7.625 2.203125 \r\nL 7.625 11.71875 \r\nQ 11.71875 9.328125 16.59375 8.109375 \r\nQ 21.484375 6.890625 26.8125 6.890625 \r\nQ 36.078125 6.890625 40.9375 10.546875 \r\nQ 45.796875 14.203125 45.796875 21.1875 \r\nQ 45.796875 27.640625 41.28125 31.265625 \r\nQ 36.765625 34.90625 28.71875 34.90625 \r\nL 20.21875 34.90625 \r\nL 20.21875 43.015625 \r\nL 29.109375 43.015625 \r\nQ 36.375 43.015625 40.234375 45.921875 \r\nQ 44.09375 48.828125 44.09375 54.296875 \r\nQ 44.09375 59.90625 40.109375 62.90625 \r\nQ 36.140625 65.921875 28.71875 65.921875 \r\nQ 24.65625 65.921875 20.015625 65.03125 \r\nQ 15.375 64.15625 9.8125 62.3125 \r\nL 9.8125 71.09375 \r\nQ 15.4375 72.65625 20.34375 73.4375 \r\nQ 25.25 74.21875 29.59375 74.21875 \r\nQ 40.828125 74.21875 47.359375 69.109375 \r\nQ 53.90625 64.015625 53.90625 55.328125 \r\nQ 53.90625 49.265625 50.4375 45.09375 \r\nQ 46.96875 40.921875 40.578125 39.3125 \r\nz\r\n\" id=\"DejaVuSans-51\"/>\r\n       <path d=\"M 33.015625 40.375 \r\nQ 26.375 40.375 22.484375 35.828125 \r\nQ 18.609375 31.296875 18.609375 23.390625 \r\nQ 18.609375 15.53125 22.484375 10.953125 \r\nQ 26.375 6.390625 33.015625 6.390625 \r\nQ 39.65625 6.390625 43.53125 10.953125 \r\nQ 47.40625 15.53125 47.40625 23.390625 \r\nQ 47.40625 31.296875 43.53125 35.828125 \r\nQ 39.65625 40.375 33.015625 40.375 \r\nz\r\nM 52.59375 71.296875 \r\nL 52.59375 62.3125 \r\nQ 48.875 64.0625 45.09375 64.984375 \r\nQ 41.3125 65.921875 37.59375 65.921875 \r\nQ 27.828125 65.921875 22.671875 59.328125 \r\nQ 17.53125 52.734375 16.796875 39.40625 \r\nQ 19.671875 43.65625 24.015625 45.921875 \r\nQ 28.375 48.1875 33.59375 48.1875 \r\nQ 44.578125 48.1875 50.953125 41.515625 \r\nQ 57.328125 34.859375 57.328125 23.390625 \r\nQ 57.328125 12.15625 50.6875 5.359375 \r\nQ 44.046875 -1.421875 33.015625 -1.421875 \r\nQ 20.359375 -1.421875 13.671875 8.265625 \r\nQ 6.984375 17.96875 6.984375 36.375 \r\nQ 6.984375 53.65625 15.1875 63.9375 \r\nQ 23.390625 74.21875 37.203125 74.21875 \r\nQ 40.921875 74.21875 44.703125 73.484375 \r\nQ 48.484375 72.75 52.59375 71.296875 \r\nz\r\n\" id=\"DejaVuSans-54\"/>\r\n      </defs>\r\n      <g transform=\"translate(44.857401 257.09)rotate(-90)scale(0.1 -0.1)\">\r\n       <use xlink:href=\"#DejaVuSans-49\"/>\r\n       <use x=\"63.623047\" xlink:href=\"#DejaVuSans-48\"/>\r\n       <use x=\"127.246094\" xlink:href=\"#DejaVuSans-51\"/>\r\n       <use x=\"190.869141\" xlink:href=\"#DejaVuSans-54\"/>\r\n      </g>\r\n     </g>\r\n    </g>\r\n    <g id=\"xtick_2\">\r\n     <g id=\"line2d_2\">\r\n      <g>\r\n       <use style=\"stroke:#000000;stroke-width:0.8;\" x=\"59.719079\" xlink:href=\"#m26ccac02cb\" y=\"224.64\"/>\r\n      </g>\r\n     </g>\r\n     <g id=\"text_2\">\r\n      <!-- 1035 -->\r\n      <defs>\r\n       <path d=\"M 10.796875 72.90625 \r\nL 49.515625 72.90625 \r\nL 49.515625 64.59375 \r\nL 19.828125 64.59375 \r\nL 19.828125 46.734375 \r\nQ 21.96875 47.46875 24.109375 47.828125 \r\nQ 26.265625 48.1875 28.421875 48.1875 \r\nQ 40.625 48.1875 47.75 41.5 \r\nQ 54.890625 34.8125 54.890625 23.390625 \r\nQ 54.890625 11.625 47.5625 5.09375 \r\nQ 40.234375 -1.421875 26.90625 -1.421875 \r\nQ 22.3125 -1.421875 17.546875 -0.640625 \r\nQ 12.796875 0.140625 7.71875 1.703125 \r\nL 7.71875 11.625 \r\nQ 12.109375 9.234375 16.796875 8.0625 \r\nQ 21.484375 6.890625 26.703125 6.890625 \r\nQ 35.15625 6.890625 40.078125 11.328125 \r\nQ 45.015625 15.765625 45.015625 23.390625 \r\nQ 45.015625 31 40.078125 35.4375 \r\nQ 35.15625 39.890625 26.703125 39.890625 \r\nQ 22.75 39.890625 18.8125 39.015625 \r\nQ 14.890625 38.140625 10.796875 36.28125 \r\nz\r\n\" id=\"DejaVuSans-53\"/>\r\n      </defs>\r\n      <g transform=\"translate(62.478454 257.09)rotate(-90)scale(0.1 -0.1)\">\r\n       <use xlink:href=\"#DejaVuSans-49\"/>\r\n       <use x=\"63.623047\" xlink:href=\"#DejaVuSans-48\"/>\r\n       <use x=\"127.246094\" xlink:href=\"#DejaVuSans-51\"/>\r\n       <use x=\"190.869141\" xlink:href=\"#DejaVuSans-53\"/>\r\n      </g>\r\n     </g>\r\n    </g>\r\n    <g id=\"xtick_3\">\r\n     <g id=\"line2d_3\">\r\n      <g>\r\n       <use style=\"stroke:#000000;stroke-width:0.8;\" x=\"77.340132\" xlink:href=\"#m26ccac02cb\" y=\"224.64\"/>\r\n      </g>\r\n     </g>\r\n     <g id=\"text_3\">\r\n      <!-- 1037 -->\r\n      <defs>\r\n       <path d=\"M 8.203125 72.90625 \r\nL 55.078125 72.90625 \r\nL 55.078125 68.703125 \r\nL 28.609375 0 \r\nL 18.3125 0 \r\nL 43.21875 64.59375 \r\nL 8.203125 64.59375 \r\nz\r\n\" id=\"DejaVuSans-55\"/>\r\n      </defs>\r\n      <g transform=\"translate(80.099507 257.09)rotate(-90)scale(0.1 -0.1)\">\r\n       <use xlink:href=\"#DejaVuSans-49\"/>\r\n       <use x=\"63.623047\" xlink:href=\"#DejaVuSans-48\"/>\r\n       <use x=\"127.246094\" xlink:href=\"#DejaVuSans-51\"/>\r\n       <use x=\"190.869141\" xlink:href=\"#DejaVuSans-55\"/>\r\n      </g>\r\n     </g>\r\n    </g>\r\n    <g id=\"xtick_4\">\r\n     <g id=\"line2d_4\">\r\n      <g>\r\n       <use style=\"stroke:#000000;stroke-width:0.8;\" x=\"94.961184\" xlink:href=\"#m26ccac02cb\" y=\"224.64\"/>\r\n      </g>\r\n     </g>\r\n     <g id=\"text_4\">\r\n      <!-- 1034 -->\r\n      <defs>\r\n       <path d=\"M 37.796875 64.3125 \r\nL 12.890625 25.390625 \r\nL 37.796875 25.390625 \r\nz\r\nM 35.203125 72.90625 \r\nL 47.609375 72.90625 \r\nL 47.609375 25.390625 \r\nL 58.015625 25.390625 \r\nL 58.015625 17.1875 \r\nL 47.609375 17.1875 \r\nL 47.609375 0 \r\nL 37.796875 0 \r\nL 37.796875 17.1875 \r\nL 4.890625 17.1875 \r\nL 4.890625 26.703125 \r\nz\r\n\" id=\"DejaVuSans-52\"/>\r\n      </defs>\r\n      <g transform=\"translate(97.720559 257.09)rotate(-90)scale(0.1 -0.1)\">\r\n       <use xlink:href=\"#DejaVuSans-49\"/>\r\n       <use x=\"63.623047\" xlink:href=\"#DejaVuSans-48\"/>\r\n       <use x=\"127.246094\" xlink:href=\"#DejaVuSans-51\"/>\r\n       <use x=\"190.869141\" xlink:href=\"#DejaVuSans-52\"/>\r\n      </g>\r\n     </g>\r\n    </g>\r\n    <g id=\"xtick_5\">\r\n     <g id=\"line2d_5\">\r\n      <g>\r\n       <use style=\"stroke:#000000;stroke-width:0.8;\" x=\"112.582237\" xlink:href=\"#m26ccac02cb\" y=\"224.64\"/>\r\n      </g>\r\n     </g>\r\n     <g id=\"text_5\">\r\n      <!-- 983 -->\r\n      <defs>\r\n       <path d=\"M 10.984375 1.515625 \r\nL 10.984375 10.5 \r\nQ 14.703125 8.734375 18.5 7.8125 \r\nQ 22.3125 6.890625 25.984375 6.890625 \r\nQ 35.75 6.890625 40.890625 13.453125 \r\nQ 46.046875 20.015625 46.78125 33.40625 \r\nQ 43.953125 29.203125 39.59375 26.953125 \r\nQ 35.25 24.703125 29.984375 24.703125 \r\nQ 19.046875 24.703125 12.671875 31.3125 \r\nQ 6.296875 37.9375 6.296875 49.421875 \r\nQ 6.296875 60.640625 12.9375 67.421875 \r\nQ 19.578125 74.21875 30.609375 74.21875 \r\nQ 43.265625 74.21875 49.921875 64.515625 \r\nQ 56.59375 54.828125 56.59375 36.375 \r\nQ 56.59375 19.140625 48.40625 8.859375 \r\nQ 40.234375 -1.421875 26.421875 -1.421875 \r\nQ 22.703125 -1.421875 18.890625 -0.6875 \r\nQ 15.09375 0.046875 10.984375 1.515625 \r\nz\r\nM 30.609375 32.421875 \r\nQ 37.25 32.421875 41.125 36.953125 \r\nQ 45.015625 41.5 45.015625 49.421875 \r\nQ 45.015625 57.28125 41.125 61.84375 \r\nQ 37.25 66.40625 30.609375 66.40625 \r\nQ 23.96875 66.40625 20.09375 61.84375 \r\nQ 16.21875 57.28125 16.21875 49.421875 \r\nQ 16.21875 41.5 20.09375 36.953125 \r\nQ 23.96875 32.421875 30.609375 32.421875 \r\nz\r\n\" id=\"DejaVuSans-57\"/>\r\n       <path d=\"M 31.78125 34.625 \r\nQ 24.75 34.625 20.71875 30.859375 \r\nQ 16.703125 27.09375 16.703125 20.515625 \r\nQ 16.703125 13.921875 20.71875 10.15625 \r\nQ 24.75 6.390625 31.78125 6.390625 \r\nQ 38.8125 6.390625 42.859375 10.171875 \r\nQ 46.921875 13.96875 46.921875 20.515625 \r\nQ 46.921875 27.09375 42.890625 30.859375 \r\nQ 38.875 34.625 31.78125 34.625 \r\nz\r\nM 21.921875 38.8125 \r\nQ 15.578125 40.375 12.03125 44.71875 \r\nQ 8.5 49.078125 8.5 55.328125 \r\nQ 8.5 64.0625 14.71875 69.140625 \r\nQ 20.953125 74.21875 31.78125 74.21875 \r\nQ 42.671875 74.21875 48.875 69.140625 \r\nQ 55.078125 64.0625 55.078125 55.328125 \r\nQ 55.078125 49.078125 51.53125 44.71875 \r\nQ 48 40.375 41.703125 38.8125 \r\nQ 48.828125 37.15625 52.796875 32.3125 \r\nQ 56.78125 27.484375 56.78125 20.515625 \r\nQ 56.78125 9.90625 50.3125 4.234375 \r\nQ 43.84375 -1.421875 31.78125 -1.421875 \r\nQ 19.734375 -1.421875 13.25 4.234375 \r\nQ 6.78125 9.90625 6.78125 20.515625 \r\nQ 6.78125 27.484375 10.78125 32.3125 \r\nQ 14.796875 37.15625 21.921875 38.8125 \r\nz\r\nM 18.3125 54.390625 \r\nQ 18.3125 48.734375 21.84375 45.5625 \r\nQ 25.390625 42.390625 31.78125 42.390625 \r\nQ 38.140625 42.390625 41.71875 45.5625 \r\nQ 45.3125 48.734375 45.3125 54.390625 \r\nQ 45.3125 60.0625 41.71875 63.234375 \r\nQ 38.140625 66.40625 31.78125 66.40625 \r\nQ 25.390625 66.40625 21.84375 63.234375 \r\nQ 18.3125 60.0625 18.3125 54.390625 \r\nz\r\n\" id=\"DejaVuSans-56\"/>\r\n      </defs>\r\n      <g transform=\"translate(115.341612 250.7275)rotate(-90)scale(0.1 -0.1)\">\r\n       <use xlink:href=\"#DejaVuSans-57\"/>\r\n       <use x=\"63.623047\" xlink:href=\"#DejaVuSans-56\"/>\r\n       <use x=\"127.246094\" xlink:href=\"#DejaVuSans-51\"/>\r\n      </g>\r\n     </g>\r\n    </g>\r\n    <g id=\"xtick_6\">\r\n     <g id=\"line2d_6\">\r\n      <g>\r\n       <use style=\"stroke:#000000;stroke-width:0.8;\" x=\"130.203289\" xlink:href=\"#m26ccac02cb\" y=\"224.64\"/>\r\n      </g>\r\n     </g>\r\n     <g id=\"text_6\">\r\n      <!-- 982 -->\r\n      <defs>\r\n       <path d=\"M 19.1875 8.296875 \r\nL 53.609375 8.296875 \r\nL 53.609375 0 \r\nL 7.328125 0 \r\nL 7.328125 8.296875 \r\nQ 12.9375 14.109375 22.625 23.890625 \r\nQ 32.328125 33.6875 34.8125 36.53125 \r\nQ 39.546875 41.84375 41.421875 45.53125 \r\nQ 43.3125 49.21875 43.3125 52.78125 \r\nQ 43.3125 58.59375 39.234375 62.25 \r\nQ 35.15625 65.921875 28.609375 65.921875 \r\nQ 23.96875 65.921875 18.8125 64.3125 \r\nQ 13.671875 62.703125 7.8125 59.421875 \r\nL 7.8125 69.390625 \r\nQ 13.765625 71.78125 18.9375 73 \r\nQ 24.125 74.21875 28.421875 74.21875 \r\nQ 39.75 74.21875 46.484375 68.546875 \r\nQ 53.21875 62.890625 53.21875 53.421875 \r\nQ 53.21875 48.921875 51.53125 44.890625 \r\nQ 49.859375 40.875 45.40625 35.40625 \r\nQ 44.1875 33.984375 37.640625 27.21875 \r\nQ 31.109375 20.453125 19.1875 8.296875 \r\nz\r\n\" id=\"DejaVuSans-50\"/>\r\n      </defs>\r\n      <g transform=\"translate(132.962664 250.7275)rotate(-90)scale(0.1 -0.1)\">\r\n       <use xlink:href=\"#DejaVuSans-57\"/>\r\n       <use x=\"63.623047\" xlink:href=\"#DejaVuSans-56\"/>\r\n       <use x=\"127.246094\" xlink:href=\"#DejaVuSans-50\"/>\r\n      </g>\r\n     </g>\r\n    </g>\r\n    <g id=\"xtick_7\">\r\n     <g id=\"line2d_7\">\r\n      <g>\r\n       <use style=\"stroke:#000000;stroke-width:0.8;\" x=\"147.824342\" xlink:href=\"#m26ccac02cb\" y=\"224.64\"/>\r\n      </g>\r\n     </g>\r\n     <g id=\"text_7\">\r\n      <!-- 1522 -->\r\n      <g transform=\"translate(150.583717 257.09)rotate(-90)scale(0.1 -0.1)\">\r\n       <use xlink:href=\"#DejaVuSans-49\"/>\r\n       <use x=\"63.623047\" xlink:href=\"#DejaVuSans-53\"/>\r\n       <use x=\"127.246094\" xlink:href=\"#DejaVuSans-50\"/>\r\n       <use x=\"190.869141\" xlink:href=\"#DejaVuSans-50\"/>\r\n      </g>\r\n     </g>\r\n    </g>\r\n    <g id=\"xtick_8\">\r\n     <g id=\"line2d_8\">\r\n      <g>\r\n       <use style=\"stroke:#000000;stroke-width:0.8;\" x=\"165.445395\" xlink:href=\"#m26ccac02cb\" y=\"224.64\"/>\r\n      </g>\r\n     </g>\r\n     <g id=\"text_8\">\r\n      <!-- 1520 -->\r\n      <g transform=\"translate(168.20477 257.09)rotate(-90)scale(0.1 -0.1)\">\r\n       <use xlink:href=\"#DejaVuSans-49\"/>\r\n       <use x=\"63.623047\" xlink:href=\"#DejaVuSans-53\"/>\r\n       <use x=\"127.246094\" xlink:href=\"#DejaVuSans-50\"/>\r\n       <use x=\"190.869141\" xlink:href=\"#DejaVuSans-48\"/>\r\n      </g>\r\n     </g>\r\n    </g>\r\n    <g id=\"xtick_9\">\r\n     <g id=\"line2d_9\">\r\n      <g>\r\n       <use style=\"stroke:#000000;stroke-width:0.8;\" x=\"183.066447\" xlink:href=\"#m26ccac02cb\" y=\"224.64\"/>\r\n      </g>\r\n     </g>\r\n     <g id=\"text_9\">\r\n      <!-- 980 -->\r\n      <g transform=\"translate(185.825822 250.7275)rotate(-90)scale(0.1 -0.1)\">\r\n       <use xlink:href=\"#DejaVuSans-57\"/>\r\n       <use x=\"63.623047\" xlink:href=\"#DejaVuSans-56\"/>\r\n       <use x=\"127.246094\" xlink:href=\"#DejaVuSans-48\"/>\r\n      </g>\r\n     </g>\r\n    </g>\r\n    <g id=\"xtick_10\">\r\n     <g id=\"line2d_10\">\r\n      <g>\r\n       <use style=\"stroke:#000000;stroke-width:0.8;\" x=\"200.6875\" xlink:href=\"#m26ccac02cb\" y=\"224.64\"/>\r\n      </g>\r\n     </g>\r\n     <g id=\"text_10\">\r\n      <!-- 981 -->\r\n      <g transform=\"translate(203.446875 250.7275)rotate(-90)scale(0.1 -0.1)\">\r\n       <use xlink:href=\"#DejaVuSans-57\"/>\r\n       <use x=\"63.623047\" xlink:href=\"#DejaVuSans-56\"/>\r\n       <use x=\"127.246094\" xlink:href=\"#DejaVuSans-49\"/>\r\n      </g>\r\n     </g>\r\n    </g>\r\n    <g id=\"xtick_11\">\r\n     <g id=\"line2d_11\">\r\n      <g>\r\n       <use style=\"stroke:#000000;stroke-width:0.8;\" x=\"218.308553\" xlink:href=\"#m26ccac02cb\" y=\"224.64\"/>\r\n      </g>\r\n     </g>\r\n     <g id=\"text_11\">\r\n      <!-- 1002 -->\r\n      <g transform=\"translate(221.067928 257.09)rotate(-90)scale(0.1 -0.1)\">\r\n       <use xlink:href=\"#DejaVuSans-49\"/>\r\n       <use x=\"63.623047\" xlink:href=\"#DejaVuSans-48\"/>\r\n       <use x=\"127.246094\" xlink:href=\"#DejaVuSans-48\"/>\r\n       <use x=\"190.869141\" xlink:href=\"#DejaVuSans-50\"/>\r\n      </g>\r\n     </g>\r\n    </g>\r\n    <g id=\"xtick_12\">\r\n     <g id=\"line2d_12\">\r\n      <g>\r\n       <use style=\"stroke:#000000;stroke-width:0.8;\" x=\"235.929605\" xlink:href=\"#m26ccac02cb\" y=\"224.64\"/>\r\n      </g>\r\n     </g>\r\n     <g id=\"text_12\">\r\n      <!-- 1005 -->\r\n      <g transform=\"translate(238.68898 257.09)rotate(-90)scale(0.1 -0.1)\">\r\n       <use xlink:href=\"#DejaVuSans-49\"/>\r\n       <use x=\"63.623047\" xlink:href=\"#DejaVuSans-48\"/>\r\n       <use x=\"127.246094\" xlink:href=\"#DejaVuSans-48\"/>\r\n       <use x=\"190.869141\" xlink:href=\"#DejaVuSans-53\"/>\r\n      </g>\r\n     </g>\r\n    </g>\r\n    <g id=\"xtick_13\">\r\n     <g id=\"line2d_13\">\r\n      <g>\r\n       <use style=\"stroke:#000000;stroke-width:0.8;\" x=\"253.550658\" xlink:href=\"#m26ccac02cb\" y=\"224.64\"/>\r\n      </g>\r\n     </g>\r\n     <g id=\"text_13\">\r\n      <!-- 852 -->\r\n      <g transform=\"translate(256.310033 250.7275)rotate(-90)scale(0.1 -0.1)\">\r\n       <use xlink:href=\"#DejaVuSans-56\"/>\r\n       <use x=\"63.623047\" xlink:href=\"#DejaVuSans-53\"/>\r\n       <use x=\"127.246094\" xlink:href=\"#DejaVuSans-50\"/>\r\n      </g>\r\n     </g>\r\n    </g>\r\n    <g id=\"xtick_14\">\r\n     <g id=\"line2d_14\">\r\n      <g>\r\n       <use style=\"stroke:#000000;stroke-width:0.8;\" x=\"271.171711\" xlink:href=\"#m26ccac02cb\" y=\"224.64\"/>\r\n      </g>\r\n     </g>\r\n     <g id=\"text_14\">\r\n      <!-- 1523 -->\r\n      <g transform=\"translate(273.931086 257.09)rotate(-90)scale(0.1 -0.1)\">\r\n       <use xlink:href=\"#DejaVuSans-49\"/>\r\n       <use x=\"63.623047\" xlink:href=\"#DejaVuSans-53\"/>\r\n       <use x=\"127.246094\" xlink:href=\"#DejaVuSans-50\"/>\r\n       <use x=\"190.869141\" xlink:href=\"#DejaVuSans-51\"/>\r\n      </g>\r\n     </g>\r\n    </g>\r\n    <g id=\"xtick_15\">\r\n     <g id=\"line2d_15\">\r\n      <g>\r\n       <use style=\"stroke:#000000;stroke-width:0.8;\" x=\"288.792763\" xlink:href=\"#m26ccac02cb\" y=\"224.64\"/>\r\n      </g>\r\n     </g>\r\n     <g id=\"text_15\">\r\n      <!-- 1004 -->\r\n      <g transform=\"translate(291.552138 257.09)rotate(-90)scale(0.1 -0.1)\">\r\n       <use xlink:href=\"#DejaVuSans-49\"/>\r\n       <use x=\"63.623047\" xlink:href=\"#DejaVuSans-48\"/>\r\n       <use x=\"127.246094\" xlink:href=\"#DejaVuSans-48\"/>\r\n       <use x=\"190.869141\" xlink:href=\"#DejaVuSans-52\"/>\r\n      </g>\r\n     </g>\r\n    </g>\r\n    <g id=\"xtick_16\">\r\n     <g id=\"line2d_16\">\r\n      <g>\r\n       <use style=\"stroke:#000000;stroke-width:0.8;\" x=\"306.413816\" xlink:href=\"#m26ccac02cb\" y=\"224.64\"/>\r\n      </g>\r\n     </g>\r\n     <g id=\"text_16\">\r\n      <!-- 854 -->\r\n      <g transform=\"translate(309.173191 250.7275)rotate(-90)scale(0.1 -0.1)\">\r\n       <use xlink:href=\"#DejaVuSans-56\"/>\r\n       <use x=\"63.623047\" xlink:href=\"#DejaVuSans-53\"/>\r\n       <use x=\"127.246094\" xlink:href=\"#DejaVuSans-52\"/>\r\n      </g>\r\n     </g>\r\n    </g>\r\n    <g id=\"xtick_17\">\r\n     <g id=\"line2d_17\">\r\n      <g>\r\n       <use style=\"stroke:#000000;stroke-width:0.8;\" x=\"324.034868\" xlink:href=\"#m26ccac02cb\" y=\"224.64\"/>\r\n      </g>\r\n     </g>\r\n     <g id=\"text_17\">\r\n      <!-- 853 -->\r\n      <g transform=\"translate(326.794243 250.7275)rotate(-90)scale(0.1 -0.1)\">\r\n       <use xlink:href=\"#DejaVuSans-56\"/>\r\n       <use x=\"63.623047\" xlink:href=\"#DejaVuSans-53\"/>\r\n       <use x=\"127.246094\" xlink:href=\"#DejaVuSans-51\"/>\r\n      </g>\r\n     </g>\r\n    </g>\r\n    <g id=\"xtick_18\">\r\n     <g id=\"line2d_18\">\r\n      <g>\r\n       <use style=\"stroke:#000000;stroke-width:0.8;\" x=\"341.655921\" xlink:href=\"#m26ccac02cb\" y=\"224.64\"/>\r\n      </g>\r\n     </g>\r\n     <g id=\"text_18\">\r\n      <!-- 1521 -->\r\n      <g transform=\"translate(344.415296 257.09)rotate(-90)scale(0.1 -0.1)\">\r\n       <use xlink:href=\"#DejaVuSans-49\"/>\r\n       <use x=\"63.623047\" xlink:href=\"#DejaVuSans-53\"/>\r\n       <use x=\"127.246094\" xlink:href=\"#DejaVuSans-50\"/>\r\n       <use x=\"190.869141\" xlink:href=\"#DejaVuSans-49\"/>\r\n      </g>\r\n     </g>\r\n    </g>\r\n    <g id=\"xtick_19\">\r\n     <g id=\"line2d_19\">\r\n      <g>\r\n       <use style=\"stroke:#000000;stroke-width:0.8;\" x=\"359.276974\" xlink:href=\"#m26ccac02cb\" y=\"224.64\"/>\r\n      </g>\r\n     </g>\r\n     <g id=\"text_19\">\r\n      <!-- 1003 -->\r\n      <g transform=\"translate(362.036349 257.09)rotate(-90)scale(0.1 -0.1)\">\r\n       <use xlink:href=\"#DejaVuSans-49\"/>\r\n       <use x=\"63.623047\" xlink:href=\"#DejaVuSans-48\"/>\r\n       <use x=\"127.246094\" xlink:href=\"#DejaVuSans-48\"/>\r\n       <use x=\"190.869141\" xlink:href=\"#DejaVuSans-51\"/>\r\n      </g>\r\n     </g>\r\n    </g>\r\n   </g>\r\n   <g id=\"matplotlib.axis_2\">\r\n    <g id=\"ytick_1\">\r\n     <g id=\"line2d_20\">\r\n      <defs>\r\n       <path d=\"M 0 0 \r\nL -3.5 0 \r\n\" id=\"m69ecf6b56b\" style=\"stroke:#000000;stroke-width:0.8;\"/>\r\n      </defs>\r\n      <g>\r\n       <use style=\"stroke:#000000;stroke-width:0.8;\" x=\"33.2875\" xlink:href=\"#m69ecf6b56b\" y=\"224.64\"/>\r\n      </g>\r\n     </g>\r\n     <g id=\"text_20\">\r\n      <!-- 0 -->\r\n      <g transform=\"translate(19.925 228.439219)scale(0.1 -0.1)\">\r\n       <use xlink:href=\"#DejaVuSans-48\"/>\r\n      </g>\r\n     </g>\r\n    </g>\r\n    <g id=\"ytick_2\">\r\n     <g id=\"line2d_21\">\r\n      <g>\r\n       <use style=\"stroke:#000000;stroke-width:0.8;\" x=\"33.2875\" xlink:href=\"#m69ecf6b56b\" y=\"189.240733\"/>\r\n      </g>\r\n     </g>\r\n     <g id=\"text_21\">\r\n      <!-- 20 -->\r\n      <g transform=\"translate(13.5625 193.039951)scale(0.1 -0.1)\">\r\n       <use xlink:href=\"#DejaVuSans-50\"/>\r\n       <use x=\"63.623047\" xlink:href=\"#DejaVuSans-48\"/>\r\n      </g>\r\n     </g>\r\n    </g>\r\n    <g id=\"ytick_3\">\r\n     <g id=\"line2d_22\">\r\n      <g>\r\n       <use style=\"stroke:#000000;stroke-width:0.8;\" x=\"33.2875\" xlink:href=\"#m69ecf6b56b\" y=\"153.841465\"/>\r\n      </g>\r\n     </g>\r\n     <g id=\"text_22\">\r\n      <!-- 40 -->\r\n      <g transform=\"translate(13.5625 157.640684)scale(0.1 -0.1)\">\r\n       <use xlink:href=\"#DejaVuSans-52\"/>\r\n       <use x=\"63.623047\" xlink:href=\"#DejaVuSans-48\"/>\r\n      </g>\r\n     </g>\r\n    </g>\r\n    <g id=\"ytick_4\">\r\n     <g id=\"line2d_23\">\r\n      <g>\r\n       <use style=\"stroke:#000000;stroke-width:0.8;\" x=\"33.2875\" xlink:href=\"#m69ecf6b56b\" y=\"118.442198\"/>\r\n      </g>\r\n     </g>\r\n     <g id=\"text_23\">\r\n      <!-- 60 -->\r\n      <g transform=\"translate(13.5625 122.241417)scale(0.1 -0.1)\">\r\n       <use xlink:href=\"#DejaVuSans-54\"/>\r\n       <use x=\"63.623047\" xlink:href=\"#DejaVuSans-48\"/>\r\n      </g>\r\n     </g>\r\n    </g>\r\n    <g id=\"ytick_5\">\r\n     <g id=\"line2d_24\">\r\n      <g>\r\n       <use style=\"stroke:#000000;stroke-width:0.8;\" x=\"33.2875\" xlink:href=\"#m69ecf6b56b\" y=\"83.04293\"/>\r\n      </g>\r\n     </g>\r\n     <g id=\"text_24\">\r\n      <!-- 80 -->\r\n      <g transform=\"translate(13.5625 86.842149)scale(0.1 -0.1)\">\r\n       <use xlink:href=\"#DejaVuSans-56\"/>\r\n       <use x=\"63.623047\" xlink:href=\"#DejaVuSans-48\"/>\r\n      </g>\r\n     </g>\r\n    </g>\r\n    <g id=\"ytick_6\">\r\n     <g id=\"line2d_25\">\r\n      <g>\r\n       <use style=\"stroke:#000000;stroke-width:0.8;\" x=\"33.2875\" xlink:href=\"#m69ecf6b56b\" y=\"47.643663\"/>\r\n      </g>\r\n     </g>\r\n     <g id=\"text_25\">\r\n      <!-- 100 -->\r\n      <g transform=\"translate(7.2 51.442882)scale(0.1 -0.1)\">\r\n       <use xlink:href=\"#DejaVuSans-49\"/>\r\n       <use x=\"63.623047\" xlink:href=\"#DejaVuSans-48\"/>\r\n       <use x=\"127.246094\" xlink:href=\"#DejaVuSans-48\"/>\r\n      </g>\r\n     </g>\r\n    </g>\r\n    <g id=\"ytick_7\">\r\n     <g id=\"line2d_26\">\r\n      <g>\r\n       <use style=\"stroke:#000000;stroke-width:0.8;\" x=\"33.2875\" xlink:href=\"#m69ecf6b56b\" y=\"12.244396\"/>\r\n      </g>\r\n     </g>\r\n     <g id=\"text_26\">\r\n      <!-- 120 -->\r\n      <g transform=\"translate(7.2 16.043614)scale(0.1 -0.1)\">\r\n       <use xlink:href=\"#DejaVuSans-49\"/>\r\n       <use x=\"63.623047\" xlink:href=\"#DejaVuSans-50\"/>\r\n       <use x=\"127.246094\" xlink:href=\"#DejaVuSans-48\"/>\r\n      </g>\r\n     </g>\r\n    </g>\r\n   </g>\r\n   <g id=\"patch_22\">\r\n    <path d=\"M 33.2875 224.64 \r\nL 33.2875 7.2 \r\n\" style=\"fill:none;stroke:#000000;stroke-linecap:square;stroke-linejoin:miter;stroke-width:0.8;\"/>\r\n   </g>\r\n   <g id=\"patch_23\">\r\n    <path d=\"M 368.0875 224.64 \r\nL 368.0875 7.2 \r\n\" style=\"fill:none;stroke:#000000;stroke-linecap:square;stroke-linejoin:miter;stroke-width:0.8;\"/>\r\n   </g>\r\n   <g id=\"patch_24\">\r\n    <path d=\"M 33.2875 224.64 \r\nL 368.0875 224.64 \r\n\" style=\"fill:none;stroke:#000000;stroke-linecap:square;stroke-linejoin:miter;stroke-width:0.8;\"/>\r\n   </g>\r\n   <g id=\"patch_25\">\r\n    <path d=\"M 33.2875 7.2 \r\nL 368.0875 7.2 \r\n\" style=\"fill:none;stroke:#000000;stroke-linecap:square;stroke-linejoin:miter;stroke-width:0.8;\"/>\r\n   </g>\r\n  </g>\r\n </g>\r\n <defs>\r\n  <clipPath id=\"pbc034570e0\">\r\n   <rect height=\"217.44\" width=\"334.8\" x=\"33.2875\" y=\"7.2\"/>\r\n  </clipPath>\r\n </defs>\r\n</svg>\r\n",
            "image/png": "[encoded data removed]"
          },
          "metadata": {
            "needs_background": "light"
          }
        }
      ],
      "metadata": {
        "id": "LCh4ANjpRDiU",
        "colab_type": "code",
        "colab": {
          "base_uri": "https://localhost:8080/",
          "height": 468
        },
        "outputId": "4d5393d3-98ee-4067-8a2c-22a0b85975c0"
      }
    },
    {
      "cell_type": "code",
      "execution_count": 49,
      "source": [
        "#Gráfico de barras horizontais\r\n",
        "df[\"LojaID\"].value_counts().plot.barh()"
      ],
      "outputs": [
        {
          "output_type": "execute_result",
          "data": {
            "text/plain": [
              "<matplotlib.axes._subplots.AxesSubplot at 0x1d2bb983fa0>"
            ]
          },
          "metadata": {},
          "execution_count": 49
        },
        {
          "output_type": "display_data",
          "data": {
            "text/plain": [
              "<Figure size 432x288 with 1 Axes>"
            ],
            "image/svg+xml": "<?xml version=\"1.0\" encoding=\"utf-8\" standalone=\"no\"?>\r\n<!DOCTYPE svg PUBLIC \"-//W3C//DTD SVG 1.1//EN\"\r\n  \"http://www.w3.org/Graphics/SVG/1.1/DTD/svg11.dtd\">\r\n<!-- Created with matplotlib (https://matplotlib.org/) -->\r\n<svg height=\"248.518125pt\" version=\"1.1\" viewBox=\"0 0 383.426717 248.518125\" width=\"383.426717pt\" xmlns=\"http://www.w3.org/2000/svg\" xmlns:xlink=\"http://www.w3.org/1999/xlink\">\r\n <defs>\r\n  <style type=\"text/css\">\r\n*{stroke-linecap:butt;stroke-linejoin:round;}\r\n  </style>\r\n </defs>\r\n <g id=\"figure_1\">\r\n  <g id=\"patch_1\">\r\n   <path d=\"M -0 248.518125 \r\nL 383.426717 248.518125 \r\nL 383.426717 0 \r\nL -0 0 \r\nz\r\n\" style=\"fill:none;\"/>\r\n  </g>\r\n  <g id=\"axes_1\">\r\n   <g id=\"patch_2\">\r\n    <path d=\"M 39.65 224.64 \r\nL 374.45 224.64 \r\nL 374.45 7.2 \r\nL 39.65 7.2 \r\nz\r\n\" style=\"fill:#ffffff;\"/>\r\n   </g>\r\n   <g id=\"patch_3\">\r\n    <path clip-path=\"url(#p147ef2c04e)\" d=\"M 39.65 221.778947 \r\nL 358.507143 221.778947 \r\nL 358.507143 216.056842 \r\nL 39.65 216.056842 \r\nz\r\n\" style=\"fill:#1f77b4;\"/>\r\n   </g>\r\n   <g id=\"patch_4\">\r\n    <path clip-path=\"url(#p147ef2c04e)\" d=\"M 39.65 210.334737 \r\nL 344.880769 210.334737 \r\nL 344.880769 204.612632 \r\nL 39.65 204.612632 \r\nz\r\n\" style=\"fill:#1f77b4;\"/>\r\n   </g>\r\n   <g id=\"patch_5\">\r\n    <path clip-path=\"url(#p147ef2c04e)\" d=\"M 39.65 198.890526 \r\nL 314.902747 198.890526 \r\nL 314.902747 193.168421 \r\nL 39.65 193.168421 \r\nz\r\n\" style=\"fill:#1f77b4;\"/>\r\n   </g>\r\n   <g id=\"patch_6\">\r\n    <path clip-path=\"url(#p147ef2c04e)\" d=\"M 39.65 187.446316 \r\nL 222.243407 187.446316 \r\nL 222.243407 181.724211 \r\nL 39.65 181.724211 \r\nz\r\n\" style=\"fill:#1f77b4;\"/>\r\n   </g>\r\n   <g id=\"patch_7\">\r\n    <path clip-path=\"url(#p147ef2c04e)\" d=\"M 39.65 176.002105 \r\nL 216.792857 176.002105 \r\nL 216.792857 170.28 \r\nL 39.65 170.28 \r\nz\r\n\" style=\"fill:#1f77b4;\"/>\r\n   </g>\r\n   <g id=\"patch_8\">\r\n    <path clip-path=\"url(#p147ef2c04e)\" d=\"M 39.65 164.557895 \r\nL 159.562088 164.557895 \r\nL 159.562088 158.835789 \r\nL 39.65 158.835789 \r\nz\r\n\" style=\"fill:#1f77b4;\"/>\r\n   </g>\r\n   <g id=\"patch_9\">\r\n    <path clip-path=\"url(#p147ef2c04e)\" d=\"M 39.65 153.113684 \r\nL 151.386264 153.113684 \r\nL 151.386264 147.391579 \r\nL 39.65 147.391579 \r\nz\r\n\" style=\"fill:#1f77b4;\"/>\r\n   </g>\r\n   <g id=\"patch_10\">\r\n    <path clip-path=\"url(#p147ef2c04e)\" d=\"M 39.65 141.669474 \r\nL 145.935714 141.669474 \r\nL 145.935714 135.947368 \r\nL 39.65 135.947368 \r\nz\r\n\" style=\"fill:#1f77b4;\"/>\r\n   </g>\r\n   <g id=\"patch_11\">\r\n    <path clip-path=\"url(#p147ef2c04e)\" d=\"M 39.65 130.225263 \r\nL 137.75989 130.225263 \r\nL 137.75989 124.503158 \r\nL 39.65 124.503158 \r\nz\r\n\" style=\"fill:#1f77b4;\"/>\r\n   </g>\r\n   <g id=\"patch_12\">\r\n    <path clip-path=\"url(#p147ef2c04e)\" d=\"M 39.65 118.781053 \r\nL 124.133516 118.781053 \r\nL 124.133516 113.058947 \r\nL 39.65 113.058947 \r\nz\r\n\" style=\"fill:#1f77b4;\"/>\r\n   </g>\r\n   <g id=\"patch_13\">\r\n    <path clip-path=\"url(#p147ef2c04e)\" d=\"M 39.65 107.336842 \r\nL 121.408242 107.336842 \r\nL 121.408242 101.614737 \r\nL 39.65 101.614737 \r\nz\r\n\" style=\"fill:#1f77b4;\"/>\r\n   </g>\r\n   <g id=\"patch_14\">\r\n    <path clip-path=\"url(#p147ef2c04e)\" d=\"M 39.65 95.892632 \r\nL 121.408242 95.892632 \r\nL 121.408242 90.170526 \r\nL 39.65 90.170526 \r\nz\r\n\" style=\"fill:#1f77b4;\"/>\r\n   </g>\r\n   <g id=\"patch_15\">\r\n    <path clip-path=\"url(#p147ef2c04e)\" d=\"M 39.65 84.448421 \r\nL 118.682967 84.448421 \r\nL 118.682967 78.726316 \r\nL 39.65 78.726316 \r\nz\r\n\" style=\"fill:#1f77b4;\"/>\r\n   </g>\r\n   <g id=\"patch_16\">\r\n    <path clip-path=\"url(#p147ef2c04e)\" d=\"M 39.65 73.004211 \r\nL 118.682967 73.004211 \r\nL 118.682967 67.282105 \r\nL 39.65 67.282105 \r\nz\r\n\" style=\"fill:#1f77b4;\"/>\r\n   </g>\r\n   <g id=\"patch_17\">\r\n    <path clip-path=\"url(#p147ef2c04e)\" d=\"M 39.65 61.56 \r\nL 115.957692 61.56 \r\nL 115.957692 55.837895 \r\nL 39.65 55.837895 \r\nz\r\n\" style=\"fill:#1f77b4;\"/>\r\n   </g>\r\n   <g id=\"patch_18\">\r\n    <path clip-path=\"url(#p147ef2c04e)\" d=\"M 39.65 50.115789 \r\nL 115.957692 50.115789 \r\nL 115.957692 44.393684 \r\nL 39.65 44.393684 \r\nz\r\n\" style=\"fill:#1f77b4;\"/>\r\n   </g>\r\n   <g id=\"patch_19\">\r\n    <path clip-path=\"url(#p147ef2c04e)\" d=\"M 39.65 38.671579 \r\nL 110.507143 38.671579 \r\nL 110.507143 32.949474 \r\nL 39.65 32.949474 \r\nz\r\n\" style=\"fill:#1f77b4;\"/>\r\n   </g>\r\n   <g id=\"patch_20\">\r\n    <path clip-path=\"url(#p147ef2c04e)\" d=\"M 39.65 27.227368 \r\nL 96.880769 27.227368 \r\nL 96.880769 21.505263 \r\nL 39.65 21.505263 \r\nz\r\n\" style=\"fill:#1f77b4;\"/>\r\n   </g>\r\n   <g id=\"patch_21\">\r\n    <path clip-path=\"url(#p147ef2c04e)\" d=\"M 39.65 15.783158 \r\nL 94.155495 15.783158 \r\nL 94.155495 10.061053 \r\nL 39.65 10.061053 \r\nz\r\n\" style=\"fill:#1f77b4;\"/>\r\n   </g>\r\n   <g id=\"matplotlib.axis_1\">\r\n    <g id=\"xtick_1\">\r\n     <g id=\"line2d_1\">\r\n      <defs>\r\n       <path d=\"M 0 0 \r\nL 0 3.5 \r\n\" id=\"m20691734ea\" style=\"stroke:#000000;stroke-width:0.8;\"/>\r\n      </defs>\r\n      <g>\r\n       <use style=\"stroke:#000000;stroke-width:0.8;\" x=\"39.65\" xlink:href=\"#m20691734ea\" y=\"224.64\"/>\r\n      </g>\r\n     </g>\r\n     <g id=\"text_1\">\r\n      <!-- 0 -->\r\n      <defs>\r\n       <path d=\"M 31.78125 66.40625 \r\nQ 24.171875 66.40625 20.328125 58.90625 \r\nQ 16.5 51.421875 16.5 36.375 \r\nQ 16.5 21.390625 20.328125 13.890625 \r\nQ 24.171875 6.390625 31.78125 6.390625 \r\nQ 39.453125 6.390625 43.28125 13.890625 \r\nQ 47.125 21.390625 47.125 36.375 \r\nQ 47.125 51.421875 43.28125 58.90625 \r\nQ 39.453125 66.40625 31.78125 66.40625 \r\nz\r\nM 31.78125 74.21875 \r\nQ 44.046875 74.21875 50.515625 64.515625 \r\nQ 56.984375 54.828125 56.984375 36.375 \r\nQ 56.984375 17.96875 50.515625 8.265625 \r\nQ 44.046875 -1.421875 31.78125 -1.421875 \r\nQ 19.53125 -1.421875 13.0625 8.265625 \r\nQ 6.59375 17.96875 6.59375 36.375 \r\nQ 6.59375 54.828125 13.0625 64.515625 \r\nQ 19.53125 74.21875 31.78125 74.21875 \r\nz\r\n\" id=\"DejaVuSans-48\"/>\r\n      </defs>\r\n      <g transform=\"translate(36.46875 239.238437)scale(0.1 -0.1)\">\r\n       <use xlink:href=\"#DejaVuSans-48\"/>\r\n      </g>\r\n     </g>\r\n    </g>\r\n    <g id=\"xtick_2\">\r\n     <g id=\"line2d_2\">\r\n      <g>\r\n       <use style=\"stroke:#000000;stroke-width:0.8;\" x=\"94.155495\" xlink:href=\"#m20691734ea\" y=\"224.64\"/>\r\n      </g>\r\n     </g>\r\n     <g id=\"text_2\">\r\n      <!-- 20 -->\r\n      <defs>\r\n       <path d=\"M 19.1875 8.296875 \r\nL 53.609375 8.296875 \r\nL 53.609375 0 \r\nL 7.328125 0 \r\nL 7.328125 8.296875 \r\nQ 12.9375 14.109375 22.625 23.890625 \r\nQ 32.328125 33.6875 34.8125 36.53125 \r\nQ 39.546875 41.84375 41.421875 45.53125 \r\nQ 43.3125 49.21875 43.3125 52.78125 \r\nQ 43.3125 58.59375 39.234375 62.25 \r\nQ 35.15625 65.921875 28.609375 65.921875 \r\nQ 23.96875 65.921875 18.8125 64.3125 \r\nQ 13.671875 62.703125 7.8125 59.421875 \r\nL 7.8125 69.390625 \r\nQ 13.765625 71.78125 18.9375 73 \r\nQ 24.125 74.21875 28.421875 74.21875 \r\nQ 39.75 74.21875 46.484375 68.546875 \r\nQ 53.21875 62.890625 53.21875 53.421875 \r\nQ 53.21875 48.921875 51.53125 44.890625 \r\nQ 49.859375 40.875 45.40625 35.40625 \r\nQ 44.1875 33.984375 37.640625 27.21875 \r\nQ 31.109375 20.453125 19.1875 8.296875 \r\nz\r\n\" id=\"DejaVuSans-50\"/>\r\n      </defs>\r\n      <g transform=\"translate(87.792995 239.238437)scale(0.1 -0.1)\">\r\n       <use xlink:href=\"#DejaVuSans-50\"/>\r\n       <use x=\"63.623047\" xlink:href=\"#DejaVuSans-48\"/>\r\n      </g>\r\n     </g>\r\n    </g>\r\n    <g id=\"xtick_3\">\r\n     <g id=\"line2d_3\">\r\n      <g>\r\n       <use style=\"stroke:#000000;stroke-width:0.8;\" x=\"148.660989\" xlink:href=\"#m20691734ea\" y=\"224.64\"/>\r\n      </g>\r\n     </g>\r\n     <g id=\"text_3\">\r\n      <!-- 40 -->\r\n      <defs>\r\n       <path d=\"M 37.796875 64.3125 \r\nL 12.890625 25.390625 \r\nL 37.796875 25.390625 \r\nz\r\nM 35.203125 72.90625 \r\nL 47.609375 72.90625 \r\nL 47.609375 25.390625 \r\nL 58.015625 25.390625 \r\nL 58.015625 17.1875 \r\nL 47.609375 17.1875 \r\nL 47.609375 0 \r\nL 37.796875 0 \r\nL 37.796875 17.1875 \r\nL 4.890625 17.1875 \r\nL 4.890625 26.703125 \r\nz\r\n\" id=\"DejaVuSans-52\"/>\r\n      </defs>\r\n      <g transform=\"translate(142.298489 239.238437)scale(0.1 -0.1)\">\r\n       <use xlink:href=\"#DejaVuSans-52\"/>\r\n       <use x=\"63.623047\" xlink:href=\"#DejaVuSans-48\"/>\r\n      </g>\r\n     </g>\r\n    </g>\r\n    <g id=\"xtick_4\">\r\n     <g id=\"line2d_4\">\r\n      <g>\r\n       <use style=\"stroke:#000000;stroke-width:0.8;\" x=\"203.166484\" xlink:href=\"#m20691734ea\" y=\"224.64\"/>\r\n      </g>\r\n     </g>\r\n     <g id=\"text_4\">\r\n      <!-- 60 -->\r\n      <defs>\r\n       <path d=\"M 33.015625 40.375 \r\nQ 26.375 40.375 22.484375 35.828125 \r\nQ 18.609375 31.296875 18.609375 23.390625 \r\nQ 18.609375 15.53125 22.484375 10.953125 \r\nQ 26.375 6.390625 33.015625 6.390625 \r\nQ 39.65625 6.390625 43.53125 10.953125 \r\nQ 47.40625 15.53125 47.40625 23.390625 \r\nQ 47.40625 31.296875 43.53125 35.828125 \r\nQ 39.65625 40.375 33.015625 40.375 \r\nz\r\nM 52.59375 71.296875 \r\nL 52.59375 62.3125 \r\nQ 48.875 64.0625 45.09375 64.984375 \r\nQ 41.3125 65.921875 37.59375 65.921875 \r\nQ 27.828125 65.921875 22.671875 59.328125 \r\nQ 17.53125 52.734375 16.796875 39.40625 \r\nQ 19.671875 43.65625 24.015625 45.921875 \r\nQ 28.375 48.1875 33.59375 48.1875 \r\nQ 44.578125 48.1875 50.953125 41.515625 \r\nQ 57.328125 34.859375 57.328125 23.390625 \r\nQ 57.328125 12.15625 50.6875 5.359375 \r\nQ 44.046875 -1.421875 33.015625 -1.421875 \r\nQ 20.359375 -1.421875 13.671875 8.265625 \r\nQ 6.984375 17.96875 6.984375 36.375 \r\nQ 6.984375 53.65625 15.1875 63.9375 \r\nQ 23.390625 74.21875 37.203125 74.21875 \r\nQ 40.921875 74.21875 44.703125 73.484375 \r\nQ 48.484375 72.75 52.59375 71.296875 \r\nz\r\n\" id=\"DejaVuSans-54\"/>\r\n      </defs>\r\n      <g transform=\"translate(196.803984 239.238437)scale(0.1 -0.1)\">\r\n       <use xlink:href=\"#DejaVuSans-54\"/>\r\n       <use x=\"63.623047\" xlink:href=\"#DejaVuSans-48\"/>\r\n      </g>\r\n     </g>\r\n    </g>\r\n    <g id=\"xtick_5\">\r\n     <g id=\"line2d_5\">\r\n      <g>\r\n       <use style=\"stroke:#000000;stroke-width:0.8;\" x=\"257.671978\" xlink:href=\"#m20691734ea\" y=\"224.64\"/>\r\n      </g>\r\n     </g>\r\n     <g id=\"text_5\">\r\n      <!-- 80 -->\r\n      <defs>\r\n       <path d=\"M 31.78125 34.625 \r\nQ 24.75 34.625 20.71875 30.859375 \r\nQ 16.703125 27.09375 16.703125 20.515625 \r\nQ 16.703125 13.921875 20.71875 10.15625 \r\nQ 24.75 6.390625 31.78125 6.390625 \r\nQ 38.8125 6.390625 42.859375 10.171875 \r\nQ 46.921875 13.96875 46.921875 20.515625 \r\nQ 46.921875 27.09375 42.890625 30.859375 \r\nQ 38.875 34.625 31.78125 34.625 \r\nz\r\nM 21.921875 38.8125 \r\nQ 15.578125 40.375 12.03125 44.71875 \r\nQ 8.5 49.078125 8.5 55.328125 \r\nQ 8.5 64.0625 14.71875 69.140625 \r\nQ 20.953125 74.21875 31.78125 74.21875 \r\nQ 42.671875 74.21875 48.875 69.140625 \r\nQ 55.078125 64.0625 55.078125 55.328125 \r\nQ 55.078125 49.078125 51.53125 44.71875 \r\nQ 48 40.375 41.703125 38.8125 \r\nQ 48.828125 37.15625 52.796875 32.3125 \r\nQ 56.78125 27.484375 56.78125 20.515625 \r\nQ 56.78125 9.90625 50.3125 4.234375 \r\nQ 43.84375 -1.421875 31.78125 -1.421875 \r\nQ 19.734375 -1.421875 13.25 4.234375 \r\nQ 6.78125 9.90625 6.78125 20.515625 \r\nQ 6.78125 27.484375 10.78125 32.3125 \r\nQ 14.796875 37.15625 21.921875 38.8125 \r\nz\r\nM 18.3125 54.390625 \r\nQ 18.3125 48.734375 21.84375 45.5625 \r\nQ 25.390625 42.390625 31.78125 42.390625 \r\nQ 38.140625 42.390625 41.71875 45.5625 \r\nQ 45.3125 48.734375 45.3125 54.390625 \r\nQ 45.3125 60.0625 41.71875 63.234375 \r\nQ 38.140625 66.40625 31.78125 66.40625 \r\nQ 25.390625 66.40625 21.84375 63.234375 \r\nQ 18.3125 60.0625 18.3125 54.390625 \r\nz\r\n\" id=\"DejaVuSans-56\"/>\r\n      </defs>\r\n      <g transform=\"translate(251.309478 239.238437)scale(0.1 -0.1)\">\r\n       <use xlink:href=\"#DejaVuSans-56\"/>\r\n       <use x=\"63.623047\" xlink:href=\"#DejaVuSans-48\"/>\r\n      </g>\r\n     </g>\r\n    </g>\r\n    <g id=\"xtick_6\">\r\n     <g id=\"line2d_6\">\r\n      <g>\r\n       <use style=\"stroke:#000000;stroke-width:0.8;\" x=\"312.177473\" xlink:href=\"#m20691734ea\" y=\"224.64\"/>\r\n      </g>\r\n     </g>\r\n     <g id=\"text_6\">\r\n      <!-- 100 -->\r\n      <defs>\r\n       <path d=\"M 12.40625 8.296875 \r\nL 28.515625 8.296875 \r\nL 28.515625 63.921875 \r\nL 10.984375 60.40625 \r\nL 10.984375 69.390625 \r\nL 28.421875 72.90625 \r\nL 38.28125 72.90625 \r\nL 38.28125 8.296875 \r\nL 54.390625 8.296875 \r\nL 54.390625 0 \r\nL 12.40625 0 \r\nz\r\n\" id=\"DejaVuSans-49\"/>\r\n      </defs>\r\n      <g transform=\"translate(302.633723 239.238437)scale(0.1 -0.1)\">\r\n       <use xlink:href=\"#DejaVuSans-49\"/>\r\n       <use x=\"63.623047\" xlink:href=\"#DejaVuSans-48\"/>\r\n       <use x=\"127.246094\" xlink:href=\"#DejaVuSans-48\"/>\r\n      </g>\r\n     </g>\r\n    </g>\r\n    <g id=\"xtick_7\">\r\n     <g id=\"line2d_7\">\r\n      <g>\r\n       <use style=\"stroke:#000000;stroke-width:0.8;\" x=\"366.682967\" xlink:href=\"#m20691734ea\" y=\"224.64\"/>\r\n      </g>\r\n     </g>\r\n     <g id=\"text_7\">\r\n      <!-- 120 -->\r\n      <g transform=\"translate(357.139217 239.238437)scale(0.1 -0.1)\">\r\n       <use xlink:href=\"#DejaVuSans-49\"/>\r\n       <use x=\"63.623047\" xlink:href=\"#DejaVuSans-50\"/>\r\n       <use x=\"127.246094\" xlink:href=\"#DejaVuSans-48\"/>\r\n      </g>\r\n     </g>\r\n    </g>\r\n   </g>\r\n   <g id=\"matplotlib.axis_2\">\r\n    <g id=\"ytick_1\">\r\n     <g id=\"line2d_8\">\r\n      <defs>\r\n       <path d=\"M 0 0 \r\nL -3.5 0 \r\n\" id=\"m9c618ededf\" style=\"stroke:#000000;stroke-width:0.8;\"/>\r\n      </defs>\r\n      <g>\r\n       <use style=\"stroke:#000000;stroke-width:0.8;\" x=\"39.65\" xlink:href=\"#m9c618ededf\" y=\"218.917895\"/>\r\n      </g>\r\n     </g>\r\n     <g id=\"text_8\">\r\n      <!-- 1036 -->\r\n      <defs>\r\n       <path d=\"M 40.578125 39.3125 \r\nQ 47.65625 37.796875 51.625 33 \r\nQ 55.609375 28.21875 55.609375 21.1875 \r\nQ 55.609375 10.40625 48.1875 4.484375 \r\nQ 40.765625 -1.421875 27.09375 -1.421875 \r\nQ 22.515625 -1.421875 17.65625 -0.515625 \r\nQ 12.796875 0.390625 7.625 2.203125 \r\nL 7.625 11.71875 \r\nQ 11.71875 9.328125 16.59375 8.109375 \r\nQ 21.484375 6.890625 26.8125 6.890625 \r\nQ 36.078125 6.890625 40.9375 10.546875 \r\nQ 45.796875 14.203125 45.796875 21.1875 \r\nQ 45.796875 27.640625 41.28125 31.265625 \r\nQ 36.765625 34.90625 28.71875 34.90625 \r\nL 20.21875 34.90625 \r\nL 20.21875 43.015625 \r\nL 29.109375 43.015625 \r\nQ 36.375 43.015625 40.234375 45.921875 \r\nQ 44.09375 48.828125 44.09375 54.296875 \r\nQ 44.09375 59.90625 40.109375 62.90625 \r\nQ 36.140625 65.921875 28.71875 65.921875 \r\nQ 24.65625 65.921875 20.015625 65.03125 \r\nQ 15.375 64.15625 9.8125 62.3125 \r\nL 9.8125 71.09375 \r\nQ 15.4375 72.65625 20.34375 73.4375 \r\nQ 25.25 74.21875 29.59375 74.21875 \r\nQ 40.828125 74.21875 47.359375 69.109375 \r\nQ 53.90625 64.015625 53.90625 55.328125 \r\nQ 53.90625 49.265625 50.4375 45.09375 \r\nQ 46.96875 40.921875 40.578125 39.3125 \r\nz\r\n\" id=\"DejaVuSans-51\"/>\r\n      </defs>\r\n      <g transform=\"translate(7.2 222.717113)scale(0.1 -0.1)\">\r\n       <use xlink:href=\"#DejaVuSans-49\"/>\r\n       <use x=\"63.623047\" xlink:href=\"#DejaVuSans-48\"/>\r\n       <use x=\"127.246094\" xlink:href=\"#DejaVuSans-51\"/>\r\n       <use x=\"190.869141\" xlink:href=\"#DejaVuSans-54\"/>\r\n      </g>\r\n     </g>\r\n    </g>\r\n    <g id=\"ytick_2\">\r\n     <g id=\"line2d_9\">\r\n      <g>\r\n       <use style=\"stroke:#000000;stroke-width:0.8;\" x=\"39.65\" xlink:href=\"#m9c618ededf\" y=\"207.473684\"/>\r\n      </g>\r\n     </g>\r\n     <g id=\"text_9\">\r\n      <!-- 1035 -->\r\n      <defs>\r\n       <path d=\"M 10.796875 72.90625 \r\nL 49.515625 72.90625 \r\nL 49.515625 64.59375 \r\nL 19.828125 64.59375 \r\nL 19.828125 46.734375 \r\nQ 21.96875 47.46875 24.109375 47.828125 \r\nQ 26.265625 48.1875 28.421875 48.1875 \r\nQ 40.625 48.1875 47.75 41.5 \r\nQ 54.890625 34.8125 54.890625 23.390625 \r\nQ 54.890625 11.625 47.5625 5.09375 \r\nQ 40.234375 -1.421875 26.90625 -1.421875 \r\nQ 22.3125 -1.421875 17.546875 -0.640625 \r\nQ 12.796875 0.140625 7.71875 1.703125 \r\nL 7.71875 11.625 \r\nQ 12.109375 9.234375 16.796875 8.0625 \r\nQ 21.484375 6.890625 26.703125 6.890625 \r\nQ 35.15625 6.890625 40.078125 11.328125 \r\nQ 45.015625 15.765625 45.015625 23.390625 \r\nQ 45.015625 31 40.078125 35.4375 \r\nQ 35.15625 39.890625 26.703125 39.890625 \r\nQ 22.75 39.890625 18.8125 39.015625 \r\nQ 14.890625 38.140625 10.796875 36.28125 \r\nz\r\n\" id=\"DejaVuSans-53\"/>\r\n      </defs>\r\n      <g transform=\"translate(7.2 211.272903)scale(0.1 -0.1)\">\r\n       <use xlink:href=\"#DejaVuSans-49\"/>\r\n       <use x=\"63.623047\" xlink:href=\"#DejaVuSans-48\"/>\r\n       <use x=\"127.246094\" xlink:href=\"#DejaVuSans-51\"/>\r\n       <use x=\"190.869141\" xlink:href=\"#DejaVuSans-53\"/>\r\n      </g>\r\n     </g>\r\n    </g>\r\n    <g id=\"ytick_3\">\r\n     <g id=\"line2d_10\">\r\n      <g>\r\n       <use style=\"stroke:#000000;stroke-width:0.8;\" x=\"39.65\" xlink:href=\"#m9c618ededf\" y=\"196.029474\"/>\r\n      </g>\r\n     </g>\r\n     <g id=\"text_10\">\r\n      <!-- 1037 -->\r\n      <defs>\r\n       <path d=\"M 8.203125 72.90625 \r\nL 55.078125 72.90625 \r\nL 55.078125 68.703125 \r\nL 28.609375 0 \r\nL 18.3125 0 \r\nL 43.21875 64.59375 \r\nL 8.203125 64.59375 \r\nz\r\n\" id=\"DejaVuSans-55\"/>\r\n      </defs>\r\n      <g transform=\"translate(7.2 199.828692)scale(0.1 -0.1)\">\r\n       <use xlink:href=\"#DejaVuSans-49\"/>\r\n       <use x=\"63.623047\" xlink:href=\"#DejaVuSans-48\"/>\r\n       <use x=\"127.246094\" xlink:href=\"#DejaVuSans-51\"/>\r\n       <use x=\"190.869141\" xlink:href=\"#DejaVuSans-55\"/>\r\n      </g>\r\n     </g>\r\n    </g>\r\n    <g id=\"ytick_4\">\r\n     <g id=\"line2d_11\">\r\n      <g>\r\n       <use style=\"stroke:#000000;stroke-width:0.8;\" x=\"39.65\" xlink:href=\"#m9c618ededf\" y=\"184.585263\"/>\r\n      </g>\r\n     </g>\r\n     <g id=\"text_11\">\r\n      <!-- 1034 -->\r\n      <g transform=\"translate(7.2 188.384482)scale(0.1 -0.1)\">\r\n       <use xlink:href=\"#DejaVuSans-49\"/>\r\n       <use x=\"63.623047\" xlink:href=\"#DejaVuSans-48\"/>\r\n       <use x=\"127.246094\" xlink:href=\"#DejaVuSans-51\"/>\r\n       <use x=\"190.869141\" xlink:href=\"#DejaVuSans-52\"/>\r\n      </g>\r\n     </g>\r\n    </g>\r\n    <g id=\"ytick_5\">\r\n     <g id=\"line2d_12\">\r\n      <g>\r\n       <use style=\"stroke:#000000;stroke-width:0.8;\" x=\"39.65\" xlink:href=\"#m9c618ededf\" y=\"173.141053\"/>\r\n      </g>\r\n     </g>\r\n     <g id=\"text_12\">\r\n      <!-- 983 -->\r\n      <defs>\r\n       <path d=\"M 10.984375 1.515625 \r\nL 10.984375 10.5 \r\nQ 14.703125 8.734375 18.5 7.8125 \r\nQ 22.3125 6.890625 25.984375 6.890625 \r\nQ 35.75 6.890625 40.890625 13.453125 \r\nQ 46.046875 20.015625 46.78125 33.40625 \r\nQ 43.953125 29.203125 39.59375 26.953125 \r\nQ 35.25 24.703125 29.984375 24.703125 \r\nQ 19.046875 24.703125 12.671875 31.3125 \r\nQ 6.296875 37.9375 6.296875 49.421875 \r\nQ 6.296875 60.640625 12.9375 67.421875 \r\nQ 19.578125 74.21875 30.609375 74.21875 \r\nQ 43.265625 74.21875 49.921875 64.515625 \r\nQ 56.59375 54.828125 56.59375 36.375 \r\nQ 56.59375 19.140625 48.40625 8.859375 \r\nQ 40.234375 -1.421875 26.421875 -1.421875 \r\nQ 22.703125 -1.421875 18.890625 -0.6875 \r\nQ 15.09375 0.046875 10.984375 1.515625 \r\nz\r\nM 30.609375 32.421875 \r\nQ 37.25 32.421875 41.125 36.953125 \r\nQ 45.015625 41.5 45.015625 49.421875 \r\nQ 45.015625 57.28125 41.125 61.84375 \r\nQ 37.25 66.40625 30.609375 66.40625 \r\nQ 23.96875 66.40625 20.09375 61.84375 \r\nQ 16.21875 57.28125 16.21875 49.421875 \r\nQ 16.21875 41.5 20.09375 36.953125 \r\nQ 23.96875 32.421875 30.609375 32.421875 \r\nz\r\n\" id=\"DejaVuSans-57\"/>\r\n      </defs>\r\n      <g transform=\"translate(13.5625 176.940271)scale(0.1 -0.1)\">\r\n       <use xlink:href=\"#DejaVuSans-57\"/>\r\n       <use x=\"63.623047\" xlink:href=\"#DejaVuSans-56\"/>\r\n       <use x=\"127.246094\" xlink:href=\"#DejaVuSans-51\"/>\r\n      </g>\r\n     </g>\r\n    </g>\r\n    <g id=\"ytick_6\">\r\n     <g id=\"line2d_13\">\r\n      <g>\r\n       <use style=\"stroke:#000000;stroke-width:0.8;\" x=\"39.65\" xlink:href=\"#m9c618ededf\" y=\"161.696842\"/>\r\n      </g>\r\n     </g>\r\n     <g id=\"text_13\">\r\n      <!-- 982 -->\r\n      <g transform=\"translate(13.5625 165.496061)scale(0.1 -0.1)\">\r\n       <use xlink:href=\"#DejaVuSans-57\"/>\r\n       <use x=\"63.623047\" xlink:href=\"#DejaVuSans-56\"/>\r\n       <use x=\"127.246094\" xlink:href=\"#DejaVuSans-50\"/>\r\n      </g>\r\n     </g>\r\n    </g>\r\n    <g id=\"ytick_7\">\r\n     <g id=\"line2d_14\">\r\n      <g>\r\n       <use style=\"stroke:#000000;stroke-width:0.8;\" x=\"39.65\" xlink:href=\"#m9c618ededf\" y=\"150.252632\"/>\r\n      </g>\r\n     </g>\r\n     <g id=\"text_14\">\r\n      <!-- 1522 -->\r\n      <g transform=\"translate(7.2 154.05185)scale(0.1 -0.1)\">\r\n       <use xlink:href=\"#DejaVuSans-49\"/>\r\n       <use x=\"63.623047\" xlink:href=\"#DejaVuSans-53\"/>\r\n       <use x=\"127.246094\" xlink:href=\"#DejaVuSans-50\"/>\r\n       <use x=\"190.869141\" xlink:href=\"#DejaVuSans-50\"/>\r\n      </g>\r\n     </g>\r\n    </g>\r\n    <g id=\"ytick_8\">\r\n     <g id=\"line2d_15\">\r\n      <g>\r\n       <use style=\"stroke:#000000;stroke-width:0.8;\" x=\"39.65\" xlink:href=\"#m9c618ededf\" y=\"138.808421\"/>\r\n      </g>\r\n     </g>\r\n     <g id=\"text_15\">\r\n      <!-- 1520 -->\r\n      <g transform=\"translate(7.2 142.60764)scale(0.1 -0.1)\">\r\n       <use xlink:href=\"#DejaVuSans-49\"/>\r\n       <use x=\"63.623047\" xlink:href=\"#DejaVuSans-53\"/>\r\n       <use x=\"127.246094\" xlink:href=\"#DejaVuSans-50\"/>\r\n       <use x=\"190.869141\" xlink:href=\"#DejaVuSans-48\"/>\r\n      </g>\r\n     </g>\r\n    </g>\r\n    <g id=\"ytick_9\">\r\n     <g id=\"line2d_16\">\r\n      <g>\r\n       <use style=\"stroke:#000000;stroke-width:0.8;\" x=\"39.65\" xlink:href=\"#m9c618ededf\" y=\"127.364211\"/>\r\n      </g>\r\n     </g>\r\n     <g id=\"text_16\">\r\n      <!-- 980 -->\r\n      <g transform=\"translate(13.5625 131.163429)scale(0.1 -0.1)\">\r\n       <use xlink:href=\"#DejaVuSans-57\"/>\r\n       <use x=\"63.623047\" xlink:href=\"#DejaVuSans-56\"/>\r\n       <use x=\"127.246094\" xlink:href=\"#DejaVuSans-48\"/>\r\n      </g>\r\n     </g>\r\n    </g>\r\n    <g id=\"ytick_10\">\r\n     <g id=\"line2d_17\">\r\n      <g>\r\n       <use style=\"stroke:#000000;stroke-width:0.8;\" x=\"39.65\" xlink:href=\"#m9c618ededf\" y=\"115.92\"/>\r\n      </g>\r\n     </g>\r\n     <g id=\"text_17\">\r\n      <!-- 981 -->\r\n      <g transform=\"translate(13.5625 119.719219)scale(0.1 -0.1)\">\r\n       <use xlink:href=\"#DejaVuSans-57\"/>\r\n       <use x=\"63.623047\" xlink:href=\"#DejaVuSans-56\"/>\r\n       <use x=\"127.246094\" xlink:href=\"#DejaVuSans-49\"/>\r\n      </g>\r\n     </g>\r\n    </g>\r\n    <g id=\"ytick_11\">\r\n     <g id=\"line2d_18\">\r\n      <g>\r\n       <use style=\"stroke:#000000;stroke-width:0.8;\" x=\"39.65\" xlink:href=\"#m9c618ededf\" y=\"104.475789\"/>\r\n      </g>\r\n     </g>\r\n     <g id=\"text_18\">\r\n      <!-- 1002 -->\r\n      <g transform=\"translate(7.2 108.275008)scale(0.1 -0.1)\">\r\n       <use xlink:href=\"#DejaVuSans-49\"/>\r\n       <use x=\"63.623047\" xlink:href=\"#DejaVuSans-48\"/>\r\n       <use x=\"127.246094\" xlink:href=\"#DejaVuSans-48\"/>\r\n       <use x=\"190.869141\" xlink:href=\"#DejaVuSans-50\"/>\r\n      </g>\r\n     </g>\r\n    </g>\r\n    <g id=\"ytick_12\">\r\n     <g id=\"line2d_19\">\r\n      <g>\r\n       <use style=\"stroke:#000000;stroke-width:0.8;\" x=\"39.65\" xlink:href=\"#m9c618ededf\" y=\"93.031579\"/>\r\n      </g>\r\n     </g>\r\n     <g id=\"text_19\">\r\n      <!-- 1005 -->\r\n      <g transform=\"translate(7.2 96.830798)scale(0.1 -0.1)\">\r\n       <use xlink:href=\"#DejaVuSans-49\"/>\r\n       <use x=\"63.623047\" xlink:href=\"#DejaVuSans-48\"/>\r\n       <use x=\"127.246094\" xlink:href=\"#DejaVuSans-48\"/>\r\n       <use x=\"190.869141\" xlink:href=\"#DejaVuSans-53\"/>\r\n      </g>\r\n     </g>\r\n    </g>\r\n    <g id=\"ytick_13\">\r\n     <g id=\"line2d_20\">\r\n      <g>\r\n       <use style=\"stroke:#000000;stroke-width:0.8;\" x=\"39.65\" xlink:href=\"#m9c618ededf\" y=\"81.587368\"/>\r\n      </g>\r\n     </g>\r\n     <g id=\"text_20\">\r\n      <!-- 852 -->\r\n      <g transform=\"translate(13.5625 85.386587)scale(0.1 -0.1)\">\r\n       <use xlink:href=\"#DejaVuSans-56\"/>\r\n       <use x=\"63.623047\" xlink:href=\"#DejaVuSans-53\"/>\r\n       <use x=\"127.246094\" xlink:href=\"#DejaVuSans-50\"/>\r\n      </g>\r\n     </g>\r\n    </g>\r\n    <g id=\"ytick_14\">\r\n     <g id=\"line2d_21\">\r\n      <g>\r\n       <use style=\"stroke:#000000;stroke-width:0.8;\" x=\"39.65\" xlink:href=\"#m9c618ededf\" y=\"70.143158\"/>\r\n      </g>\r\n     </g>\r\n     <g id=\"text_21\">\r\n      <!-- 1523 -->\r\n      <g transform=\"translate(7.2 73.942377)scale(0.1 -0.1)\">\r\n       <use xlink:href=\"#DejaVuSans-49\"/>\r\n       <use x=\"63.623047\" xlink:href=\"#DejaVuSans-53\"/>\r\n       <use x=\"127.246094\" xlink:href=\"#DejaVuSans-50\"/>\r\n       <use x=\"190.869141\" xlink:href=\"#DejaVuSans-51\"/>\r\n      </g>\r\n     </g>\r\n    </g>\r\n    <g id=\"ytick_15\">\r\n     <g id=\"line2d_22\">\r\n      <g>\r\n       <use style=\"stroke:#000000;stroke-width:0.8;\" x=\"39.65\" xlink:href=\"#m9c618ededf\" y=\"58.698947\"/>\r\n      </g>\r\n     </g>\r\n     <g id=\"text_22\">\r\n      <!-- 1004 -->\r\n      <g transform=\"translate(7.2 62.498166)scale(0.1 -0.1)\">\r\n       <use xlink:href=\"#DejaVuSans-49\"/>\r\n       <use x=\"63.623047\" xlink:href=\"#DejaVuSans-48\"/>\r\n       <use x=\"127.246094\" xlink:href=\"#DejaVuSans-48\"/>\r\n       <use x=\"190.869141\" xlink:href=\"#DejaVuSans-52\"/>\r\n      </g>\r\n     </g>\r\n    </g>\r\n    <g id=\"ytick_16\">\r\n     <g id=\"line2d_23\">\r\n      <g>\r\n       <use style=\"stroke:#000000;stroke-width:0.8;\" x=\"39.65\" xlink:href=\"#m9c618ededf\" y=\"47.254737\"/>\r\n      </g>\r\n     </g>\r\n     <g id=\"text_23\">\r\n      <!-- 854 -->\r\n      <g transform=\"translate(13.5625 51.053956)scale(0.1 -0.1)\">\r\n       <use xlink:href=\"#DejaVuSans-56\"/>\r\n       <use x=\"63.623047\" xlink:href=\"#DejaVuSans-53\"/>\r\n       <use x=\"127.246094\" xlink:href=\"#DejaVuSans-52\"/>\r\n      </g>\r\n     </g>\r\n    </g>\r\n    <g id=\"ytick_17\">\r\n     <g id=\"line2d_24\">\r\n      <g>\r\n       <use style=\"stroke:#000000;stroke-width:0.8;\" x=\"39.65\" xlink:href=\"#m9c618ededf\" y=\"35.810526\"/>\r\n      </g>\r\n     </g>\r\n     <g id=\"text_24\">\r\n      <!-- 853 -->\r\n      <g transform=\"translate(13.5625 39.609745)scale(0.1 -0.1)\">\r\n       <use xlink:href=\"#DejaVuSans-56\"/>\r\n       <use x=\"63.623047\" xlink:href=\"#DejaVuSans-53\"/>\r\n       <use x=\"127.246094\" xlink:href=\"#DejaVuSans-51\"/>\r\n      </g>\r\n     </g>\r\n    </g>\r\n    <g id=\"ytick_18\">\r\n     <g id=\"line2d_25\">\r\n      <g>\r\n       <use style=\"stroke:#000000;stroke-width:0.8;\" x=\"39.65\" xlink:href=\"#m9c618ededf\" y=\"24.366316\"/>\r\n      </g>\r\n     </g>\r\n     <g id=\"text_25\">\r\n      <!-- 1521 -->\r\n      <g transform=\"translate(7.2 28.165535)scale(0.1 -0.1)\">\r\n       <use xlink:href=\"#DejaVuSans-49\"/>\r\n       <use x=\"63.623047\" xlink:href=\"#DejaVuSans-53\"/>\r\n       <use x=\"127.246094\" xlink:href=\"#DejaVuSans-50\"/>\r\n       <use x=\"190.869141\" xlink:href=\"#DejaVuSans-49\"/>\r\n      </g>\r\n     </g>\r\n    </g>\r\n    <g id=\"ytick_19\">\r\n     <g id=\"line2d_26\">\r\n      <g>\r\n       <use style=\"stroke:#000000;stroke-width:0.8;\" x=\"39.65\" xlink:href=\"#m9c618ededf\" y=\"12.922105\"/>\r\n      </g>\r\n     </g>\r\n     <g id=\"text_26\">\r\n      <!-- 1003 -->\r\n      <g transform=\"translate(7.2 16.721324)scale(0.1 -0.1)\">\r\n       <use xlink:href=\"#DejaVuSans-49\"/>\r\n       <use x=\"63.623047\" xlink:href=\"#DejaVuSans-48\"/>\r\n       <use x=\"127.246094\" xlink:href=\"#DejaVuSans-48\"/>\r\n       <use x=\"190.869141\" xlink:href=\"#DejaVuSans-51\"/>\r\n      </g>\r\n     </g>\r\n    </g>\r\n   </g>\r\n   <g id=\"patch_22\">\r\n    <path d=\"M 39.65 224.64 \r\nL 39.65 7.2 \r\n\" style=\"fill:none;stroke:#000000;stroke-linecap:square;stroke-linejoin:miter;stroke-width:0.8;\"/>\r\n   </g>\r\n   <g id=\"patch_23\">\r\n    <path d=\"M 374.45 224.64 \r\nL 374.45 7.2 \r\n\" style=\"fill:none;stroke:#000000;stroke-linecap:square;stroke-linejoin:miter;stroke-width:0.8;\"/>\r\n   </g>\r\n   <g id=\"patch_24\">\r\n    <path d=\"M 39.65 224.64 \r\nL 374.45 224.64 \r\n\" style=\"fill:none;stroke:#000000;stroke-linecap:square;stroke-linejoin:miter;stroke-width:0.8;\"/>\r\n   </g>\r\n   <g id=\"patch_25\">\r\n    <path d=\"M 39.65 7.2 \r\nL 374.45 7.2 \r\n\" style=\"fill:none;stroke:#000000;stroke-linecap:square;stroke-linejoin:miter;stroke-width:0.8;\"/>\r\n   </g>\r\n  </g>\r\n </g>\r\n <defs>\r\n  <clipPath id=\"p147ef2c04e\">\r\n   <rect height=\"217.44\" width=\"334.8\" x=\"39.65\" y=\"7.2\"/>\r\n  </clipPath>\r\n </defs>\r\n</svg>\r\n",
            "image/png": "[encoded data removed]"
          },
          "metadata": {
            "needs_background": "light"
          }
        }
      ],
      "metadata": {
        "id": "hMiNsqBKR3K2",
        "colab_type": "code",
        "colab": {
          "base_uri": "https://localhost:8080/",
          "height": 447
        },
        "outputId": "f57f2b15-b9b2-436d-fbee-51cd724abe5f"
      }
    },
    {
      "cell_type": "code",
      "execution_count": 50,
      "source": [
        "#Gráfico de barras horizontais\r\n",
        "df[\"LojaID\"].value_counts(ascending=True).plot.barh()"
      ],
      "outputs": [
        {
          "output_type": "execute_result",
          "data": {
            "text/plain": [
              "<matplotlib.axes._subplots.AxesSubplot at 0x1d2bba01850>"
            ]
          },
          "metadata": {},
          "execution_count": 50
        },
        {
          "output_type": "display_data",
          "data": {
            "text/plain": [
              "<Figure size 432x288 with 1 Axes>"
            ],
            "image/svg+xml": "<?xml version=\"1.0\" encoding=\"utf-8\" standalone=\"no\"?>\r\n<!DOCTYPE svg PUBLIC \"-//W3C//DTD SVG 1.1//EN\"\r\n  \"http://www.w3.org/Graphics/SVG/1.1/DTD/svg11.dtd\">\r\n<!-- Created with matplotlib (https://matplotlib.org/) -->\r\n<svg height=\"248.518125pt\" version=\"1.1\" viewBox=\"0 0 383.426717 248.518125\" width=\"383.426717pt\" xmlns=\"http://www.w3.org/2000/svg\" xmlns:xlink=\"http://www.w3.org/1999/xlink\">\r\n <defs>\r\n  <style type=\"text/css\">\r\n*{stroke-linecap:butt;stroke-linejoin:round;}\r\n  </style>\r\n </defs>\r\n <g id=\"figure_1\">\r\n  <g id=\"patch_1\">\r\n   <path d=\"M -0 248.518125 \r\nL 383.426717 248.518125 \r\nL 383.426717 0 \r\nL -0 0 \r\nz\r\n\" style=\"fill:none;\"/>\r\n  </g>\r\n  <g id=\"axes_1\">\r\n   <g id=\"patch_2\">\r\n    <path d=\"M 39.65 224.64 \r\nL 374.45 224.64 \r\nL 374.45 7.2 \r\nL 39.65 7.2 \r\nz\r\n\" style=\"fill:#ffffff;\"/>\r\n   </g>\r\n   <g id=\"patch_3\">\r\n    <path clip-path=\"url(#pd5422f7caa)\" d=\"M 39.65 221.778947 \r\nL 94.155495 221.778947 \r\nL 94.155495 216.056842 \r\nL 39.65 216.056842 \r\nz\r\n\" style=\"fill:#1f77b4;\"/>\r\n   </g>\r\n   <g id=\"patch_4\">\r\n    <path clip-path=\"url(#pd5422f7caa)\" d=\"M 39.65 210.334737 \r\nL 96.880769 210.334737 \r\nL 96.880769 204.612632 \r\nL 39.65 204.612632 \r\nz\r\n\" style=\"fill:#1f77b4;\"/>\r\n   </g>\r\n   <g id=\"patch_5\">\r\n    <path clip-path=\"url(#pd5422f7caa)\" d=\"M 39.65 198.890526 \r\nL 110.507143 198.890526 \r\nL 110.507143 193.168421 \r\nL 39.65 193.168421 \r\nz\r\n\" style=\"fill:#1f77b4;\"/>\r\n   </g>\r\n   <g id=\"patch_6\">\r\n    <path clip-path=\"url(#pd5422f7caa)\" d=\"M 39.65 187.446316 \r\nL 115.957692 187.446316 \r\nL 115.957692 181.724211 \r\nL 39.65 181.724211 \r\nz\r\n\" style=\"fill:#1f77b4;\"/>\r\n   </g>\r\n   <g id=\"patch_7\">\r\n    <path clip-path=\"url(#pd5422f7caa)\" d=\"M 39.65 176.002105 \r\nL 115.957692 176.002105 \r\nL 115.957692 170.28 \r\nL 39.65 170.28 \r\nz\r\n\" style=\"fill:#1f77b4;\"/>\r\n   </g>\r\n   <g id=\"patch_8\">\r\n    <path clip-path=\"url(#pd5422f7caa)\" d=\"M 39.65 164.557895 \r\nL 118.682967 164.557895 \r\nL 118.682967 158.835789 \r\nL 39.65 158.835789 \r\nz\r\n\" style=\"fill:#1f77b4;\"/>\r\n   </g>\r\n   <g id=\"patch_9\">\r\n    <path clip-path=\"url(#pd5422f7caa)\" d=\"M 39.65 153.113684 \r\nL 118.682967 153.113684 \r\nL 118.682967 147.391579 \r\nL 39.65 147.391579 \r\nz\r\n\" style=\"fill:#1f77b4;\"/>\r\n   </g>\r\n   <g id=\"patch_10\">\r\n    <path clip-path=\"url(#pd5422f7caa)\" d=\"M 39.65 141.669474 \r\nL 121.408242 141.669474 \r\nL 121.408242 135.947368 \r\nL 39.65 135.947368 \r\nz\r\n\" style=\"fill:#1f77b4;\"/>\r\n   </g>\r\n   <g id=\"patch_11\">\r\n    <path clip-path=\"url(#pd5422f7caa)\" d=\"M 39.65 130.225263 \r\nL 121.408242 130.225263 \r\nL 121.408242 124.503158 \r\nL 39.65 124.503158 \r\nz\r\n\" style=\"fill:#1f77b4;\"/>\r\n   </g>\r\n   <g id=\"patch_12\">\r\n    <path clip-path=\"url(#pd5422f7caa)\" d=\"M 39.65 118.781053 \r\nL 124.133516 118.781053 \r\nL 124.133516 113.058947 \r\nL 39.65 113.058947 \r\nz\r\n\" style=\"fill:#1f77b4;\"/>\r\n   </g>\r\n   <g id=\"patch_13\">\r\n    <path clip-path=\"url(#pd5422f7caa)\" d=\"M 39.65 107.336842 \r\nL 137.75989 107.336842 \r\nL 137.75989 101.614737 \r\nL 39.65 101.614737 \r\nz\r\n\" style=\"fill:#1f77b4;\"/>\r\n   </g>\r\n   <g id=\"patch_14\">\r\n    <path clip-path=\"url(#pd5422f7caa)\" d=\"M 39.65 95.892632 \r\nL 145.935714 95.892632 \r\nL 145.935714 90.170526 \r\nL 39.65 90.170526 \r\nz\r\n\" style=\"fill:#1f77b4;\"/>\r\n   </g>\r\n   <g id=\"patch_15\">\r\n    <path clip-path=\"url(#pd5422f7caa)\" d=\"M 39.65 84.448421 \r\nL 151.386264 84.448421 \r\nL 151.386264 78.726316 \r\nL 39.65 78.726316 \r\nz\r\n\" style=\"fill:#1f77b4;\"/>\r\n   </g>\r\n   <g id=\"patch_16\">\r\n    <path clip-path=\"url(#pd5422f7caa)\" d=\"M 39.65 73.004211 \r\nL 159.562088 73.004211 \r\nL 159.562088 67.282105 \r\nL 39.65 67.282105 \r\nz\r\n\" style=\"fill:#1f77b4;\"/>\r\n   </g>\r\n   <g id=\"patch_17\">\r\n    <path clip-path=\"url(#pd5422f7caa)\" d=\"M 39.65 61.56 \r\nL 216.792857 61.56 \r\nL 216.792857 55.837895 \r\nL 39.65 55.837895 \r\nz\r\n\" style=\"fill:#1f77b4;\"/>\r\n   </g>\r\n   <g id=\"patch_18\">\r\n    <path clip-path=\"url(#pd5422f7caa)\" d=\"M 39.65 50.115789 \r\nL 222.243407 50.115789 \r\nL 222.243407 44.393684 \r\nL 39.65 44.393684 \r\nz\r\n\" style=\"fill:#1f77b4;\"/>\r\n   </g>\r\n   <g id=\"patch_19\">\r\n    <path clip-path=\"url(#pd5422f7caa)\" d=\"M 39.65 38.671579 \r\nL 314.902747 38.671579 \r\nL 314.902747 32.949474 \r\nL 39.65 32.949474 \r\nz\r\n\" style=\"fill:#1f77b4;\"/>\r\n   </g>\r\n   <g id=\"patch_20\">\r\n    <path clip-path=\"url(#pd5422f7caa)\" d=\"M 39.65 27.227368 \r\nL 344.880769 27.227368 \r\nL 344.880769 21.505263 \r\nL 39.65 21.505263 \r\nz\r\n\" style=\"fill:#1f77b4;\"/>\r\n   </g>\r\n   <g id=\"patch_21\">\r\n    <path clip-path=\"url(#pd5422f7caa)\" d=\"M 39.65 15.783158 \r\nL 358.507143 15.783158 \r\nL 358.507143 10.061053 \r\nL 39.65 10.061053 \r\nz\r\n\" style=\"fill:#1f77b4;\"/>\r\n   </g>\r\n   <g id=\"matplotlib.axis_1\">\r\n    <g id=\"xtick_1\">\r\n     <g id=\"line2d_1\">\r\n      <defs>\r\n       <path d=\"M 0 0 \r\nL 0 3.5 \r\n\" id=\"m6732011706\" style=\"stroke:#000000;stroke-width:0.8;\"/>\r\n      </defs>\r\n      <g>\r\n       <use style=\"stroke:#000000;stroke-width:0.8;\" x=\"39.65\" xlink:href=\"#m6732011706\" y=\"224.64\"/>\r\n      </g>\r\n     </g>\r\n     <g id=\"text_1\">\r\n      <!-- 0 -->\r\n      <defs>\r\n       <path d=\"M 31.78125 66.40625 \r\nQ 24.171875 66.40625 20.328125 58.90625 \r\nQ 16.5 51.421875 16.5 36.375 \r\nQ 16.5 21.390625 20.328125 13.890625 \r\nQ 24.171875 6.390625 31.78125 6.390625 \r\nQ 39.453125 6.390625 43.28125 13.890625 \r\nQ 47.125 21.390625 47.125 36.375 \r\nQ 47.125 51.421875 43.28125 58.90625 \r\nQ 39.453125 66.40625 31.78125 66.40625 \r\nz\r\nM 31.78125 74.21875 \r\nQ 44.046875 74.21875 50.515625 64.515625 \r\nQ 56.984375 54.828125 56.984375 36.375 \r\nQ 56.984375 17.96875 50.515625 8.265625 \r\nQ 44.046875 -1.421875 31.78125 -1.421875 \r\nQ 19.53125 -1.421875 13.0625 8.265625 \r\nQ 6.59375 17.96875 6.59375 36.375 \r\nQ 6.59375 54.828125 13.0625 64.515625 \r\nQ 19.53125 74.21875 31.78125 74.21875 \r\nz\r\n\" id=\"DejaVuSans-48\"/>\r\n      </defs>\r\n      <g transform=\"translate(36.46875 239.238437)scale(0.1 -0.1)\">\r\n       <use xlink:href=\"#DejaVuSans-48\"/>\r\n      </g>\r\n     </g>\r\n    </g>\r\n    <g id=\"xtick_2\">\r\n     <g id=\"line2d_2\">\r\n      <g>\r\n       <use style=\"stroke:#000000;stroke-width:0.8;\" x=\"94.155495\" xlink:href=\"#m6732011706\" y=\"224.64\"/>\r\n      </g>\r\n     </g>\r\n     <g id=\"text_2\">\r\n      <!-- 20 -->\r\n      <defs>\r\n       <path d=\"M 19.1875 8.296875 \r\nL 53.609375 8.296875 \r\nL 53.609375 0 \r\nL 7.328125 0 \r\nL 7.328125 8.296875 \r\nQ 12.9375 14.109375 22.625 23.890625 \r\nQ 32.328125 33.6875 34.8125 36.53125 \r\nQ 39.546875 41.84375 41.421875 45.53125 \r\nQ 43.3125 49.21875 43.3125 52.78125 \r\nQ 43.3125 58.59375 39.234375 62.25 \r\nQ 35.15625 65.921875 28.609375 65.921875 \r\nQ 23.96875 65.921875 18.8125 64.3125 \r\nQ 13.671875 62.703125 7.8125 59.421875 \r\nL 7.8125 69.390625 \r\nQ 13.765625 71.78125 18.9375 73 \r\nQ 24.125 74.21875 28.421875 74.21875 \r\nQ 39.75 74.21875 46.484375 68.546875 \r\nQ 53.21875 62.890625 53.21875 53.421875 \r\nQ 53.21875 48.921875 51.53125 44.890625 \r\nQ 49.859375 40.875 45.40625 35.40625 \r\nQ 44.1875 33.984375 37.640625 27.21875 \r\nQ 31.109375 20.453125 19.1875 8.296875 \r\nz\r\n\" id=\"DejaVuSans-50\"/>\r\n      </defs>\r\n      <g transform=\"translate(87.792995 239.238437)scale(0.1 -0.1)\">\r\n       <use xlink:href=\"#DejaVuSans-50\"/>\r\n       <use x=\"63.623047\" xlink:href=\"#DejaVuSans-48\"/>\r\n      </g>\r\n     </g>\r\n    </g>\r\n    <g id=\"xtick_3\">\r\n     <g id=\"line2d_3\">\r\n      <g>\r\n       <use style=\"stroke:#000000;stroke-width:0.8;\" x=\"148.660989\" xlink:href=\"#m6732011706\" y=\"224.64\"/>\r\n      </g>\r\n     </g>\r\n     <g id=\"text_3\">\r\n      <!-- 40 -->\r\n      <defs>\r\n       <path d=\"M 37.796875 64.3125 \r\nL 12.890625 25.390625 \r\nL 37.796875 25.390625 \r\nz\r\nM 35.203125 72.90625 \r\nL 47.609375 72.90625 \r\nL 47.609375 25.390625 \r\nL 58.015625 25.390625 \r\nL 58.015625 17.1875 \r\nL 47.609375 17.1875 \r\nL 47.609375 0 \r\nL 37.796875 0 \r\nL 37.796875 17.1875 \r\nL 4.890625 17.1875 \r\nL 4.890625 26.703125 \r\nz\r\n\" id=\"DejaVuSans-52\"/>\r\n      </defs>\r\n      <g transform=\"translate(142.298489 239.238437)scale(0.1 -0.1)\">\r\n       <use xlink:href=\"#DejaVuSans-52\"/>\r\n       <use x=\"63.623047\" xlink:href=\"#DejaVuSans-48\"/>\r\n      </g>\r\n     </g>\r\n    </g>\r\n    <g id=\"xtick_4\">\r\n     <g id=\"line2d_4\">\r\n      <g>\r\n       <use style=\"stroke:#000000;stroke-width:0.8;\" x=\"203.166484\" xlink:href=\"#m6732011706\" y=\"224.64\"/>\r\n      </g>\r\n     </g>\r\n     <g id=\"text_4\">\r\n      <!-- 60 -->\r\n      <defs>\r\n       <path d=\"M 33.015625 40.375 \r\nQ 26.375 40.375 22.484375 35.828125 \r\nQ 18.609375 31.296875 18.609375 23.390625 \r\nQ 18.609375 15.53125 22.484375 10.953125 \r\nQ 26.375 6.390625 33.015625 6.390625 \r\nQ 39.65625 6.390625 43.53125 10.953125 \r\nQ 47.40625 15.53125 47.40625 23.390625 \r\nQ 47.40625 31.296875 43.53125 35.828125 \r\nQ 39.65625 40.375 33.015625 40.375 \r\nz\r\nM 52.59375 71.296875 \r\nL 52.59375 62.3125 \r\nQ 48.875 64.0625 45.09375 64.984375 \r\nQ 41.3125 65.921875 37.59375 65.921875 \r\nQ 27.828125 65.921875 22.671875 59.328125 \r\nQ 17.53125 52.734375 16.796875 39.40625 \r\nQ 19.671875 43.65625 24.015625 45.921875 \r\nQ 28.375 48.1875 33.59375 48.1875 \r\nQ 44.578125 48.1875 50.953125 41.515625 \r\nQ 57.328125 34.859375 57.328125 23.390625 \r\nQ 57.328125 12.15625 50.6875 5.359375 \r\nQ 44.046875 -1.421875 33.015625 -1.421875 \r\nQ 20.359375 -1.421875 13.671875 8.265625 \r\nQ 6.984375 17.96875 6.984375 36.375 \r\nQ 6.984375 53.65625 15.1875 63.9375 \r\nQ 23.390625 74.21875 37.203125 74.21875 \r\nQ 40.921875 74.21875 44.703125 73.484375 \r\nQ 48.484375 72.75 52.59375 71.296875 \r\nz\r\n\" id=\"DejaVuSans-54\"/>\r\n      </defs>\r\n      <g transform=\"translate(196.803984 239.238437)scale(0.1 -0.1)\">\r\n       <use xlink:href=\"#DejaVuSans-54\"/>\r\n       <use x=\"63.623047\" xlink:href=\"#DejaVuSans-48\"/>\r\n      </g>\r\n     </g>\r\n    </g>\r\n    <g id=\"xtick_5\">\r\n     <g id=\"line2d_5\">\r\n      <g>\r\n       <use style=\"stroke:#000000;stroke-width:0.8;\" x=\"257.671978\" xlink:href=\"#m6732011706\" y=\"224.64\"/>\r\n      </g>\r\n     </g>\r\n     <g id=\"text_5\">\r\n      <!-- 80 -->\r\n      <defs>\r\n       <path d=\"M 31.78125 34.625 \r\nQ 24.75 34.625 20.71875 30.859375 \r\nQ 16.703125 27.09375 16.703125 20.515625 \r\nQ 16.703125 13.921875 20.71875 10.15625 \r\nQ 24.75 6.390625 31.78125 6.390625 \r\nQ 38.8125 6.390625 42.859375 10.171875 \r\nQ 46.921875 13.96875 46.921875 20.515625 \r\nQ 46.921875 27.09375 42.890625 30.859375 \r\nQ 38.875 34.625 31.78125 34.625 \r\nz\r\nM 21.921875 38.8125 \r\nQ 15.578125 40.375 12.03125 44.71875 \r\nQ 8.5 49.078125 8.5 55.328125 \r\nQ 8.5 64.0625 14.71875 69.140625 \r\nQ 20.953125 74.21875 31.78125 74.21875 \r\nQ 42.671875 74.21875 48.875 69.140625 \r\nQ 55.078125 64.0625 55.078125 55.328125 \r\nQ 55.078125 49.078125 51.53125 44.71875 \r\nQ 48 40.375 41.703125 38.8125 \r\nQ 48.828125 37.15625 52.796875 32.3125 \r\nQ 56.78125 27.484375 56.78125 20.515625 \r\nQ 56.78125 9.90625 50.3125 4.234375 \r\nQ 43.84375 -1.421875 31.78125 -1.421875 \r\nQ 19.734375 -1.421875 13.25 4.234375 \r\nQ 6.78125 9.90625 6.78125 20.515625 \r\nQ 6.78125 27.484375 10.78125 32.3125 \r\nQ 14.796875 37.15625 21.921875 38.8125 \r\nz\r\nM 18.3125 54.390625 \r\nQ 18.3125 48.734375 21.84375 45.5625 \r\nQ 25.390625 42.390625 31.78125 42.390625 \r\nQ 38.140625 42.390625 41.71875 45.5625 \r\nQ 45.3125 48.734375 45.3125 54.390625 \r\nQ 45.3125 60.0625 41.71875 63.234375 \r\nQ 38.140625 66.40625 31.78125 66.40625 \r\nQ 25.390625 66.40625 21.84375 63.234375 \r\nQ 18.3125 60.0625 18.3125 54.390625 \r\nz\r\n\" id=\"DejaVuSans-56\"/>\r\n      </defs>\r\n      <g transform=\"translate(251.309478 239.238437)scale(0.1 -0.1)\">\r\n       <use xlink:href=\"#DejaVuSans-56\"/>\r\n       <use x=\"63.623047\" xlink:href=\"#DejaVuSans-48\"/>\r\n      </g>\r\n     </g>\r\n    </g>\r\n    <g id=\"xtick_6\">\r\n     <g id=\"line2d_6\">\r\n      <g>\r\n       <use style=\"stroke:#000000;stroke-width:0.8;\" x=\"312.177473\" xlink:href=\"#m6732011706\" y=\"224.64\"/>\r\n      </g>\r\n     </g>\r\n     <g id=\"text_6\">\r\n      <!-- 100 -->\r\n      <defs>\r\n       <path d=\"M 12.40625 8.296875 \r\nL 28.515625 8.296875 \r\nL 28.515625 63.921875 \r\nL 10.984375 60.40625 \r\nL 10.984375 69.390625 \r\nL 28.421875 72.90625 \r\nL 38.28125 72.90625 \r\nL 38.28125 8.296875 \r\nL 54.390625 8.296875 \r\nL 54.390625 0 \r\nL 12.40625 0 \r\nz\r\n\" id=\"DejaVuSans-49\"/>\r\n      </defs>\r\n      <g transform=\"translate(302.633723 239.238437)scale(0.1 -0.1)\">\r\n       <use xlink:href=\"#DejaVuSans-49\"/>\r\n       <use x=\"63.623047\" xlink:href=\"#DejaVuSans-48\"/>\r\n       <use x=\"127.246094\" xlink:href=\"#DejaVuSans-48\"/>\r\n      </g>\r\n     </g>\r\n    </g>\r\n    <g id=\"xtick_7\">\r\n     <g id=\"line2d_7\">\r\n      <g>\r\n       <use style=\"stroke:#000000;stroke-width:0.8;\" x=\"366.682967\" xlink:href=\"#m6732011706\" y=\"224.64\"/>\r\n      </g>\r\n     </g>\r\n     <g id=\"text_7\">\r\n      <!-- 120 -->\r\n      <g transform=\"translate(357.139217 239.238437)scale(0.1 -0.1)\">\r\n       <use xlink:href=\"#DejaVuSans-49\"/>\r\n       <use x=\"63.623047\" xlink:href=\"#DejaVuSans-50\"/>\r\n       <use x=\"127.246094\" xlink:href=\"#DejaVuSans-48\"/>\r\n      </g>\r\n     </g>\r\n    </g>\r\n   </g>\r\n   <g id=\"matplotlib.axis_2\">\r\n    <g id=\"ytick_1\">\r\n     <g id=\"line2d_8\">\r\n      <defs>\r\n       <path d=\"M 0 0 \r\nL -3.5 0 \r\n\" id=\"m1f27587a55\" style=\"stroke:#000000;stroke-width:0.8;\"/>\r\n      </defs>\r\n      <g>\r\n       <use style=\"stroke:#000000;stroke-width:0.8;\" x=\"39.65\" xlink:href=\"#m1f27587a55\" y=\"218.917895\"/>\r\n      </g>\r\n     </g>\r\n     <g id=\"text_8\">\r\n      <!-- 1003 -->\r\n      <defs>\r\n       <path d=\"M 40.578125 39.3125 \r\nQ 47.65625 37.796875 51.625 33 \r\nQ 55.609375 28.21875 55.609375 21.1875 \r\nQ 55.609375 10.40625 48.1875 4.484375 \r\nQ 40.765625 -1.421875 27.09375 -1.421875 \r\nQ 22.515625 -1.421875 17.65625 -0.515625 \r\nQ 12.796875 0.390625 7.625 2.203125 \r\nL 7.625 11.71875 \r\nQ 11.71875 9.328125 16.59375 8.109375 \r\nQ 21.484375 6.890625 26.8125 6.890625 \r\nQ 36.078125 6.890625 40.9375 10.546875 \r\nQ 45.796875 14.203125 45.796875 21.1875 \r\nQ 45.796875 27.640625 41.28125 31.265625 \r\nQ 36.765625 34.90625 28.71875 34.90625 \r\nL 20.21875 34.90625 \r\nL 20.21875 43.015625 \r\nL 29.109375 43.015625 \r\nQ 36.375 43.015625 40.234375 45.921875 \r\nQ 44.09375 48.828125 44.09375 54.296875 \r\nQ 44.09375 59.90625 40.109375 62.90625 \r\nQ 36.140625 65.921875 28.71875 65.921875 \r\nQ 24.65625 65.921875 20.015625 65.03125 \r\nQ 15.375 64.15625 9.8125 62.3125 \r\nL 9.8125 71.09375 \r\nQ 15.4375 72.65625 20.34375 73.4375 \r\nQ 25.25 74.21875 29.59375 74.21875 \r\nQ 40.828125 74.21875 47.359375 69.109375 \r\nQ 53.90625 64.015625 53.90625 55.328125 \r\nQ 53.90625 49.265625 50.4375 45.09375 \r\nQ 46.96875 40.921875 40.578125 39.3125 \r\nz\r\n\" id=\"DejaVuSans-51\"/>\r\n      </defs>\r\n      <g transform=\"translate(7.2 222.717113)scale(0.1 -0.1)\">\r\n       <use xlink:href=\"#DejaVuSans-49\"/>\r\n       <use x=\"63.623047\" xlink:href=\"#DejaVuSans-48\"/>\r\n       <use x=\"127.246094\" xlink:href=\"#DejaVuSans-48\"/>\r\n       <use x=\"190.869141\" xlink:href=\"#DejaVuSans-51\"/>\r\n      </g>\r\n     </g>\r\n    </g>\r\n    <g id=\"ytick_2\">\r\n     <g id=\"line2d_9\">\r\n      <g>\r\n       <use style=\"stroke:#000000;stroke-width:0.8;\" x=\"39.65\" xlink:href=\"#m1f27587a55\" y=\"207.473684\"/>\r\n      </g>\r\n     </g>\r\n     <g id=\"text_9\">\r\n      <!-- 1521 -->\r\n      <defs>\r\n       <path d=\"M 10.796875 72.90625 \r\nL 49.515625 72.90625 \r\nL 49.515625 64.59375 \r\nL 19.828125 64.59375 \r\nL 19.828125 46.734375 \r\nQ 21.96875 47.46875 24.109375 47.828125 \r\nQ 26.265625 48.1875 28.421875 48.1875 \r\nQ 40.625 48.1875 47.75 41.5 \r\nQ 54.890625 34.8125 54.890625 23.390625 \r\nQ 54.890625 11.625 47.5625 5.09375 \r\nQ 40.234375 -1.421875 26.90625 -1.421875 \r\nQ 22.3125 -1.421875 17.546875 -0.640625 \r\nQ 12.796875 0.140625 7.71875 1.703125 \r\nL 7.71875 11.625 \r\nQ 12.109375 9.234375 16.796875 8.0625 \r\nQ 21.484375 6.890625 26.703125 6.890625 \r\nQ 35.15625 6.890625 40.078125 11.328125 \r\nQ 45.015625 15.765625 45.015625 23.390625 \r\nQ 45.015625 31 40.078125 35.4375 \r\nQ 35.15625 39.890625 26.703125 39.890625 \r\nQ 22.75 39.890625 18.8125 39.015625 \r\nQ 14.890625 38.140625 10.796875 36.28125 \r\nz\r\n\" id=\"DejaVuSans-53\"/>\r\n      </defs>\r\n      <g transform=\"translate(7.2 211.272903)scale(0.1 -0.1)\">\r\n       <use xlink:href=\"#DejaVuSans-49\"/>\r\n       <use x=\"63.623047\" xlink:href=\"#DejaVuSans-53\"/>\r\n       <use x=\"127.246094\" xlink:href=\"#DejaVuSans-50\"/>\r\n       <use x=\"190.869141\" xlink:href=\"#DejaVuSans-49\"/>\r\n      </g>\r\n     </g>\r\n    </g>\r\n    <g id=\"ytick_3\">\r\n     <g id=\"line2d_10\">\r\n      <g>\r\n       <use style=\"stroke:#000000;stroke-width:0.8;\" x=\"39.65\" xlink:href=\"#m1f27587a55\" y=\"196.029474\"/>\r\n      </g>\r\n     </g>\r\n     <g id=\"text_10\">\r\n      <!-- 853 -->\r\n      <g transform=\"translate(13.5625 199.828692)scale(0.1 -0.1)\">\r\n       <use xlink:href=\"#DejaVuSans-56\"/>\r\n       <use x=\"63.623047\" xlink:href=\"#DejaVuSans-53\"/>\r\n       <use x=\"127.246094\" xlink:href=\"#DejaVuSans-51\"/>\r\n      </g>\r\n     </g>\r\n    </g>\r\n    <g id=\"ytick_4\">\r\n     <g id=\"line2d_11\">\r\n      <g>\r\n       <use style=\"stroke:#000000;stroke-width:0.8;\" x=\"39.65\" xlink:href=\"#m1f27587a55\" y=\"184.585263\"/>\r\n      </g>\r\n     </g>\r\n     <g id=\"text_11\">\r\n      <!-- 854 -->\r\n      <g transform=\"translate(13.5625 188.384482)scale(0.1 -0.1)\">\r\n       <use xlink:href=\"#DejaVuSans-56\"/>\r\n       <use x=\"63.623047\" xlink:href=\"#DejaVuSans-53\"/>\r\n       <use x=\"127.246094\" xlink:href=\"#DejaVuSans-52\"/>\r\n      </g>\r\n     </g>\r\n    </g>\r\n    <g id=\"ytick_5\">\r\n     <g id=\"line2d_12\">\r\n      <g>\r\n       <use style=\"stroke:#000000;stroke-width:0.8;\" x=\"39.65\" xlink:href=\"#m1f27587a55\" y=\"173.141053\"/>\r\n      </g>\r\n     </g>\r\n     <g id=\"text_12\">\r\n      <!-- 1004 -->\r\n      <g transform=\"translate(7.2 176.940271)scale(0.1 -0.1)\">\r\n       <use xlink:href=\"#DejaVuSans-49\"/>\r\n       <use x=\"63.623047\" xlink:href=\"#DejaVuSans-48\"/>\r\n       <use x=\"127.246094\" xlink:href=\"#DejaVuSans-48\"/>\r\n       <use x=\"190.869141\" xlink:href=\"#DejaVuSans-52\"/>\r\n      </g>\r\n     </g>\r\n    </g>\r\n    <g id=\"ytick_6\">\r\n     <g id=\"line2d_13\">\r\n      <g>\r\n       <use style=\"stroke:#000000;stroke-width:0.8;\" x=\"39.65\" xlink:href=\"#m1f27587a55\" y=\"161.696842\"/>\r\n      </g>\r\n     </g>\r\n     <g id=\"text_13\">\r\n      <!-- 1523 -->\r\n      <g transform=\"translate(7.2 165.496061)scale(0.1 -0.1)\">\r\n       <use xlink:href=\"#DejaVuSans-49\"/>\r\n       <use x=\"63.623047\" xlink:href=\"#DejaVuSans-53\"/>\r\n       <use x=\"127.246094\" xlink:href=\"#DejaVuSans-50\"/>\r\n       <use x=\"190.869141\" xlink:href=\"#DejaVuSans-51\"/>\r\n      </g>\r\n     </g>\r\n    </g>\r\n    <g id=\"ytick_7\">\r\n     <g id=\"line2d_14\">\r\n      <g>\r\n       <use style=\"stroke:#000000;stroke-width:0.8;\" x=\"39.65\" xlink:href=\"#m1f27587a55\" y=\"150.252632\"/>\r\n      </g>\r\n     </g>\r\n     <g id=\"text_14\">\r\n      <!-- 852 -->\r\n      <g transform=\"translate(13.5625 154.05185)scale(0.1 -0.1)\">\r\n       <use xlink:href=\"#DejaVuSans-56\"/>\r\n       <use x=\"63.623047\" xlink:href=\"#DejaVuSans-53\"/>\r\n       <use x=\"127.246094\" xlink:href=\"#DejaVuSans-50\"/>\r\n      </g>\r\n     </g>\r\n    </g>\r\n    <g id=\"ytick_8\">\r\n     <g id=\"line2d_15\">\r\n      <g>\r\n       <use style=\"stroke:#000000;stroke-width:0.8;\" x=\"39.65\" xlink:href=\"#m1f27587a55\" y=\"138.808421\"/>\r\n      </g>\r\n     </g>\r\n     <g id=\"text_15\">\r\n      <!-- 1005 -->\r\n      <g transform=\"translate(7.2 142.60764)scale(0.1 -0.1)\">\r\n       <use xlink:href=\"#DejaVuSans-49\"/>\r\n       <use x=\"63.623047\" xlink:href=\"#DejaVuSans-48\"/>\r\n       <use x=\"127.246094\" xlink:href=\"#DejaVuSans-48\"/>\r\n       <use x=\"190.869141\" xlink:href=\"#DejaVuSans-53\"/>\r\n      </g>\r\n     </g>\r\n    </g>\r\n    <g id=\"ytick_9\">\r\n     <g id=\"line2d_16\">\r\n      <g>\r\n       <use style=\"stroke:#000000;stroke-width:0.8;\" x=\"39.65\" xlink:href=\"#m1f27587a55\" y=\"127.364211\"/>\r\n      </g>\r\n     </g>\r\n     <g id=\"text_16\">\r\n      <!-- 1002 -->\r\n      <g transform=\"translate(7.2 131.163429)scale(0.1 -0.1)\">\r\n       <use xlink:href=\"#DejaVuSans-49\"/>\r\n       <use x=\"63.623047\" xlink:href=\"#DejaVuSans-48\"/>\r\n       <use x=\"127.246094\" xlink:href=\"#DejaVuSans-48\"/>\r\n       <use x=\"190.869141\" xlink:href=\"#DejaVuSans-50\"/>\r\n      </g>\r\n     </g>\r\n    </g>\r\n    <g id=\"ytick_10\">\r\n     <g id=\"line2d_17\">\r\n      <g>\r\n       <use style=\"stroke:#000000;stroke-width:0.8;\" x=\"39.65\" xlink:href=\"#m1f27587a55\" y=\"115.92\"/>\r\n      </g>\r\n     </g>\r\n     <g id=\"text_17\">\r\n      <!-- 981 -->\r\n      <defs>\r\n       <path d=\"M 10.984375 1.515625 \r\nL 10.984375 10.5 \r\nQ 14.703125 8.734375 18.5 7.8125 \r\nQ 22.3125 6.890625 25.984375 6.890625 \r\nQ 35.75 6.890625 40.890625 13.453125 \r\nQ 46.046875 20.015625 46.78125 33.40625 \r\nQ 43.953125 29.203125 39.59375 26.953125 \r\nQ 35.25 24.703125 29.984375 24.703125 \r\nQ 19.046875 24.703125 12.671875 31.3125 \r\nQ 6.296875 37.9375 6.296875 49.421875 \r\nQ 6.296875 60.640625 12.9375 67.421875 \r\nQ 19.578125 74.21875 30.609375 74.21875 \r\nQ 43.265625 74.21875 49.921875 64.515625 \r\nQ 56.59375 54.828125 56.59375 36.375 \r\nQ 56.59375 19.140625 48.40625 8.859375 \r\nQ 40.234375 -1.421875 26.421875 -1.421875 \r\nQ 22.703125 -1.421875 18.890625 -0.6875 \r\nQ 15.09375 0.046875 10.984375 1.515625 \r\nz\r\nM 30.609375 32.421875 \r\nQ 37.25 32.421875 41.125 36.953125 \r\nQ 45.015625 41.5 45.015625 49.421875 \r\nQ 45.015625 57.28125 41.125 61.84375 \r\nQ 37.25 66.40625 30.609375 66.40625 \r\nQ 23.96875 66.40625 20.09375 61.84375 \r\nQ 16.21875 57.28125 16.21875 49.421875 \r\nQ 16.21875 41.5 20.09375 36.953125 \r\nQ 23.96875 32.421875 30.609375 32.421875 \r\nz\r\n\" id=\"DejaVuSans-57\"/>\r\n      </defs>\r\n      <g transform=\"translate(13.5625 119.719219)scale(0.1 -0.1)\">\r\n       <use xlink:href=\"#DejaVuSans-57\"/>\r\n       <use x=\"63.623047\" xlink:href=\"#DejaVuSans-56\"/>\r\n       <use x=\"127.246094\" xlink:href=\"#DejaVuSans-49\"/>\r\n      </g>\r\n     </g>\r\n    </g>\r\n    <g id=\"ytick_11\">\r\n     <g id=\"line2d_18\">\r\n      <g>\r\n       <use style=\"stroke:#000000;stroke-width:0.8;\" x=\"39.65\" xlink:href=\"#m1f27587a55\" y=\"104.475789\"/>\r\n      </g>\r\n     </g>\r\n     <g id=\"text_18\">\r\n      <!-- 980 -->\r\n      <g transform=\"translate(13.5625 108.275008)scale(0.1 -0.1)\">\r\n       <use xlink:href=\"#DejaVuSans-57\"/>\r\n       <use x=\"63.623047\" xlink:href=\"#DejaVuSans-56\"/>\r\n       <use x=\"127.246094\" xlink:href=\"#DejaVuSans-48\"/>\r\n      </g>\r\n     </g>\r\n    </g>\r\n    <g id=\"ytick_12\">\r\n     <g id=\"line2d_19\">\r\n      <g>\r\n       <use style=\"stroke:#000000;stroke-width:0.8;\" x=\"39.65\" xlink:href=\"#m1f27587a55\" y=\"93.031579\"/>\r\n      </g>\r\n     </g>\r\n     <g id=\"text_19\">\r\n      <!-- 1520 -->\r\n      <g transform=\"translate(7.2 96.830798)scale(0.1 -0.1)\">\r\n       <use xlink:href=\"#DejaVuSans-49\"/>\r\n       <use x=\"63.623047\" xlink:href=\"#DejaVuSans-53\"/>\r\n       <use x=\"127.246094\" xlink:href=\"#DejaVuSans-50\"/>\r\n       <use x=\"190.869141\" xlink:href=\"#DejaVuSans-48\"/>\r\n      </g>\r\n     </g>\r\n    </g>\r\n    <g id=\"ytick_13\">\r\n     <g id=\"line2d_20\">\r\n      <g>\r\n       <use style=\"stroke:#000000;stroke-width:0.8;\" x=\"39.65\" xlink:href=\"#m1f27587a55\" y=\"81.587368\"/>\r\n      </g>\r\n     </g>\r\n     <g id=\"text_20\">\r\n      <!-- 1522 -->\r\n      <g transform=\"translate(7.2 85.386587)scale(0.1 -0.1)\">\r\n       <use xlink:href=\"#DejaVuSans-49\"/>\r\n       <use x=\"63.623047\" xlink:href=\"#DejaVuSans-53\"/>\r\n       <use x=\"127.246094\" xlink:href=\"#DejaVuSans-50\"/>\r\n       <use x=\"190.869141\" xlink:href=\"#DejaVuSans-50\"/>\r\n      </g>\r\n     </g>\r\n    </g>\r\n    <g id=\"ytick_14\">\r\n     <g id=\"line2d_21\">\r\n      <g>\r\n       <use style=\"stroke:#000000;stroke-width:0.8;\" x=\"39.65\" xlink:href=\"#m1f27587a55\" y=\"70.143158\"/>\r\n      </g>\r\n     </g>\r\n     <g id=\"text_21\">\r\n      <!-- 982 -->\r\n      <g transform=\"translate(13.5625 73.942377)scale(0.1 -0.1)\">\r\n       <use xlink:href=\"#DejaVuSans-57\"/>\r\n       <use x=\"63.623047\" xlink:href=\"#DejaVuSans-56\"/>\r\n       <use x=\"127.246094\" xlink:href=\"#DejaVuSans-50\"/>\r\n      </g>\r\n     </g>\r\n    </g>\r\n    <g id=\"ytick_15\">\r\n     <g id=\"line2d_22\">\r\n      <g>\r\n       <use style=\"stroke:#000000;stroke-width:0.8;\" x=\"39.65\" xlink:href=\"#m1f27587a55\" y=\"58.698947\"/>\r\n      </g>\r\n     </g>\r\n     <g id=\"text_22\">\r\n      <!-- 983 -->\r\n      <g transform=\"translate(13.5625 62.498166)scale(0.1 -0.1)\">\r\n       <use xlink:href=\"#DejaVuSans-57\"/>\r\n       <use x=\"63.623047\" xlink:href=\"#DejaVuSans-56\"/>\r\n       <use x=\"127.246094\" xlink:href=\"#DejaVuSans-51\"/>\r\n      </g>\r\n     </g>\r\n    </g>\r\n    <g id=\"ytick_16\">\r\n     <g id=\"line2d_23\">\r\n      <g>\r\n       <use style=\"stroke:#000000;stroke-width:0.8;\" x=\"39.65\" xlink:href=\"#m1f27587a55\" y=\"47.254737\"/>\r\n      </g>\r\n     </g>\r\n     <g id=\"text_23\">\r\n      <!-- 1034 -->\r\n      <g transform=\"translate(7.2 51.053956)scale(0.1 -0.1)\">\r\n       <use xlink:href=\"#DejaVuSans-49\"/>\r\n       <use x=\"63.623047\" xlink:href=\"#DejaVuSans-48\"/>\r\n       <use x=\"127.246094\" xlink:href=\"#DejaVuSans-51\"/>\r\n       <use x=\"190.869141\" xlink:href=\"#DejaVuSans-52\"/>\r\n      </g>\r\n     </g>\r\n    </g>\r\n    <g id=\"ytick_17\">\r\n     <g id=\"line2d_24\">\r\n      <g>\r\n       <use style=\"stroke:#000000;stroke-width:0.8;\" x=\"39.65\" xlink:href=\"#m1f27587a55\" y=\"35.810526\"/>\r\n      </g>\r\n     </g>\r\n     <g id=\"text_24\">\r\n      <!-- 1037 -->\r\n      <defs>\r\n       <path d=\"M 8.203125 72.90625 \r\nL 55.078125 72.90625 \r\nL 55.078125 68.703125 \r\nL 28.609375 0 \r\nL 18.3125 0 \r\nL 43.21875 64.59375 \r\nL 8.203125 64.59375 \r\nz\r\n\" id=\"DejaVuSans-55\"/>\r\n      </defs>\r\n      <g transform=\"translate(7.2 39.609745)scale(0.1 -0.1)\">\r\n       <use xlink:href=\"#DejaVuSans-49\"/>\r\n       <use x=\"63.623047\" xlink:href=\"#DejaVuSans-48\"/>\r\n       <use x=\"127.246094\" xlink:href=\"#DejaVuSans-51\"/>\r\n       <use x=\"190.869141\" xlink:href=\"#DejaVuSans-55\"/>\r\n      </g>\r\n     </g>\r\n    </g>\r\n    <g id=\"ytick_18\">\r\n     <g id=\"line2d_25\">\r\n      <g>\r\n       <use style=\"stroke:#000000;stroke-width:0.8;\" x=\"39.65\" xlink:href=\"#m1f27587a55\" y=\"24.366316\"/>\r\n      </g>\r\n     </g>\r\n     <g id=\"text_25\">\r\n      <!-- 1035 -->\r\n      <g transform=\"translate(7.2 28.165535)scale(0.1 -0.1)\">\r\n       <use xlink:href=\"#DejaVuSans-49\"/>\r\n       <use x=\"63.623047\" xlink:href=\"#DejaVuSans-48\"/>\r\n       <use x=\"127.246094\" xlink:href=\"#DejaVuSans-51\"/>\r\n       <use x=\"190.869141\" xlink:href=\"#DejaVuSans-53\"/>\r\n      </g>\r\n     </g>\r\n    </g>\r\n    <g id=\"ytick_19\">\r\n     <g id=\"line2d_26\">\r\n      <g>\r\n       <use style=\"stroke:#000000;stroke-width:0.8;\" x=\"39.65\" xlink:href=\"#m1f27587a55\" y=\"12.922105\"/>\r\n      </g>\r\n     </g>\r\n     <g id=\"text_26\">\r\n      <!-- 1036 -->\r\n      <g transform=\"translate(7.2 16.721324)scale(0.1 -0.1)\">\r\n       <use xlink:href=\"#DejaVuSans-49\"/>\r\n       <use x=\"63.623047\" xlink:href=\"#DejaVuSans-48\"/>\r\n       <use x=\"127.246094\" xlink:href=\"#DejaVuSans-51\"/>\r\n       <use x=\"190.869141\" xlink:href=\"#DejaVuSans-54\"/>\r\n      </g>\r\n     </g>\r\n    </g>\r\n   </g>\r\n   <g id=\"patch_22\">\r\n    <path d=\"M 39.65 224.64 \r\nL 39.65 7.2 \r\n\" style=\"fill:none;stroke:#000000;stroke-linecap:square;stroke-linejoin:miter;stroke-width:0.8;\"/>\r\n   </g>\r\n   <g id=\"patch_23\">\r\n    <path d=\"M 374.45 224.64 \r\nL 374.45 7.2 \r\n\" style=\"fill:none;stroke:#000000;stroke-linecap:square;stroke-linejoin:miter;stroke-width:0.8;\"/>\r\n   </g>\r\n   <g id=\"patch_24\">\r\n    <path d=\"M 39.65 224.64 \r\nL 374.45 224.64 \r\n\" style=\"fill:none;stroke:#000000;stroke-linecap:square;stroke-linejoin:miter;stroke-width:0.8;\"/>\r\n   </g>\r\n   <g id=\"patch_25\">\r\n    <path d=\"M 39.65 7.2 \r\nL 374.45 7.2 \r\n\" style=\"fill:none;stroke:#000000;stroke-linecap:square;stroke-linejoin:miter;stroke-width:0.8;\"/>\r\n   </g>\r\n  </g>\r\n </g>\r\n <defs>\r\n  <clipPath id=\"pd5422f7caa\">\r\n   <rect height=\"217.44\" width=\"334.8\" x=\"39.65\" y=\"7.2\"/>\r\n  </clipPath>\r\n </defs>\r\n</svg>\r\n",
            "image/png": "[encoded data removed]"
          },
          "metadata": {
            "needs_background": "light"
          }
        }
      ],
      "metadata": {
        "id": "rg7ehfpzSE2W",
        "colab_type": "code",
        "colab": {
          "base_uri": "https://localhost:8080/",
          "height": 430
        },
        "outputId": "8f9170af-f986-4188-da92-5d4cef66e860"
      }
    },
    {
      "cell_type": "code",
      "execution_count": 51,
      "source": [
        "#Gráfico de Pizza\r\n",
        "df.groupby(df[\"Data\"].dt.year)[\"Receita\"].sum().plot.pie()"
      ],
      "outputs": [
        {
          "output_type": "execute_result",
          "data": {
            "text/plain": [
              "<matplotlib.axes._subplots.AxesSubplot at 0x1d2bba9e520>"
            ]
          },
          "metadata": {},
          "execution_count": 51
        },
        {
          "output_type": "display_data",
          "data": {
            "text/plain": [
              "<Figure size 432x288 with 1 Axes>"
            ],
            "image/svg+xml": "<?xml version=\"1.0\" encoding=\"utf-8\" standalone=\"no\"?>\r\n<!DOCTYPE svg PUBLIC \"-//W3C//DTD SVG 1.1//EN\"\r\n  \"http://www.w3.org/Graphics/SVG/1.1/DTD/svg11.dtd\">\r\n<!-- Created with matplotlib (https://matplotlib.org/) -->\r\n<svg height=\"231.84pt\" version=\"1.1\" viewBox=\"0 0 245.518125 231.84\" width=\"245.518125pt\" xmlns=\"http://www.w3.org/2000/svg\" xmlns:xlink=\"http://www.w3.org/1999/xlink\">\r\n <defs>\r\n  <style type=\"text/css\">\r\n*{stroke-linecap:butt;stroke-linejoin:round;}\r\n  </style>\r\n </defs>\r\n <g id=\"figure_1\">\r\n  <g id=\"patch_1\">\r\n   <path d=\"M 0 231.84 \r\nL 245.518125 231.84 \r\nL 245.518125 0 \r\nL 0 0 \r\nz\r\n\" style=\"fill:none;\"/>\r\n  </g>\r\n  <g id=\"axes_1\">\r\n   <g id=\"patch_2\">\r\n    <path d=\"M 216.574125 115.92 \r\nC 216.574125 100.292267 212.362169 84.949634 204.383066 71.512374 \r\nC 196.403962 58.075115 184.948839 47.033506 171.227427 39.553608 \r\nC 157.506014 32.07371 142.018957 28.428437 126.401781 29.002752 \r\nC 110.784604 29.577067 95.607123 34.350015 82.472171 42.817545 \r\nL 129.598125 115.92 \r\nL 216.574125 115.92 \r\nz\r\n\" style=\"fill:#1f77b4;\"/>\r\n   </g>\r\n   <g id=\"patch_3\">\r\n    <path d=\"M 82.472171 42.817545 \r\nC 69.792751 50.991412 59.455412 62.325185 52.47957 75.701186 \r\nC 45.503727 89.077188 42.126481 104.040783 42.680877 119.11634 \r\nC 43.235274 134.191898 47.702469 148.867017 55.641933 161.694516 \r\nC 63.581397 174.522014 74.723276 185.065899 87.968816 192.286388 \r\nC 101.214356 199.506877 116.113357 203.158555 131.196557 202.881311 \r\nC 146.279757 202.604067 161.034497 198.407326 174.00574 190.704947 \r\nC 186.976983 183.002568 197.723854 172.056347 205.18655 158.945743 \r\nC 212.649247 145.835138 216.574122 131.005764 216.574125 115.920016 \r\nL 129.598125 115.92 \r\nL 82.472171 42.817545 \r\nz\r\n\" style=\"fill:#ff7f0e;\"/>\r\n   </g>\r\n   <g id=\"matplotlib.axis_1\"/>\r\n   <g id=\"matplotlib.axis_2\">\r\n    <g id=\"text_1\">\r\n     <!-- Receita -->\r\n     <defs>\r\n      <path d=\"M 44.390625 34.1875 \r\nQ 47.5625 33.109375 50.5625 29.59375 \r\nQ 53.5625 26.078125 56.59375 19.921875 \r\nL 66.609375 0 \r\nL 56 0 \r\nL 46.6875 18.703125 \r\nQ 43.0625 26.03125 39.671875 28.421875 \r\nQ 36.28125 30.8125 30.421875 30.8125 \r\nL 19.671875 30.8125 \r\nL 19.671875 0 \r\nL 9.8125 0 \r\nL 9.8125 72.90625 \r\nL 32.078125 72.90625 \r\nQ 44.578125 72.90625 50.734375 67.671875 \r\nQ 56.890625 62.453125 56.890625 51.90625 \r\nQ 56.890625 45.015625 53.6875 40.46875 \r\nQ 50.484375 35.9375 44.390625 34.1875 \r\nz\r\nM 19.671875 64.796875 \r\nL 19.671875 38.921875 \r\nL 32.078125 38.921875 \r\nQ 39.203125 38.921875 42.84375 42.21875 \r\nQ 46.484375 45.515625 46.484375 51.90625 \r\nQ 46.484375 58.296875 42.84375 61.546875 \r\nQ 39.203125 64.796875 32.078125 64.796875 \r\nz\r\n\" id=\"DejaVuSans-82\"/>\r\n      <path d=\"M 56.203125 29.59375 \r\nL 56.203125 25.203125 \r\nL 14.890625 25.203125 \r\nQ 15.484375 15.921875 20.484375 11.0625 \r\nQ 25.484375 6.203125 34.421875 6.203125 \r\nQ 39.59375 6.203125 44.453125 7.46875 \r\nQ 49.3125 8.734375 54.109375 11.28125 \r\nL 54.109375 2.78125 \r\nQ 49.265625 0.734375 44.1875 -0.34375 \r\nQ 39.109375 -1.421875 33.890625 -1.421875 \r\nQ 20.796875 -1.421875 13.15625 6.1875 \r\nQ 5.515625 13.8125 5.515625 26.8125 \r\nQ 5.515625 40.234375 12.765625 48.109375 \r\nQ 20.015625 56 32.328125 56 \r\nQ 43.359375 56 49.78125 48.890625 \r\nQ 56.203125 41.796875 56.203125 29.59375 \r\nz\r\nM 47.21875 32.234375 \r\nQ 47.125 39.59375 43.09375 43.984375 \r\nQ 39.0625 48.390625 32.421875 48.390625 \r\nQ 24.90625 48.390625 20.390625 44.140625 \r\nQ 15.875 39.890625 15.1875 32.171875 \r\nz\r\n\" id=\"DejaVuSans-101\"/>\r\n      <path d=\"M 48.78125 52.59375 \r\nL 48.78125 44.1875 \r\nQ 44.96875 46.296875 41.140625 47.34375 \r\nQ 37.3125 48.390625 33.40625 48.390625 \r\nQ 24.65625 48.390625 19.8125 42.84375 \r\nQ 14.984375 37.3125 14.984375 27.296875 \r\nQ 14.984375 17.28125 19.8125 11.734375 \r\nQ 24.65625 6.203125 33.40625 6.203125 \r\nQ 37.3125 6.203125 41.140625 7.25 \r\nQ 44.96875 8.296875 48.78125 10.40625 \r\nL 48.78125 2.09375 \r\nQ 45.015625 0.34375 40.984375 -0.53125 \r\nQ 36.96875 -1.421875 32.421875 -1.421875 \r\nQ 20.0625 -1.421875 12.78125 6.34375 \r\nQ 5.515625 14.109375 5.515625 27.296875 \r\nQ 5.515625 40.671875 12.859375 48.328125 \r\nQ 20.21875 56 33.015625 56 \r\nQ 37.15625 56 41.109375 55.140625 \r\nQ 45.0625 54.296875 48.78125 52.59375 \r\nz\r\n\" id=\"DejaVuSans-99\"/>\r\n      <path d=\"M 9.421875 54.6875 \r\nL 18.40625 54.6875 \r\nL 18.40625 0 \r\nL 9.421875 0 \r\nz\r\nM 9.421875 75.984375 \r\nL 18.40625 75.984375 \r\nL 18.40625 64.59375 \r\nL 9.421875 64.59375 \r\nz\r\n\" id=\"DejaVuSans-105\"/>\r\n      <path d=\"M 18.3125 70.21875 \r\nL 18.3125 54.6875 \r\nL 36.8125 54.6875 \r\nL 36.8125 47.703125 \r\nL 18.3125 47.703125 \r\nL 18.3125 18.015625 \r\nQ 18.3125 11.328125 20.140625 9.421875 \r\nQ 21.96875 7.515625 27.59375 7.515625 \r\nL 36.8125 7.515625 \r\nL 36.8125 0 \r\nL 27.59375 0 \r\nQ 17.1875 0 13.234375 3.875 \r\nQ 9.28125 7.765625 9.28125 18.015625 \r\nL 9.28125 47.703125 \r\nL 2.6875 47.703125 \r\nL 2.6875 54.6875 \r\nL 9.28125 54.6875 \r\nL 9.28125 70.21875 \r\nz\r\n\" id=\"DejaVuSans-116\"/>\r\n      <path d=\"M 34.28125 27.484375 \r\nQ 23.390625 27.484375 19.1875 25 \r\nQ 14.984375 22.515625 14.984375 16.5 \r\nQ 14.984375 11.71875 18.140625 8.90625 \r\nQ 21.296875 6.109375 26.703125 6.109375 \r\nQ 34.1875 6.109375 38.703125 11.40625 \r\nQ 43.21875 16.703125 43.21875 25.484375 \r\nL 43.21875 27.484375 \r\nz\r\nM 52.203125 31.203125 \r\nL 52.203125 0 \r\nL 43.21875 0 \r\nL 43.21875 8.296875 \r\nQ 40.140625 3.328125 35.546875 0.953125 \r\nQ 30.953125 -1.421875 24.3125 -1.421875 \r\nQ 15.921875 -1.421875 10.953125 3.296875 \r\nQ 6 8.015625 6 15.921875 \r\nQ 6 25.140625 12.171875 29.828125 \r\nQ 18.359375 34.515625 30.609375 34.515625 \r\nL 43.21875 34.515625 \r\nL 43.21875 35.40625 \r\nQ 43.21875 41.609375 39.140625 45 \r\nQ 35.0625 48.390625 27.6875 48.390625 \r\nQ 23 48.390625 18.546875 47.265625 \r\nQ 14.109375 46.140625 10.015625 43.890625 \r\nL 10.015625 52.203125 \r\nQ 14.9375 54.109375 19.578125 55.046875 \r\nQ 24.21875 56 28.609375 56 \r\nQ 40.484375 56 46.34375 49.84375 \r\nQ 52.203125 43.703125 52.203125 31.203125 \r\nz\r\n\" id=\"DejaVuSans-97\"/>\r\n     </defs>\r\n     <g transform=\"translate(14.798438 134.484844)rotate(-90)scale(0.1 -0.1)\">\r\n      <use xlink:href=\"#DejaVuSans-82\"/>\r\n      <use x=\"64.982422\" xlink:href=\"#DejaVuSans-101\"/>\r\n      <use x=\"126.505859\" xlink:href=\"#DejaVuSans-99\"/>\r\n      <use x=\"181.486328\" xlink:href=\"#DejaVuSans-101\"/>\r\n      <use x=\"243.009766\" xlink:href=\"#DejaVuSans-105\"/>\r\n      <use x=\"270.792969\" xlink:href=\"#DejaVuSans-116\"/>\r\n      <use x=\"310.001953\" xlink:href=\"#DejaVuSans-97\"/>\r\n     </g>\r\n    </g>\r\n   </g>\r\n   <g id=\"text_2\">\r\n    <!-- 2018 -->\r\n    <defs>\r\n     <path d=\"M 19.1875 8.296875 \r\nL 53.609375 8.296875 \r\nL 53.609375 0 \r\nL 7.328125 0 \r\nL 7.328125 8.296875 \r\nQ 12.9375 14.109375 22.625 23.890625 \r\nQ 32.328125 33.6875 34.8125 36.53125 \r\nQ 39.546875 41.84375 41.421875 45.53125 \r\nQ 43.3125 49.21875 43.3125 52.78125 \r\nQ 43.3125 58.59375 39.234375 62.25 \r\nQ 35.15625 65.921875 28.609375 65.921875 \r\nQ 23.96875 65.921875 18.8125 64.3125 \r\nQ 13.671875 62.703125 7.8125 59.421875 \r\nL 7.8125 69.390625 \r\nQ 13.765625 71.78125 18.9375 73 \r\nQ 24.125 74.21875 28.421875 74.21875 \r\nQ 39.75 74.21875 46.484375 68.546875 \r\nQ 53.21875 62.890625 53.21875 53.421875 \r\nQ 53.21875 48.921875 51.53125 44.890625 \r\nQ 49.859375 40.875 45.40625 35.40625 \r\nQ 44.1875 33.984375 37.640625 27.21875 \r\nQ 31.109375 20.453125 19.1875 8.296875 \r\nz\r\n\" id=\"DejaVuSans-50\"/>\r\n     <path d=\"M 31.78125 66.40625 \r\nQ 24.171875 66.40625 20.328125 58.90625 \r\nQ 16.5 51.421875 16.5 36.375 \r\nQ 16.5 21.390625 20.328125 13.890625 \r\nQ 24.171875 6.390625 31.78125 6.390625 \r\nQ 39.453125 6.390625 43.28125 13.890625 \r\nQ 47.125 21.390625 47.125 36.375 \r\nQ 47.125 51.421875 43.28125 58.90625 \r\nQ 39.453125 66.40625 31.78125 66.40625 \r\nz\r\nM 31.78125 74.21875 \r\nQ 44.046875 74.21875 50.515625 64.515625 \r\nQ 56.984375 54.828125 56.984375 36.375 \r\nQ 56.984375 17.96875 50.515625 8.265625 \r\nQ 44.046875 -1.421875 31.78125 -1.421875 \r\nQ 19.53125 -1.421875 13.0625 8.265625 \r\nQ 6.59375 17.96875 6.59375 36.375 \r\nQ 6.59375 54.828125 13.0625 64.515625 \r\nQ 19.53125 74.21875 31.78125 74.21875 \r\nz\r\n\" id=\"DejaVuSans-48\"/>\r\n     <path d=\"M 12.40625 8.296875 \r\nL 28.515625 8.296875 \r\nL 28.515625 63.921875 \r\nL 10.984375 60.40625 \r\nL 10.984375 69.390625 \r\nL 28.421875 72.90625 \r\nL 38.28125 72.90625 \r\nL 38.28125 8.296875 \r\nL 54.390625 8.296875 \r\nL 54.390625 0 \r\nL 12.40625 0 \r\nz\r\n\" id=\"DejaVuSans-49\"/>\r\n     <path d=\"M 31.78125 34.625 \r\nQ 24.75 34.625 20.71875 30.859375 \r\nQ 16.703125 27.09375 16.703125 20.515625 \r\nQ 16.703125 13.921875 20.71875 10.15625 \r\nQ 24.75 6.390625 31.78125 6.390625 \r\nQ 38.8125 6.390625 42.859375 10.171875 \r\nQ 46.921875 13.96875 46.921875 20.515625 \r\nQ 46.921875 27.09375 42.890625 30.859375 \r\nQ 38.875 34.625 31.78125 34.625 \r\nz\r\nM 21.921875 38.8125 \r\nQ 15.578125 40.375 12.03125 44.71875 \r\nQ 8.5 49.078125 8.5 55.328125 \r\nQ 8.5 64.0625 14.71875 69.140625 \r\nQ 20.953125 74.21875 31.78125 74.21875 \r\nQ 42.671875 74.21875 48.875 69.140625 \r\nQ 55.078125 64.0625 55.078125 55.328125 \r\nQ 55.078125 49.078125 51.53125 44.71875 \r\nQ 48 40.375 41.703125 38.8125 \r\nQ 48.828125 37.15625 52.796875 32.3125 \r\nQ 56.78125 27.484375 56.78125 20.515625 \r\nQ 56.78125 9.90625 50.3125 4.234375 \r\nQ 43.84375 -1.421875 31.78125 -1.421875 \r\nQ 19.734375 -1.421875 13.25 4.234375 \r\nQ 6.78125 9.90625 6.78125 20.515625 \r\nQ 6.78125 27.484375 10.78125 32.3125 \r\nQ 14.796875 37.15625 21.921875 38.8125 \r\nz\r\nM 18.3125 54.390625 \r\nQ 18.3125 48.734375 21.84375 45.5625 \r\nQ 25.390625 42.390625 31.78125 42.390625 \r\nQ 38.140625 42.390625 41.71875 45.5625 \r\nQ 45.3125 48.734375 45.3125 54.390625 \r\nQ 45.3125 60.0625 41.71875 63.234375 \r\nQ 38.140625 66.40625 31.78125 66.40625 \r\nQ 25.390625 66.40625 21.84375 63.234375 \r\nQ 18.3125 60.0625 18.3125 54.390625 \r\nz\r\n\" id=\"DejaVuSans-56\"/>\r\n    </defs>\r\n    <g transform=\"translate(175.390357 34.676344)scale(0.1 -0.1)\">\r\n     <use xlink:href=\"#DejaVuSans-50\"/>\r\n     <use x=\"63.623047\" xlink:href=\"#DejaVuSans-48\"/>\r\n     <use x=\"127.246094\" xlink:href=\"#DejaVuSans-49\"/>\r\n     <use x=\"190.869141\" xlink:href=\"#DejaVuSans-56\"/>\r\n    </g>\r\n   </g>\r\n   <g id=\"text_3\">\r\n    <!-- 2019 -->\r\n    <defs>\r\n     <path d=\"M 10.984375 1.515625 \r\nL 10.984375 10.5 \r\nQ 14.703125 8.734375 18.5 7.8125 \r\nQ 22.3125 6.890625 25.984375 6.890625 \r\nQ 35.75 6.890625 40.890625 13.453125 \r\nQ 46.046875 20.015625 46.78125 33.40625 \r\nQ 43.953125 29.203125 39.59375 26.953125 \r\nQ 35.25 24.703125 29.984375 24.703125 \r\nQ 19.046875 24.703125 12.671875 31.3125 \r\nQ 6.296875 37.9375 6.296875 49.421875 \r\nQ 6.296875 60.640625 12.9375 67.421875 \r\nQ 19.578125 74.21875 30.609375 74.21875 \r\nQ 43.265625 74.21875 49.921875 64.515625 \r\nQ 56.59375 54.828125 56.59375 36.375 \r\nQ 56.59375 19.140625 48.40625 8.859375 \r\nQ 40.234375 -1.421875 26.421875 -1.421875 \r\nQ 22.703125 -1.421875 18.890625 -0.6875 \r\nQ 15.09375 0.046875 10.984375 1.515625 \r\nz\r\nM 30.609375 32.421875 \r\nQ 37.25 32.421875 41.125 36.953125 \r\nQ 45.015625 41.5 45.015625 49.421875 \r\nQ 45.015625 57.28125 41.125 61.84375 \r\nQ 37.25 66.40625 30.609375 66.40625 \r\nQ 23.96875 66.40625 20.09375 61.84375 \r\nQ 16.21875 57.28125 16.21875 49.421875 \r\nQ 16.21875 41.5 20.09375 36.953125 \r\nQ 23.96875 32.421875 30.609375 32.421875 \r\nz\r\n\" id=\"DejaVuSans-57\"/>\r\n    </defs>\r\n    <g transform=\"translate(58.355885 202.682402)scale(0.1 -0.1)\">\r\n     <use xlink:href=\"#DejaVuSans-50\"/>\r\n     <use x=\"63.623047\" xlink:href=\"#DejaVuSans-48\"/>\r\n     <use x=\"127.246094\" xlink:href=\"#DejaVuSans-49\"/>\r\n     <use x=\"190.869141\" xlink:href=\"#DejaVuSans-57\"/>\r\n    </g>\r\n   </g>\r\n  </g>\r\n </g>\r\n</svg>\r\n",
            "image/png": "[encoded data removed]"
          },
          "metadata": {}
        }
      ],
      "metadata": {
        "id": "pJ0gpi2_SKrh",
        "colab_type": "code",
        "colab": {
          "base_uri": "https://localhost:8080/",
          "height": 423
        },
        "outputId": "99f08166-8040-4e6b-8370-5e0853fb9b80"
      }
    },
    {
      "cell_type": "code",
      "execution_count": 52,
      "source": [
        "#Total vendas por cidade\r\n",
        "df[\"Cidade\"].value_counts()"
      ],
      "outputs": [
        {
          "output_type": "execute_result",
          "data": {
            "text/plain": [
              "Salvador     240\n",
              "Natal        240\n",
              "Fortaleza    142\n",
              "Recife       142\n",
              "Aracaju      130\n",
              "Name: Cidade, dtype: int64"
            ]
          },
          "metadata": {},
          "execution_count": 52
        }
      ],
      "metadata": {
        "id": "2y-7DsTsTSMV",
        "colab_type": "code",
        "colab": {
          "base_uri": "https://localhost:8080/",
          "height": 119
        },
        "outputId": "416e4eee-3d9f-4470-cd20-5d4e131716b2"
      }
    },
    {
      "cell_type": "code",
      "execution_count": 53,
      "source": [
        "#Adicionando um título e alterando o nome dos eixos\r\n",
        "import matplotlib.pyplot as plt\r\n",
        "df[\"Cidade\"].value_counts().plot.bar(title=\"Total vendas por Cidade\")\r\n",
        "plt.xlabel(\"Cidade\")\r\n",
        "plt.ylabel(\"Total Vendas\")"
      ],
      "outputs": [
        {
          "output_type": "execute_result",
          "data": {
            "text/plain": [
              "Text(0, 0.5, 'Total Vendas')"
            ]
          },
          "metadata": {},
          "execution_count": 53
        },
        {
          "output_type": "display_data",
          "data": {
            "text/plain": [
              "<Figure size 432x288 with 1 Axes>"
            ],
            "image/svg+xml": "<?xml version=\"1.0\" encoding=\"utf-8\" standalone=\"no\"?>\r\n<!DOCTYPE svg PUBLIC \"-//W3C//DTD SVG 1.1//EN\"\r\n  \"http://www.w3.org/Graphics/SVG/1.1/DTD/svg11.dtd\">\r\n<!-- Created with matplotlib (https://matplotlib.org/) -->\r\n<svg height=\"313.61125pt\" version=\"1.1\" viewBox=\"0 0 388.965625 313.61125\" width=\"388.965625pt\" xmlns=\"http://www.w3.org/2000/svg\" xmlns:xlink=\"http://www.w3.org/1999/xlink\">\r\n <defs>\r\n  <style type=\"text/css\">\r\n*{stroke-linecap:butt;stroke-linejoin:round;}\r\n  </style>\r\n </defs>\r\n <g id=\"figure_1\">\r\n  <g id=\"patch_1\">\r\n   <path d=\"M 0 313.61125 \r\nL 388.965625 313.61125 \r\nL 388.965625 0 \r\nL 0 0 \r\nz\r\n\" style=\"fill:none;\"/>\r\n  </g>\r\n  <g id=\"axes_1\">\r\n   <g id=\"patch_2\">\r\n    <path d=\"M 46.965625 239.758125 \r\nL 381.765625 239.758125 \r\nL 381.765625 22.318125 \r\nL 46.965625 22.318125 \r\nz\r\n\" style=\"fill:#ffffff;\"/>\r\n   </g>\r\n   <g id=\"patch_3\">\r\n    <path clip-path=\"url(#p405c7ef004)\" d=\"M 63.705625 239.758125 \r\nL 97.185625 239.758125 \r\nL 97.185625 32.672411 \r\nL 63.705625 32.672411 \r\nz\r\n\" style=\"fill:#1f77b4;\"/>\r\n   </g>\r\n   <g id=\"patch_4\">\r\n    <path clip-path=\"url(#p405c7ef004)\" d=\"M 130.665625 239.758125 \r\nL 164.145625 239.758125 \r\nL 164.145625 32.672411 \r\nL 130.665625 32.672411 \r\nz\r\n\" style=\"fill:#1f77b4;\"/>\r\n   </g>\r\n   <g id=\"patch_5\">\r\n    <path clip-path=\"url(#p405c7ef004)\" d=\"M 197.625625 239.758125 \r\nL 231.105625 239.758125 \r\nL 231.105625 117.232411 \r\nL 197.625625 117.232411 \r\nz\r\n\" style=\"fill:#1f77b4;\"/>\r\n   </g>\r\n   <g id=\"patch_6\">\r\n    <path clip-path=\"url(#p405c7ef004)\" d=\"M 264.585625 239.758125 \r\nL 298.065625 239.758125 \r\nL 298.065625 117.232411 \r\nL 264.585625 117.232411 \r\nz\r\n\" style=\"fill:#1f77b4;\"/>\r\n   </g>\r\n   <g id=\"patch_7\">\r\n    <path clip-path=\"url(#p405c7ef004)\" d=\"M 331.545625 239.758125 \r\nL 365.025625 239.758125 \r\nL 365.025625 127.586696 \r\nL 331.545625 127.586696 \r\nz\r\n\" style=\"fill:#1f77b4;\"/>\r\n   </g>\r\n   <g id=\"matplotlib.axis_1\">\r\n    <g id=\"xtick_1\">\r\n     <g id=\"line2d_1\">\r\n      <defs>\r\n       <path d=\"M 0 0 \r\nL 0 3.5 \r\n\" id=\"md07944547c\" style=\"stroke:#000000;stroke-width:0.8;\"/>\r\n      </defs>\r\n      <g>\r\n       <use style=\"stroke:#000000;stroke-width:0.8;\" x=\"80.445625\" xlink:href=\"#md07944547c\" y=\"239.758125\"/>\r\n      </g>\r\n     </g>\r\n     <g id=\"text_1\">\r\n      <!-- Salvador -->\r\n      <defs>\r\n       <path d=\"M 53.515625 70.515625 \r\nL 53.515625 60.890625 \r\nQ 47.90625 63.578125 42.921875 64.890625 \r\nQ 37.9375 66.21875 33.296875 66.21875 \r\nQ 25.25 66.21875 20.875 63.09375 \r\nQ 16.5 59.96875 16.5 54.203125 \r\nQ 16.5 49.359375 19.40625 46.890625 \r\nQ 22.3125 44.4375 30.421875 42.921875 \r\nL 36.375 41.703125 \r\nQ 47.40625 39.59375 52.65625 34.296875 \r\nQ 57.90625 29 57.90625 20.125 \r\nQ 57.90625 9.515625 50.796875 4.046875 \r\nQ 43.703125 -1.421875 29.984375 -1.421875 \r\nQ 24.8125 -1.421875 18.96875 -0.25 \r\nQ 13.140625 0.921875 6.890625 3.21875 \r\nL 6.890625 13.375 \r\nQ 12.890625 10.015625 18.65625 8.296875 \r\nQ 24.421875 6.59375 29.984375 6.59375 \r\nQ 38.421875 6.59375 43.015625 9.90625 \r\nQ 47.609375 13.234375 47.609375 19.390625 \r\nQ 47.609375 24.75 44.3125 27.78125 \r\nQ 41.015625 30.8125 33.5 32.328125 \r\nL 27.484375 33.5 \r\nQ 16.453125 35.6875 11.515625 40.375 \r\nQ 6.59375 45.0625 6.59375 53.421875 \r\nQ 6.59375 63.09375 13.40625 68.65625 \r\nQ 20.21875 74.21875 32.171875 74.21875 \r\nQ 37.3125 74.21875 42.625 73.28125 \r\nQ 47.953125 72.359375 53.515625 70.515625 \r\nz\r\n\" id=\"DejaVuSans-83\"/>\r\n       <path d=\"M 34.28125 27.484375 \r\nQ 23.390625 27.484375 19.1875 25 \r\nQ 14.984375 22.515625 14.984375 16.5 \r\nQ 14.984375 11.71875 18.140625 8.90625 \r\nQ 21.296875 6.109375 26.703125 6.109375 \r\nQ 34.1875 6.109375 38.703125 11.40625 \r\nQ 43.21875 16.703125 43.21875 25.484375 \r\nL 43.21875 27.484375 \r\nz\r\nM 52.203125 31.203125 \r\nL 52.203125 0 \r\nL 43.21875 0 \r\nL 43.21875 8.296875 \r\nQ 40.140625 3.328125 35.546875 0.953125 \r\nQ 30.953125 -1.421875 24.3125 -1.421875 \r\nQ 15.921875 -1.421875 10.953125 3.296875 \r\nQ 6 8.015625 6 15.921875 \r\nQ 6 25.140625 12.171875 29.828125 \r\nQ 18.359375 34.515625 30.609375 34.515625 \r\nL 43.21875 34.515625 \r\nL 43.21875 35.40625 \r\nQ 43.21875 41.609375 39.140625 45 \r\nQ 35.0625 48.390625 27.6875 48.390625 \r\nQ 23 48.390625 18.546875 47.265625 \r\nQ 14.109375 46.140625 10.015625 43.890625 \r\nL 10.015625 52.203125 \r\nQ 14.9375 54.109375 19.578125 55.046875 \r\nQ 24.21875 56 28.609375 56 \r\nQ 40.484375 56 46.34375 49.84375 \r\nQ 52.203125 43.703125 52.203125 31.203125 \r\nz\r\n\" id=\"DejaVuSans-97\"/>\r\n       <path d=\"M 9.421875 75.984375 \r\nL 18.40625 75.984375 \r\nL 18.40625 0 \r\nL 9.421875 0 \r\nz\r\n\" id=\"DejaVuSans-108\"/>\r\n       <path d=\"M 2.984375 54.6875 \r\nL 12.5 54.6875 \r\nL 29.59375 8.796875 \r\nL 46.6875 54.6875 \r\nL 56.203125 54.6875 \r\nL 35.6875 0 \r\nL 23.484375 0 \r\nz\r\n\" id=\"DejaVuSans-118\"/>\r\n       <path d=\"M 45.40625 46.390625 \r\nL 45.40625 75.984375 \r\nL 54.390625 75.984375 \r\nL 54.390625 0 \r\nL 45.40625 0 \r\nL 45.40625 8.203125 \r\nQ 42.578125 3.328125 38.25 0.953125 \r\nQ 33.9375 -1.421875 27.875 -1.421875 \r\nQ 17.96875 -1.421875 11.734375 6.484375 \r\nQ 5.515625 14.40625 5.515625 27.296875 \r\nQ 5.515625 40.1875 11.734375 48.09375 \r\nQ 17.96875 56 27.875 56 \r\nQ 33.9375 56 38.25 53.625 \r\nQ 42.578125 51.265625 45.40625 46.390625 \r\nz\r\nM 14.796875 27.296875 \r\nQ 14.796875 17.390625 18.875 11.75 \r\nQ 22.953125 6.109375 30.078125 6.109375 \r\nQ 37.203125 6.109375 41.296875 11.75 \r\nQ 45.40625 17.390625 45.40625 27.296875 \r\nQ 45.40625 37.203125 41.296875 42.84375 \r\nQ 37.203125 48.484375 30.078125 48.484375 \r\nQ 22.953125 48.484375 18.875 42.84375 \r\nQ 14.796875 37.203125 14.796875 27.296875 \r\nz\r\n\" id=\"DejaVuSans-100\"/>\r\n       <path d=\"M 30.609375 48.390625 \r\nQ 23.390625 48.390625 19.1875 42.75 \r\nQ 14.984375 37.109375 14.984375 27.296875 \r\nQ 14.984375 17.484375 19.15625 11.84375 \r\nQ 23.34375 6.203125 30.609375 6.203125 \r\nQ 37.796875 6.203125 41.984375 11.859375 \r\nQ 46.1875 17.53125 46.1875 27.296875 \r\nQ 46.1875 37.015625 41.984375 42.703125 \r\nQ 37.796875 48.390625 30.609375 48.390625 \r\nz\r\nM 30.609375 56 \r\nQ 42.328125 56 49.015625 48.375 \r\nQ 55.71875 40.765625 55.71875 27.296875 \r\nQ 55.71875 13.875 49.015625 6.21875 \r\nQ 42.328125 -1.421875 30.609375 -1.421875 \r\nQ 18.84375 -1.421875 12.171875 6.21875 \r\nQ 5.515625 13.875 5.515625 27.296875 \r\nQ 5.515625 40.765625 12.171875 48.375 \r\nQ 18.84375 56 30.609375 56 \r\nz\r\n\" id=\"DejaVuSans-111\"/>\r\n       <path d=\"M 41.109375 46.296875 \r\nQ 39.59375 47.171875 37.8125 47.578125 \r\nQ 36.03125 48 33.890625 48 \r\nQ 26.265625 48 22.1875 43.046875 \r\nQ 18.109375 38.09375 18.109375 28.8125 \r\nL 18.109375 0 \r\nL 9.078125 0 \r\nL 9.078125 54.6875 \r\nL 18.109375 54.6875 \r\nL 18.109375 46.1875 \r\nQ 20.953125 51.171875 25.484375 53.578125 \r\nQ 30.03125 56 36.53125 56 \r\nQ 37.453125 56 38.578125 55.875 \r\nQ 39.703125 55.765625 41.0625 55.515625 \r\nz\r\n\" id=\"DejaVuSans-114\"/>\r\n      </defs>\r\n      <g transform=\"translate(83.205 290.637813)rotate(-90)scale(0.1 -0.1)\">\r\n       <use xlink:href=\"#DejaVuSans-83\"/>\r\n       <use x=\"63.476562\" xlink:href=\"#DejaVuSans-97\"/>\r\n       <use x=\"124.755859\" xlink:href=\"#DejaVuSans-108\"/>\r\n       <use x=\"152.539062\" xlink:href=\"#DejaVuSans-118\"/>\r\n       <use x=\"211.71875\" xlink:href=\"#DejaVuSans-97\"/>\r\n       <use x=\"272.998047\" xlink:href=\"#DejaVuSans-100\"/>\r\n       <use x=\"336.474609\" xlink:href=\"#DejaVuSans-111\"/>\r\n       <use x=\"397.65625\" xlink:href=\"#DejaVuSans-114\"/>\r\n      </g>\r\n     </g>\r\n    </g>\r\n    <g id=\"xtick_2\">\r\n     <g id=\"line2d_2\">\r\n      <g>\r\n       <use style=\"stroke:#000000;stroke-width:0.8;\" x=\"147.405625\" xlink:href=\"#md07944547c\" y=\"239.758125\"/>\r\n      </g>\r\n     </g>\r\n     <g id=\"text_2\">\r\n      <!-- Natal -->\r\n      <defs>\r\n       <path d=\"M 9.8125 72.90625 \r\nL 23.09375 72.90625 \r\nL 55.421875 11.921875 \r\nL 55.421875 72.90625 \r\nL 64.984375 72.90625 \r\nL 64.984375 0 \r\nL 51.703125 0 \r\nL 19.390625 60.984375 \r\nL 19.390625 0 \r\nL 9.8125 0 \r\nz\r\n\" id=\"DejaVuSans-78\"/>\r\n       <path d=\"M 18.3125 70.21875 \r\nL 18.3125 54.6875 \r\nL 36.8125 54.6875 \r\nL 36.8125 47.703125 \r\nL 18.3125 47.703125 \r\nL 18.3125 18.015625 \r\nQ 18.3125 11.328125 20.140625 9.421875 \r\nQ 21.96875 7.515625 27.59375 7.515625 \r\nL 36.8125 7.515625 \r\nL 36.8125 0 \r\nL 27.59375 0 \r\nQ 17.1875 0 13.234375 3.875 \r\nQ 9.28125 7.765625 9.28125 18.015625 \r\nL 9.28125 47.703125 \r\nL 2.6875 47.703125 \r\nL 2.6875 54.6875 \r\nL 9.28125 54.6875 \r\nL 9.28125 70.21875 \r\nz\r\n\" id=\"DejaVuSans-116\"/>\r\n      </defs>\r\n      <g transform=\"translate(150.165 273.194063)rotate(-90)scale(0.1 -0.1)\">\r\n       <use xlink:href=\"#DejaVuSans-78\"/>\r\n       <use x=\"74.804688\" xlink:href=\"#DejaVuSans-97\"/>\r\n       <use x=\"136.083984\" xlink:href=\"#DejaVuSans-116\"/>\r\n       <use x=\"175.292969\" xlink:href=\"#DejaVuSans-97\"/>\r\n       <use x=\"236.572266\" xlink:href=\"#DejaVuSans-108\"/>\r\n      </g>\r\n     </g>\r\n    </g>\r\n    <g id=\"xtick_3\">\r\n     <g id=\"line2d_3\">\r\n      <g>\r\n       <use style=\"stroke:#000000;stroke-width:0.8;\" x=\"214.365625\" xlink:href=\"#md07944547c\" y=\"239.758125\"/>\r\n      </g>\r\n     </g>\r\n     <g id=\"text_3\">\r\n      <!-- Fortaleza -->\r\n      <defs>\r\n       <path d=\"M 9.8125 72.90625 \r\nL 51.703125 72.90625 \r\nL 51.703125 64.59375 \r\nL 19.671875 64.59375 \r\nL 19.671875 43.109375 \r\nL 48.578125 43.109375 \r\nL 48.578125 34.8125 \r\nL 19.671875 34.8125 \r\nL 19.671875 0 \r\nL 9.8125 0 \r\nz\r\n\" id=\"DejaVuSans-70\"/>\r\n       <path d=\"M 56.203125 29.59375 \r\nL 56.203125 25.203125 \r\nL 14.890625 25.203125 \r\nQ 15.484375 15.921875 20.484375 11.0625 \r\nQ 25.484375 6.203125 34.421875 6.203125 \r\nQ 39.59375 6.203125 44.453125 7.46875 \r\nQ 49.3125 8.734375 54.109375 11.28125 \r\nL 54.109375 2.78125 \r\nQ 49.265625 0.734375 44.1875 -0.34375 \r\nQ 39.109375 -1.421875 33.890625 -1.421875 \r\nQ 20.796875 -1.421875 13.15625 6.1875 \r\nQ 5.515625 13.8125 5.515625 26.8125 \r\nQ 5.515625 40.234375 12.765625 48.109375 \r\nQ 20.015625 56 32.328125 56 \r\nQ 43.359375 56 49.78125 48.890625 \r\nQ 56.203125 41.796875 56.203125 29.59375 \r\nz\r\nM 47.21875 32.234375 \r\nQ 47.125 39.59375 43.09375 43.984375 \r\nQ 39.0625 48.390625 32.421875 48.390625 \r\nQ 24.90625 48.390625 20.390625 44.140625 \r\nQ 15.875 39.890625 15.1875 32.171875 \r\nz\r\n\" id=\"DejaVuSans-101\"/>\r\n       <path d=\"M 5.515625 54.6875 \r\nL 48.1875 54.6875 \r\nL 48.1875 46.484375 \r\nL 14.40625 7.171875 \r\nL 48.1875 7.171875 \r\nL 48.1875 0 \r\nL 4.296875 0 \r\nL 4.296875 8.203125 \r\nL 38.09375 47.515625 \r\nL 5.515625 47.515625 \r\nz\r\n\" id=\"DejaVuSans-122\"/>\r\n      </defs>\r\n      <g transform=\"translate(217.125 292.733125)rotate(-90)scale(0.1 -0.1)\">\r\n       <use xlink:href=\"#DejaVuSans-70\"/>\r\n       <use x=\"53.894531\" xlink:href=\"#DejaVuSans-111\"/>\r\n       <use x=\"115.076172\" xlink:href=\"#DejaVuSans-114\"/>\r\n       <use x=\"156.189453\" xlink:href=\"#DejaVuSans-116\"/>\r\n       <use x=\"195.398438\" xlink:href=\"#DejaVuSans-97\"/>\r\n       <use x=\"256.677734\" xlink:href=\"#DejaVuSans-108\"/>\r\n       <use x=\"284.460938\" xlink:href=\"#DejaVuSans-101\"/>\r\n       <use x=\"345.984375\" xlink:href=\"#DejaVuSans-122\"/>\r\n       <use x=\"398.474609\" xlink:href=\"#DejaVuSans-97\"/>\r\n      </g>\r\n     </g>\r\n    </g>\r\n    <g id=\"xtick_4\">\r\n     <g id=\"line2d_4\">\r\n      <g>\r\n       <use style=\"stroke:#000000;stroke-width:0.8;\" x=\"281.325625\" xlink:href=\"#md07944547c\" y=\"239.758125\"/>\r\n      </g>\r\n     </g>\r\n     <g id=\"text_4\">\r\n      <!-- Recife -->\r\n      <defs>\r\n       <path d=\"M 44.390625 34.1875 \r\nQ 47.5625 33.109375 50.5625 29.59375 \r\nQ 53.5625 26.078125 56.59375 19.921875 \r\nL 66.609375 0 \r\nL 56 0 \r\nL 46.6875 18.703125 \r\nQ 43.0625 26.03125 39.671875 28.421875 \r\nQ 36.28125 30.8125 30.421875 30.8125 \r\nL 19.671875 30.8125 \r\nL 19.671875 0 \r\nL 9.8125 0 \r\nL 9.8125 72.90625 \r\nL 32.078125 72.90625 \r\nQ 44.578125 72.90625 50.734375 67.671875 \r\nQ 56.890625 62.453125 56.890625 51.90625 \r\nQ 56.890625 45.015625 53.6875 40.46875 \r\nQ 50.484375 35.9375 44.390625 34.1875 \r\nz\r\nM 19.671875 64.796875 \r\nL 19.671875 38.921875 \r\nL 32.078125 38.921875 \r\nQ 39.203125 38.921875 42.84375 42.21875 \r\nQ 46.484375 45.515625 46.484375 51.90625 \r\nQ 46.484375 58.296875 42.84375 61.546875 \r\nQ 39.203125 64.796875 32.078125 64.796875 \r\nz\r\n\" id=\"DejaVuSans-82\"/>\r\n       <path d=\"M 48.78125 52.59375 \r\nL 48.78125 44.1875 \r\nQ 44.96875 46.296875 41.140625 47.34375 \r\nQ 37.3125 48.390625 33.40625 48.390625 \r\nQ 24.65625 48.390625 19.8125 42.84375 \r\nQ 14.984375 37.3125 14.984375 27.296875 \r\nQ 14.984375 17.28125 19.8125 11.734375 \r\nQ 24.65625 6.203125 33.40625 6.203125 \r\nQ 37.3125 6.203125 41.140625 7.25 \r\nQ 44.96875 8.296875 48.78125 10.40625 \r\nL 48.78125 2.09375 \r\nQ 45.015625 0.34375 40.984375 -0.53125 \r\nQ 36.96875 -1.421875 32.421875 -1.421875 \r\nQ 20.0625 -1.421875 12.78125 6.34375 \r\nQ 5.515625 14.109375 5.515625 27.296875 \r\nQ 5.515625 40.671875 12.859375 48.328125 \r\nQ 20.21875 56 33.015625 56 \r\nQ 37.15625 56 41.109375 55.140625 \r\nQ 45.0625 54.296875 48.78125 52.59375 \r\nz\r\n\" id=\"DejaVuSans-99\"/>\r\n       <path d=\"M 9.421875 54.6875 \r\nL 18.40625 54.6875 \r\nL 18.40625 0 \r\nL 9.421875 0 \r\nz\r\nM 9.421875 75.984375 \r\nL 18.40625 75.984375 \r\nL 18.40625 64.59375 \r\nL 9.421875 64.59375 \r\nz\r\n\" id=\"DejaVuSans-105\"/>\r\n       <path d=\"M 37.109375 75.984375 \r\nL 37.109375 68.5 \r\nL 28.515625 68.5 \r\nQ 23.6875 68.5 21.796875 66.546875 \r\nQ 19.921875 64.59375 19.921875 59.515625 \r\nL 19.921875 54.6875 \r\nL 34.71875 54.6875 \r\nL 34.71875 47.703125 \r\nL 19.921875 47.703125 \r\nL 19.921875 0 \r\nL 10.890625 0 \r\nL 10.890625 47.703125 \r\nL 2.296875 47.703125 \r\nL 2.296875 54.6875 \r\nL 10.890625 54.6875 \r\nL 10.890625 58.5 \r\nQ 10.890625 67.625 15.140625 71.796875 \r\nQ 19.390625 75.984375 28.609375 75.984375 \r\nz\r\n\" id=\"DejaVuSans-102\"/>\r\n      </defs>\r\n      <g transform=\"translate(284.085 277.359688)rotate(-90)scale(0.1 -0.1)\">\r\n       <use xlink:href=\"#DejaVuSans-82\"/>\r\n       <use x=\"64.982422\" xlink:href=\"#DejaVuSans-101\"/>\r\n       <use x=\"126.505859\" xlink:href=\"#DejaVuSans-99\"/>\r\n       <use x=\"181.486328\" xlink:href=\"#DejaVuSans-105\"/>\r\n       <use x=\"209.269531\" xlink:href=\"#DejaVuSans-102\"/>\r\n       <use x=\"244.474609\" xlink:href=\"#DejaVuSans-101\"/>\r\n      </g>\r\n     </g>\r\n    </g>\r\n    <g id=\"xtick_5\">\r\n     <g id=\"line2d_5\">\r\n      <g>\r\n       <use style=\"stroke:#000000;stroke-width:0.8;\" x=\"348.285625\" xlink:href=\"#md07944547c\" y=\"239.758125\"/>\r\n      </g>\r\n     </g>\r\n     <g id=\"text_5\">\r\n      <!-- Aracaju -->\r\n      <defs>\r\n       <path d=\"M 34.1875 63.1875 \r\nL 20.796875 26.90625 \r\nL 47.609375 26.90625 \r\nz\r\nM 28.609375 72.90625 \r\nL 39.796875 72.90625 \r\nL 67.578125 0 \r\nL 57.328125 0 \r\nL 50.6875 18.703125 \r\nL 17.828125 18.703125 \r\nL 11.1875 0 \r\nL 0.78125 0 \r\nz\r\n\" id=\"DejaVuSans-65\"/>\r\n       <path d=\"M 9.421875 54.6875 \r\nL 18.40625 54.6875 \r\nL 18.40625 -0.984375 \r\nQ 18.40625 -11.421875 14.421875 -16.109375 \r\nQ 10.453125 -20.796875 1.609375 -20.796875 \r\nL -1.8125 -20.796875 \r\nL -1.8125 -13.1875 \r\nL 0.59375 -13.1875 \r\nQ 5.71875 -13.1875 7.5625 -10.8125 \r\nQ 9.421875 -8.453125 9.421875 -0.984375 \r\nz\r\nM 9.421875 75.984375 \r\nL 18.40625 75.984375 \r\nL 18.40625 64.59375 \r\nL 9.421875 64.59375 \r\nz\r\n\" id=\"DejaVuSans-106\"/>\r\n       <path d=\"M 8.5 21.578125 \r\nL 8.5 54.6875 \r\nL 17.484375 54.6875 \r\nL 17.484375 21.921875 \r\nQ 17.484375 14.15625 20.5 10.265625 \r\nQ 23.53125 6.390625 29.59375 6.390625 \r\nQ 36.859375 6.390625 41.078125 11.03125 \r\nQ 45.3125 15.671875 45.3125 23.6875 \r\nL 45.3125 54.6875 \r\nL 54.296875 54.6875 \r\nL 54.296875 0 \r\nL 45.3125 0 \r\nL 45.3125 8.40625 \r\nQ 42.046875 3.421875 37.71875 1 \r\nQ 33.40625 -1.421875 27.6875 -1.421875 \r\nQ 18.265625 -1.421875 13.375 4.4375 \r\nQ 8.5 10.296875 8.5 21.578125 \r\nz\r\nM 31.109375 56 \r\nz\r\n\" id=\"DejaVuSans-117\"/>\r\n      </defs>\r\n      <g transform=\"translate(351.045 284.58)rotate(-90)scale(0.1 -0.1)\">\r\n       <use xlink:href=\"#DejaVuSans-65\"/>\r\n       <use x=\"68.408203\" xlink:href=\"#DejaVuSans-114\"/>\r\n       <use x=\"109.521484\" xlink:href=\"#DejaVuSans-97\"/>\r\n       <use x=\"170.800781\" xlink:href=\"#DejaVuSans-99\"/>\r\n       <use x=\"225.78125\" xlink:href=\"#DejaVuSans-97\"/>\r\n       <use x=\"287.060547\" xlink:href=\"#DejaVuSans-106\"/>\r\n       <use x=\"314.84375\" xlink:href=\"#DejaVuSans-117\"/>\r\n      </g>\r\n     </g>\r\n    </g>\r\n    <g id=\"text_6\">\r\n     <!-- Cidade -->\r\n     <defs>\r\n      <path d=\"M 64.40625 67.28125 \r\nL 64.40625 56.890625 \r\nQ 59.421875 61.53125 53.78125 63.8125 \r\nQ 48.140625 66.109375 41.796875 66.109375 \r\nQ 29.296875 66.109375 22.65625 58.46875 \r\nQ 16.015625 50.828125 16.015625 36.375 \r\nQ 16.015625 21.96875 22.65625 14.328125 \r\nQ 29.296875 6.6875 41.796875 6.6875 \r\nQ 48.140625 6.6875 53.78125 8.984375 \r\nQ 59.421875 11.28125 64.40625 15.921875 \r\nL 64.40625 5.609375 \r\nQ 59.234375 2.09375 53.4375 0.328125 \r\nQ 47.65625 -1.421875 41.21875 -1.421875 \r\nQ 24.65625 -1.421875 15.125 8.703125 \r\nQ 5.609375 18.84375 5.609375 36.375 \r\nQ 5.609375 53.953125 15.125 64.078125 \r\nQ 24.65625 74.21875 41.21875 74.21875 \r\nQ 47.75 74.21875 53.53125 72.484375 \r\nQ 59.328125 70.75 64.40625 67.28125 \r\nz\r\n\" id=\"DejaVuSans-67\"/>\r\n     </defs>\r\n     <g transform=\"translate(196.996094 304.331563)scale(0.1 -0.1)\">\r\n      <use xlink:href=\"#DejaVuSans-67\"/>\r\n      <use x=\"69.824219\" xlink:href=\"#DejaVuSans-105\"/>\r\n      <use x=\"97.607422\" xlink:href=\"#DejaVuSans-100\"/>\r\n      <use x=\"161.083984\" xlink:href=\"#DejaVuSans-97\"/>\r\n      <use x=\"222.363281\" xlink:href=\"#DejaVuSans-100\"/>\r\n      <use x=\"285.839844\" xlink:href=\"#DejaVuSans-101\"/>\r\n     </g>\r\n    </g>\r\n   </g>\r\n   <g id=\"matplotlib.axis_2\">\r\n    <g id=\"ytick_1\">\r\n     <g id=\"line2d_6\">\r\n      <defs>\r\n       <path d=\"M 0 0 \r\nL -3.5 0 \r\n\" id=\"m990ed992a5\" style=\"stroke:#000000;stroke-width:0.8;\"/>\r\n      </defs>\r\n      <g>\r\n       <use style=\"stroke:#000000;stroke-width:0.8;\" x=\"46.965625\" xlink:href=\"#m990ed992a5\" y=\"239.758125\"/>\r\n      </g>\r\n     </g>\r\n     <g id=\"text_7\">\r\n      <!-- 0 -->\r\n      <defs>\r\n       <path d=\"M 31.78125 66.40625 \r\nQ 24.171875 66.40625 20.328125 58.90625 \r\nQ 16.5 51.421875 16.5 36.375 \r\nQ 16.5 21.390625 20.328125 13.890625 \r\nQ 24.171875 6.390625 31.78125 6.390625 \r\nQ 39.453125 6.390625 43.28125 13.890625 \r\nQ 47.125 21.390625 47.125 36.375 \r\nQ 47.125 51.421875 43.28125 58.90625 \r\nQ 39.453125 66.40625 31.78125 66.40625 \r\nz\r\nM 31.78125 74.21875 \r\nQ 44.046875 74.21875 50.515625 64.515625 \r\nQ 56.984375 54.828125 56.984375 36.375 \r\nQ 56.984375 17.96875 50.515625 8.265625 \r\nQ 44.046875 -1.421875 31.78125 -1.421875 \r\nQ 19.53125 -1.421875 13.0625 8.265625 \r\nQ 6.59375 17.96875 6.59375 36.375 \r\nQ 6.59375 54.828125 13.0625 64.515625 \r\nQ 19.53125 74.21875 31.78125 74.21875 \r\nz\r\n\" id=\"DejaVuSans-48\"/>\r\n      </defs>\r\n      <g transform=\"translate(33.603125 243.557344)scale(0.1 -0.1)\">\r\n       <use xlink:href=\"#DejaVuSans-48\"/>\r\n      </g>\r\n     </g>\r\n    </g>\r\n    <g id=\"ytick_2\">\r\n     <g id=\"line2d_7\">\r\n      <g>\r\n       <use style=\"stroke:#000000;stroke-width:0.8;\" x=\"46.965625\" xlink:href=\"#m990ed992a5\" y=\"196.615268\"/>\r\n      </g>\r\n     </g>\r\n     <g id=\"text_8\">\r\n      <!-- 50 -->\r\n      <defs>\r\n       <path d=\"M 10.796875 72.90625 \r\nL 49.515625 72.90625 \r\nL 49.515625 64.59375 \r\nL 19.828125 64.59375 \r\nL 19.828125 46.734375 \r\nQ 21.96875 47.46875 24.109375 47.828125 \r\nQ 26.265625 48.1875 28.421875 48.1875 \r\nQ 40.625 48.1875 47.75 41.5 \r\nQ 54.890625 34.8125 54.890625 23.390625 \r\nQ 54.890625 11.625 47.5625 5.09375 \r\nQ 40.234375 -1.421875 26.90625 -1.421875 \r\nQ 22.3125 -1.421875 17.546875 -0.640625 \r\nQ 12.796875 0.140625 7.71875 1.703125 \r\nL 7.71875 11.625 \r\nQ 12.109375 9.234375 16.796875 8.0625 \r\nQ 21.484375 6.890625 26.703125 6.890625 \r\nQ 35.15625 6.890625 40.078125 11.328125 \r\nQ 45.015625 15.765625 45.015625 23.390625 \r\nQ 45.015625 31 40.078125 35.4375 \r\nQ 35.15625 39.890625 26.703125 39.890625 \r\nQ 22.75 39.890625 18.8125 39.015625 \r\nQ 14.890625 38.140625 10.796875 36.28125 \r\nz\r\n\" id=\"DejaVuSans-53\"/>\r\n      </defs>\r\n      <g transform=\"translate(27.240625 200.414487)scale(0.1 -0.1)\">\r\n       <use xlink:href=\"#DejaVuSans-53\"/>\r\n       <use x=\"63.623047\" xlink:href=\"#DejaVuSans-48\"/>\r\n      </g>\r\n     </g>\r\n    </g>\r\n    <g id=\"ytick_3\">\r\n     <g id=\"line2d_8\">\r\n      <g>\r\n       <use style=\"stroke:#000000;stroke-width:0.8;\" x=\"46.965625\" xlink:href=\"#m990ed992a5\" y=\"153.472411\"/>\r\n      </g>\r\n     </g>\r\n     <g id=\"text_9\">\r\n      <!-- 100 -->\r\n      <defs>\r\n       <path d=\"M 12.40625 8.296875 \r\nL 28.515625 8.296875 \r\nL 28.515625 63.921875 \r\nL 10.984375 60.40625 \r\nL 10.984375 69.390625 \r\nL 28.421875 72.90625 \r\nL 38.28125 72.90625 \r\nL 38.28125 8.296875 \r\nL 54.390625 8.296875 \r\nL 54.390625 0 \r\nL 12.40625 0 \r\nz\r\n\" id=\"DejaVuSans-49\"/>\r\n      </defs>\r\n      <g transform=\"translate(20.878125 157.271629)scale(0.1 -0.1)\">\r\n       <use xlink:href=\"#DejaVuSans-49\"/>\r\n       <use x=\"63.623047\" xlink:href=\"#DejaVuSans-48\"/>\r\n       <use x=\"127.246094\" xlink:href=\"#DejaVuSans-48\"/>\r\n      </g>\r\n     </g>\r\n    </g>\r\n    <g id=\"ytick_4\">\r\n     <g id=\"line2d_9\">\r\n      <g>\r\n       <use style=\"stroke:#000000;stroke-width:0.8;\" x=\"46.965625\" xlink:href=\"#m990ed992a5\" y=\"110.329554\"/>\r\n      </g>\r\n     </g>\r\n     <g id=\"text_10\">\r\n      <!-- 150 -->\r\n      <g transform=\"translate(20.878125 114.128772)scale(0.1 -0.1)\">\r\n       <use xlink:href=\"#DejaVuSans-49\"/>\r\n       <use x=\"63.623047\" xlink:href=\"#DejaVuSans-53\"/>\r\n       <use x=\"127.246094\" xlink:href=\"#DejaVuSans-48\"/>\r\n      </g>\r\n     </g>\r\n    </g>\r\n    <g id=\"ytick_5\">\r\n     <g id=\"line2d_10\">\r\n      <g>\r\n       <use style=\"stroke:#000000;stroke-width:0.8;\" x=\"46.965625\" xlink:href=\"#m990ed992a5\" y=\"67.186696\"/>\r\n      </g>\r\n     </g>\r\n     <g id=\"text_11\">\r\n      <!-- 200 -->\r\n      <defs>\r\n       <path d=\"M 19.1875 8.296875 \r\nL 53.609375 8.296875 \r\nL 53.609375 0 \r\nL 7.328125 0 \r\nL 7.328125 8.296875 \r\nQ 12.9375 14.109375 22.625 23.890625 \r\nQ 32.328125 33.6875 34.8125 36.53125 \r\nQ 39.546875 41.84375 41.421875 45.53125 \r\nQ 43.3125 49.21875 43.3125 52.78125 \r\nQ 43.3125 58.59375 39.234375 62.25 \r\nQ 35.15625 65.921875 28.609375 65.921875 \r\nQ 23.96875 65.921875 18.8125 64.3125 \r\nQ 13.671875 62.703125 7.8125 59.421875 \r\nL 7.8125 69.390625 \r\nQ 13.765625 71.78125 18.9375 73 \r\nQ 24.125 74.21875 28.421875 74.21875 \r\nQ 39.75 74.21875 46.484375 68.546875 \r\nQ 53.21875 62.890625 53.21875 53.421875 \r\nQ 53.21875 48.921875 51.53125 44.890625 \r\nQ 49.859375 40.875 45.40625 35.40625 \r\nQ 44.1875 33.984375 37.640625 27.21875 \r\nQ 31.109375 20.453125 19.1875 8.296875 \r\nz\r\n\" id=\"DejaVuSans-50\"/>\r\n      </defs>\r\n      <g transform=\"translate(20.878125 70.985915)scale(0.1 -0.1)\">\r\n       <use xlink:href=\"#DejaVuSans-50\"/>\r\n       <use x=\"63.623047\" xlink:href=\"#DejaVuSans-48\"/>\r\n       <use x=\"127.246094\" xlink:href=\"#DejaVuSans-48\"/>\r\n      </g>\r\n     </g>\r\n    </g>\r\n    <g id=\"ytick_6\">\r\n     <g id=\"line2d_11\">\r\n      <g>\r\n       <use style=\"stroke:#000000;stroke-width:0.8;\" x=\"46.965625\" xlink:href=\"#m990ed992a5\" y=\"24.043839\"/>\r\n      </g>\r\n     </g>\r\n     <g id=\"text_12\">\r\n      <!-- 250 -->\r\n      <g transform=\"translate(20.878125 27.843058)scale(0.1 -0.1)\">\r\n       <use xlink:href=\"#DejaVuSans-50\"/>\r\n       <use x=\"63.623047\" xlink:href=\"#DejaVuSans-53\"/>\r\n       <use x=\"127.246094\" xlink:href=\"#DejaVuSans-48\"/>\r\n      </g>\r\n     </g>\r\n    </g>\r\n    <g id=\"text_13\">\r\n     <!-- Total Vendas -->\r\n     <defs>\r\n      <path d=\"M -0.296875 72.90625 \r\nL 61.375 72.90625 \r\nL 61.375 64.59375 \r\nL 35.5 64.59375 \r\nL 35.5 0 \r\nL 25.59375 0 \r\nL 25.59375 64.59375 \r\nL -0.296875 64.59375 \r\nz\r\n\" id=\"DejaVuSans-84\"/>\r\n      <path id=\"DejaVuSans-32\"/>\r\n      <path d=\"M 28.609375 0 \r\nL 0.78125 72.90625 \r\nL 11.078125 72.90625 \r\nL 34.1875 11.53125 \r\nL 57.328125 72.90625 \r\nL 67.578125 72.90625 \r\nL 39.796875 0 \r\nz\r\n\" id=\"DejaVuSans-86\"/>\r\n      <path d=\"M 54.890625 33.015625 \r\nL 54.890625 0 \r\nL 45.90625 0 \r\nL 45.90625 32.71875 \r\nQ 45.90625 40.484375 42.875 44.328125 \r\nQ 39.84375 48.1875 33.796875 48.1875 \r\nQ 26.515625 48.1875 22.3125 43.546875 \r\nQ 18.109375 38.921875 18.109375 30.90625 \r\nL 18.109375 0 \r\nL 9.078125 0 \r\nL 9.078125 54.6875 \r\nL 18.109375 54.6875 \r\nL 18.109375 46.1875 \r\nQ 21.34375 51.125 25.703125 53.5625 \r\nQ 30.078125 56 35.796875 56 \r\nQ 45.21875 56 50.046875 50.171875 \r\nQ 54.890625 44.34375 54.890625 33.015625 \r\nz\r\n\" id=\"DejaVuSans-110\"/>\r\n      <path d=\"M 44.28125 53.078125 \r\nL 44.28125 44.578125 \r\nQ 40.484375 46.53125 36.375 47.5 \r\nQ 32.28125 48.484375 27.875 48.484375 \r\nQ 21.1875 48.484375 17.84375 46.4375 \r\nQ 14.5 44.390625 14.5 40.28125 \r\nQ 14.5 37.15625 16.890625 35.375 \r\nQ 19.28125 33.59375 26.515625 31.984375 \r\nL 29.59375 31.296875 \r\nQ 39.15625 29.25 43.1875 25.515625 \r\nQ 47.21875 21.78125 47.21875 15.09375 \r\nQ 47.21875 7.46875 41.1875 3.015625 \r\nQ 35.15625 -1.421875 24.609375 -1.421875 \r\nQ 20.21875 -1.421875 15.453125 -0.5625 \r\nQ 10.6875 0.296875 5.421875 2 \r\nL 5.421875 11.28125 \r\nQ 10.40625 8.6875 15.234375 7.390625 \r\nQ 20.0625 6.109375 24.8125 6.109375 \r\nQ 31.15625 6.109375 34.5625 8.28125 \r\nQ 37.984375 10.453125 37.984375 14.40625 \r\nQ 37.984375 18.0625 35.515625 20.015625 \r\nQ 33.0625 21.96875 24.703125 23.78125 \r\nL 21.578125 24.515625 \r\nQ 13.234375 26.265625 9.515625 29.90625 \r\nQ 5.8125 33.546875 5.8125 39.890625 \r\nQ 5.8125 47.609375 11.28125 51.796875 \r\nQ 16.75 56 26.8125 56 \r\nQ 31.78125 56 36.171875 55.265625 \r\nQ 40.578125 54.546875 44.28125 53.078125 \r\nz\r\n\" id=\"DejaVuSans-115\"/>\r\n     </defs>\r\n     <g transform=\"translate(14.798438 162.424844)rotate(-90)scale(0.1 -0.1)\">\r\n      <use xlink:href=\"#DejaVuSans-84\"/>\r\n      <use x=\"44.083984\" xlink:href=\"#DejaVuSans-111\"/>\r\n      <use x=\"105.265625\" xlink:href=\"#DejaVuSans-116\"/>\r\n      <use x=\"144.474609\" xlink:href=\"#DejaVuSans-97\"/>\r\n      <use x=\"205.753906\" xlink:href=\"#DejaVuSans-108\"/>\r\n      <use x=\"233.537109\" xlink:href=\"#DejaVuSans-32\"/>\r\n      <use x=\"265.324219\" xlink:href=\"#DejaVuSans-86\"/>\r\n      <use x=\"325.982422\" xlink:href=\"#DejaVuSans-101\"/>\r\n      <use x=\"387.505859\" xlink:href=\"#DejaVuSans-110\"/>\r\n      <use x=\"450.884766\" xlink:href=\"#DejaVuSans-100\"/>\r\n      <use x=\"514.361328\" xlink:href=\"#DejaVuSans-97\"/>\r\n      <use x=\"575.640625\" xlink:href=\"#DejaVuSans-115\"/>\r\n     </g>\r\n    </g>\r\n   </g>\r\n   <g id=\"patch_8\">\r\n    <path d=\"M 46.965625 239.758125 \r\nL 46.965625 22.318125 \r\n\" style=\"fill:none;stroke:#000000;stroke-linecap:square;stroke-linejoin:miter;stroke-width:0.8;\"/>\r\n   </g>\r\n   <g id=\"patch_9\">\r\n    <path d=\"M 381.765625 239.758125 \r\nL 381.765625 22.318125 \r\n\" style=\"fill:none;stroke:#000000;stroke-linecap:square;stroke-linejoin:miter;stroke-width:0.8;\"/>\r\n   </g>\r\n   <g id=\"patch_10\">\r\n    <path d=\"M 46.965625 239.758125 \r\nL 381.765625 239.758125 \r\n\" style=\"fill:none;stroke:#000000;stroke-linecap:square;stroke-linejoin:miter;stroke-width:0.8;\"/>\r\n   </g>\r\n   <g id=\"patch_11\">\r\n    <path d=\"M 46.965625 22.318125 \r\nL 381.765625 22.318125 \r\n\" style=\"fill:none;stroke:#000000;stroke-linecap:square;stroke-linejoin:miter;stroke-width:0.8;\"/>\r\n   </g>\r\n   <g id=\"text_14\">\r\n    <!-- Total vendas por Cidade -->\r\n    <defs>\r\n     <path d=\"M 18.109375 8.203125 \r\nL 18.109375 -20.796875 \r\nL 9.078125 -20.796875 \r\nL 9.078125 54.6875 \r\nL 18.109375 54.6875 \r\nL 18.109375 46.390625 \r\nQ 20.953125 51.265625 25.265625 53.625 \r\nQ 29.59375 56 35.59375 56 \r\nQ 45.5625 56 51.78125 48.09375 \r\nQ 58.015625 40.1875 58.015625 27.296875 \r\nQ 58.015625 14.40625 51.78125 6.484375 \r\nQ 45.5625 -1.421875 35.59375 -1.421875 \r\nQ 29.59375 -1.421875 25.265625 0.953125 \r\nQ 20.953125 3.328125 18.109375 8.203125 \r\nz\r\nM 48.6875 27.296875 \r\nQ 48.6875 37.203125 44.609375 42.84375 \r\nQ 40.53125 48.484375 33.40625 48.484375 \r\nQ 26.265625 48.484375 22.1875 42.84375 \r\nQ 18.109375 37.203125 18.109375 27.296875 \r\nQ 18.109375 17.390625 22.1875 11.75 \r\nQ 26.265625 6.109375 33.40625 6.109375 \r\nQ 40.53125 6.109375 44.609375 11.75 \r\nQ 48.6875 17.390625 48.6875 27.296875 \r\nz\r\n\" id=\"DejaVuSans-112\"/>\r\n    </defs>\r\n    <g transform=\"translate(142.185625 16.318125)scale(0.12 -0.12)\">\r\n     <use xlink:href=\"#DejaVuSans-84\"/>\r\n     <use x=\"44.083984\" xlink:href=\"#DejaVuSans-111\"/>\r\n     <use x=\"105.265625\" xlink:href=\"#DejaVuSans-116\"/>\r\n     <use x=\"144.474609\" xlink:href=\"#DejaVuSans-97\"/>\r\n     <use x=\"205.753906\" xlink:href=\"#DejaVuSans-108\"/>\r\n     <use x=\"233.537109\" xlink:href=\"#DejaVuSans-32\"/>\r\n     <use x=\"265.324219\" xlink:href=\"#DejaVuSans-118\"/>\r\n     <use x=\"324.503906\" xlink:href=\"#DejaVuSans-101\"/>\r\n     <use x=\"386.027344\" xlink:href=\"#DejaVuSans-110\"/>\r\n     <use x=\"449.40625\" xlink:href=\"#DejaVuSans-100\"/>\r\n     <use x=\"512.882812\" xlink:href=\"#DejaVuSans-97\"/>\r\n     <use x=\"574.162109\" xlink:href=\"#DejaVuSans-115\"/>\r\n     <use x=\"626.261719\" xlink:href=\"#DejaVuSans-32\"/>\r\n     <use x=\"658.048828\" xlink:href=\"#DejaVuSans-112\"/>\r\n     <use x=\"721.525391\" xlink:href=\"#DejaVuSans-111\"/>\r\n     <use x=\"782.707031\" xlink:href=\"#DejaVuSans-114\"/>\r\n     <use x=\"823.820312\" xlink:href=\"#DejaVuSans-32\"/>\r\n     <use x=\"855.607422\" xlink:href=\"#DejaVuSans-67\"/>\r\n     <use x=\"925.431641\" xlink:href=\"#DejaVuSans-105\"/>\r\n     <use x=\"953.214844\" xlink:href=\"#DejaVuSans-100\"/>\r\n     <use x=\"1016.691406\" xlink:href=\"#DejaVuSans-97\"/>\r\n     <use x=\"1077.970703\" xlink:href=\"#DejaVuSans-100\"/>\r\n     <use x=\"1141.447266\" xlink:href=\"#DejaVuSans-101\"/>\r\n    </g>\r\n   </g>\r\n  </g>\r\n </g>\r\n <defs>\r\n  <clipPath id=\"p405c7ef004\">\r\n   <rect height=\"217.44\" width=\"334.8\" x=\"46.965625\" y=\"22.318125\"/>\r\n  </clipPath>\r\n </defs>\r\n</svg>\r\n",
            "image/png": "[encoded data removed]"
          },
          "metadata": {
            "needs_background": "light"
          }
        }
      ],
      "metadata": {
        "id": "6IWtDupKSmDn",
        "colab_type": "code",
        "colab": {
          "base_uri": "https://localhost:8080/",
          "height": 522
        },
        "outputId": "ee683895-a27a-4032-df49-224b7e338b3f"
      }
    },
    {
      "cell_type": "code",
      "execution_count": 54,
      "source": [
        "#Alterando a cor\r\n",
        "df[\"Cidade\"].value_counts().plot.bar(title=\"Total vendas por Cidade\", color=\"red\")\r\n",
        "plt.xlabel(\"Cidade\")\r\n",
        "plt.ylabel(\"Total Vendas\")"
      ],
      "outputs": [
        {
          "output_type": "execute_result",
          "data": {
            "text/plain": [
              "Text(0, 0.5, 'Total Vendas')"
            ]
          },
          "metadata": {},
          "execution_count": 54
        },
        {
          "output_type": "display_data",
          "data": {
            "text/plain": [
              "<Figure size 432x288 with 1 Axes>"
            ],
            "image/svg+xml": "<?xml version=\"1.0\" encoding=\"utf-8\" standalone=\"no\"?>\r\n<!DOCTYPE svg PUBLIC \"-//W3C//DTD SVG 1.1//EN\"\r\n  \"http://www.w3.org/Graphics/SVG/1.1/DTD/svg11.dtd\">\r\n<!-- Created with matplotlib (https://matplotlib.org/) -->\r\n<svg height=\"313.61125pt\" version=\"1.1\" viewBox=\"0 0 388.965625 313.61125\" width=\"388.965625pt\" xmlns=\"http://www.w3.org/2000/svg\" xmlns:xlink=\"http://www.w3.org/1999/xlink\">\r\n <defs>\r\n  <style type=\"text/css\">\r\n*{stroke-linecap:butt;stroke-linejoin:round;}\r\n  </style>\r\n </defs>\r\n <g id=\"figure_1\">\r\n  <g id=\"patch_1\">\r\n   <path d=\"M 0 313.61125 \r\nL 388.965625 313.61125 \r\nL 388.965625 0 \r\nL 0 0 \r\nz\r\n\" style=\"fill:none;\"/>\r\n  </g>\r\n  <g id=\"axes_1\">\r\n   <g id=\"patch_2\">\r\n    <path d=\"M 46.965625 239.758125 \r\nL 381.765625 239.758125 \r\nL 381.765625 22.318125 \r\nL 46.965625 22.318125 \r\nz\r\n\" style=\"fill:#ffffff;\"/>\r\n   </g>\r\n   <g id=\"patch_3\">\r\n    <path clip-path=\"url(#pfaa30fab3a)\" d=\"M 63.705625 239.758125 \r\nL 97.185625 239.758125 \r\nL 97.185625 32.672411 \r\nL 63.705625 32.672411 \r\nz\r\n\" style=\"fill:#ff0000;\"/>\r\n   </g>\r\n   <g id=\"patch_4\">\r\n    <path clip-path=\"url(#pfaa30fab3a)\" d=\"M 130.665625 239.758125 \r\nL 164.145625 239.758125 \r\nL 164.145625 32.672411 \r\nL 130.665625 32.672411 \r\nz\r\n\" style=\"fill:#ff0000;\"/>\r\n   </g>\r\n   <g id=\"patch_5\">\r\n    <path clip-path=\"url(#pfaa30fab3a)\" d=\"M 197.625625 239.758125 \r\nL 231.105625 239.758125 \r\nL 231.105625 117.232411 \r\nL 197.625625 117.232411 \r\nz\r\n\" style=\"fill:#ff0000;\"/>\r\n   </g>\r\n   <g id=\"patch_6\">\r\n    <path clip-path=\"url(#pfaa30fab3a)\" d=\"M 264.585625 239.758125 \r\nL 298.065625 239.758125 \r\nL 298.065625 117.232411 \r\nL 264.585625 117.232411 \r\nz\r\n\" style=\"fill:#ff0000;\"/>\r\n   </g>\r\n   <g id=\"patch_7\">\r\n    <path clip-path=\"url(#pfaa30fab3a)\" d=\"M 331.545625 239.758125 \r\nL 365.025625 239.758125 \r\nL 365.025625 127.586696 \r\nL 331.545625 127.586696 \r\nz\r\n\" style=\"fill:#ff0000;\"/>\r\n   </g>\r\n   <g id=\"matplotlib.axis_1\">\r\n    <g id=\"xtick_1\">\r\n     <g id=\"line2d_1\">\r\n      <defs>\r\n       <path d=\"M 0 0 \r\nL 0 3.5 \r\n\" id=\"me9b1ab781e\" style=\"stroke:#000000;stroke-width:0.8;\"/>\r\n      </defs>\r\n      <g>\r\n       <use style=\"stroke:#000000;stroke-width:0.8;\" x=\"80.445625\" xlink:href=\"#me9b1ab781e\" y=\"239.758125\"/>\r\n      </g>\r\n     </g>\r\n     <g id=\"text_1\">\r\n      <!-- Salvador -->\r\n      <defs>\r\n       <path d=\"M 53.515625 70.515625 \r\nL 53.515625 60.890625 \r\nQ 47.90625 63.578125 42.921875 64.890625 \r\nQ 37.9375 66.21875 33.296875 66.21875 \r\nQ 25.25 66.21875 20.875 63.09375 \r\nQ 16.5 59.96875 16.5 54.203125 \r\nQ 16.5 49.359375 19.40625 46.890625 \r\nQ 22.3125 44.4375 30.421875 42.921875 \r\nL 36.375 41.703125 \r\nQ 47.40625 39.59375 52.65625 34.296875 \r\nQ 57.90625 29 57.90625 20.125 \r\nQ 57.90625 9.515625 50.796875 4.046875 \r\nQ 43.703125 -1.421875 29.984375 -1.421875 \r\nQ 24.8125 -1.421875 18.96875 -0.25 \r\nQ 13.140625 0.921875 6.890625 3.21875 \r\nL 6.890625 13.375 \r\nQ 12.890625 10.015625 18.65625 8.296875 \r\nQ 24.421875 6.59375 29.984375 6.59375 \r\nQ 38.421875 6.59375 43.015625 9.90625 \r\nQ 47.609375 13.234375 47.609375 19.390625 \r\nQ 47.609375 24.75 44.3125 27.78125 \r\nQ 41.015625 30.8125 33.5 32.328125 \r\nL 27.484375 33.5 \r\nQ 16.453125 35.6875 11.515625 40.375 \r\nQ 6.59375 45.0625 6.59375 53.421875 \r\nQ 6.59375 63.09375 13.40625 68.65625 \r\nQ 20.21875 74.21875 32.171875 74.21875 \r\nQ 37.3125 74.21875 42.625 73.28125 \r\nQ 47.953125 72.359375 53.515625 70.515625 \r\nz\r\n\" id=\"DejaVuSans-83\"/>\r\n       <path d=\"M 34.28125 27.484375 \r\nQ 23.390625 27.484375 19.1875 25 \r\nQ 14.984375 22.515625 14.984375 16.5 \r\nQ 14.984375 11.71875 18.140625 8.90625 \r\nQ 21.296875 6.109375 26.703125 6.109375 \r\nQ 34.1875 6.109375 38.703125 11.40625 \r\nQ 43.21875 16.703125 43.21875 25.484375 \r\nL 43.21875 27.484375 \r\nz\r\nM 52.203125 31.203125 \r\nL 52.203125 0 \r\nL 43.21875 0 \r\nL 43.21875 8.296875 \r\nQ 40.140625 3.328125 35.546875 0.953125 \r\nQ 30.953125 -1.421875 24.3125 -1.421875 \r\nQ 15.921875 -1.421875 10.953125 3.296875 \r\nQ 6 8.015625 6 15.921875 \r\nQ 6 25.140625 12.171875 29.828125 \r\nQ 18.359375 34.515625 30.609375 34.515625 \r\nL 43.21875 34.515625 \r\nL 43.21875 35.40625 \r\nQ 43.21875 41.609375 39.140625 45 \r\nQ 35.0625 48.390625 27.6875 48.390625 \r\nQ 23 48.390625 18.546875 47.265625 \r\nQ 14.109375 46.140625 10.015625 43.890625 \r\nL 10.015625 52.203125 \r\nQ 14.9375 54.109375 19.578125 55.046875 \r\nQ 24.21875 56 28.609375 56 \r\nQ 40.484375 56 46.34375 49.84375 \r\nQ 52.203125 43.703125 52.203125 31.203125 \r\nz\r\n\" id=\"DejaVuSans-97\"/>\r\n       <path d=\"M 9.421875 75.984375 \r\nL 18.40625 75.984375 \r\nL 18.40625 0 \r\nL 9.421875 0 \r\nz\r\n\" id=\"DejaVuSans-108\"/>\r\n       <path d=\"M 2.984375 54.6875 \r\nL 12.5 54.6875 \r\nL 29.59375 8.796875 \r\nL 46.6875 54.6875 \r\nL 56.203125 54.6875 \r\nL 35.6875 0 \r\nL 23.484375 0 \r\nz\r\n\" id=\"DejaVuSans-118\"/>\r\n       <path d=\"M 45.40625 46.390625 \r\nL 45.40625 75.984375 \r\nL 54.390625 75.984375 \r\nL 54.390625 0 \r\nL 45.40625 0 \r\nL 45.40625 8.203125 \r\nQ 42.578125 3.328125 38.25 0.953125 \r\nQ 33.9375 -1.421875 27.875 -1.421875 \r\nQ 17.96875 -1.421875 11.734375 6.484375 \r\nQ 5.515625 14.40625 5.515625 27.296875 \r\nQ 5.515625 40.1875 11.734375 48.09375 \r\nQ 17.96875 56 27.875 56 \r\nQ 33.9375 56 38.25 53.625 \r\nQ 42.578125 51.265625 45.40625 46.390625 \r\nz\r\nM 14.796875 27.296875 \r\nQ 14.796875 17.390625 18.875 11.75 \r\nQ 22.953125 6.109375 30.078125 6.109375 \r\nQ 37.203125 6.109375 41.296875 11.75 \r\nQ 45.40625 17.390625 45.40625 27.296875 \r\nQ 45.40625 37.203125 41.296875 42.84375 \r\nQ 37.203125 48.484375 30.078125 48.484375 \r\nQ 22.953125 48.484375 18.875 42.84375 \r\nQ 14.796875 37.203125 14.796875 27.296875 \r\nz\r\n\" id=\"DejaVuSans-100\"/>\r\n       <path d=\"M 30.609375 48.390625 \r\nQ 23.390625 48.390625 19.1875 42.75 \r\nQ 14.984375 37.109375 14.984375 27.296875 \r\nQ 14.984375 17.484375 19.15625 11.84375 \r\nQ 23.34375 6.203125 30.609375 6.203125 \r\nQ 37.796875 6.203125 41.984375 11.859375 \r\nQ 46.1875 17.53125 46.1875 27.296875 \r\nQ 46.1875 37.015625 41.984375 42.703125 \r\nQ 37.796875 48.390625 30.609375 48.390625 \r\nz\r\nM 30.609375 56 \r\nQ 42.328125 56 49.015625 48.375 \r\nQ 55.71875 40.765625 55.71875 27.296875 \r\nQ 55.71875 13.875 49.015625 6.21875 \r\nQ 42.328125 -1.421875 30.609375 -1.421875 \r\nQ 18.84375 -1.421875 12.171875 6.21875 \r\nQ 5.515625 13.875 5.515625 27.296875 \r\nQ 5.515625 40.765625 12.171875 48.375 \r\nQ 18.84375 56 30.609375 56 \r\nz\r\n\" id=\"DejaVuSans-111\"/>\r\n       <path d=\"M 41.109375 46.296875 \r\nQ 39.59375 47.171875 37.8125 47.578125 \r\nQ 36.03125 48 33.890625 48 \r\nQ 26.265625 48 22.1875 43.046875 \r\nQ 18.109375 38.09375 18.109375 28.8125 \r\nL 18.109375 0 \r\nL 9.078125 0 \r\nL 9.078125 54.6875 \r\nL 18.109375 54.6875 \r\nL 18.109375 46.1875 \r\nQ 20.953125 51.171875 25.484375 53.578125 \r\nQ 30.03125 56 36.53125 56 \r\nQ 37.453125 56 38.578125 55.875 \r\nQ 39.703125 55.765625 41.0625 55.515625 \r\nz\r\n\" id=\"DejaVuSans-114\"/>\r\n      </defs>\r\n      <g transform=\"translate(83.205 290.637813)rotate(-90)scale(0.1 -0.1)\">\r\n       <use xlink:href=\"#DejaVuSans-83\"/>\r\n       <use x=\"63.476562\" xlink:href=\"#DejaVuSans-97\"/>\r\n       <use x=\"124.755859\" xlink:href=\"#DejaVuSans-108\"/>\r\n       <use x=\"152.539062\" xlink:href=\"#DejaVuSans-118\"/>\r\n       <use x=\"211.71875\" xlink:href=\"#DejaVuSans-97\"/>\r\n       <use x=\"272.998047\" xlink:href=\"#DejaVuSans-100\"/>\r\n       <use x=\"336.474609\" xlink:href=\"#DejaVuSans-111\"/>\r\n       <use x=\"397.65625\" xlink:href=\"#DejaVuSans-114\"/>\r\n      </g>\r\n     </g>\r\n    </g>\r\n    <g id=\"xtick_2\">\r\n     <g id=\"line2d_2\">\r\n      <g>\r\n       <use style=\"stroke:#000000;stroke-width:0.8;\" x=\"147.405625\" xlink:href=\"#me9b1ab781e\" y=\"239.758125\"/>\r\n      </g>\r\n     </g>\r\n     <g id=\"text_2\">\r\n      <!-- Natal -->\r\n      <defs>\r\n       <path d=\"M 9.8125 72.90625 \r\nL 23.09375 72.90625 \r\nL 55.421875 11.921875 \r\nL 55.421875 72.90625 \r\nL 64.984375 72.90625 \r\nL 64.984375 0 \r\nL 51.703125 0 \r\nL 19.390625 60.984375 \r\nL 19.390625 0 \r\nL 9.8125 0 \r\nz\r\n\" id=\"DejaVuSans-78\"/>\r\n       <path d=\"M 18.3125 70.21875 \r\nL 18.3125 54.6875 \r\nL 36.8125 54.6875 \r\nL 36.8125 47.703125 \r\nL 18.3125 47.703125 \r\nL 18.3125 18.015625 \r\nQ 18.3125 11.328125 20.140625 9.421875 \r\nQ 21.96875 7.515625 27.59375 7.515625 \r\nL 36.8125 7.515625 \r\nL 36.8125 0 \r\nL 27.59375 0 \r\nQ 17.1875 0 13.234375 3.875 \r\nQ 9.28125 7.765625 9.28125 18.015625 \r\nL 9.28125 47.703125 \r\nL 2.6875 47.703125 \r\nL 2.6875 54.6875 \r\nL 9.28125 54.6875 \r\nL 9.28125 70.21875 \r\nz\r\n\" id=\"DejaVuSans-116\"/>\r\n      </defs>\r\n      <g transform=\"translate(150.165 273.194063)rotate(-90)scale(0.1 -0.1)\">\r\n       <use xlink:href=\"#DejaVuSans-78\"/>\r\n       <use x=\"74.804688\" xlink:href=\"#DejaVuSans-97\"/>\r\n       <use x=\"136.083984\" xlink:href=\"#DejaVuSans-116\"/>\r\n       <use x=\"175.292969\" xlink:href=\"#DejaVuSans-97\"/>\r\n       <use x=\"236.572266\" xlink:href=\"#DejaVuSans-108\"/>\r\n      </g>\r\n     </g>\r\n    </g>\r\n    <g id=\"xtick_3\">\r\n     <g id=\"line2d_3\">\r\n      <g>\r\n       <use style=\"stroke:#000000;stroke-width:0.8;\" x=\"214.365625\" xlink:href=\"#me9b1ab781e\" y=\"239.758125\"/>\r\n      </g>\r\n     </g>\r\n     <g id=\"text_3\">\r\n      <!-- Fortaleza -->\r\n      <defs>\r\n       <path d=\"M 9.8125 72.90625 \r\nL 51.703125 72.90625 \r\nL 51.703125 64.59375 \r\nL 19.671875 64.59375 \r\nL 19.671875 43.109375 \r\nL 48.578125 43.109375 \r\nL 48.578125 34.8125 \r\nL 19.671875 34.8125 \r\nL 19.671875 0 \r\nL 9.8125 0 \r\nz\r\n\" id=\"DejaVuSans-70\"/>\r\n       <path d=\"M 56.203125 29.59375 \r\nL 56.203125 25.203125 \r\nL 14.890625 25.203125 \r\nQ 15.484375 15.921875 20.484375 11.0625 \r\nQ 25.484375 6.203125 34.421875 6.203125 \r\nQ 39.59375 6.203125 44.453125 7.46875 \r\nQ 49.3125 8.734375 54.109375 11.28125 \r\nL 54.109375 2.78125 \r\nQ 49.265625 0.734375 44.1875 -0.34375 \r\nQ 39.109375 -1.421875 33.890625 -1.421875 \r\nQ 20.796875 -1.421875 13.15625 6.1875 \r\nQ 5.515625 13.8125 5.515625 26.8125 \r\nQ 5.515625 40.234375 12.765625 48.109375 \r\nQ 20.015625 56 32.328125 56 \r\nQ 43.359375 56 49.78125 48.890625 \r\nQ 56.203125 41.796875 56.203125 29.59375 \r\nz\r\nM 47.21875 32.234375 \r\nQ 47.125 39.59375 43.09375 43.984375 \r\nQ 39.0625 48.390625 32.421875 48.390625 \r\nQ 24.90625 48.390625 20.390625 44.140625 \r\nQ 15.875 39.890625 15.1875 32.171875 \r\nz\r\n\" id=\"DejaVuSans-101\"/>\r\n       <path d=\"M 5.515625 54.6875 \r\nL 48.1875 54.6875 \r\nL 48.1875 46.484375 \r\nL 14.40625 7.171875 \r\nL 48.1875 7.171875 \r\nL 48.1875 0 \r\nL 4.296875 0 \r\nL 4.296875 8.203125 \r\nL 38.09375 47.515625 \r\nL 5.515625 47.515625 \r\nz\r\n\" id=\"DejaVuSans-122\"/>\r\n      </defs>\r\n      <g transform=\"translate(217.125 292.733125)rotate(-90)scale(0.1 -0.1)\">\r\n       <use xlink:href=\"#DejaVuSans-70\"/>\r\n       <use x=\"53.894531\" xlink:href=\"#DejaVuSans-111\"/>\r\n       <use x=\"115.076172\" xlink:href=\"#DejaVuSans-114\"/>\r\n       <use x=\"156.189453\" xlink:href=\"#DejaVuSans-116\"/>\r\n       <use x=\"195.398438\" xlink:href=\"#DejaVuSans-97\"/>\r\n       <use x=\"256.677734\" xlink:href=\"#DejaVuSans-108\"/>\r\n       <use x=\"284.460938\" xlink:href=\"#DejaVuSans-101\"/>\r\n       <use x=\"345.984375\" xlink:href=\"#DejaVuSans-122\"/>\r\n       <use x=\"398.474609\" xlink:href=\"#DejaVuSans-97\"/>\r\n      </g>\r\n     </g>\r\n    </g>\r\n    <g id=\"xtick_4\">\r\n     <g id=\"line2d_4\">\r\n      <g>\r\n       <use style=\"stroke:#000000;stroke-width:0.8;\" x=\"281.325625\" xlink:href=\"#me9b1ab781e\" y=\"239.758125\"/>\r\n      </g>\r\n     </g>\r\n     <g id=\"text_4\">\r\n      <!-- Recife -->\r\n      <defs>\r\n       <path d=\"M 44.390625 34.1875 \r\nQ 47.5625 33.109375 50.5625 29.59375 \r\nQ 53.5625 26.078125 56.59375 19.921875 \r\nL 66.609375 0 \r\nL 56 0 \r\nL 46.6875 18.703125 \r\nQ 43.0625 26.03125 39.671875 28.421875 \r\nQ 36.28125 30.8125 30.421875 30.8125 \r\nL 19.671875 30.8125 \r\nL 19.671875 0 \r\nL 9.8125 0 \r\nL 9.8125 72.90625 \r\nL 32.078125 72.90625 \r\nQ 44.578125 72.90625 50.734375 67.671875 \r\nQ 56.890625 62.453125 56.890625 51.90625 \r\nQ 56.890625 45.015625 53.6875 40.46875 \r\nQ 50.484375 35.9375 44.390625 34.1875 \r\nz\r\nM 19.671875 64.796875 \r\nL 19.671875 38.921875 \r\nL 32.078125 38.921875 \r\nQ 39.203125 38.921875 42.84375 42.21875 \r\nQ 46.484375 45.515625 46.484375 51.90625 \r\nQ 46.484375 58.296875 42.84375 61.546875 \r\nQ 39.203125 64.796875 32.078125 64.796875 \r\nz\r\n\" id=\"DejaVuSans-82\"/>\r\n       <path d=\"M 48.78125 52.59375 \r\nL 48.78125 44.1875 \r\nQ 44.96875 46.296875 41.140625 47.34375 \r\nQ 37.3125 48.390625 33.40625 48.390625 \r\nQ 24.65625 48.390625 19.8125 42.84375 \r\nQ 14.984375 37.3125 14.984375 27.296875 \r\nQ 14.984375 17.28125 19.8125 11.734375 \r\nQ 24.65625 6.203125 33.40625 6.203125 \r\nQ 37.3125 6.203125 41.140625 7.25 \r\nQ 44.96875 8.296875 48.78125 10.40625 \r\nL 48.78125 2.09375 \r\nQ 45.015625 0.34375 40.984375 -0.53125 \r\nQ 36.96875 -1.421875 32.421875 -1.421875 \r\nQ 20.0625 -1.421875 12.78125 6.34375 \r\nQ 5.515625 14.109375 5.515625 27.296875 \r\nQ 5.515625 40.671875 12.859375 48.328125 \r\nQ 20.21875 56 33.015625 56 \r\nQ 37.15625 56 41.109375 55.140625 \r\nQ 45.0625 54.296875 48.78125 52.59375 \r\nz\r\n\" id=\"DejaVuSans-99\"/>\r\n       <path d=\"M 9.421875 54.6875 \r\nL 18.40625 54.6875 \r\nL 18.40625 0 \r\nL 9.421875 0 \r\nz\r\nM 9.421875 75.984375 \r\nL 18.40625 75.984375 \r\nL 18.40625 64.59375 \r\nL 9.421875 64.59375 \r\nz\r\n\" id=\"DejaVuSans-105\"/>\r\n       <path d=\"M 37.109375 75.984375 \r\nL 37.109375 68.5 \r\nL 28.515625 68.5 \r\nQ 23.6875 68.5 21.796875 66.546875 \r\nQ 19.921875 64.59375 19.921875 59.515625 \r\nL 19.921875 54.6875 \r\nL 34.71875 54.6875 \r\nL 34.71875 47.703125 \r\nL 19.921875 47.703125 \r\nL 19.921875 0 \r\nL 10.890625 0 \r\nL 10.890625 47.703125 \r\nL 2.296875 47.703125 \r\nL 2.296875 54.6875 \r\nL 10.890625 54.6875 \r\nL 10.890625 58.5 \r\nQ 10.890625 67.625 15.140625 71.796875 \r\nQ 19.390625 75.984375 28.609375 75.984375 \r\nz\r\n\" id=\"DejaVuSans-102\"/>\r\n      </defs>\r\n      <g transform=\"translate(284.085 277.359688)rotate(-90)scale(0.1 -0.1)\">\r\n       <use xlink:href=\"#DejaVuSans-82\"/>\r\n       <use x=\"64.982422\" xlink:href=\"#DejaVuSans-101\"/>\r\n       <use x=\"126.505859\" xlink:href=\"#DejaVuSans-99\"/>\r\n       <use x=\"181.486328\" xlink:href=\"#DejaVuSans-105\"/>\r\n       <use x=\"209.269531\" xlink:href=\"#DejaVuSans-102\"/>\r\n       <use x=\"244.474609\" xlink:href=\"#DejaVuSans-101\"/>\r\n      </g>\r\n     </g>\r\n    </g>\r\n    <g id=\"xtick_5\">\r\n     <g id=\"line2d_5\">\r\n      <g>\r\n       <use style=\"stroke:#000000;stroke-width:0.8;\" x=\"348.285625\" xlink:href=\"#me9b1ab781e\" y=\"239.758125\"/>\r\n      </g>\r\n     </g>\r\n     <g id=\"text_5\">\r\n      <!-- Aracaju -->\r\n      <defs>\r\n       <path d=\"M 34.1875 63.1875 \r\nL 20.796875 26.90625 \r\nL 47.609375 26.90625 \r\nz\r\nM 28.609375 72.90625 \r\nL 39.796875 72.90625 \r\nL 67.578125 0 \r\nL 57.328125 0 \r\nL 50.6875 18.703125 \r\nL 17.828125 18.703125 \r\nL 11.1875 0 \r\nL 0.78125 0 \r\nz\r\n\" id=\"DejaVuSans-65\"/>\r\n       <path d=\"M 9.421875 54.6875 \r\nL 18.40625 54.6875 \r\nL 18.40625 -0.984375 \r\nQ 18.40625 -11.421875 14.421875 -16.109375 \r\nQ 10.453125 -20.796875 1.609375 -20.796875 \r\nL -1.8125 -20.796875 \r\nL -1.8125 -13.1875 \r\nL 0.59375 -13.1875 \r\nQ 5.71875 -13.1875 7.5625 -10.8125 \r\nQ 9.421875 -8.453125 9.421875 -0.984375 \r\nz\r\nM 9.421875 75.984375 \r\nL 18.40625 75.984375 \r\nL 18.40625 64.59375 \r\nL 9.421875 64.59375 \r\nz\r\n\" id=\"DejaVuSans-106\"/>\r\n       <path d=\"M 8.5 21.578125 \r\nL 8.5 54.6875 \r\nL 17.484375 54.6875 \r\nL 17.484375 21.921875 \r\nQ 17.484375 14.15625 20.5 10.265625 \r\nQ 23.53125 6.390625 29.59375 6.390625 \r\nQ 36.859375 6.390625 41.078125 11.03125 \r\nQ 45.3125 15.671875 45.3125 23.6875 \r\nL 45.3125 54.6875 \r\nL 54.296875 54.6875 \r\nL 54.296875 0 \r\nL 45.3125 0 \r\nL 45.3125 8.40625 \r\nQ 42.046875 3.421875 37.71875 1 \r\nQ 33.40625 -1.421875 27.6875 -1.421875 \r\nQ 18.265625 -1.421875 13.375 4.4375 \r\nQ 8.5 10.296875 8.5 21.578125 \r\nz\r\nM 31.109375 56 \r\nz\r\n\" id=\"DejaVuSans-117\"/>\r\n      </defs>\r\n      <g transform=\"translate(351.045 284.58)rotate(-90)scale(0.1 -0.1)\">\r\n       <use xlink:href=\"#DejaVuSans-65\"/>\r\n       <use x=\"68.408203\" xlink:href=\"#DejaVuSans-114\"/>\r\n       <use x=\"109.521484\" xlink:href=\"#DejaVuSans-97\"/>\r\n       <use x=\"170.800781\" xlink:href=\"#DejaVuSans-99\"/>\r\n       <use x=\"225.78125\" xlink:href=\"#DejaVuSans-97\"/>\r\n       <use x=\"287.060547\" xlink:href=\"#DejaVuSans-106\"/>\r\n       <use x=\"314.84375\" xlink:href=\"#DejaVuSans-117\"/>\r\n      </g>\r\n     </g>\r\n    </g>\r\n    <g id=\"text_6\">\r\n     <!-- Cidade -->\r\n     <defs>\r\n      <path d=\"M 64.40625 67.28125 \r\nL 64.40625 56.890625 \r\nQ 59.421875 61.53125 53.78125 63.8125 \r\nQ 48.140625 66.109375 41.796875 66.109375 \r\nQ 29.296875 66.109375 22.65625 58.46875 \r\nQ 16.015625 50.828125 16.015625 36.375 \r\nQ 16.015625 21.96875 22.65625 14.328125 \r\nQ 29.296875 6.6875 41.796875 6.6875 \r\nQ 48.140625 6.6875 53.78125 8.984375 \r\nQ 59.421875 11.28125 64.40625 15.921875 \r\nL 64.40625 5.609375 \r\nQ 59.234375 2.09375 53.4375 0.328125 \r\nQ 47.65625 -1.421875 41.21875 -1.421875 \r\nQ 24.65625 -1.421875 15.125 8.703125 \r\nQ 5.609375 18.84375 5.609375 36.375 \r\nQ 5.609375 53.953125 15.125 64.078125 \r\nQ 24.65625 74.21875 41.21875 74.21875 \r\nQ 47.75 74.21875 53.53125 72.484375 \r\nQ 59.328125 70.75 64.40625 67.28125 \r\nz\r\n\" id=\"DejaVuSans-67\"/>\r\n     </defs>\r\n     <g transform=\"translate(196.996094 304.331563)scale(0.1 -0.1)\">\r\n      <use xlink:href=\"#DejaVuSans-67\"/>\r\n      <use x=\"69.824219\" xlink:href=\"#DejaVuSans-105\"/>\r\n      <use x=\"97.607422\" xlink:href=\"#DejaVuSans-100\"/>\r\n      <use x=\"161.083984\" xlink:href=\"#DejaVuSans-97\"/>\r\n      <use x=\"222.363281\" xlink:href=\"#DejaVuSans-100\"/>\r\n      <use x=\"285.839844\" xlink:href=\"#DejaVuSans-101\"/>\r\n     </g>\r\n    </g>\r\n   </g>\r\n   <g id=\"matplotlib.axis_2\">\r\n    <g id=\"ytick_1\">\r\n     <g id=\"line2d_6\">\r\n      <defs>\r\n       <path d=\"M 0 0 \r\nL -3.5 0 \r\n\" id=\"mbfb046b169\" style=\"stroke:#000000;stroke-width:0.8;\"/>\r\n      </defs>\r\n      <g>\r\n       <use style=\"stroke:#000000;stroke-width:0.8;\" x=\"46.965625\" xlink:href=\"#mbfb046b169\" y=\"239.758125\"/>\r\n      </g>\r\n     </g>\r\n     <g id=\"text_7\">\r\n      <!-- 0 -->\r\n      <defs>\r\n       <path d=\"M 31.78125 66.40625 \r\nQ 24.171875 66.40625 20.328125 58.90625 \r\nQ 16.5 51.421875 16.5 36.375 \r\nQ 16.5 21.390625 20.328125 13.890625 \r\nQ 24.171875 6.390625 31.78125 6.390625 \r\nQ 39.453125 6.390625 43.28125 13.890625 \r\nQ 47.125 21.390625 47.125 36.375 \r\nQ 47.125 51.421875 43.28125 58.90625 \r\nQ 39.453125 66.40625 31.78125 66.40625 \r\nz\r\nM 31.78125 74.21875 \r\nQ 44.046875 74.21875 50.515625 64.515625 \r\nQ 56.984375 54.828125 56.984375 36.375 \r\nQ 56.984375 17.96875 50.515625 8.265625 \r\nQ 44.046875 -1.421875 31.78125 -1.421875 \r\nQ 19.53125 -1.421875 13.0625 8.265625 \r\nQ 6.59375 17.96875 6.59375 36.375 \r\nQ 6.59375 54.828125 13.0625 64.515625 \r\nQ 19.53125 74.21875 31.78125 74.21875 \r\nz\r\n\" id=\"DejaVuSans-48\"/>\r\n      </defs>\r\n      <g transform=\"translate(33.603125 243.557344)scale(0.1 -0.1)\">\r\n       <use xlink:href=\"#DejaVuSans-48\"/>\r\n      </g>\r\n     </g>\r\n    </g>\r\n    <g id=\"ytick_2\">\r\n     <g id=\"line2d_7\">\r\n      <g>\r\n       <use style=\"stroke:#000000;stroke-width:0.8;\" x=\"46.965625\" xlink:href=\"#mbfb046b169\" y=\"196.615268\"/>\r\n      </g>\r\n     </g>\r\n     <g id=\"text_8\">\r\n      <!-- 50 -->\r\n      <defs>\r\n       <path d=\"M 10.796875 72.90625 \r\nL 49.515625 72.90625 \r\nL 49.515625 64.59375 \r\nL 19.828125 64.59375 \r\nL 19.828125 46.734375 \r\nQ 21.96875 47.46875 24.109375 47.828125 \r\nQ 26.265625 48.1875 28.421875 48.1875 \r\nQ 40.625 48.1875 47.75 41.5 \r\nQ 54.890625 34.8125 54.890625 23.390625 \r\nQ 54.890625 11.625 47.5625 5.09375 \r\nQ 40.234375 -1.421875 26.90625 -1.421875 \r\nQ 22.3125 -1.421875 17.546875 -0.640625 \r\nQ 12.796875 0.140625 7.71875 1.703125 \r\nL 7.71875 11.625 \r\nQ 12.109375 9.234375 16.796875 8.0625 \r\nQ 21.484375 6.890625 26.703125 6.890625 \r\nQ 35.15625 6.890625 40.078125 11.328125 \r\nQ 45.015625 15.765625 45.015625 23.390625 \r\nQ 45.015625 31 40.078125 35.4375 \r\nQ 35.15625 39.890625 26.703125 39.890625 \r\nQ 22.75 39.890625 18.8125 39.015625 \r\nQ 14.890625 38.140625 10.796875 36.28125 \r\nz\r\n\" id=\"DejaVuSans-53\"/>\r\n      </defs>\r\n      <g transform=\"translate(27.240625 200.414487)scale(0.1 -0.1)\">\r\n       <use xlink:href=\"#DejaVuSans-53\"/>\r\n       <use x=\"63.623047\" xlink:href=\"#DejaVuSans-48\"/>\r\n      </g>\r\n     </g>\r\n    </g>\r\n    <g id=\"ytick_3\">\r\n     <g id=\"line2d_8\">\r\n      <g>\r\n       <use style=\"stroke:#000000;stroke-width:0.8;\" x=\"46.965625\" xlink:href=\"#mbfb046b169\" y=\"153.472411\"/>\r\n      </g>\r\n     </g>\r\n     <g id=\"text_9\">\r\n      <!-- 100 -->\r\n      <defs>\r\n       <path d=\"M 12.40625 8.296875 \r\nL 28.515625 8.296875 \r\nL 28.515625 63.921875 \r\nL 10.984375 60.40625 \r\nL 10.984375 69.390625 \r\nL 28.421875 72.90625 \r\nL 38.28125 72.90625 \r\nL 38.28125 8.296875 \r\nL 54.390625 8.296875 \r\nL 54.390625 0 \r\nL 12.40625 0 \r\nz\r\n\" id=\"DejaVuSans-49\"/>\r\n      </defs>\r\n      <g transform=\"translate(20.878125 157.271629)scale(0.1 -0.1)\">\r\n       <use xlink:href=\"#DejaVuSans-49\"/>\r\n       <use x=\"63.623047\" xlink:href=\"#DejaVuSans-48\"/>\r\n       <use x=\"127.246094\" xlink:href=\"#DejaVuSans-48\"/>\r\n      </g>\r\n     </g>\r\n    </g>\r\n    <g id=\"ytick_4\">\r\n     <g id=\"line2d_9\">\r\n      <g>\r\n       <use style=\"stroke:#000000;stroke-width:0.8;\" x=\"46.965625\" xlink:href=\"#mbfb046b169\" y=\"110.329554\"/>\r\n      </g>\r\n     </g>\r\n     <g id=\"text_10\">\r\n      <!-- 150 -->\r\n      <g transform=\"translate(20.878125 114.128772)scale(0.1 -0.1)\">\r\n       <use xlink:href=\"#DejaVuSans-49\"/>\r\n       <use x=\"63.623047\" xlink:href=\"#DejaVuSans-53\"/>\r\n       <use x=\"127.246094\" xlink:href=\"#DejaVuSans-48\"/>\r\n      </g>\r\n     </g>\r\n    </g>\r\n    <g id=\"ytick_5\">\r\n     <g id=\"line2d_10\">\r\n      <g>\r\n       <use style=\"stroke:#000000;stroke-width:0.8;\" x=\"46.965625\" xlink:href=\"#mbfb046b169\" y=\"67.186696\"/>\r\n      </g>\r\n     </g>\r\n     <g id=\"text_11\">\r\n      <!-- 200 -->\r\n      <defs>\r\n       <path d=\"M 19.1875 8.296875 \r\nL 53.609375 8.296875 \r\nL 53.609375 0 \r\nL 7.328125 0 \r\nL 7.328125 8.296875 \r\nQ 12.9375 14.109375 22.625 23.890625 \r\nQ 32.328125 33.6875 34.8125 36.53125 \r\nQ 39.546875 41.84375 41.421875 45.53125 \r\nQ 43.3125 49.21875 43.3125 52.78125 \r\nQ 43.3125 58.59375 39.234375 62.25 \r\nQ 35.15625 65.921875 28.609375 65.921875 \r\nQ 23.96875 65.921875 18.8125 64.3125 \r\nQ 13.671875 62.703125 7.8125 59.421875 \r\nL 7.8125 69.390625 \r\nQ 13.765625 71.78125 18.9375 73 \r\nQ 24.125 74.21875 28.421875 74.21875 \r\nQ 39.75 74.21875 46.484375 68.546875 \r\nQ 53.21875 62.890625 53.21875 53.421875 \r\nQ 53.21875 48.921875 51.53125 44.890625 \r\nQ 49.859375 40.875 45.40625 35.40625 \r\nQ 44.1875 33.984375 37.640625 27.21875 \r\nQ 31.109375 20.453125 19.1875 8.296875 \r\nz\r\n\" id=\"DejaVuSans-50\"/>\r\n      </defs>\r\n      <g transform=\"translate(20.878125 70.985915)scale(0.1 -0.1)\">\r\n       <use xlink:href=\"#DejaVuSans-50\"/>\r\n       <use x=\"63.623047\" xlink:href=\"#DejaVuSans-48\"/>\r\n       <use x=\"127.246094\" xlink:href=\"#DejaVuSans-48\"/>\r\n      </g>\r\n     </g>\r\n    </g>\r\n    <g id=\"ytick_6\">\r\n     <g id=\"line2d_11\">\r\n      <g>\r\n       <use style=\"stroke:#000000;stroke-width:0.8;\" x=\"46.965625\" xlink:href=\"#mbfb046b169\" y=\"24.043839\"/>\r\n      </g>\r\n     </g>\r\n     <g id=\"text_12\">\r\n      <!-- 250 -->\r\n      <g transform=\"translate(20.878125 27.843058)scale(0.1 -0.1)\">\r\n       <use xlink:href=\"#DejaVuSans-50\"/>\r\n       <use x=\"63.623047\" xlink:href=\"#DejaVuSans-53\"/>\r\n       <use x=\"127.246094\" xlink:href=\"#DejaVuSans-48\"/>\r\n      </g>\r\n     </g>\r\n    </g>\r\n    <g id=\"text_13\">\r\n     <!-- Total Vendas -->\r\n     <defs>\r\n      <path d=\"M -0.296875 72.90625 \r\nL 61.375 72.90625 \r\nL 61.375 64.59375 \r\nL 35.5 64.59375 \r\nL 35.5 0 \r\nL 25.59375 0 \r\nL 25.59375 64.59375 \r\nL -0.296875 64.59375 \r\nz\r\n\" id=\"DejaVuSans-84\"/>\r\n      <path id=\"DejaVuSans-32\"/>\r\n      <path d=\"M 28.609375 0 \r\nL 0.78125 72.90625 \r\nL 11.078125 72.90625 \r\nL 34.1875 11.53125 \r\nL 57.328125 72.90625 \r\nL 67.578125 72.90625 \r\nL 39.796875 0 \r\nz\r\n\" id=\"DejaVuSans-86\"/>\r\n      <path d=\"M 54.890625 33.015625 \r\nL 54.890625 0 \r\nL 45.90625 0 \r\nL 45.90625 32.71875 \r\nQ 45.90625 40.484375 42.875 44.328125 \r\nQ 39.84375 48.1875 33.796875 48.1875 \r\nQ 26.515625 48.1875 22.3125 43.546875 \r\nQ 18.109375 38.921875 18.109375 30.90625 \r\nL 18.109375 0 \r\nL 9.078125 0 \r\nL 9.078125 54.6875 \r\nL 18.109375 54.6875 \r\nL 18.109375 46.1875 \r\nQ 21.34375 51.125 25.703125 53.5625 \r\nQ 30.078125 56 35.796875 56 \r\nQ 45.21875 56 50.046875 50.171875 \r\nQ 54.890625 44.34375 54.890625 33.015625 \r\nz\r\n\" id=\"DejaVuSans-110\"/>\r\n      <path d=\"M 44.28125 53.078125 \r\nL 44.28125 44.578125 \r\nQ 40.484375 46.53125 36.375 47.5 \r\nQ 32.28125 48.484375 27.875 48.484375 \r\nQ 21.1875 48.484375 17.84375 46.4375 \r\nQ 14.5 44.390625 14.5 40.28125 \r\nQ 14.5 37.15625 16.890625 35.375 \r\nQ 19.28125 33.59375 26.515625 31.984375 \r\nL 29.59375 31.296875 \r\nQ 39.15625 29.25 43.1875 25.515625 \r\nQ 47.21875 21.78125 47.21875 15.09375 \r\nQ 47.21875 7.46875 41.1875 3.015625 \r\nQ 35.15625 -1.421875 24.609375 -1.421875 \r\nQ 20.21875 -1.421875 15.453125 -0.5625 \r\nQ 10.6875 0.296875 5.421875 2 \r\nL 5.421875 11.28125 \r\nQ 10.40625 8.6875 15.234375 7.390625 \r\nQ 20.0625 6.109375 24.8125 6.109375 \r\nQ 31.15625 6.109375 34.5625 8.28125 \r\nQ 37.984375 10.453125 37.984375 14.40625 \r\nQ 37.984375 18.0625 35.515625 20.015625 \r\nQ 33.0625 21.96875 24.703125 23.78125 \r\nL 21.578125 24.515625 \r\nQ 13.234375 26.265625 9.515625 29.90625 \r\nQ 5.8125 33.546875 5.8125 39.890625 \r\nQ 5.8125 47.609375 11.28125 51.796875 \r\nQ 16.75 56 26.8125 56 \r\nQ 31.78125 56 36.171875 55.265625 \r\nQ 40.578125 54.546875 44.28125 53.078125 \r\nz\r\n\" id=\"DejaVuSans-115\"/>\r\n     </defs>\r\n     <g transform=\"translate(14.798438 162.424844)rotate(-90)scale(0.1 -0.1)\">\r\n      <use xlink:href=\"#DejaVuSans-84\"/>\r\n      <use x=\"44.083984\" xlink:href=\"#DejaVuSans-111\"/>\r\n      <use x=\"105.265625\" xlink:href=\"#DejaVuSans-116\"/>\r\n      <use x=\"144.474609\" xlink:href=\"#DejaVuSans-97\"/>\r\n      <use x=\"205.753906\" xlink:href=\"#DejaVuSans-108\"/>\r\n      <use x=\"233.537109\" xlink:href=\"#DejaVuSans-32\"/>\r\n      <use x=\"265.324219\" xlink:href=\"#DejaVuSans-86\"/>\r\n      <use x=\"325.982422\" xlink:href=\"#DejaVuSans-101\"/>\r\n      <use x=\"387.505859\" xlink:href=\"#DejaVuSans-110\"/>\r\n      <use x=\"450.884766\" xlink:href=\"#DejaVuSans-100\"/>\r\n      <use x=\"514.361328\" xlink:href=\"#DejaVuSans-97\"/>\r\n      <use x=\"575.640625\" xlink:href=\"#DejaVuSans-115\"/>\r\n     </g>\r\n    </g>\r\n   </g>\r\n   <g id=\"patch_8\">\r\n    <path d=\"M 46.965625 239.758125 \r\nL 46.965625 22.318125 \r\n\" style=\"fill:none;stroke:#000000;stroke-linecap:square;stroke-linejoin:miter;stroke-width:0.8;\"/>\r\n   </g>\r\n   <g id=\"patch_9\">\r\n    <path d=\"M 381.765625 239.758125 \r\nL 381.765625 22.318125 \r\n\" style=\"fill:none;stroke:#000000;stroke-linecap:square;stroke-linejoin:miter;stroke-width:0.8;\"/>\r\n   </g>\r\n   <g id=\"patch_10\">\r\n    <path d=\"M 46.965625 239.758125 \r\nL 381.765625 239.758125 \r\n\" style=\"fill:none;stroke:#000000;stroke-linecap:square;stroke-linejoin:miter;stroke-width:0.8;\"/>\r\n   </g>\r\n   <g id=\"patch_11\">\r\n    <path d=\"M 46.965625 22.318125 \r\nL 381.765625 22.318125 \r\n\" style=\"fill:none;stroke:#000000;stroke-linecap:square;stroke-linejoin:miter;stroke-width:0.8;\"/>\r\n   </g>\r\n   <g id=\"text_14\">\r\n    <!-- Total vendas por Cidade -->\r\n    <defs>\r\n     <path d=\"M 18.109375 8.203125 \r\nL 18.109375 -20.796875 \r\nL 9.078125 -20.796875 \r\nL 9.078125 54.6875 \r\nL 18.109375 54.6875 \r\nL 18.109375 46.390625 \r\nQ 20.953125 51.265625 25.265625 53.625 \r\nQ 29.59375 56 35.59375 56 \r\nQ 45.5625 56 51.78125 48.09375 \r\nQ 58.015625 40.1875 58.015625 27.296875 \r\nQ 58.015625 14.40625 51.78125 6.484375 \r\nQ 45.5625 -1.421875 35.59375 -1.421875 \r\nQ 29.59375 -1.421875 25.265625 0.953125 \r\nQ 20.953125 3.328125 18.109375 8.203125 \r\nz\r\nM 48.6875 27.296875 \r\nQ 48.6875 37.203125 44.609375 42.84375 \r\nQ 40.53125 48.484375 33.40625 48.484375 \r\nQ 26.265625 48.484375 22.1875 42.84375 \r\nQ 18.109375 37.203125 18.109375 27.296875 \r\nQ 18.109375 17.390625 22.1875 11.75 \r\nQ 26.265625 6.109375 33.40625 6.109375 \r\nQ 40.53125 6.109375 44.609375 11.75 \r\nQ 48.6875 17.390625 48.6875 27.296875 \r\nz\r\n\" id=\"DejaVuSans-112\"/>\r\n    </defs>\r\n    <g transform=\"translate(142.185625 16.318125)scale(0.12 -0.12)\">\r\n     <use xlink:href=\"#DejaVuSans-84\"/>\r\n     <use x=\"44.083984\" xlink:href=\"#DejaVuSans-111\"/>\r\n     <use x=\"105.265625\" xlink:href=\"#DejaVuSans-116\"/>\r\n     <use x=\"144.474609\" xlink:href=\"#DejaVuSans-97\"/>\r\n     <use x=\"205.753906\" xlink:href=\"#DejaVuSans-108\"/>\r\n     <use x=\"233.537109\" xlink:href=\"#DejaVuSans-32\"/>\r\n     <use x=\"265.324219\" xlink:href=\"#DejaVuSans-118\"/>\r\n     <use x=\"324.503906\" xlink:href=\"#DejaVuSans-101\"/>\r\n     <use x=\"386.027344\" xlink:href=\"#DejaVuSans-110\"/>\r\n     <use x=\"449.40625\" xlink:href=\"#DejaVuSans-100\"/>\r\n     <use x=\"512.882812\" xlink:href=\"#DejaVuSans-97\"/>\r\n     <use x=\"574.162109\" xlink:href=\"#DejaVuSans-115\"/>\r\n     <use x=\"626.261719\" xlink:href=\"#DejaVuSans-32\"/>\r\n     <use x=\"658.048828\" xlink:href=\"#DejaVuSans-112\"/>\r\n     <use x=\"721.525391\" xlink:href=\"#DejaVuSans-111\"/>\r\n     <use x=\"782.707031\" xlink:href=\"#DejaVuSans-114\"/>\r\n     <use x=\"823.820312\" xlink:href=\"#DejaVuSans-32\"/>\r\n     <use x=\"855.607422\" xlink:href=\"#DejaVuSans-67\"/>\r\n     <use x=\"925.431641\" xlink:href=\"#DejaVuSans-105\"/>\r\n     <use x=\"953.214844\" xlink:href=\"#DejaVuSans-100\"/>\r\n     <use x=\"1016.691406\" xlink:href=\"#DejaVuSans-97\"/>\r\n     <use x=\"1077.970703\" xlink:href=\"#DejaVuSans-100\"/>\r\n     <use x=\"1141.447266\" xlink:href=\"#DejaVuSans-101\"/>\r\n    </g>\r\n   </g>\r\n  </g>\r\n </g>\r\n <defs>\r\n  <clipPath id=\"pfaa30fab3a\">\r\n   <rect height=\"217.44\" width=\"334.8\" x=\"46.965625\" y=\"22.318125\"/>\r\n  </clipPath>\r\n </defs>\r\n</svg>\r\n",
            "image/png": "[encoded data removed]"
          },
          "metadata": {
            "needs_background": "light"
          }
        }
      ],
      "metadata": {
        "id": "Gtp8f-8wTK82",
        "colab_type": "code",
        "colab": {
          "base_uri": "https://localhost:8080/",
          "height": 522
        },
        "outputId": "8cc99270-325b-4ee0-a0e1-2edbf11202a7"
      }
    },
    {
      "cell_type": "code",
      "execution_count": 55,
      "source": [
        "#Alterando o estilo\r\n",
        "plt.style.use(\"ggplot\")"
      ],
      "outputs": [],
      "metadata": {
        "id": "7ee4w2uHVBHJ",
        "colab_type": "code",
        "colab": {}
      }
    },
    {
      "cell_type": "code",
      "execution_count": 56,
      "source": [
        "df.groupby(df[\"mes_venda\"])[\"Qtde\"].sum().plot(title = \"Total Produtos vendidos x mês\")\r\n",
        "plt.xlabel(\"Mês\")\r\n",
        "plt.ylabel(\"Total Produtos Vendidos\")\r\n",
        "plt.legend()"
      ],
      "outputs": [
        {
          "output_type": "execute_result",
          "data": {
            "text/plain": [
              "<matplotlib.legend.Legend at 0x1d2bbb80c70>"
            ]
          },
          "metadata": {},
          "execution_count": 56
        },
        {
          "output_type": "display_data",
          "data": {
            "text/plain": [
              "<Figure size 432x288 with 1 Axes>"
            ],
            "image/svg+xml": "<?xml version=\"1.0\" encoding=\"utf-8\" standalone=\"no\"?>\r\n<!DOCTYPE svg PUBLIC \"-//W3C//DTD SVG 1.1//EN\"\r\n  \"http://www.w3.org/Graphics/SVG/1.1/DTD/svg11.dtd\">\r\n<!-- Created with matplotlib (https://matplotlib.org/) -->\r\n<svg height=\"281.073625pt\" version=\"1.1\" viewBox=\"0 0 397.26375 281.073625\" width=\"397.26375pt\" xmlns=\"http://www.w3.org/2000/svg\" xmlns:xlink=\"http://www.w3.org/1999/xlink\">\r\n <defs>\r\n  <style type=\"text/css\">\r\n*{stroke-linecap:butt;stroke-linejoin:round;}\r\n  </style>\r\n </defs>\r\n <g id=\"figure_1\">\r\n  <g id=\"patch_1\">\r\n   <path d=\"M 0 281.073625 \r\nL 397.26375 281.073625 \r\nL 397.26375 0 \r\nL 0 0 \r\nz\r\n\" style=\"fill:#ffffff;\"/>\r\n  </g>\r\n  <g id=\"axes_1\">\r\n   <g id=\"patch_2\">\r\n    <path d=\"M 55.26375 241.58175 \r\nL 390.06375 241.58175 \r\nL 390.06375 24.14175 \r\nL 55.26375 24.14175 \r\nz\r\n\" style=\"fill:#e5e5e5;\"/>\r\n   </g>\r\n   <g id=\"matplotlib.axis_1\">\r\n    <g id=\"xtick_1\">\r\n     <g id=\"line2d_1\">\r\n      <path clip-path=\"url(#p97dd020ab7)\" d=\"M 98.151353 241.58175 \r\nL 98.151353 24.14175 \r\n\" style=\"fill:none;stroke:#ffffff;stroke-linecap:square;stroke-width:0.8;\"/>\r\n     </g>\r\n     <g id=\"line2d_2\">\r\n      <defs>\r\n       <path d=\"M 0 0 \r\nL 0 3.5 \r\n\" id=\"m4a11b05589\" style=\"stroke:#555555;stroke-width:0.8;\"/>\r\n      </defs>\r\n      <g>\r\n       <use style=\"fill:#555555;stroke:#555555;stroke-width:0.8;\" x=\"98.151353\" xlink:href=\"#m4a11b05589\" y=\"241.58175\"/>\r\n      </g>\r\n     </g>\r\n     <g id=\"text_1\">\r\n      <!-- 2 -->\r\n      <defs>\r\n       <path d=\"M 19.1875 8.296875 \r\nL 53.609375 8.296875 \r\nL 53.609375 0 \r\nL 7.328125 0 \r\nL 7.328125 8.296875 \r\nQ 12.9375 14.109375 22.625 23.890625 \r\nQ 32.328125 33.6875 34.8125 36.53125 \r\nQ 39.546875 41.84375 41.421875 45.53125 \r\nQ 43.3125 49.21875 43.3125 52.78125 \r\nQ 43.3125 58.59375 39.234375 62.25 \r\nQ 35.15625 65.921875 28.609375 65.921875 \r\nQ 23.96875 65.921875 18.8125 64.3125 \r\nQ 13.671875 62.703125 7.8125 59.421875 \r\nL 7.8125 69.390625 \r\nQ 13.765625 71.78125 18.9375 73 \r\nQ 24.125 74.21875 28.421875 74.21875 \r\nQ 39.75 74.21875 46.484375 68.546875 \r\nQ 53.21875 62.890625 53.21875 53.421875 \r\nQ 53.21875 48.921875 51.53125 44.890625 \r\nQ 49.859375 40.875 45.40625 35.40625 \r\nQ 44.1875 33.984375 37.640625 27.21875 \r\nQ 31.109375 20.453125 19.1875 8.296875 \r\nz\r\n\" id=\"DejaVuSans-50\"/>\r\n      </defs>\r\n      <g style=\"fill:#555555;\" transform=\"translate(94.970103 256.180187)scale(0.1 -0.1)\">\r\n       <use xlink:href=\"#DejaVuSans-50\"/>\r\n      </g>\r\n     </g>\r\n    </g>\r\n    <g id=\"xtick_2\">\r\n     <g id=\"line2d_3\">\r\n      <path clip-path=\"url(#p97dd020ab7)\" d=\"M 153.490196 241.58175 \r\nL 153.490196 24.14175 \r\n\" style=\"fill:none;stroke:#ffffff;stroke-linecap:square;stroke-width:0.8;\"/>\r\n     </g>\r\n     <g id=\"line2d_4\">\r\n      <g>\r\n       <use style=\"fill:#555555;stroke:#555555;stroke-width:0.8;\" x=\"153.490196\" xlink:href=\"#m4a11b05589\" y=\"241.58175\"/>\r\n      </g>\r\n     </g>\r\n     <g id=\"text_2\">\r\n      <!-- 4 -->\r\n      <defs>\r\n       <path d=\"M 37.796875 64.3125 \r\nL 12.890625 25.390625 \r\nL 37.796875 25.390625 \r\nz\r\nM 35.203125 72.90625 \r\nL 47.609375 72.90625 \r\nL 47.609375 25.390625 \r\nL 58.015625 25.390625 \r\nL 58.015625 17.1875 \r\nL 47.609375 17.1875 \r\nL 47.609375 0 \r\nL 37.796875 0 \r\nL 37.796875 17.1875 \r\nL 4.890625 17.1875 \r\nL 4.890625 26.703125 \r\nz\r\n\" id=\"DejaVuSans-52\"/>\r\n      </defs>\r\n      <g style=\"fill:#555555;\" transform=\"translate(150.308946 256.180187)scale(0.1 -0.1)\">\r\n       <use xlink:href=\"#DejaVuSans-52\"/>\r\n      </g>\r\n     </g>\r\n    </g>\r\n    <g id=\"xtick_3\">\r\n     <g id=\"line2d_5\">\r\n      <path clip-path=\"url(#p97dd020ab7)\" d=\"M 208.829039 241.58175 \r\nL 208.829039 24.14175 \r\n\" style=\"fill:none;stroke:#ffffff;stroke-linecap:square;stroke-width:0.8;\"/>\r\n     </g>\r\n     <g id=\"line2d_6\">\r\n      <g>\r\n       <use style=\"fill:#555555;stroke:#555555;stroke-width:0.8;\" x=\"208.829039\" xlink:href=\"#m4a11b05589\" y=\"241.58175\"/>\r\n      </g>\r\n     </g>\r\n     <g id=\"text_3\">\r\n      <!-- 6 -->\r\n      <defs>\r\n       <path d=\"M 33.015625 40.375 \r\nQ 26.375 40.375 22.484375 35.828125 \r\nQ 18.609375 31.296875 18.609375 23.390625 \r\nQ 18.609375 15.53125 22.484375 10.953125 \r\nQ 26.375 6.390625 33.015625 6.390625 \r\nQ 39.65625 6.390625 43.53125 10.953125 \r\nQ 47.40625 15.53125 47.40625 23.390625 \r\nQ 47.40625 31.296875 43.53125 35.828125 \r\nQ 39.65625 40.375 33.015625 40.375 \r\nz\r\nM 52.59375 71.296875 \r\nL 52.59375 62.3125 \r\nQ 48.875 64.0625 45.09375 64.984375 \r\nQ 41.3125 65.921875 37.59375 65.921875 \r\nQ 27.828125 65.921875 22.671875 59.328125 \r\nQ 17.53125 52.734375 16.796875 39.40625 \r\nQ 19.671875 43.65625 24.015625 45.921875 \r\nQ 28.375 48.1875 33.59375 48.1875 \r\nQ 44.578125 48.1875 50.953125 41.515625 \r\nQ 57.328125 34.859375 57.328125 23.390625 \r\nQ 57.328125 12.15625 50.6875 5.359375 \r\nQ 44.046875 -1.421875 33.015625 -1.421875 \r\nQ 20.359375 -1.421875 13.671875 8.265625 \r\nQ 6.984375 17.96875 6.984375 36.375 \r\nQ 6.984375 53.65625 15.1875 63.9375 \r\nQ 23.390625 74.21875 37.203125 74.21875 \r\nQ 40.921875 74.21875 44.703125 73.484375 \r\nQ 48.484375 72.75 52.59375 71.296875 \r\nz\r\n\" id=\"DejaVuSans-54\"/>\r\n      </defs>\r\n      <g style=\"fill:#555555;\" transform=\"translate(205.647789 256.180187)scale(0.1 -0.1)\">\r\n       <use xlink:href=\"#DejaVuSans-54\"/>\r\n      </g>\r\n     </g>\r\n    </g>\r\n    <g id=\"xtick_4\">\r\n     <g id=\"line2d_7\">\r\n      <path clip-path=\"url(#p97dd020ab7)\" d=\"M 264.167882 241.58175 \r\nL 264.167882 24.14175 \r\n\" style=\"fill:none;stroke:#ffffff;stroke-linecap:square;stroke-width:0.8;\"/>\r\n     </g>\r\n     <g id=\"line2d_8\">\r\n      <g>\r\n       <use style=\"fill:#555555;stroke:#555555;stroke-width:0.8;\" x=\"264.167882\" xlink:href=\"#m4a11b05589\" y=\"241.58175\"/>\r\n      </g>\r\n     </g>\r\n     <g id=\"text_4\">\r\n      <!-- 8 -->\r\n      <defs>\r\n       <path d=\"M 31.78125 34.625 \r\nQ 24.75 34.625 20.71875 30.859375 \r\nQ 16.703125 27.09375 16.703125 20.515625 \r\nQ 16.703125 13.921875 20.71875 10.15625 \r\nQ 24.75 6.390625 31.78125 6.390625 \r\nQ 38.8125 6.390625 42.859375 10.171875 \r\nQ 46.921875 13.96875 46.921875 20.515625 \r\nQ 46.921875 27.09375 42.890625 30.859375 \r\nQ 38.875 34.625 31.78125 34.625 \r\nz\r\nM 21.921875 38.8125 \r\nQ 15.578125 40.375 12.03125 44.71875 \r\nQ 8.5 49.078125 8.5 55.328125 \r\nQ 8.5 64.0625 14.71875 69.140625 \r\nQ 20.953125 74.21875 31.78125 74.21875 \r\nQ 42.671875 74.21875 48.875 69.140625 \r\nQ 55.078125 64.0625 55.078125 55.328125 \r\nQ 55.078125 49.078125 51.53125 44.71875 \r\nQ 48 40.375 41.703125 38.8125 \r\nQ 48.828125 37.15625 52.796875 32.3125 \r\nQ 56.78125 27.484375 56.78125 20.515625 \r\nQ 56.78125 9.90625 50.3125 4.234375 \r\nQ 43.84375 -1.421875 31.78125 -1.421875 \r\nQ 19.734375 -1.421875 13.25 4.234375 \r\nQ 6.78125 9.90625 6.78125 20.515625 \r\nQ 6.78125 27.484375 10.78125 32.3125 \r\nQ 14.796875 37.15625 21.921875 38.8125 \r\nz\r\nM 18.3125 54.390625 \r\nQ 18.3125 48.734375 21.84375 45.5625 \r\nQ 25.390625 42.390625 31.78125 42.390625 \r\nQ 38.140625 42.390625 41.71875 45.5625 \r\nQ 45.3125 48.734375 45.3125 54.390625 \r\nQ 45.3125 60.0625 41.71875 63.234375 \r\nQ 38.140625 66.40625 31.78125 66.40625 \r\nQ 25.390625 66.40625 21.84375 63.234375 \r\nQ 18.3125 60.0625 18.3125 54.390625 \r\nz\r\n\" id=\"DejaVuSans-56\"/>\r\n      </defs>\r\n      <g style=\"fill:#555555;\" transform=\"translate(260.986632 256.180187)scale(0.1 -0.1)\">\r\n       <use xlink:href=\"#DejaVuSans-56\"/>\r\n      </g>\r\n     </g>\r\n    </g>\r\n    <g id=\"xtick_5\">\r\n     <g id=\"line2d_9\">\r\n      <path clip-path=\"url(#p97dd020ab7)\" d=\"M 319.506725 241.58175 \r\nL 319.506725 24.14175 \r\n\" style=\"fill:none;stroke:#ffffff;stroke-linecap:square;stroke-width:0.8;\"/>\r\n     </g>\r\n     <g id=\"line2d_10\">\r\n      <g>\r\n       <use style=\"fill:#555555;stroke:#555555;stroke-width:0.8;\" x=\"319.506725\" xlink:href=\"#m4a11b05589\" y=\"241.58175\"/>\r\n      </g>\r\n     </g>\r\n     <g id=\"text_5\">\r\n      <!-- 10 -->\r\n      <defs>\r\n       <path d=\"M 12.40625 8.296875 \r\nL 28.515625 8.296875 \r\nL 28.515625 63.921875 \r\nL 10.984375 60.40625 \r\nL 10.984375 69.390625 \r\nL 28.421875 72.90625 \r\nL 38.28125 72.90625 \r\nL 38.28125 8.296875 \r\nL 54.390625 8.296875 \r\nL 54.390625 0 \r\nL 12.40625 0 \r\nz\r\n\" id=\"DejaVuSans-49\"/>\r\n       <path d=\"M 31.78125 66.40625 \r\nQ 24.171875 66.40625 20.328125 58.90625 \r\nQ 16.5 51.421875 16.5 36.375 \r\nQ 16.5 21.390625 20.328125 13.890625 \r\nQ 24.171875 6.390625 31.78125 6.390625 \r\nQ 39.453125 6.390625 43.28125 13.890625 \r\nQ 47.125 21.390625 47.125 36.375 \r\nQ 47.125 51.421875 43.28125 58.90625 \r\nQ 39.453125 66.40625 31.78125 66.40625 \r\nz\r\nM 31.78125 74.21875 \r\nQ 44.046875 74.21875 50.515625 64.515625 \r\nQ 56.984375 54.828125 56.984375 36.375 \r\nQ 56.984375 17.96875 50.515625 8.265625 \r\nQ 44.046875 -1.421875 31.78125 -1.421875 \r\nQ 19.53125 -1.421875 13.0625 8.265625 \r\nQ 6.59375 17.96875 6.59375 36.375 \r\nQ 6.59375 54.828125 13.0625 64.515625 \r\nQ 19.53125 74.21875 31.78125 74.21875 \r\nz\r\n\" id=\"DejaVuSans-48\"/>\r\n      </defs>\r\n      <g style=\"fill:#555555;\" transform=\"translate(313.144225 256.180187)scale(0.1 -0.1)\">\r\n       <use xlink:href=\"#DejaVuSans-49\"/>\r\n       <use x=\"63.623047\" xlink:href=\"#DejaVuSans-48\"/>\r\n      </g>\r\n     </g>\r\n    </g>\r\n    <g id=\"xtick_6\">\r\n     <g id=\"line2d_11\">\r\n      <path clip-path=\"url(#p97dd020ab7)\" d=\"M 374.845568 241.58175 \r\nL 374.845568 24.14175 \r\n\" style=\"fill:none;stroke:#ffffff;stroke-linecap:square;stroke-width:0.8;\"/>\r\n     </g>\r\n     <g id=\"line2d_12\">\r\n      <g>\r\n       <use style=\"fill:#555555;stroke:#555555;stroke-width:0.8;\" x=\"374.845568\" xlink:href=\"#m4a11b05589\" y=\"241.58175\"/>\r\n      </g>\r\n     </g>\r\n     <g id=\"text_6\">\r\n      <!-- 12 -->\r\n      <g style=\"fill:#555555;\" transform=\"translate(368.483068 256.180187)scale(0.1 -0.1)\">\r\n       <use xlink:href=\"#DejaVuSans-49\"/>\r\n       <use x=\"63.623047\" xlink:href=\"#DejaVuSans-50\"/>\r\n      </g>\r\n     </g>\r\n    </g>\r\n    <g id=\"text_7\">\r\n     <!-- Mês -->\r\n     <defs>\r\n      <path d=\"M 9.8125 72.90625 \r\nL 24.515625 72.90625 \r\nL 43.109375 23.296875 \r\nL 61.8125 72.90625 \r\nL 76.515625 72.90625 \r\nL 76.515625 0 \r\nL 66.890625 0 \r\nL 66.890625 64.015625 \r\nL 48.09375 14.015625 \r\nL 38.1875 14.015625 \r\nL 19.390625 64.015625 \r\nL 19.390625 0 \r\nL 9.8125 0 \r\nz\r\n\" id=\"DejaVuSans-77\"/>\r\n      <path d=\"M 56.203125 29.59375 \r\nL 56.203125 25.203125 \r\nL 14.890625 25.203125 \r\nQ 15.484375 15.921875 20.484375 11.0625 \r\nQ 25.484375 6.203125 34.421875 6.203125 \r\nQ 39.59375 6.203125 44.453125 7.46875 \r\nQ 49.3125 8.734375 54.109375 11.28125 \r\nL 54.109375 2.78125 \r\nQ 49.265625 0.734375 44.1875 -0.34375 \r\nQ 39.109375 -1.421875 33.890625 -1.421875 \r\nQ 20.796875 -1.421875 13.15625 6.1875 \r\nQ 5.515625 13.8125 5.515625 26.8125 \r\nQ 5.515625 40.234375 12.765625 48.109375 \r\nQ 20.015625 56 32.328125 56 \r\nQ 43.359375 56 49.78125 48.890625 \r\nQ 56.203125 41.796875 56.203125 29.59375 \r\nz\r\nM 47.21875 32.234375 \r\nQ 47.125 39.59375 43.09375 43.984375 \r\nQ 39.0625 48.390625 32.421875 48.390625 \r\nQ 24.90625 48.390625 20.390625 44.140625 \r\nQ 15.875 39.890625 15.1875 32.171875 \r\nz\r\nM 28.171875 79.984375 \r\nL 35.40625 79.984375 \r\nL 47.359375 61.625 \r\nL 40.578125 61.625 \r\nL 31.78125 73.578125 \r\nL 23 61.625 \r\nL 16.21875 61.625 \r\nz\r\n\" id=\"DejaVuSans-234\"/>\r\n      <path d=\"M 44.28125 53.078125 \r\nL 44.28125 44.578125 \r\nQ 40.484375 46.53125 36.375 47.5 \r\nQ 32.28125 48.484375 27.875 48.484375 \r\nQ 21.1875 48.484375 17.84375 46.4375 \r\nQ 14.5 44.390625 14.5 40.28125 \r\nQ 14.5 37.15625 16.890625 35.375 \r\nQ 19.28125 33.59375 26.515625 31.984375 \r\nL 29.59375 31.296875 \r\nQ 39.15625 29.25 43.1875 25.515625 \r\nQ 47.21875 21.78125 47.21875 15.09375 \r\nQ 47.21875 7.46875 41.1875 3.015625 \r\nQ 35.15625 -1.421875 24.609375 -1.421875 \r\nQ 20.21875 -1.421875 15.453125 -0.5625 \r\nQ 10.6875 0.296875 5.421875 2 \r\nL 5.421875 11.28125 \r\nQ 10.40625 8.6875 15.234375 7.390625 \r\nQ 20.0625 6.109375 24.8125 6.109375 \r\nQ 31.15625 6.109375 34.5625 8.28125 \r\nQ 37.984375 10.453125 37.984375 14.40625 \r\nQ 37.984375 18.0625 35.515625 20.015625 \r\nQ 33.0625 21.96875 24.703125 23.78125 \r\nL 21.578125 24.515625 \r\nQ 13.234375 26.265625 9.515625 29.90625 \r\nQ 5.8125 33.546875 5.8125 39.890625 \r\nQ 5.8125 47.609375 11.28125 51.796875 \r\nQ 16.75 56 26.8125 56 \r\nQ 31.78125 56 36.171875 55.265625 \r\nQ 40.578125 54.546875 44.28125 53.078125 \r\nz\r\n\" id=\"DejaVuSans-115\"/>\r\n     </defs>\r\n     <g style=\"fill:#555555;\" transform=\"translate(210.669375 271.378)scale(0.12 -0.12)\">\r\n      <use xlink:href=\"#DejaVuSans-77\"/>\r\n      <use x=\"86.279297\" xlink:href=\"#DejaVuSans-234\"/>\r\n      <use x=\"147.802734\" xlink:href=\"#DejaVuSans-115\"/>\r\n     </g>\r\n    </g>\r\n   </g>\r\n   <g id=\"matplotlib.axis_2\">\r\n    <g id=\"ytick_1\">\r\n     <g id=\"line2d_13\">\r\n      <path clip-path=\"url(#p97dd020ab7)\" d=\"M 55.26375 231.877327 \r\nL 390.06375 231.877327 \r\n\" style=\"fill:none;stroke:#ffffff;stroke-linecap:square;stroke-width:0.8;\"/>\r\n     </g>\r\n     <g id=\"line2d_14\">\r\n      <defs>\r\n       <path d=\"M 0 0 \r\nL -3.5 0 \r\n\" id=\"mdb8cb67282\" style=\"stroke:#555555;stroke-width:0.8;\"/>\r\n      </defs>\r\n      <g>\r\n       <use style=\"fill:#555555;stroke:#555555;stroke-width:0.8;\" x=\"55.26375\" xlink:href=\"#mdb8cb67282\" y=\"231.877327\"/>\r\n      </g>\r\n     </g>\r\n     <g id=\"text_8\">\r\n      <!-- 0 -->\r\n      <g style=\"fill:#555555;\" transform=\"translate(41.90125 235.676546)scale(0.1 -0.1)\">\r\n       <use xlink:href=\"#DejaVuSans-48\"/>\r\n      </g>\r\n     </g>\r\n    </g>\r\n    <g id=\"ytick_2\">\r\n     <g id=\"line2d_15\">\r\n      <path clip-path=\"url(#p97dd020ab7)\" d=\"M 55.26375 187.073899 \r\nL 390.06375 187.073899 \r\n\" style=\"fill:none;stroke:#ffffff;stroke-linecap:square;stroke-width:0.8;\"/>\r\n     </g>\r\n     <g id=\"line2d_16\">\r\n      <g>\r\n       <use style=\"fill:#555555;stroke:#555555;stroke-width:0.8;\" x=\"55.26375\" xlink:href=\"#mdb8cb67282\" y=\"187.073899\"/>\r\n      </g>\r\n     </g>\r\n     <g id=\"text_9\">\r\n      <!-- 500 -->\r\n      <defs>\r\n       <path d=\"M 10.796875 72.90625 \r\nL 49.515625 72.90625 \r\nL 49.515625 64.59375 \r\nL 19.828125 64.59375 \r\nL 19.828125 46.734375 \r\nQ 21.96875 47.46875 24.109375 47.828125 \r\nQ 26.265625 48.1875 28.421875 48.1875 \r\nQ 40.625 48.1875 47.75 41.5 \r\nQ 54.890625 34.8125 54.890625 23.390625 \r\nQ 54.890625 11.625 47.5625 5.09375 \r\nQ 40.234375 -1.421875 26.90625 -1.421875 \r\nQ 22.3125 -1.421875 17.546875 -0.640625 \r\nQ 12.796875 0.140625 7.71875 1.703125 \r\nL 7.71875 11.625 \r\nQ 12.109375 9.234375 16.796875 8.0625 \r\nQ 21.484375 6.890625 26.703125 6.890625 \r\nQ 35.15625 6.890625 40.078125 11.328125 \r\nQ 45.015625 15.765625 45.015625 23.390625 \r\nQ 45.015625 31 40.078125 35.4375 \r\nQ 35.15625 39.890625 26.703125 39.890625 \r\nQ 22.75 39.890625 18.8125 39.015625 \r\nQ 14.890625 38.140625 10.796875 36.28125 \r\nz\r\n\" id=\"DejaVuSans-53\"/>\r\n      </defs>\r\n      <g style=\"fill:#555555;\" transform=\"translate(29.17625 190.873117)scale(0.1 -0.1)\">\r\n       <use xlink:href=\"#DejaVuSans-53\"/>\r\n       <use x=\"63.623047\" xlink:href=\"#DejaVuSans-48\"/>\r\n       <use x=\"127.246094\" xlink:href=\"#DejaVuSans-48\"/>\r\n      </g>\r\n     </g>\r\n    </g>\r\n    <g id=\"ytick_3\">\r\n     <g id=\"line2d_17\">\r\n      <path clip-path=\"url(#p97dd020ab7)\" d=\"M 55.26375 142.27047 \r\nL 390.06375 142.27047 \r\n\" style=\"fill:none;stroke:#ffffff;stroke-linecap:square;stroke-width:0.8;\"/>\r\n     </g>\r\n     <g id=\"line2d_18\">\r\n      <g>\r\n       <use style=\"fill:#555555;stroke:#555555;stroke-width:0.8;\" x=\"55.26375\" xlink:href=\"#mdb8cb67282\" y=\"142.27047\"/>\r\n      </g>\r\n     </g>\r\n     <g id=\"text_10\">\r\n      <!-- 1000 -->\r\n      <g style=\"fill:#555555;\" transform=\"translate(22.81375 146.069689)scale(0.1 -0.1)\">\r\n       <use xlink:href=\"#DejaVuSans-49\"/>\r\n       <use x=\"63.623047\" xlink:href=\"#DejaVuSans-48\"/>\r\n       <use x=\"127.246094\" xlink:href=\"#DejaVuSans-48\"/>\r\n       <use x=\"190.869141\" xlink:href=\"#DejaVuSans-48\"/>\r\n      </g>\r\n     </g>\r\n    </g>\r\n    <g id=\"ytick_4\">\r\n     <g id=\"line2d_19\">\r\n      <path clip-path=\"url(#p97dd020ab7)\" d=\"M 55.26375 97.467041 \r\nL 390.06375 97.467041 \r\n\" style=\"fill:none;stroke:#ffffff;stroke-linecap:square;stroke-width:0.8;\"/>\r\n     </g>\r\n     <g id=\"line2d_20\">\r\n      <g>\r\n       <use style=\"fill:#555555;stroke:#555555;stroke-width:0.8;\" x=\"55.26375\" xlink:href=\"#mdb8cb67282\" y=\"97.467041\"/>\r\n      </g>\r\n     </g>\r\n     <g id=\"text_11\">\r\n      <!-- 1500 -->\r\n      <g style=\"fill:#555555;\" transform=\"translate(22.81375 101.26626)scale(0.1 -0.1)\">\r\n       <use xlink:href=\"#DejaVuSans-49\"/>\r\n       <use x=\"63.623047\" xlink:href=\"#DejaVuSans-53\"/>\r\n       <use x=\"127.246094\" xlink:href=\"#DejaVuSans-48\"/>\r\n       <use x=\"190.869141\" xlink:href=\"#DejaVuSans-48\"/>\r\n      </g>\r\n     </g>\r\n    </g>\r\n    <g id=\"ytick_5\">\r\n     <g id=\"line2d_21\">\r\n      <path clip-path=\"url(#p97dd020ab7)\" d=\"M 55.26375 52.663613 \r\nL 390.06375 52.663613 \r\n\" style=\"fill:none;stroke:#ffffff;stroke-linecap:square;stroke-width:0.8;\"/>\r\n     </g>\r\n     <g id=\"line2d_22\">\r\n      <g>\r\n       <use style=\"fill:#555555;stroke:#555555;stroke-width:0.8;\" x=\"55.26375\" xlink:href=\"#mdb8cb67282\" y=\"52.663613\"/>\r\n      </g>\r\n     </g>\r\n     <g id=\"text_12\">\r\n      <!-- 2000 -->\r\n      <g style=\"fill:#555555;\" transform=\"translate(22.81375 56.462831)scale(0.1 -0.1)\">\r\n       <use xlink:href=\"#DejaVuSans-50\"/>\r\n       <use x=\"63.623047\" xlink:href=\"#DejaVuSans-48\"/>\r\n       <use x=\"127.246094\" xlink:href=\"#DejaVuSans-48\"/>\r\n       <use x=\"190.869141\" xlink:href=\"#DejaVuSans-48\"/>\r\n      </g>\r\n     </g>\r\n    </g>\r\n    <g id=\"text_13\">\r\n     <!-- Total Produtos Vendidos -->\r\n     <defs>\r\n      <path d=\"M -0.296875 72.90625 \r\nL 61.375 72.90625 \r\nL 61.375 64.59375 \r\nL 35.5 64.59375 \r\nL 35.5 0 \r\nL 25.59375 0 \r\nL 25.59375 64.59375 \r\nL -0.296875 64.59375 \r\nz\r\n\" id=\"DejaVuSans-84\"/>\r\n      <path d=\"M 30.609375 48.390625 \r\nQ 23.390625 48.390625 19.1875 42.75 \r\nQ 14.984375 37.109375 14.984375 27.296875 \r\nQ 14.984375 17.484375 19.15625 11.84375 \r\nQ 23.34375 6.203125 30.609375 6.203125 \r\nQ 37.796875 6.203125 41.984375 11.859375 \r\nQ 46.1875 17.53125 46.1875 27.296875 \r\nQ 46.1875 37.015625 41.984375 42.703125 \r\nQ 37.796875 48.390625 30.609375 48.390625 \r\nz\r\nM 30.609375 56 \r\nQ 42.328125 56 49.015625 48.375 \r\nQ 55.71875 40.765625 55.71875 27.296875 \r\nQ 55.71875 13.875 49.015625 6.21875 \r\nQ 42.328125 -1.421875 30.609375 -1.421875 \r\nQ 18.84375 -1.421875 12.171875 6.21875 \r\nQ 5.515625 13.875 5.515625 27.296875 \r\nQ 5.515625 40.765625 12.171875 48.375 \r\nQ 18.84375 56 30.609375 56 \r\nz\r\n\" id=\"DejaVuSans-111\"/>\r\n      <path d=\"M 18.3125 70.21875 \r\nL 18.3125 54.6875 \r\nL 36.8125 54.6875 \r\nL 36.8125 47.703125 \r\nL 18.3125 47.703125 \r\nL 18.3125 18.015625 \r\nQ 18.3125 11.328125 20.140625 9.421875 \r\nQ 21.96875 7.515625 27.59375 7.515625 \r\nL 36.8125 7.515625 \r\nL 36.8125 0 \r\nL 27.59375 0 \r\nQ 17.1875 0 13.234375 3.875 \r\nQ 9.28125 7.765625 9.28125 18.015625 \r\nL 9.28125 47.703125 \r\nL 2.6875 47.703125 \r\nL 2.6875 54.6875 \r\nL 9.28125 54.6875 \r\nL 9.28125 70.21875 \r\nz\r\n\" id=\"DejaVuSans-116\"/>\r\n      <path d=\"M 34.28125 27.484375 \r\nQ 23.390625 27.484375 19.1875 25 \r\nQ 14.984375 22.515625 14.984375 16.5 \r\nQ 14.984375 11.71875 18.140625 8.90625 \r\nQ 21.296875 6.109375 26.703125 6.109375 \r\nQ 34.1875 6.109375 38.703125 11.40625 \r\nQ 43.21875 16.703125 43.21875 25.484375 \r\nL 43.21875 27.484375 \r\nz\r\nM 52.203125 31.203125 \r\nL 52.203125 0 \r\nL 43.21875 0 \r\nL 43.21875 8.296875 \r\nQ 40.140625 3.328125 35.546875 0.953125 \r\nQ 30.953125 -1.421875 24.3125 -1.421875 \r\nQ 15.921875 -1.421875 10.953125 3.296875 \r\nQ 6 8.015625 6 15.921875 \r\nQ 6 25.140625 12.171875 29.828125 \r\nQ 18.359375 34.515625 30.609375 34.515625 \r\nL 43.21875 34.515625 \r\nL 43.21875 35.40625 \r\nQ 43.21875 41.609375 39.140625 45 \r\nQ 35.0625 48.390625 27.6875 48.390625 \r\nQ 23 48.390625 18.546875 47.265625 \r\nQ 14.109375 46.140625 10.015625 43.890625 \r\nL 10.015625 52.203125 \r\nQ 14.9375 54.109375 19.578125 55.046875 \r\nQ 24.21875 56 28.609375 56 \r\nQ 40.484375 56 46.34375 49.84375 \r\nQ 52.203125 43.703125 52.203125 31.203125 \r\nz\r\n\" id=\"DejaVuSans-97\"/>\r\n      <path d=\"M 9.421875 75.984375 \r\nL 18.40625 75.984375 \r\nL 18.40625 0 \r\nL 9.421875 0 \r\nz\r\n\" id=\"DejaVuSans-108\"/>\r\n      <path id=\"DejaVuSans-32\"/>\r\n      <path d=\"M 19.671875 64.796875 \r\nL 19.671875 37.40625 \r\nL 32.078125 37.40625 \r\nQ 38.96875 37.40625 42.71875 40.96875 \r\nQ 46.484375 44.53125 46.484375 51.125 \r\nQ 46.484375 57.671875 42.71875 61.234375 \r\nQ 38.96875 64.796875 32.078125 64.796875 \r\nz\r\nM 9.8125 72.90625 \r\nL 32.078125 72.90625 \r\nQ 44.34375 72.90625 50.609375 67.359375 \r\nQ 56.890625 61.8125 56.890625 51.125 \r\nQ 56.890625 40.328125 50.609375 34.8125 \r\nQ 44.34375 29.296875 32.078125 29.296875 \r\nL 19.671875 29.296875 \r\nL 19.671875 0 \r\nL 9.8125 0 \r\nz\r\n\" id=\"DejaVuSans-80\"/>\r\n      <path d=\"M 41.109375 46.296875 \r\nQ 39.59375 47.171875 37.8125 47.578125 \r\nQ 36.03125 48 33.890625 48 \r\nQ 26.265625 48 22.1875 43.046875 \r\nQ 18.109375 38.09375 18.109375 28.8125 \r\nL 18.109375 0 \r\nL 9.078125 0 \r\nL 9.078125 54.6875 \r\nL 18.109375 54.6875 \r\nL 18.109375 46.1875 \r\nQ 20.953125 51.171875 25.484375 53.578125 \r\nQ 30.03125 56 36.53125 56 \r\nQ 37.453125 56 38.578125 55.875 \r\nQ 39.703125 55.765625 41.0625 55.515625 \r\nz\r\n\" id=\"DejaVuSans-114\"/>\r\n      <path d=\"M 45.40625 46.390625 \r\nL 45.40625 75.984375 \r\nL 54.390625 75.984375 \r\nL 54.390625 0 \r\nL 45.40625 0 \r\nL 45.40625 8.203125 \r\nQ 42.578125 3.328125 38.25 0.953125 \r\nQ 33.9375 -1.421875 27.875 -1.421875 \r\nQ 17.96875 -1.421875 11.734375 6.484375 \r\nQ 5.515625 14.40625 5.515625 27.296875 \r\nQ 5.515625 40.1875 11.734375 48.09375 \r\nQ 17.96875 56 27.875 56 \r\nQ 33.9375 56 38.25 53.625 \r\nQ 42.578125 51.265625 45.40625 46.390625 \r\nz\r\nM 14.796875 27.296875 \r\nQ 14.796875 17.390625 18.875 11.75 \r\nQ 22.953125 6.109375 30.078125 6.109375 \r\nQ 37.203125 6.109375 41.296875 11.75 \r\nQ 45.40625 17.390625 45.40625 27.296875 \r\nQ 45.40625 37.203125 41.296875 42.84375 \r\nQ 37.203125 48.484375 30.078125 48.484375 \r\nQ 22.953125 48.484375 18.875 42.84375 \r\nQ 14.796875 37.203125 14.796875 27.296875 \r\nz\r\n\" id=\"DejaVuSans-100\"/>\r\n      <path d=\"M 8.5 21.578125 \r\nL 8.5 54.6875 \r\nL 17.484375 54.6875 \r\nL 17.484375 21.921875 \r\nQ 17.484375 14.15625 20.5 10.265625 \r\nQ 23.53125 6.390625 29.59375 6.390625 \r\nQ 36.859375 6.390625 41.078125 11.03125 \r\nQ 45.3125 15.671875 45.3125 23.6875 \r\nL 45.3125 54.6875 \r\nL 54.296875 54.6875 \r\nL 54.296875 0 \r\nL 45.3125 0 \r\nL 45.3125 8.40625 \r\nQ 42.046875 3.421875 37.71875 1 \r\nQ 33.40625 -1.421875 27.6875 -1.421875 \r\nQ 18.265625 -1.421875 13.375 4.4375 \r\nQ 8.5 10.296875 8.5 21.578125 \r\nz\r\nM 31.109375 56 \r\nz\r\n\" id=\"DejaVuSans-117\"/>\r\n      <path d=\"M 28.609375 0 \r\nL 0.78125 72.90625 \r\nL 11.078125 72.90625 \r\nL 34.1875 11.53125 \r\nL 57.328125 72.90625 \r\nL 67.578125 72.90625 \r\nL 39.796875 0 \r\nz\r\n\" id=\"DejaVuSans-86\"/>\r\n      <path d=\"M 56.203125 29.59375 \r\nL 56.203125 25.203125 \r\nL 14.890625 25.203125 \r\nQ 15.484375 15.921875 20.484375 11.0625 \r\nQ 25.484375 6.203125 34.421875 6.203125 \r\nQ 39.59375 6.203125 44.453125 7.46875 \r\nQ 49.3125 8.734375 54.109375 11.28125 \r\nL 54.109375 2.78125 \r\nQ 49.265625 0.734375 44.1875 -0.34375 \r\nQ 39.109375 -1.421875 33.890625 -1.421875 \r\nQ 20.796875 -1.421875 13.15625 6.1875 \r\nQ 5.515625 13.8125 5.515625 26.8125 \r\nQ 5.515625 40.234375 12.765625 48.109375 \r\nQ 20.015625 56 32.328125 56 \r\nQ 43.359375 56 49.78125 48.890625 \r\nQ 56.203125 41.796875 56.203125 29.59375 \r\nz\r\nM 47.21875 32.234375 \r\nQ 47.125 39.59375 43.09375 43.984375 \r\nQ 39.0625 48.390625 32.421875 48.390625 \r\nQ 24.90625 48.390625 20.390625 44.140625 \r\nQ 15.875 39.890625 15.1875 32.171875 \r\nz\r\n\" id=\"DejaVuSans-101\"/>\r\n      <path d=\"M 54.890625 33.015625 \r\nL 54.890625 0 \r\nL 45.90625 0 \r\nL 45.90625 32.71875 \r\nQ 45.90625 40.484375 42.875 44.328125 \r\nQ 39.84375 48.1875 33.796875 48.1875 \r\nQ 26.515625 48.1875 22.3125 43.546875 \r\nQ 18.109375 38.921875 18.109375 30.90625 \r\nL 18.109375 0 \r\nL 9.078125 0 \r\nL 9.078125 54.6875 \r\nL 18.109375 54.6875 \r\nL 18.109375 46.1875 \r\nQ 21.34375 51.125 25.703125 53.5625 \r\nQ 30.078125 56 35.796875 56 \r\nQ 45.21875 56 50.046875 50.171875 \r\nQ 54.890625 44.34375 54.890625 33.015625 \r\nz\r\n\" id=\"DejaVuSans-110\"/>\r\n      <path d=\"M 9.421875 54.6875 \r\nL 18.40625 54.6875 \r\nL 18.40625 0 \r\nL 9.421875 0 \r\nz\r\nM 9.421875 75.984375 \r\nL 18.40625 75.984375 \r\nL 18.40625 64.59375 \r\nL 9.421875 64.59375 \r\nz\r\n\" id=\"DejaVuSans-105\"/>\r\n     </defs>\r\n     <g style=\"fill:#555555;\" transform=\"translate(16.318125 204.17925)rotate(-90)scale(0.12 -0.12)\">\r\n      <use xlink:href=\"#DejaVuSans-84\"/>\r\n      <use x=\"44.083984\" xlink:href=\"#DejaVuSans-111\"/>\r\n      <use x=\"105.265625\" xlink:href=\"#DejaVuSans-116\"/>\r\n      <use x=\"144.474609\" xlink:href=\"#DejaVuSans-97\"/>\r\n      <use x=\"205.753906\" xlink:href=\"#DejaVuSans-108\"/>\r\n      <use x=\"233.537109\" xlink:href=\"#DejaVuSans-32\"/>\r\n      <use x=\"265.324219\" xlink:href=\"#DejaVuSans-80\"/>\r\n      <use x=\"323.876953\" xlink:href=\"#DejaVuSans-114\"/>\r\n      <use x=\"362.740234\" xlink:href=\"#DejaVuSans-111\"/>\r\n      <use x=\"423.921875\" xlink:href=\"#DejaVuSans-100\"/>\r\n      <use x=\"487.398438\" xlink:href=\"#DejaVuSans-117\"/>\r\n      <use x=\"550.777344\" xlink:href=\"#DejaVuSans-116\"/>\r\n      <use x=\"589.986328\" xlink:href=\"#DejaVuSans-111\"/>\r\n      <use x=\"651.167969\" xlink:href=\"#DejaVuSans-115\"/>\r\n      <use x=\"703.267578\" xlink:href=\"#DejaVuSans-32\"/>\r\n      <use x=\"735.054688\" xlink:href=\"#DejaVuSans-86\"/>\r\n      <use x=\"795.712891\" xlink:href=\"#DejaVuSans-101\"/>\r\n      <use x=\"857.236328\" xlink:href=\"#DejaVuSans-110\"/>\r\n      <use x=\"920.615234\" xlink:href=\"#DejaVuSans-100\"/>\r\n      <use x=\"984.091797\" xlink:href=\"#DejaVuSans-105\"/>\r\n      <use x=\"1011.875\" xlink:href=\"#DejaVuSans-100\"/>\r\n      <use x=\"1075.351562\" xlink:href=\"#DejaVuSans-111\"/>\r\n      <use x=\"1136.533203\" xlink:href=\"#DejaVuSans-115\"/>\r\n     </g>\r\n    </g>\r\n   </g>\r\n   <g id=\"line2d_23\">\r\n    <path clip-path=\"url(#p97dd020ab7)\" d=\"M 70.481932 34.025386 \r\nL 98.151353 218.97394 \r\nL 125.820775 190.030925 \r\nL 153.490196 229.81637 \r\nL 181.159618 230.354011 \r\nL 208.829039 230.712438 \r\nL 236.498461 230.712438 \r\nL 264.167882 231.698114 \r\nL 291.837304 230.981259 \r\nL 319.506725 230.622831 \r\nL 347.176147 231.698114 \r\nL 374.845568 231.608507 \r\n\" style=\"fill:none;stroke:#e24a33;stroke-linecap:square;stroke-width:1.5;\"/>\r\n   </g>\r\n   <g id=\"patch_3\">\r\n    <path d=\"M 55.26375 241.58175 \r\nL 55.26375 24.14175 \r\n\" style=\"fill:none;stroke:#ffffff;stroke-linecap:square;stroke-linejoin:miter;\"/>\r\n   </g>\r\n   <g id=\"patch_4\">\r\n    <path d=\"M 390.06375 241.58175 \r\nL 390.06375 24.14175 \r\n\" style=\"fill:none;stroke:#ffffff;stroke-linecap:square;stroke-linejoin:miter;\"/>\r\n   </g>\r\n   <g id=\"patch_5\">\r\n    <path d=\"M 55.26375 241.58175 \r\nL 390.06375 241.58175 \r\n\" style=\"fill:none;stroke:#ffffff;stroke-linecap:square;stroke-linejoin:miter;\"/>\r\n   </g>\r\n   <g id=\"patch_6\">\r\n    <path d=\"M 55.26375 24.14175 \r\nL 390.06375 24.14175 \r\n\" style=\"fill:none;stroke:#ffffff;stroke-linecap:square;stroke-linejoin:miter;\"/>\r\n   </g>\r\n   <g id=\"text_14\">\r\n    <!-- Total Produtos vendidos x mês -->\r\n    <defs>\r\n     <path d=\"M 2.984375 54.6875 \r\nL 12.5 54.6875 \r\nL 29.59375 8.796875 \r\nL 46.6875 54.6875 \r\nL 56.203125 54.6875 \r\nL 35.6875 0 \r\nL 23.484375 0 \r\nz\r\n\" id=\"DejaVuSans-118\"/>\r\n     <path d=\"M 54.890625 54.6875 \r\nL 35.109375 28.078125 \r\nL 55.90625 0 \r\nL 45.3125 0 \r\nL 29.390625 21.484375 \r\nL 13.484375 0 \r\nL 2.875 0 \r\nL 24.125 28.609375 \r\nL 4.6875 54.6875 \r\nL 15.28125 54.6875 \r\nL 29.78125 35.203125 \r\nL 44.28125 54.6875 \r\nz\r\n\" id=\"DejaVuSans-120\"/>\r\n     <path d=\"M 52 44.1875 \r\nQ 55.375 50.25 60.0625 53.125 \r\nQ 64.75 56 71.09375 56 \r\nQ 79.640625 56 84.28125 50.015625 \r\nQ 88.921875 44.046875 88.921875 33.015625 \r\nL 88.921875 0 \r\nL 79.890625 0 \r\nL 79.890625 32.71875 \r\nQ 79.890625 40.578125 77.09375 44.375 \r\nQ 74.3125 48.1875 68.609375 48.1875 \r\nQ 61.625 48.1875 57.5625 43.546875 \r\nQ 53.515625 38.921875 53.515625 30.90625 \r\nL 53.515625 0 \r\nL 44.484375 0 \r\nL 44.484375 32.71875 \r\nQ 44.484375 40.625 41.703125 44.40625 \r\nQ 38.921875 48.1875 33.109375 48.1875 \r\nQ 26.21875 48.1875 22.15625 43.53125 \r\nQ 18.109375 38.875 18.109375 30.90625 \r\nL 18.109375 0 \r\nL 9.078125 0 \r\nL 9.078125 54.6875 \r\nL 18.109375 54.6875 \r\nL 18.109375 46.1875 \r\nQ 21.1875 51.21875 25.484375 53.609375 \r\nQ 29.78125 56 35.6875 56 \r\nQ 41.65625 56 45.828125 52.96875 \r\nQ 50 49.953125 52 44.1875 \r\nz\r\n\" id=\"DejaVuSans-109\"/>\r\n    </defs>\r\n    <g transform=\"translate(113.15625 18.14175)scale(0.144 -0.144)\">\r\n     <use xlink:href=\"#DejaVuSans-84\"/>\r\n     <use x=\"44.083984\" xlink:href=\"#DejaVuSans-111\"/>\r\n     <use x=\"105.265625\" xlink:href=\"#DejaVuSans-116\"/>\r\n     <use x=\"144.474609\" xlink:href=\"#DejaVuSans-97\"/>\r\n     <use x=\"205.753906\" xlink:href=\"#DejaVuSans-108\"/>\r\n     <use x=\"233.537109\" xlink:href=\"#DejaVuSans-32\"/>\r\n     <use x=\"265.324219\" xlink:href=\"#DejaVuSans-80\"/>\r\n     <use x=\"323.876953\" xlink:href=\"#DejaVuSans-114\"/>\r\n     <use x=\"362.740234\" xlink:href=\"#DejaVuSans-111\"/>\r\n     <use x=\"423.921875\" xlink:href=\"#DejaVuSans-100\"/>\r\n     <use x=\"487.398438\" xlink:href=\"#DejaVuSans-117\"/>\r\n     <use x=\"550.777344\" xlink:href=\"#DejaVuSans-116\"/>\r\n     <use x=\"589.986328\" xlink:href=\"#DejaVuSans-111\"/>\r\n     <use x=\"651.167969\" xlink:href=\"#DejaVuSans-115\"/>\r\n     <use x=\"703.267578\" xlink:href=\"#DejaVuSans-32\"/>\r\n     <use x=\"735.054688\" xlink:href=\"#DejaVuSans-118\"/>\r\n     <use x=\"794.234375\" xlink:href=\"#DejaVuSans-101\"/>\r\n     <use x=\"855.757812\" xlink:href=\"#DejaVuSans-110\"/>\r\n     <use x=\"919.136719\" xlink:href=\"#DejaVuSans-100\"/>\r\n     <use x=\"982.613281\" xlink:href=\"#DejaVuSans-105\"/>\r\n     <use x=\"1010.396484\" xlink:href=\"#DejaVuSans-100\"/>\r\n     <use x=\"1073.873047\" xlink:href=\"#DejaVuSans-111\"/>\r\n     <use x=\"1135.054688\" xlink:href=\"#DejaVuSans-115\"/>\r\n     <use x=\"1187.154297\" xlink:href=\"#DejaVuSans-32\"/>\r\n     <use x=\"1218.941406\" xlink:href=\"#DejaVuSans-120\"/>\r\n     <use x=\"1278.121094\" xlink:href=\"#DejaVuSans-32\"/>\r\n     <use x=\"1309.908203\" xlink:href=\"#DejaVuSans-109\"/>\r\n     <use x=\"1407.320312\" xlink:href=\"#DejaVuSans-234\"/>\r\n     <use x=\"1468.84375\" xlink:href=\"#DejaVuSans-115\"/>\r\n    </g>\r\n   </g>\r\n   <g id=\"legend_1\">\r\n    <g id=\"patch_7\">\r\n     <path d=\"M 326.77 46.819875 \r\nL 383.06375 46.819875 \r\nQ 385.06375 46.819875 385.06375 44.819875 \r\nL 385.06375 31.14175 \r\nQ 385.06375 29.14175 383.06375 29.14175 \r\nL 326.77 29.14175 \r\nQ 324.77 29.14175 324.77 31.14175 \r\nL 324.77 44.819875 \r\nQ 324.77 46.819875 326.77 46.819875 \r\nz\r\n\" style=\"fill:#e5e5e5;opacity:0.8;stroke:#cccccc;stroke-linejoin:miter;stroke-width:0.5;\"/>\r\n    </g>\r\n    <g id=\"line2d_24\">\r\n     <path d=\"M 328.77 37.240187 \r\nL 348.77 37.240187 \r\n\" style=\"fill:none;stroke:#e24a33;stroke-linecap:square;stroke-width:1.5;\"/>\r\n    </g>\r\n    <g id=\"line2d_25\"/>\r\n    <g id=\"text_15\">\r\n     <!-- Qtde -->\r\n     <defs>\r\n      <path d=\"M 39.40625 66.21875 \r\nQ 28.65625 66.21875 22.328125 58.203125 \r\nQ 16.015625 50.203125 16.015625 36.375 \r\nQ 16.015625 22.609375 22.328125 14.59375 \r\nQ 28.65625 6.59375 39.40625 6.59375 \r\nQ 50.140625 6.59375 56.421875 14.59375 \r\nQ 62.703125 22.609375 62.703125 36.375 \r\nQ 62.703125 50.203125 56.421875 58.203125 \r\nQ 50.140625 66.21875 39.40625 66.21875 \r\nz\r\nM 53.21875 1.3125 \r\nL 66.21875 -12.890625 \r\nL 54.296875 -12.890625 \r\nL 43.5 -1.21875 \r\nQ 41.890625 -1.3125 41.03125 -1.359375 \r\nQ 40.1875 -1.421875 39.40625 -1.421875 \r\nQ 24.03125 -1.421875 14.8125 8.859375 \r\nQ 5.609375 19.140625 5.609375 36.375 \r\nQ 5.609375 53.65625 14.8125 63.9375 \r\nQ 24.03125 74.21875 39.40625 74.21875 \r\nQ 54.734375 74.21875 63.90625 63.9375 \r\nQ 73.09375 53.65625 73.09375 36.375 \r\nQ 73.09375 23.6875 67.984375 14.640625 \r\nQ 62.890625 5.609375 53.21875 1.3125 \r\nz\r\n\" id=\"DejaVuSans-81\"/>\r\n     </defs>\r\n     <g transform=\"translate(356.77 40.740187)scale(0.1 -0.1)\">\r\n      <use xlink:href=\"#DejaVuSans-81\"/>\r\n      <use x=\"78.710938\" xlink:href=\"#DejaVuSans-116\"/>\r\n      <use x=\"117.919922\" xlink:href=\"#DejaVuSans-100\"/>\r\n      <use x=\"181.396484\" xlink:href=\"#DejaVuSans-101\"/>\r\n     </g>\r\n    </g>\r\n   </g>\r\n  </g>\r\n </g>\r\n <defs>\r\n  <clipPath id=\"p97dd020ab7\">\r\n   <rect height=\"217.44\" width=\"334.8\" x=\"55.26375\" y=\"24.14175\"/>\r\n  </clipPath>\r\n </defs>\r\n</svg>\r\n",
            "image/png": "[encoded data removed]"
          },
          "metadata": {}
        }
      ],
      "metadata": {
        "id": "QhimePNYVRnR",
        "colab_type": "code",
        "colab": {
          "base_uri": "https://localhost:8080/",
          "height": 477
        },
        "outputId": "b9c36ccc-d7a9-4510-f29f-95a981d88d24"
      }
    },
    {
      "cell_type": "code",
      "execution_count": 57,
      "source": [
        "df.groupby(df[\"mes_venda\"])[\"Qtde\"].sum()"
      ],
      "outputs": [
        {
          "output_type": "execute_result",
          "data": {
            "text/plain": [
              "mes_venda\n",
              "1     2208\n",
              "2      144\n",
              "3      467\n",
              "4       23\n",
              "5       17\n",
              "6       13\n",
              "7       13\n",
              "8        2\n",
              "9       10\n",
              "10      14\n",
              "11       2\n",
              "12       3\n",
              "Name: Qtde, dtype: int64"
            ]
          },
          "metadata": {},
          "execution_count": 57
        }
      ],
      "metadata": {
        "id": "N8-WMDAZVj5P",
        "colab_type": "code",
        "colab": {
          "base_uri": "https://localhost:8080/",
          "height": 255
        },
        "outputId": "5d0f1192-6ef7-4268-9a7a-ec8f295ea6f3"
      }
    },
    {
      "cell_type": "code",
      "execution_count": 58,
      "source": [
        "#Selecionando apenas as vendas de 2019\r\n",
        "df_2019 = df[df[\"Ano_Venda\"] == 2019]"
      ],
      "outputs": [],
      "metadata": {
        "id": "FwhIPO6DVoRD",
        "colab_type": "code",
        "colab": {}
      }
    },
    {
      "cell_type": "code",
      "execution_count": 59,
      "source": [
        "df_2019.groupby(df_2019[\"mes_venda\"])[\"Qtde\"].sum()"
      ],
      "outputs": [
        {
          "output_type": "execute_result",
          "data": {
            "text/plain": [
              "mes_venda\n",
              "1    1541\n",
              "2     128\n",
              "3     460\n",
              "4      12\n",
              "Name: Qtde, dtype: int64"
            ]
          },
          "metadata": {},
          "execution_count": 59
        }
      ],
      "metadata": {
        "id": "Pd33t7PKj360",
        "colab_type": "code",
        "colab": {
          "base_uri": "https://localhost:8080/",
          "height": 119
        },
        "outputId": "27497ff8-f68d-4278-b7a1-e6333d773283"
      }
    },
    {
      "cell_type": "code",
      "execution_count": 60,
      "source": [
        "#Total produtos vendidos por mês\r\n",
        "df_2019.groupby(df_2019[\"mes_venda\"])[\"Qtde\"].sum().plot(marker = \"o\")\r\n",
        "plt.xlabel(\"Mês\")\r\n",
        "plt.ylabel(\"Total Produtos Vendidos\")\r\n",
        "plt.legend()"
      ],
      "outputs": [
        {
          "output_type": "execute_result",
          "data": {
            "text/plain": [
              "<matplotlib.legend.Legend at 0x1d2bbc3f0a0>"
            ]
          },
          "metadata": {},
          "execution_count": 60
        }
      ],
      "metadata": {
        "id": "7wdwXD2RX9Qo",
        "colab_type": "code",
        "colab": {
          "base_uri": "https://localhost:8080/",
          "height": 455
        },
        "outputId": "8512105b-ae83-434b-89f4-da12f3e52a2d"
      }
    },
    {
      "cell_type": "code",
      "execution_count": null,
      "source": [
        "#Hisograma\r\n",
        "plt.hist(df[\"Qtde\"], color=\"orangered\")"
      ],
      "outputs": [
        {
          "output_type": "display_data",
          "data": {
            "text/plain": [
              "<Figure size 432x288 with 1 Axes>"
            ],
            "image/svg+xml": "<?xml version=\"1.0\" encoding=\"utf-8\" standalone=\"no\"?>\r\n<!DOCTYPE svg PUBLIC \"-//W3C//DTD SVG 1.1//EN\"\r\n  \"http://www.w3.org/Graphics/SVG/1.1/DTD/svg11.dtd\">\r\n<!-- Created with matplotlib (https://matplotlib.org/) -->\r\n<svg height=\"248.518125pt\" version=\"1.1\" viewBox=\"0 0 375.2875 248.518125\" width=\"375.2875pt\" xmlns=\"http://www.w3.org/2000/svg\" xmlns:xlink=\"http://www.w3.org/1999/xlink\">\r\n <defs>\r\n  <style type=\"text/css\">\r\n*{stroke-linecap:butt;stroke-linejoin:round;}\r\n  </style>\r\n </defs>\r\n <g id=\"figure_1\">\r\n  <g id=\"patch_1\">\r\n   <path d=\"M 0 248.518125 \r\nL 375.2875 248.518125 \r\nL 375.2875 0 \r\nL 0 0 \r\nz\r\n\" style=\"fill:#ffffff;\"/>\r\n  </g>\r\n  <g id=\"axes_1\">\r\n   <g id=\"patch_2\">\r\n    <path d=\"M 33.2875 224.64 \r\nL 368.0875 224.64 \r\nL 368.0875 7.2 \r\nL 33.2875 7.2 \r\nz\r\n\" style=\"fill:#e5e5e5;\"/>\r\n   </g>\r\n   <g id=\"matplotlib.axis_1\">\r\n    <g id=\"xtick_1\">\r\n     <g id=\"line2d_1\">\r\n      <path clip-path=\"url(#pde6cd1a601)\" d=\"M 82.323864 224.64 \r\nL 82.323864 7.2 \r\n\" style=\"fill:none;stroke:#ffffff;stroke-linecap:square;stroke-width:0.8;\"/>\r\n     </g>\r\n     <g id=\"line2d_2\">\r\n      <defs>\r\n       <path d=\"M 0 0 \r\nL 0 3.5 \r\n\" id=\"me91351536c\" style=\"stroke:#555555;stroke-width:0.8;\"/>\r\n      </defs>\r\n      <g>\r\n       <use style=\"fill:#555555;stroke:#555555;stroke-width:0.8;\" x=\"82.323864\" xlink:href=\"#me91351536c\" y=\"224.64\"/>\r\n      </g>\r\n     </g>\r\n     <g id=\"text_1\">\r\n      <!-- 2 -->\r\n      <defs>\r\n       <path d=\"M 19.1875 8.296875 \r\nL 53.609375 8.296875 \r\nL 53.609375 0 \r\nL 7.328125 0 \r\nL 7.328125 8.296875 \r\nQ 12.9375 14.109375 22.625 23.890625 \r\nQ 32.328125 33.6875 34.8125 36.53125 \r\nQ 39.546875 41.84375 41.421875 45.53125 \r\nQ 43.3125 49.21875 43.3125 52.78125 \r\nQ 43.3125 58.59375 39.234375 62.25 \r\nQ 35.15625 65.921875 28.609375 65.921875 \r\nQ 23.96875 65.921875 18.8125 64.3125 \r\nQ 13.671875 62.703125 7.8125 59.421875 \r\nL 7.8125 69.390625 \r\nQ 13.765625 71.78125 18.9375 73 \r\nQ 24.125 74.21875 28.421875 74.21875 \r\nQ 39.75 74.21875 46.484375 68.546875 \r\nQ 53.21875 62.890625 53.21875 53.421875 \r\nQ 53.21875 48.921875 51.53125 44.890625 \r\nQ 49.859375 40.875 45.40625 35.40625 \r\nQ 44.1875 33.984375 37.640625 27.21875 \r\nQ 31.109375 20.453125 19.1875 8.296875 \r\nz\r\n\" id=\"DejaVuSans-50\"/>\r\n      </defs>\r\n      <g style=\"fill:#555555;\" transform=\"translate(79.142614 239.238437)scale(0.1 -0.1)\">\r\n       <use xlink:href=\"#DejaVuSans-50\"/>\r\n      </g>\r\n     </g>\r\n    </g>\r\n    <g id=\"xtick_2\">\r\n     <g id=\"line2d_3\">\r\n      <path clip-path=\"url(#pde6cd1a601)\" d=\"M 149.960227 224.64 \r\nL 149.960227 7.2 \r\n\" style=\"fill:none;stroke:#ffffff;stroke-linecap:square;stroke-width:0.8;\"/>\r\n     </g>\r\n     <g id=\"line2d_4\">\r\n      <g>\r\n       <use style=\"fill:#555555;stroke:#555555;stroke-width:0.8;\" x=\"149.960227\" xlink:href=\"#me91351536c\" y=\"224.64\"/>\r\n      </g>\r\n     </g>\r\n     <g id=\"text_2\">\r\n      <!-- 4 -->\r\n      <defs>\r\n       <path d=\"M 37.796875 64.3125 \r\nL 12.890625 25.390625 \r\nL 37.796875 25.390625 \r\nz\r\nM 35.203125 72.90625 \r\nL 47.609375 72.90625 \r\nL 47.609375 25.390625 \r\nL 58.015625 25.390625 \r\nL 58.015625 17.1875 \r\nL 47.609375 17.1875 \r\nL 47.609375 0 \r\nL 37.796875 0 \r\nL 37.796875 17.1875 \r\nL 4.890625 17.1875 \r\nL 4.890625 26.703125 \r\nz\r\n\" id=\"DejaVuSans-52\"/>\r\n      </defs>\r\n      <g style=\"fill:#555555;\" transform=\"translate(146.778977 239.238437)scale(0.1 -0.1)\">\r\n       <use xlink:href=\"#DejaVuSans-52\"/>\r\n      </g>\r\n     </g>\r\n    </g>\r\n    <g id=\"xtick_3\">\r\n     <g id=\"line2d_5\">\r\n      <path clip-path=\"url(#pde6cd1a601)\" d=\"M 217.596591 224.64 \r\nL 217.596591 7.2 \r\n\" style=\"fill:none;stroke:#ffffff;stroke-linecap:square;stroke-width:0.8;\"/>\r\n     </g>\r\n     <g id=\"line2d_6\">\r\n      <g>\r\n       <use style=\"fill:#555555;stroke:#555555;stroke-width:0.8;\" x=\"217.596591\" xlink:href=\"#me91351536c\" y=\"224.64\"/>\r\n      </g>\r\n     </g>\r\n     <g id=\"text_3\">\r\n      <!-- 6 -->\r\n      <defs>\r\n       <path d=\"M 33.015625 40.375 \r\nQ 26.375 40.375 22.484375 35.828125 \r\nQ 18.609375 31.296875 18.609375 23.390625 \r\nQ 18.609375 15.53125 22.484375 10.953125 \r\nQ 26.375 6.390625 33.015625 6.390625 \r\nQ 39.65625 6.390625 43.53125 10.953125 \r\nQ 47.40625 15.53125 47.40625 23.390625 \r\nQ 47.40625 31.296875 43.53125 35.828125 \r\nQ 39.65625 40.375 33.015625 40.375 \r\nz\r\nM 52.59375 71.296875 \r\nL 52.59375 62.3125 \r\nQ 48.875 64.0625 45.09375 64.984375 \r\nQ 41.3125 65.921875 37.59375 65.921875 \r\nQ 27.828125 65.921875 22.671875 59.328125 \r\nQ 17.53125 52.734375 16.796875 39.40625 \r\nQ 19.671875 43.65625 24.015625 45.921875 \r\nQ 28.375 48.1875 33.59375 48.1875 \r\nQ 44.578125 48.1875 50.953125 41.515625 \r\nQ 57.328125 34.859375 57.328125 23.390625 \r\nQ 57.328125 12.15625 50.6875 5.359375 \r\nQ 44.046875 -1.421875 33.015625 -1.421875 \r\nQ 20.359375 -1.421875 13.671875 8.265625 \r\nQ 6.984375 17.96875 6.984375 36.375 \r\nQ 6.984375 53.65625 15.1875 63.9375 \r\nQ 23.390625 74.21875 37.203125 74.21875 \r\nQ 40.921875 74.21875 44.703125 73.484375 \r\nQ 48.484375 72.75 52.59375 71.296875 \r\nz\r\n\" id=\"DejaVuSans-54\"/>\r\n      </defs>\r\n      <g style=\"fill:#555555;\" transform=\"translate(214.415341 239.238437)scale(0.1 -0.1)\">\r\n       <use xlink:href=\"#DejaVuSans-54\"/>\r\n      </g>\r\n     </g>\r\n    </g>\r\n    <g id=\"xtick_4\">\r\n     <g id=\"line2d_7\">\r\n      <path clip-path=\"url(#pde6cd1a601)\" d=\"M 285.232955 224.64 \r\nL 285.232955 7.2 \r\n\" style=\"fill:none;stroke:#ffffff;stroke-linecap:square;stroke-width:0.8;\"/>\r\n     </g>\r\n     <g id=\"line2d_8\">\r\n      <g>\r\n       <use style=\"fill:#555555;stroke:#555555;stroke-width:0.8;\" x=\"285.232955\" xlink:href=\"#me91351536c\" y=\"224.64\"/>\r\n      </g>\r\n     </g>\r\n     <g id=\"text_4\">\r\n      <!-- 8 -->\r\n      <defs>\r\n       <path d=\"M 31.78125 34.625 \r\nQ 24.75 34.625 20.71875 30.859375 \r\nQ 16.703125 27.09375 16.703125 20.515625 \r\nQ 16.703125 13.921875 20.71875 10.15625 \r\nQ 24.75 6.390625 31.78125 6.390625 \r\nQ 38.8125 6.390625 42.859375 10.171875 \r\nQ 46.921875 13.96875 46.921875 20.515625 \r\nQ 46.921875 27.09375 42.890625 30.859375 \r\nQ 38.875 34.625 31.78125 34.625 \r\nz\r\nM 21.921875 38.8125 \r\nQ 15.578125 40.375 12.03125 44.71875 \r\nQ 8.5 49.078125 8.5 55.328125 \r\nQ 8.5 64.0625 14.71875 69.140625 \r\nQ 20.953125 74.21875 31.78125 74.21875 \r\nQ 42.671875 74.21875 48.875 69.140625 \r\nQ 55.078125 64.0625 55.078125 55.328125 \r\nQ 55.078125 49.078125 51.53125 44.71875 \r\nQ 48 40.375 41.703125 38.8125 \r\nQ 48.828125 37.15625 52.796875 32.3125 \r\nQ 56.78125 27.484375 56.78125 20.515625 \r\nQ 56.78125 9.90625 50.3125 4.234375 \r\nQ 43.84375 -1.421875 31.78125 -1.421875 \r\nQ 19.734375 -1.421875 13.25 4.234375 \r\nQ 6.78125 9.90625 6.78125 20.515625 \r\nQ 6.78125 27.484375 10.78125 32.3125 \r\nQ 14.796875 37.15625 21.921875 38.8125 \r\nz\r\nM 18.3125 54.390625 \r\nQ 18.3125 48.734375 21.84375 45.5625 \r\nQ 25.390625 42.390625 31.78125 42.390625 \r\nQ 38.140625 42.390625 41.71875 45.5625 \r\nQ 45.3125 48.734375 45.3125 54.390625 \r\nQ 45.3125 60.0625 41.71875 63.234375 \r\nQ 38.140625 66.40625 31.78125 66.40625 \r\nQ 25.390625 66.40625 21.84375 63.234375 \r\nQ 18.3125 60.0625 18.3125 54.390625 \r\nz\r\n\" id=\"DejaVuSans-56\"/>\r\n      </defs>\r\n      <g style=\"fill:#555555;\" transform=\"translate(282.051705 239.238437)scale(0.1 -0.1)\">\r\n       <use xlink:href=\"#DejaVuSans-56\"/>\r\n      </g>\r\n     </g>\r\n    </g>\r\n    <g id=\"xtick_5\">\r\n     <g id=\"line2d_9\">\r\n      <path clip-path=\"url(#pde6cd1a601)\" d=\"M 352.869318 224.64 \r\nL 352.869318 7.2 \r\n\" style=\"fill:none;stroke:#ffffff;stroke-linecap:square;stroke-width:0.8;\"/>\r\n     </g>\r\n     <g id=\"line2d_10\">\r\n      <g>\r\n       <use style=\"fill:#555555;stroke:#555555;stroke-width:0.8;\" x=\"352.869318\" xlink:href=\"#me91351536c\" y=\"224.64\"/>\r\n      </g>\r\n     </g>\r\n     <g id=\"text_5\">\r\n      <!-- 10 -->\r\n      <defs>\r\n       <path d=\"M 12.40625 8.296875 \r\nL 28.515625 8.296875 \r\nL 28.515625 63.921875 \r\nL 10.984375 60.40625 \r\nL 10.984375 69.390625 \r\nL 28.421875 72.90625 \r\nL 38.28125 72.90625 \r\nL 38.28125 8.296875 \r\nL 54.390625 8.296875 \r\nL 54.390625 0 \r\nL 12.40625 0 \r\nz\r\n\" id=\"DejaVuSans-49\"/>\r\n       <path d=\"M 31.78125 66.40625 \r\nQ 24.171875 66.40625 20.328125 58.90625 \r\nQ 16.5 51.421875 16.5 36.375 \r\nQ 16.5 21.390625 20.328125 13.890625 \r\nQ 24.171875 6.390625 31.78125 6.390625 \r\nQ 39.453125 6.390625 43.28125 13.890625 \r\nQ 47.125 21.390625 47.125 36.375 \r\nQ 47.125 51.421875 43.28125 58.90625 \r\nQ 39.453125 66.40625 31.78125 66.40625 \r\nz\r\nM 31.78125 74.21875 \r\nQ 44.046875 74.21875 50.515625 64.515625 \r\nQ 56.984375 54.828125 56.984375 36.375 \r\nQ 56.984375 17.96875 50.515625 8.265625 \r\nQ 44.046875 -1.421875 31.78125 -1.421875 \r\nQ 19.53125 -1.421875 13.0625 8.265625 \r\nQ 6.59375 17.96875 6.59375 36.375 \r\nQ 6.59375 54.828125 13.0625 64.515625 \r\nQ 19.53125 74.21875 31.78125 74.21875 \r\nz\r\n\" id=\"DejaVuSans-48\"/>\r\n      </defs>\r\n      <g style=\"fill:#555555;\" transform=\"translate(346.506818 239.238437)scale(0.1 -0.1)\">\r\n       <use xlink:href=\"#DejaVuSans-49\"/>\r\n       <use x=\"63.623047\" xlink:href=\"#DejaVuSans-48\"/>\r\n      </g>\r\n     </g>\r\n    </g>\r\n   </g>\r\n   <g id=\"matplotlib.axis_2\">\r\n    <g id=\"ytick_1\">\r\n     <g id=\"line2d_11\">\r\n      <path clip-path=\"url(#pde6cd1a601)\" d=\"M 33.2875 224.64 \r\nL 368.0875 224.64 \r\n\" style=\"fill:none;stroke:#ffffff;stroke-linecap:square;stroke-width:0.8;\"/>\r\n     </g>\r\n     <g id=\"line2d_12\">\r\n      <defs>\r\n       <path d=\"M 0 0 \r\nL -3.5 0 \r\n\" id=\"m02cd4a7976\" style=\"stroke:#555555;stroke-width:0.8;\"/>\r\n      </defs>\r\n      <g>\r\n       <use style=\"fill:#555555;stroke:#555555;stroke-width:0.8;\" x=\"33.2875\" xlink:href=\"#m02cd4a7976\" y=\"224.64\"/>\r\n      </g>\r\n     </g>\r\n     <g id=\"text_6\">\r\n      <!-- 0 -->\r\n      <g style=\"fill:#555555;\" transform=\"translate(19.925 228.439219)scale(0.1 -0.1)\">\r\n       <use xlink:href=\"#DejaVuSans-48\"/>\r\n      </g>\r\n     </g>\r\n    </g>\r\n    <g id=\"ytick_2\">\r\n     <g id=\"line2d_13\">\r\n      <path clip-path=\"url(#pde6cd1a601)\" d=\"M 33.2875 177.788028 \r\nL 368.0875 177.788028 \r\n\" style=\"fill:none;stroke:#ffffff;stroke-linecap:square;stroke-width:0.8;\"/>\r\n     </g>\r\n     <g id=\"line2d_14\">\r\n      <g>\r\n       <use style=\"fill:#555555;stroke:#555555;stroke-width:0.8;\" x=\"33.2875\" xlink:href=\"#m02cd4a7976\" y=\"177.788028\"/>\r\n      </g>\r\n     </g>\r\n     <g id=\"text_7\">\r\n      <!-- 50 -->\r\n      <defs>\r\n       <path d=\"M 10.796875 72.90625 \r\nL 49.515625 72.90625 \r\nL 49.515625 64.59375 \r\nL 19.828125 64.59375 \r\nL 19.828125 46.734375 \r\nQ 21.96875 47.46875 24.109375 47.828125 \r\nQ 26.265625 48.1875 28.421875 48.1875 \r\nQ 40.625 48.1875 47.75 41.5 \r\nQ 54.890625 34.8125 54.890625 23.390625 \r\nQ 54.890625 11.625 47.5625 5.09375 \r\nQ 40.234375 -1.421875 26.90625 -1.421875 \r\nQ 22.3125 -1.421875 17.546875 -0.640625 \r\nQ 12.796875 0.140625 7.71875 1.703125 \r\nL 7.71875 11.625 \r\nQ 12.109375 9.234375 16.796875 8.0625 \r\nQ 21.484375 6.890625 26.703125 6.890625 \r\nQ 35.15625 6.890625 40.078125 11.328125 \r\nQ 45.015625 15.765625 45.015625 23.390625 \r\nQ 45.015625 31 40.078125 35.4375 \r\nQ 35.15625 39.890625 26.703125 39.890625 \r\nQ 22.75 39.890625 18.8125 39.015625 \r\nQ 14.890625 38.140625 10.796875 36.28125 \r\nz\r\n\" id=\"DejaVuSans-53\"/>\r\n      </defs>\r\n      <g style=\"fill:#555555;\" transform=\"translate(13.5625 181.587247)scale(0.1 -0.1)\">\r\n       <use xlink:href=\"#DejaVuSans-53\"/>\r\n       <use x=\"63.623047\" xlink:href=\"#DejaVuSans-48\"/>\r\n      </g>\r\n     </g>\r\n    </g>\r\n    <g id=\"ytick_3\">\r\n     <g id=\"line2d_15\">\r\n      <path clip-path=\"url(#pde6cd1a601)\" d=\"M 33.2875 130.936057 \r\nL 368.0875 130.936057 \r\n\" style=\"fill:none;stroke:#ffffff;stroke-linecap:square;stroke-width:0.8;\"/>\r\n     </g>\r\n     <g id=\"line2d_16\">\r\n      <g>\r\n       <use style=\"fill:#555555;stroke:#555555;stroke-width:0.8;\" x=\"33.2875\" xlink:href=\"#m02cd4a7976\" y=\"130.936057\"/>\r\n      </g>\r\n     </g>\r\n     <g id=\"text_8\">\r\n      <!-- 100 -->\r\n      <g style=\"fill:#555555;\" transform=\"translate(7.2 134.735276)scale(0.1 -0.1)\">\r\n       <use xlink:href=\"#DejaVuSans-49\"/>\r\n       <use x=\"63.623047\" xlink:href=\"#DejaVuSans-48\"/>\r\n       <use x=\"127.246094\" xlink:href=\"#DejaVuSans-48\"/>\r\n      </g>\r\n     </g>\r\n    </g>\r\n    <g id=\"ytick_4\">\r\n     <g id=\"line2d_17\">\r\n      <path clip-path=\"url(#pde6cd1a601)\" d=\"M 33.2875 84.084085 \r\nL 368.0875 84.084085 \r\n\" style=\"fill:none;stroke:#ffffff;stroke-linecap:square;stroke-width:0.8;\"/>\r\n     </g>\r\n     <g id=\"line2d_18\">\r\n      <g>\r\n       <use style=\"fill:#555555;stroke:#555555;stroke-width:0.8;\" x=\"33.2875\" xlink:href=\"#m02cd4a7976\" y=\"84.084085\"/>\r\n      </g>\r\n     </g>\r\n     <g id=\"text_9\">\r\n      <!-- 150 -->\r\n      <g style=\"fill:#555555;\" transform=\"translate(7.2 87.883304)scale(0.1 -0.1)\">\r\n       <use xlink:href=\"#DejaVuSans-49\"/>\r\n       <use x=\"63.623047\" xlink:href=\"#DejaVuSans-53\"/>\r\n       <use x=\"127.246094\" xlink:href=\"#DejaVuSans-48\"/>\r\n      </g>\r\n     </g>\r\n    </g>\r\n    <g id=\"ytick_5\">\r\n     <g id=\"line2d_19\">\r\n      <path clip-path=\"url(#pde6cd1a601)\" d=\"M 33.2875 37.232114 \r\nL 368.0875 37.232114 \r\n\" style=\"fill:none;stroke:#ffffff;stroke-linecap:square;stroke-width:0.8;\"/>\r\n     </g>\r\n     <g id=\"line2d_20\">\r\n      <g>\r\n       <use style=\"fill:#555555;stroke:#555555;stroke-width:0.8;\" x=\"33.2875\" xlink:href=\"#m02cd4a7976\" y=\"37.232114\"/>\r\n      </g>\r\n     </g>\r\n     <g id=\"text_10\">\r\n      <!-- 200 -->\r\n      <g style=\"fill:#555555;\" transform=\"translate(7.2 41.031333)scale(0.1 -0.1)\">\r\n       <use xlink:href=\"#DejaVuSans-50\"/>\r\n       <use x=\"63.623047\" xlink:href=\"#DejaVuSans-48\"/>\r\n       <use x=\"127.246094\" xlink:href=\"#DejaVuSans-48\"/>\r\n      </g>\r\n     </g>\r\n    </g>\r\n   </g>\r\n   <g id=\"patch_3\">\r\n    <path clip-path=\"url(#pde6cd1a601)\" d=\"M 48.505682 224.64 \r\nL 78.942045 224.64 \r\nL 78.942045 45.665469 \r\nL 48.505682 45.665469 \r\nz\r\n\" style=\"fill:#ff4500;\"/>\r\n   </g>\r\n   <g id=\"patch_4\">\r\n    <path clip-path=\"url(#pde6cd1a601)\" d=\"M 78.942045 224.64 \r\nL 109.378409 224.64 \r\nL 109.378409 43.79139 \r\nL 78.942045 43.79139 \r\nz\r\n\" style=\"fill:#ff4500;\"/>\r\n   </g>\r\n   <g id=\"patch_5\">\r\n    <path clip-path=\"url(#pde6cd1a601)\" d=\"M 109.378409 224.64 \r\nL 139.814773 224.64 \r\nL 139.814773 17.554286 \r\nL 109.378409 17.554286 \r\nz\r\n\" style=\"fill:#ff4500;\"/>\r\n   </g>\r\n   <g id=\"patch_6\">\r\n    <path clip-path=\"url(#pde6cd1a601)\" d=\"M 139.814773 224.64 \r\nL 170.251136 224.64 \r\nL 170.251136 144.991648 \r\nL 139.814773 144.991648 \r\nz\r\n\" style=\"fill:#ff4500;\"/>\r\n   </g>\r\n   <g id=\"patch_7\">\r\n    <path clip-path=\"url(#pde6cd1a601)\" d=\"M 170.251136 224.64 \r\nL 200.6875 224.64 \r\nL 200.6875 174.039871 \r\nL 170.251136 174.039871 \r\nz\r\n\" style=\"fill:#ff4500;\"/>\r\n   </g>\r\n   <g id=\"patch_8\">\r\n    <path clip-path=\"url(#pde6cd1a601)\" d=\"M 200.6875 224.64 \r\nL 231.123864 224.64 \r\nL 231.123864 167.480595 \r\nL 200.6875 167.480595 \r\nz\r\n\" style=\"fill:#ff4500;\"/>\r\n   </g>\r\n   <g id=\"patch_9\">\r\n    <path clip-path=\"url(#pde6cd1a601)\" d=\"M 231.123864 224.64 \r\nL 261.560227 224.64 \r\nL 261.560227 189.032502 \r\nL 231.123864 189.032502 \r\nz\r\n\" style=\"fill:#ff4500;\"/>\r\n   </g>\r\n   <g id=\"patch_10\">\r\n    <path clip-path=\"url(#pde6cd1a601)\" d=\"M 261.560227 224.64 \r\nL 291.996591 224.64 \r\nL 291.996591 195.591778 \r\nL 261.560227 195.591778 \r\nz\r\n\" style=\"fill:#ff4500;\"/>\r\n   </g>\r\n   <g id=\"patch_11\">\r\n    <path clip-path=\"url(#pde6cd1a601)\" d=\"M 291.996591 224.64 \r\nL 322.432955 224.64 \r\nL 322.432955 211.521448 \r\nL 291.996591 211.521448 \r\nz\r\n\" style=\"fill:#ff4500;\"/>\r\n   </g>\r\n   <g id=\"patch_12\">\r\n    <path clip-path=\"url(#pde6cd1a601)\" d=\"M 322.432955 224.64 \r\nL 352.869318 224.64 \r\nL 352.869318 219.017763 \r\nL 322.432955 219.017763 \r\nz\r\n\" style=\"fill:#ff4500;\"/>\r\n   </g>\r\n   <g id=\"patch_13\">\r\n    <path d=\"M 33.2875 224.64 \r\nL 33.2875 7.2 \r\n\" style=\"fill:none;stroke:#ffffff;stroke-linecap:square;stroke-linejoin:miter;\"/>\r\n   </g>\r\n   <g id=\"patch_14\">\r\n    <path d=\"M 368.0875 224.64 \r\nL 368.0875 7.2 \r\n\" style=\"fill:none;stroke:#ffffff;stroke-linecap:square;stroke-linejoin:miter;\"/>\r\n   </g>\r\n   <g id=\"patch_15\">\r\n    <path d=\"M 33.2875 224.64 \r\nL 368.0875 224.64 \r\n\" style=\"fill:none;stroke:#ffffff;stroke-linecap:square;stroke-linejoin:miter;\"/>\r\n   </g>\r\n   <g id=\"patch_16\">\r\n    <path d=\"M 33.2875 7.2 \r\nL 368.0875 7.2 \r\n\" style=\"fill:none;stroke:#ffffff;stroke-linecap:square;stroke-linejoin:miter;\"/>\r\n   </g>\r\n  </g>\r\n </g>\r\n <defs>\r\n  <clipPath id=\"pde6cd1a601\">\r\n   <rect height=\"217.44\" width=\"334.8\" x=\"33.2875\" y=\"7.2\"/>\r\n  </clipPath>\r\n </defs>\r\n</svg>\r\n",
            "image/png": "[encoded data removed]"
          },
          "metadata": {}
        }
      ],
      "metadata": {
        "id": "AHLzBwDpY4he",
        "colab_type": "code",
        "colab": {
          "base_uri": "https://localhost:8080/",
          "height": 430
        },
        "outputId": "3a74b228-183a-4dde-dab1-f709419621be"
      }
    },
    {
      "cell_type": "code",
      "execution_count": null,
      "source": [
        "plt.scatter(x=df_2019[\"dia_venda\"], y = df_2019[\"Receita\"]);"
      ],
      "outputs": [
        {
          "output_type": "display_data",
          "data": {
            "text/plain": [
              "<Figure size 432x288 with 1 Axes>"
            ],
            "image/svg+xml": "<?xml version=\"1.0\" encoding=\"utf-8\" standalone=\"no\"?>\r\n<!DOCTYPE svg PUBLIC \"-//W3C//DTD SVG 1.1//EN\"\r\n  \"http://www.w3.org/Graphics/SVG/1.1/DTD/svg11.dtd\">\r\n<!-- Created with matplotlib (https://matplotlib.org/) -->\r\n<svg height=\"248.518125pt\" version=\"1.1\" viewBox=\"0 0 381.65 248.518125\" width=\"381.65pt\" xmlns=\"http://www.w3.org/2000/svg\" xmlns:xlink=\"http://www.w3.org/1999/xlink\">\r\n <defs>\r\n  <style type=\"text/css\">\r\n*{stroke-linecap:butt;stroke-linejoin:round;}\r\n  </style>\r\n </defs>\r\n <g id=\"figure_1\">\r\n  <g id=\"patch_1\">\r\n   <path d=\"M -0 248.518125 \r\nL 381.65 248.518125 \r\nL 381.65 0 \r\nL -0 0 \r\nz\r\n\" style=\"fill:#ffffff;\"/>\r\n  </g>\r\n  <g id=\"axes_1\">\r\n   <g id=\"patch_2\">\r\n    <path d=\"M 39.65 224.64 \r\nL 374.45 224.64 \r\nL 374.45 7.2 \r\nL 39.65 7.2 \r\nz\r\n\" style=\"fill:#e5e5e5;\"/>\r\n   </g>\r\n   <g id=\"matplotlib.axis_1\">\r\n    <g id=\"xtick_1\">\r\n     <g id=\"line2d_1\">\r\n      <path clip-path=\"url(#p21f77ac106)\" d=\"M 44.722727 224.64 \r\nL 44.722727 7.2 \r\n\" style=\"fill:none;stroke:#ffffff;stroke-linecap:square;stroke-width:0.8;\"/>\r\n     </g>\r\n     <g id=\"line2d_2\">\r\n      <defs>\r\n       <path d=\"M 0 0 \r\nL 0 3.5 \r\n\" id=\"mfe9d676447\" style=\"stroke:#555555;stroke-width:0.8;\"/>\r\n      </defs>\r\n      <g>\r\n       <use style=\"fill:#555555;stroke:#555555;stroke-width:0.8;\" x=\"44.722727\" xlink:href=\"#mfe9d676447\" y=\"224.64\"/>\r\n      </g>\r\n     </g>\r\n     <g id=\"text_1\">\r\n      <!-- 0 -->\r\n      <defs>\r\n       <path d=\"M 31.78125 66.40625 \r\nQ 24.171875 66.40625 20.328125 58.90625 \r\nQ 16.5 51.421875 16.5 36.375 \r\nQ 16.5 21.390625 20.328125 13.890625 \r\nQ 24.171875 6.390625 31.78125 6.390625 \r\nQ 39.453125 6.390625 43.28125 13.890625 \r\nQ 47.125 21.390625 47.125 36.375 \r\nQ 47.125 51.421875 43.28125 58.90625 \r\nQ 39.453125 66.40625 31.78125 66.40625 \r\nz\r\nM 31.78125 74.21875 \r\nQ 44.046875 74.21875 50.515625 64.515625 \r\nQ 56.984375 54.828125 56.984375 36.375 \r\nQ 56.984375 17.96875 50.515625 8.265625 \r\nQ 44.046875 -1.421875 31.78125 -1.421875 \r\nQ 19.53125 -1.421875 13.0625 8.265625 \r\nQ 6.59375 17.96875 6.59375 36.375 \r\nQ 6.59375 54.828125 13.0625 64.515625 \r\nQ 19.53125 74.21875 31.78125 74.21875 \r\nz\r\n\" id=\"DejaVuSans-48\"/>\r\n      </defs>\r\n      <g style=\"fill:#555555;\" transform=\"translate(41.541477 239.238438)scale(0.1 -0.1)\">\r\n       <use xlink:href=\"#DejaVuSans-48\"/>\r\n      </g>\r\n     </g>\r\n    </g>\r\n    <g id=\"xtick_2\">\r\n     <g id=\"line2d_3\">\r\n      <path clip-path=\"url(#p21f77ac106)\" d=\"M 95.45 224.64 \r\nL 95.45 7.2 \r\n\" style=\"fill:none;stroke:#ffffff;stroke-linecap:square;stroke-width:0.8;\"/>\r\n     </g>\r\n     <g id=\"line2d_4\">\r\n      <g>\r\n       <use style=\"fill:#555555;stroke:#555555;stroke-width:0.8;\" x=\"95.45\" xlink:href=\"#mfe9d676447\" y=\"224.64\"/>\r\n      </g>\r\n     </g>\r\n     <g id=\"text_2\">\r\n      <!-- 5 -->\r\n      <defs>\r\n       <path d=\"M 10.796875 72.90625 \r\nL 49.515625 72.90625 \r\nL 49.515625 64.59375 \r\nL 19.828125 64.59375 \r\nL 19.828125 46.734375 \r\nQ 21.96875 47.46875 24.109375 47.828125 \r\nQ 26.265625 48.1875 28.421875 48.1875 \r\nQ 40.625 48.1875 47.75 41.5 \r\nQ 54.890625 34.8125 54.890625 23.390625 \r\nQ 54.890625 11.625 47.5625 5.09375 \r\nQ 40.234375 -1.421875 26.90625 -1.421875 \r\nQ 22.3125 -1.421875 17.546875 -0.640625 \r\nQ 12.796875 0.140625 7.71875 1.703125 \r\nL 7.71875 11.625 \r\nQ 12.109375 9.234375 16.796875 8.0625 \r\nQ 21.484375 6.890625 26.703125 6.890625 \r\nQ 35.15625 6.890625 40.078125 11.328125 \r\nQ 45.015625 15.765625 45.015625 23.390625 \r\nQ 45.015625 31 40.078125 35.4375 \r\nQ 35.15625 39.890625 26.703125 39.890625 \r\nQ 22.75 39.890625 18.8125 39.015625 \r\nQ 14.890625 38.140625 10.796875 36.28125 \r\nz\r\n\" id=\"DejaVuSans-53\"/>\r\n      </defs>\r\n      <g style=\"fill:#555555;\" transform=\"translate(92.26875 239.238438)scale(0.1 -0.1)\">\r\n       <use xlink:href=\"#DejaVuSans-53\"/>\r\n      </g>\r\n     </g>\r\n    </g>\r\n    <g id=\"xtick_3\">\r\n     <g id=\"line2d_5\">\r\n      <path clip-path=\"url(#p21f77ac106)\" d=\"M 146.177273 224.64 \r\nL 146.177273 7.2 \r\n\" style=\"fill:none;stroke:#ffffff;stroke-linecap:square;stroke-width:0.8;\"/>\r\n     </g>\r\n     <g id=\"line2d_6\">\r\n      <g>\r\n       <use style=\"fill:#555555;stroke:#555555;stroke-width:0.8;\" x=\"146.177273\" xlink:href=\"#mfe9d676447\" y=\"224.64\"/>\r\n      </g>\r\n     </g>\r\n     <g id=\"text_3\">\r\n      <!-- 10 -->\r\n      <defs>\r\n       <path d=\"M 12.40625 8.296875 \r\nL 28.515625 8.296875 \r\nL 28.515625 63.921875 \r\nL 10.984375 60.40625 \r\nL 10.984375 69.390625 \r\nL 28.421875 72.90625 \r\nL 38.28125 72.90625 \r\nL 38.28125 8.296875 \r\nL 54.390625 8.296875 \r\nL 54.390625 0 \r\nL 12.40625 0 \r\nz\r\n\" id=\"DejaVuSans-49\"/>\r\n      </defs>\r\n      <g style=\"fill:#555555;\" transform=\"translate(139.814773 239.238438)scale(0.1 -0.1)\">\r\n       <use xlink:href=\"#DejaVuSans-49\"/>\r\n       <use x=\"63.623047\" xlink:href=\"#DejaVuSans-48\"/>\r\n      </g>\r\n     </g>\r\n    </g>\r\n    <g id=\"xtick_4\">\r\n     <g id=\"line2d_7\">\r\n      <path clip-path=\"url(#p21f77ac106)\" d=\"M 196.904545 224.64 \r\nL 196.904545 7.2 \r\n\" style=\"fill:none;stroke:#ffffff;stroke-linecap:square;stroke-width:0.8;\"/>\r\n     </g>\r\n     <g id=\"line2d_8\">\r\n      <g>\r\n       <use style=\"fill:#555555;stroke:#555555;stroke-width:0.8;\" x=\"196.904545\" xlink:href=\"#mfe9d676447\" y=\"224.64\"/>\r\n      </g>\r\n     </g>\r\n     <g id=\"text_4\">\r\n      <!-- 15 -->\r\n      <g style=\"fill:#555555;\" transform=\"translate(190.542045 239.238438)scale(0.1 -0.1)\">\r\n       <use xlink:href=\"#DejaVuSans-49\"/>\r\n       <use x=\"63.623047\" xlink:href=\"#DejaVuSans-53\"/>\r\n      </g>\r\n     </g>\r\n    </g>\r\n    <g id=\"xtick_5\">\r\n     <g id=\"line2d_9\">\r\n      <path clip-path=\"url(#p21f77ac106)\" d=\"M 247.631818 224.64 \r\nL 247.631818 7.2 \r\n\" style=\"fill:none;stroke:#ffffff;stroke-linecap:square;stroke-width:0.8;\"/>\r\n     </g>\r\n     <g id=\"line2d_10\">\r\n      <g>\r\n       <use style=\"fill:#555555;stroke:#555555;stroke-width:0.8;\" x=\"247.631818\" xlink:href=\"#mfe9d676447\" y=\"224.64\"/>\r\n      </g>\r\n     </g>\r\n     <g id=\"text_5\">\r\n      <!-- 20 -->\r\n      <defs>\r\n       <path d=\"M 19.1875 8.296875 \r\nL 53.609375 8.296875 \r\nL 53.609375 0 \r\nL 7.328125 0 \r\nL 7.328125 8.296875 \r\nQ 12.9375 14.109375 22.625 23.890625 \r\nQ 32.328125 33.6875 34.8125 36.53125 \r\nQ 39.546875 41.84375 41.421875 45.53125 \r\nQ 43.3125 49.21875 43.3125 52.78125 \r\nQ 43.3125 58.59375 39.234375 62.25 \r\nQ 35.15625 65.921875 28.609375 65.921875 \r\nQ 23.96875 65.921875 18.8125 64.3125 \r\nQ 13.671875 62.703125 7.8125 59.421875 \r\nL 7.8125 69.390625 \r\nQ 13.765625 71.78125 18.9375 73 \r\nQ 24.125 74.21875 28.421875 74.21875 \r\nQ 39.75 74.21875 46.484375 68.546875 \r\nQ 53.21875 62.890625 53.21875 53.421875 \r\nQ 53.21875 48.921875 51.53125 44.890625 \r\nQ 49.859375 40.875 45.40625 35.40625 \r\nQ 44.1875 33.984375 37.640625 27.21875 \r\nQ 31.109375 20.453125 19.1875 8.296875 \r\nz\r\n\" id=\"DejaVuSans-50\"/>\r\n      </defs>\r\n      <g style=\"fill:#555555;\" transform=\"translate(241.269318 239.238438)scale(0.1 -0.1)\">\r\n       <use xlink:href=\"#DejaVuSans-50\"/>\r\n       <use x=\"63.623047\" xlink:href=\"#DejaVuSans-48\"/>\r\n      </g>\r\n     </g>\r\n    </g>\r\n    <g id=\"xtick_6\">\r\n     <g id=\"line2d_11\">\r\n      <path clip-path=\"url(#p21f77ac106)\" d=\"M 298.359091 224.64 \r\nL 298.359091 7.2 \r\n\" style=\"fill:none;stroke:#ffffff;stroke-linecap:square;stroke-width:0.8;\"/>\r\n     </g>\r\n     <g id=\"line2d_12\">\r\n      <g>\r\n       <use style=\"fill:#555555;stroke:#555555;stroke-width:0.8;\" x=\"298.359091\" xlink:href=\"#mfe9d676447\" y=\"224.64\"/>\r\n      </g>\r\n     </g>\r\n     <g id=\"text_6\">\r\n      <!-- 25 -->\r\n      <g style=\"fill:#555555;\" transform=\"translate(291.996591 239.238438)scale(0.1 -0.1)\">\r\n       <use xlink:href=\"#DejaVuSans-50\"/>\r\n       <use x=\"63.623047\" xlink:href=\"#DejaVuSans-53\"/>\r\n      </g>\r\n     </g>\r\n    </g>\r\n    <g id=\"xtick_7\">\r\n     <g id=\"line2d_13\">\r\n      <path clip-path=\"url(#p21f77ac106)\" d=\"M 349.086364 224.64 \r\nL 349.086364 7.2 \r\n\" style=\"fill:none;stroke:#ffffff;stroke-linecap:square;stroke-width:0.8;\"/>\r\n     </g>\r\n     <g id=\"line2d_14\">\r\n      <g>\r\n       <use style=\"fill:#555555;stroke:#555555;stroke-width:0.8;\" x=\"349.086364\" xlink:href=\"#mfe9d676447\" y=\"224.64\"/>\r\n      </g>\r\n     </g>\r\n     <g id=\"text_7\">\r\n      <!-- 30 -->\r\n      <defs>\r\n       <path d=\"M 40.578125 39.3125 \r\nQ 47.65625 37.796875 51.625 33 \r\nQ 55.609375 28.21875 55.609375 21.1875 \r\nQ 55.609375 10.40625 48.1875 4.484375 \r\nQ 40.765625 -1.421875 27.09375 -1.421875 \r\nQ 22.515625 -1.421875 17.65625 -0.515625 \r\nQ 12.796875 0.390625 7.625 2.203125 \r\nL 7.625 11.71875 \r\nQ 11.71875 9.328125 16.59375 8.109375 \r\nQ 21.484375 6.890625 26.8125 6.890625 \r\nQ 36.078125 6.890625 40.9375 10.546875 \r\nQ 45.796875 14.203125 45.796875 21.1875 \r\nQ 45.796875 27.640625 41.28125 31.265625 \r\nQ 36.765625 34.90625 28.71875 34.90625 \r\nL 20.21875 34.90625 \r\nL 20.21875 43.015625 \r\nL 29.109375 43.015625 \r\nQ 36.375 43.015625 40.234375 45.921875 \r\nQ 44.09375 48.828125 44.09375 54.296875 \r\nQ 44.09375 59.90625 40.109375 62.90625 \r\nQ 36.140625 65.921875 28.71875 65.921875 \r\nQ 24.65625 65.921875 20.015625 65.03125 \r\nQ 15.375 64.15625 9.8125 62.3125 \r\nL 9.8125 71.09375 \r\nQ 15.4375 72.65625 20.34375 73.4375 \r\nQ 25.25 74.21875 29.59375 74.21875 \r\nQ 40.828125 74.21875 47.359375 69.109375 \r\nQ 53.90625 64.015625 53.90625 55.328125 \r\nQ 53.90625 49.265625 50.4375 45.09375 \r\nQ 46.96875 40.921875 40.578125 39.3125 \r\nz\r\n\" id=\"DejaVuSans-51\"/>\r\n      </defs>\r\n      <g style=\"fill:#555555;\" transform=\"translate(342.723864 239.238438)scale(0.1 -0.1)\">\r\n       <use xlink:href=\"#DejaVuSans-51\"/>\r\n       <use x=\"63.623047\" xlink:href=\"#DejaVuSans-48\"/>\r\n      </g>\r\n     </g>\r\n    </g>\r\n   </g>\r\n   <g id=\"matplotlib.axis_2\">\r\n    <g id=\"ytick_1\">\r\n     <g id=\"line2d_15\">\r\n      <path clip-path=\"url(#p21f77ac106)\" d=\"M 39.65 214.980282 \r\nL 374.45 214.980282 \r\n\" style=\"fill:none;stroke:#ffffff;stroke-linecap:square;stroke-width:0.8;\"/>\r\n     </g>\r\n     <g id=\"line2d_16\">\r\n      <defs>\r\n       <path d=\"M 0 0 \r\nL -3.5 0 \r\n\" id=\"mcbfada4d4c\" style=\"stroke:#555555;stroke-width:0.8;\"/>\r\n      </defs>\r\n      <g>\r\n       <use style=\"fill:#555555;stroke:#555555;stroke-width:0.8;\" x=\"39.65\" xlink:href=\"#mcbfada4d4c\" y=\"214.980282\"/>\r\n      </g>\r\n     </g>\r\n     <g id=\"text_8\">\r\n      <!-- 0 -->\r\n      <g style=\"fill:#555555;\" transform=\"translate(26.2875 218.7795)scale(0.1 -0.1)\">\r\n       <use xlink:href=\"#DejaVuSans-48\"/>\r\n      </g>\r\n     </g>\r\n    </g>\r\n    <g id=\"ytick_2\">\r\n     <g id=\"line2d_17\">\r\n      <path clip-path=\"url(#p21f77ac106)\" d=\"M 39.65 187.060326 \r\nL 374.45 187.060326 \r\n\" style=\"fill:none;stroke:#ffffff;stroke-linecap:square;stroke-width:0.8;\"/>\r\n     </g>\r\n     <g id=\"line2d_18\">\r\n      <g>\r\n       <use style=\"fill:#555555;stroke:#555555;stroke-width:0.8;\" x=\"39.65\" xlink:href=\"#mcbfada4d4c\" y=\"187.060326\"/>\r\n      </g>\r\n     </g>\r\n     <g id=\"text_9\">\r\n      <!-- 500 -->\r\n      <g style=\"fill:#555555;\" transform=\"translate(13.5625 190.859545)scale(0.1 -0.1)\">\r\n       <use xlink:href=\"#DejaVuSans-53\"/>\r\n       <use x=\"63.623047\" xlink:href=\"#DejaVuSans-48\"/>\r\n       <use x=\"127.246094\" xlink:href=\"#DejaVuSans-48\"/>\r\n      </g>\r\n     </g>\r\n    </g>\r\n    <g id=\"ytick_3\">\r\n     <g id=\"line2d_19\">\r\n      <path clip-path=\"url(#p21f77ac106)\" d=\"M 39.65 159.14037 \r\nL 374.45 159.14037 \r\n\" style=\"fill:none;stroke:#ffffff;stroke-linecap:square;stroke-width:0.8;\"/>\r\n     </g>\r\n     <g id=\"line2d_20\">\r\n      <g>\r\n       <use style=\"fill:#555555;stroke:#555555;stroke-width:0.8;\" x=\"39.65\" xlink:href=\"#mcbfada4d4c\" y=\"159.14037\"/>\r\n      </g>\r\n     </g>\r\n     <g id=\"text_10\">\r\n      <!-- 1000 -->\r\n      <g style=\"fill:#555555;\" transform=\"translate(7.2 162.939589)scale(0.1 -0.1)\">\r\n       <use xlink:href=\"#DejaVuSans-49\"/>\r\n       <use x=\"63.623047\" xlink:href=\"#DejaVuSans-48\"/>\r\n       <use x=\"127.246094\" xlink:href=\"#DejaVuSans-48\"/>\r\n       <use x=\"190.869141\" xlink:href=\"#DejaVuSans-48\"/>\r\n      </g>\r\n     </g>\r\n    </g>\r\n    <g id=\"ytick_4\">\r\n     <g id=\"line2d_21\">\r\n      <path clip-path=\"url(#p21f77ac106)\" d=\"M 39.65 131.220415 \r\nL 374.45 131.220415 \r\n\" style=\"fill:none;stroke:#ffffff;stroke-linecap:square;stroke-width:0.8;\"/>\r\n     </g>\r\n     <g id=\"line2d_22\">\r\n      <g>\r\n       <use style=\"fill:#555555;stroke:#555555;stroke-width:0.8;\" x=\"39.65\" xlink:href=\"#mcbfada4d4c\" y=\"131.220415\"/>\r\n      </g>\r\n     </g>\r\n     <g id=\"text_11\">\r\n      <!-- 1500 -->\r\n      <g style=\"fill:#555555;\" transform=\"translate(7.2 135.019634)scale(0.1 -0.1)\">\r\n       <use xlink:href=\"#DejaVuSans-49\"/>\r\n       <use x=\"63.623047\" xlink:href=\"#DejaVuSans-53\"/>\r\n       <use x=\"127.246094\" xlink:href=\"#DejaVuSans-48\"/>\r\n       <use x=\"190.869141\" xlink:href=\"#DejaVuSans-48\"/>\r\n      </g>\r\n     </g>\r\n    </g>\r\n    <g id=\"ytick_5\">\r\n     <g id=\"line2d_23\">\r\n      <path clip-path=\"url(#p21f77ac106)\" d=\"M 39.65 103.300459 \r\nL 374.45 103.300459 \r\n\" style=\"fill:none;stroke:#ffffff;stroke-linecap:square;stroke-width:0.8;\"/>\r\n     </g>\r\n     <g id=\"line2d_24\">\r\n      <g>\r\n       <use style=\"fill:#555555;stroke:#555555;stroke-width:0.8;\" x=\"39.65\" xlink:href=\"#mcbfada4d4c\" y=\"103.300459\"/>\r\n      </g>\r\n     </g>\r\n     <g id=\"text_12\">\r\n      <!-- 2000 -->\r\n      <g style=\"fill:#555555;\" transform=\"translate(7.2 107.099678)scale(0.1 -0.1)\">\r\n       <use xlink:href=\"#DejaVuSans-50\"/>\r\n       <use x=\"63.623047\" xlink:href=\"#DejaVuSans-48\"/>\r\n       <use x=\"127.246094\" xlink:href=\"#DejaVuSans-48\"/>\r\n       <use x=\"190.869141\" xlink:href=\"#DejaVuSans-48\"/>\r\n      </g>\r\n     </g>\r\n    </g>\r\n    <g id=\"ytick_6\">\r\n     <g id=\"line2d_25\">\r\n      <path clip-path=\"url(#p21f77ac106)\" d=\"M 39.65 75.380504 \r\nL 374.45 75.380504 \r\n\" style=\"fill:none;stroke:#ffffff;stroke-linecap:square;stroke-width:0.8;\"/>\r\n     </g>\r\n     <g id=\"line2d_26\">\r\n      <g>\r\n       <use style=\"fill:#555555;stroke:#555555;stroke-width:0.8;\" x=\"39.65\" xlink:href=\"#mcbfada4d4c\" y=\"75.380504\"/>\r\n      </g>\r\n     </g>\r\n     <g id=\"text_13\">\r\n      <!-- 2500 -->\r\n      <g style=\"fill:#555555;\" transform=\"translate(7.2 79.179722)scale(0.1 -0.1)\">\r\n       <use xlink:href=\"#DejaVuSans-50\"/>\r\n       <use x=\"63.623047\" xlink:href=\"#DejaVuSans-53\"/>\r\n       <use x=\"127.246094\" xlink:href=\"#DejaVuSans-48\"/>\r\n       <use x=\"190.869141\" xlink:href=\"#DejaVuSans-48\"/>\r\n      </g>\r\n     </g>\r\n    </g>\r\n    <g id=\"ytick_7\">\r\n     <g id=\"line2d_27\">\r\n      <path clip-path=\"url(#p21f77ac106)\" d=\"M 39.65 47.460548 \r\nL 374.45 47.460548 \r\n\" style=\"fill:none;stroke:#ffffff;stroke-linecap:square;stroke-width:0.8;\"/>\r\n     </g>\r\n     <g id=\"line2d_28\">\r\n      <g>\r\n       <use style=\"fill:#555555;stroke:#555555;stroke-width:0.8;\" x=\"39.65\" xlink:href=\"#mcbfada4d4c\" y=\"47.460548\"/>\r\n      </g>\r\n     </g>\r\n     <g id=\"text_14\">\r\n      <!-- 3000 -->\r\n      <g style=\"fill:#555555;\" transform=\"translate(7.2 51.259767)scale(0.1 -0.1)\">\r\n       <use xlink:href=\"#DejaVuSans-51\"/>\r\n       <use x=\"63.623047\" xlink:href=\"#DejaVuSans-48\"/>\r\n       <use x=\"127.246094\" xlink:href=\"#DejaVuSans-48\"/>\r\n       <use x=\"190.869141\" xlink:href=\"#DejaVuSans-48\"/>\r\n      </g>\r\n     </g>\r\n    </g>\r\n    <g id=\"ytick_8\">\r\n     <g id=\"line2d_29\">\r\n      <path clip-path=\"url(#p21f77ac106)\" d=\"M 39.65 19.540592 \r\nL 374.45 19.540592 \r\n\" style=\"fill:none;stroke:#ffffff;stroke-linecap:square;stroke-width:0.8;\"/>\r\n     </g>\r\n     <g id=\"line2d_30\">\r\n      <g>\r\n       <use style=\"fill:#555555;stroke:#555555;stroke-width:0.8;\" x=\"39.65\" xlink:href=\"#mcbfada4d4c\" y=\"19.540592\"/>\r\n      </g>\r\n     </g>\r\n     <g id=\"text_15\">\r\n      <!-- 3500 -->\r\n      <g style=\"fill:#555555;\" transform=\"translate(7.2 23.339811)scale(0.1 -0.1)\">\r\n       <use xlink:href=\"#DejaVuSans-51\"/>\r\n       <use x=\"63.623047\" xlink:href=\"#DejaVuSans-53\"/>\r\n       <use x=\"127.246094\" xlink:href=\"#DejaVuSans-48\"/>\r\n       <use x=\"190.869141\" xlink:href=\"#DejaVuSans-48\"/>\r\n      </g>\r\n     </g>\r\n    </g>\r\n   </g>\r\n   <g id=\"PathCollection_1\">\r\n    <defs>\r\n     <path d=\"M 0 3 \r\nC 0.795609 3 1.55874 2.683901 2.12132 2.12132 \r\nC 2.683901 1.55874 3 0.795609 3 0 \r\nC 3 -0.795609 2.683901 -1.55874 2.12132 -2.12132 \r\nC 1.55874 -2.683901 0.795609 -3 0 -3 \r\nC -0.795609 -3 -1.55874 -2.683901 -2.12132 -2.12132 \r\nC -2.683901 -1.55874 -3 -0.795609 -3 0 \r\nC -3 0.795609 -2.683901 1.55874 -2.12132 2.12132 \r\nC -1.55874 2.683901 -0.795609 3 0 3 \r\nz\r\n\" id=\"m34121517b8\" style=\"stroke:#e24a33;stroke-width:0.5;\"/>\r\n    </defs>\r\n    <g clip-path=\"url(#p21f77ac106)\">\r\n     <use style=\"fill:#e24a33;stroke:#e24a33;stroke-width:0.5;\" x=\"54.868182\" xlink:href=\"#m34121517b8\" y=\"157.279785\"/>\r\n     <use style=\"fill:#e24a33;stroke:#e24a33;stroke-width:0.5;\" x=\"54.868182\" xlink:href=\"#m34121517b8\" y=\"214.301268\"/>\r\n     <use style=\"fill:#e24a33;stroke:#e24a33;stroke-width:0.5;\" x=\"54.868182\" xlink:href=\"#m34121517b8\" y=\"189.959534\"/>\r\n     <use style=\"fill:#e24a33;stroke:#e24a33;stroke-width:0.5;\" x=\"54.868182\" xlink:href=\"#m34121517b8\" y=\"200.794711\"/>\r\n     <use style=\"fill:#e24a33;stroke:#e24a33;stroke-width:0.5;\" x=\"54.868182\" xlink:href=\"#m34121517b8\" y=\"178.900998\"/>\r\n     <use style=\"fill:#e24a33;stroke:#e24a33;stroke-width:0.5;\" x=\"54.868182\" xlink:href=\"#m34121517b8\" y=\"210.611367\"/>\r\n     <use style=\"fill:#e24a33;stroke:#e24a33;stroke-width:0.5;\" x=\"54.868182\" xlink:href=\"#m34121517b8\" y=\"209.924536\"/>\r\n     <use style=\"fill:#e24a33;stroke:#e24a33;stroke-width:0.5;\" x=\"54.868182\" xlink:href=\"#m34121517b8\" y=\"195.613325\"/>\r\n     <use style=\"fill:#e24a33;stroke:#e24a33;stroke-width:0.5;\" x=\"146.177273\" xlink:href=\"#m34121517b8\" y=\"209.061809\"/>\r\n     <use style=\"fill:#e24a33;stroke:#e24a33;stroke-width:0.5;\" x=\"146.177273\" xlink:href=\"#m34121517b8\" y=\"207.961205\"/>\r\n     <use style=\"fill:#e24a33;stroke:#e24a33;stroke-width:0.5;\" x=\"54.868182\" xlink:href=\"#m34121517b8\" y=\"210.205969\"/>\r\n     <use style=\"fill:#e24a33;stroke:#e24a33;stroke-width:0.5;\" x=\"54.868182\" xlink:href=\"#m34121517b8\" y=\"204.566138\"/>\r\n     <use style=\"fill:#e24a33;stroke:#e24a33;stroke-width:0.5;\" x=\"54.868182\" xlink:href=\"#m34121517b8\" y=\"206.403271\"/>\r\n     <use style=\"fill:#e24a33;stroke:#e24a33;stroke-width:0.5;\" x=\"156.322727\" xlink:href=\"#m34121517b8\" y=\"211.015648\"/>\r\n     <use style=\"fill:#e24a33;stroke:#e24a33;stroke-width:0.5;\" x=\"156.322727\" xlink:href=\"#m34121517b8\" y=\"212.886843\"/>\r\n     <use style=\"fill:#e24a33;stroke:#e24a33;stroke-width:0.5;\" x=\"54.868182\" xlink:href=\"#m34121517b8\" y=\"211.237891\"/>\r\n     <use style=\"fill:#e24a33;stroke:#e24a33;stroke-width:0.5;\" x=\"54.868182\" xlink:href=\"#m34121517b8\" y=\"174.802349\"/>\r\n     <use style=\"fill:#e24a33;stroke:#e24a33;stroke-width:0.5;\" x=\"54.868182\" xlink:href=\"#m34121517b8\" y=\"207.912624\"/>\r\n     <use style=\"fill:#e24a33;stroke:#e24a33;stroke-width:0.5;\" x=\"54.868182\" xlink:href=\"#m34121517b8\" y=\"205.96437\"/>\r\n     <use style=\"fill:#e24a33;stroke:#e24a33;stroke-width:0.5;\" x=\"166.468182\" xlink:href=\"#m34121517b8\" y=\"188.494295\"/>\r\n     <use style=\"fill:#e24a33;stroke:#e24a33;stroke-width:0.5;\" x=\"166.468182\" xlink:href=\"#m34121517b8\" y=\"207.571442\"/>\r\n     <use style=\"fill:#e24a33;stroke:#e24a33;stroke-width:0.5;\" x=\"54.868182\" xlink:href=\"#m34121517b8\" y=\"193.197132\"/>\r\n     <use style=\"fill:#e24a33;stroke:#e24a33;stroke-width:0.5;\" x=\"54.868182\" xlink:href=\"#m34121517b8\" y=\"187.808581\"/>\r\n     <use style=\"fill:#e24a33;stroke:#e24a33;stroke-width:0.5;\" x=\"54.868182\" xlink:href=\"#m34121517b8\" y=\"205.666184\"/>\r\n     <use style=\"fill:#e24a33;stroke:#e24a33;stroke-width:0.5;\" x=\"54.868182\" xlink:href=\"#m34121517b8\" y=\"208.562601\"/>\r\n     <use style=\"fill:#e24a33;stroke:#e24a33;stroke-width:0.5;\" x=\"54.868182\" xlink:href=\"#m34121517b8\" y=\"211.82086\"/>\r\n     <use style=\"fill:#e24a33;stroke:#e24a33;stroke-width:0.5;\" x=\"54.868182\" xlink:href=\"#m34121517b8\" y=\"210.548826\"/>\r\n     <use style=\"fill:#e24a33;stroke:#e24a33;stroke-width:0.5;\" x=\"54.868182\" xlink:href=\"#m34121517b8\" y=\"208.173955\"/>\r\n     <use style=\"fill:#e24a33;stroke:#e24a33;stroke-width:0.5;\" x=\"54.868182\" xlink:href=\"#m34121517b8\" y=\"206.586426\"/>\r\n     <use style=\"fill:#e24a33;stroke:#e24a33;stroke-width:0.5;\" x=\"54.868182\" xlink:href=\"#m34121517b8\" y=\"190.99704\"/>\r\n     <use style=\"fill:#e24a33;stroke:#e24a33;stroke-width:0.5;\" x=\"54.868182\" xlink:href=\"#m34121517b8\" y=\"207.077817\"/>\r\n     <use style=\"fill:#e24a33;stroke:#e24a33;stroke-width:0.5;\" x=\"54.868182\" xlink:href=\"#m34121517b8\" y=\"197.042269\"/>\r\n     <use style=\"fill:#e24a33;stroke:#e24a33;stroke-width:0.5;\" x=\"54.868182\" xlink:href=\"#m34121517b8\" y=\"212.866183\"/>\r\n     <use style=\"fill:#e24a33;stroke:#e24a33;stroke-width:0.5;\" x=\"54.868182\" xlink:href=\"#m34121517b8\" y=\"143.82795\"/>\r\n     <use style=\"fill:#e24a33;stroke:#e24a33;stroke-width:0.5;\" x=\"54.868182\" xlink:href=\"#m34121517b8\" y=\"209.137193\"/>\r\n     <use style=\"fill:#e24a33;stroke:#e24a33;stroke-width:0.5;\" x=\"54.868182\" xlink:href=\"#m34121517b8\" y=\"194.175448\"/>\r\n     <use style=\"fill:#e24a33;stroke:#e24a33;stroke-width:0.5;\" x=\"54.868182\" xlink:href=\"#m34121517b8\" y=\"201.870187\"/>\r\n     <use style=\"fill:#e24a33;stroke:#e24a33;stroke-width:0.5;\" x=\"54.868182\" xlink:href=\"#m34121517b8\" y=\"209.740264\"/>\r\n     <use style=\"fill:#e24a33;stroke:#e24a33;stroke-width:0.5;\" x=\"54.868182\" xlink:href=\"#m34121517b8\" y=\"205.302108\"/>\r\n     <use style=\"fill:#e24a33;stroke:#e24a33;stroke-width:0.5;\" x=\"54.868182\" xlink:href=\"#m34121517b8\" y=\"213.888053\"/>\r\n     <use style=\"fill:#e24a33;stroke:#e24a33;stroke-width:0.5;\" x=\"54.868182\" xlink:href=\"#m34121517b8\" y=\"214.114763\"/>\r\n     <use style=\"fill:#e24a33;stroke:#e24a33;stroke-width:0.5;\" x=\"54.868182\" xlink:href=\"#m34121517b8\" y=\"200.018536\"/>\r\n     <use style=\"fill:#e24a33;stroke:#e24a33;stroke-width:0.5;\" x=\"54.868182\" xlink:href=\"#m34121517b8\" y=\"210.925187\"/>\r\n     <use style=\"fill:#e24a33;stroke:#e24a33;stroke-width:0.5;\" x=\"54.868182\" xlink:href=\"#m34121517b8\" y=\"202.965766\"/>\r\n     <use style=\"fill:#e24a33;stroke:#e24a33;stroke-width:0.5;\" x=\"54.868182\" xlink:href=\"#m34121517b8\" y=\"207.142592\"/>\r\n     <use style=\"fill:#e24a33;stroke:#e24a33;stroke-width:0.5;\" x=\"54.868182\" xlink:href=\"#m34121517b8\" y=\"205.123979\"/>\r\n     <use style=\"fill:#e24a33;stroke:#e24a33;stroke-width:0.5;\" x=\"176.613636\" xlink:href=\"#m34121517b8\" y=\"210.707412\"/>\r\n     <use style=\"fill:#e24a33;stroke:#e24a33;stroke-width:0.5;\" x=\"176.613636\" xlink:href=\"#m34121517b8\" y=\"182.935432\"/>\r\n     <use style=\"fill:#e24a33;stroke:#e24a33;stroke-width:0.5;\" x=\"54.868182\" xlink:href=\"#m34121517b8\" y=\"204.172467\"/>\r\n     <use style=\"fill:#e24a33;stroke:#e24a33;stroke-width:0.5;\" x=\"54.868182\" xlink:href=\"#m34121517b8\" y=\"204.285822\"/>\r\n     <use style=\"fill:#e24a33;stroke:#e24a33;stroke-width:0.5;\" x=\"54.868182\" xlink:href=\"#m34121517b8\" y=\"202.968558\"/>\r\n     <use style=\"fill:#e24a33;stroke:#e24a33;stroke-width:0.5;\" x=\"54.868182\" xlink:href=\"#m34121517b8\" y=\"208.341475\"/>\r\n     <use style=\"fill:#e24a33;stroke:#e24a33;stroke-width:0.5;\" x=\"54.868182\" xlink:href=\"#m34121517b8\" y=\"213.899779\"/>\r\n     <use style=\"fill:#e24a33;stroke:#e24a33;stroke-width:0.5;\" x=\"54.868182\" xlink:href=\"#m34121517b8\" y=\"211.225048\"/>\r\n     <use style=\"fill:#e24a33;stroke:#e24a33;stroke-width:0.5;\" x=\"54.868182\" xlink:href=\"#m34121517b8\" y=\"201.340825\"/>\r\n     <use style=\"fill:#e24a33;stroke:#e24a33;stroke-width:0.5;\" x=\"54.868182\" xlink:href=\"#m34121517b8\" y=\"153.557496\"/>\r\n     <use style=\"fill:#e24a33;stroke:#e24a33;stroke-width:0.5;\" x=\"54.868182\" xlink:href=\"#m34121517b8\" y=\"209.336542\"/>\r\n     <use style=\"fill:#e24a33;stroke:#e24a33;stroke-width:0.5;\" x=\"54.868182\" xlink:href=\"#m34121517b8\" y=\"209.875955\"/>\r\n     <use style=\"fill:#e24a33;stroke:#e24a33;stroke-width:0.5;\" x=\"54.868182\" xlink:href=\"#m34121517b8\" y=\"213.280515\"/>\r\n     <use style=\"fill:#e24a33;stroke:#e24a33;stroke-width:0.5;\" x=\"54.868182\" xlink:href=\"#m34121517b8\" y=\"212.416113\"/>\r\n     <use style=\"fill:#e24a33;stroke:#e24a33;stroke-width:0.5;\" x=\"54.868182\" xlink:href=\"#m34121517b8\" y=\"210.309273\"/>\r\n     <use style=\"fill:#e24a33;stroke:#e24a33;stroke-width:0.5;\" x=\"54.868182\" xlink:href=\"#m34121517b8\" y=\"167.018265\"/>\r\n     <use style=\"fill:#e24a33;stroke:#e24a33;stroke-width:0.5;\" x=\"54.868182\" xlink:href=\"#m34121517b8\" y=\"213.951152\"/>\r\n     <use style=\"fill:#e24a33;stroke:#e24a33;stroke-width:0.5;\" x=\"54.868182\" xlink:href=\"#m34121517b8\" y=\"193.35851\"/>\r\n     <use style=\"fill:#e24a33;stroke:#e24a33;stroke-width:0.5;\" x=\"54.868182\" xlink:href=\"#m34121517b8\" y=\"206.291591\"/>\r\n     <use style=\"fill:#e24a33;stroke:#e24a33;stroke-width:0.5;\" x=\"54.868182\" xlink:href=\"#m34121517b8\" y=\"213.923232\"/>\r\n     <use style=\"fill:#e24a33;stroke:#e24a33;stroke-width:0.5;\" x=\"54.868182\" xlink:href=\"#m34121517b8\" y=\"174.297556\"/>\r\n     <use style=\"fill:#e24a33;stroke:#e24a33;stroke-width:0.5;\" x=\"54.868182\" xlink:href=\"#m34121517b8\" y=\"204.535426\"/>\r\n     <use style=\"fill:#e24a33;stroke:#e24a33;stroke-width:0.5;\" x=\"54.868182\" xlink:href=\"#m34121517b8\" y=\"179.39574\"/>\r\n     <use style=\"fill:#e24a33;stroke:#e24a33;stroke-width:0.5;\" x=\"54.868182\" xlink:href=\"#m34121517b8\" y=\"208.381679\"/>\r\n     <use style=\"fill:#e24a33;stroke:#e24a33;stroke-width:0.5;\" x=\"54.868182\" xlink:href=\"#m34121517b8\" y=\"190.341479\"/>\r\n     <use style=\"fill:#e24a33;stroke:#e24a33;stroke-width:0.5;\" x=\"54.868182\" xlink:href=\"#m34121517b8\" y=\"198.764371\"/>\r\n     <use style=\"fill:#e24a33;stroke:#e24a33;stroke-width:0.5;\" x=\"54.868182\" xlink:href=\"#m34121517b8\" y=\"203.217046\"/>\r\n     <use style=\"fill:#e24a33;stroke:#e24a33;stroke-width:0.5;\" x=\"54.868182\" xlink:href=\"#m34121517b8\" y=\"212.550687\"/>\r\n     <use style=\"fill:#e24a33;stroke:#e24a33;stroke-width:0.5;\" x=\"54.868182\" xlink:href=\"#m34121517b8\" y=\"186.471773\"/>\r\n     <use style=\"fill:#e24a33;stroke:#e24a33;stroke-width:0.5;\" x=\"54.868182\" xlink:href=\"#m34121517b8\" y=\"142.393981\"/>\r\n     <use style=\"fill:#e24a33;stroke:#e24a33;stroke-width:0.5;\" x=\"54.868182\" xlink:href=\"#m34121517b8\" y=\"192.764373\"/>\r\n     <use style=\"fill:#e24a33;stroke:#e24a33;stroke-width:0.5;\" x=\"54.868182\" xlink:href=\"#m34121517b8\" y=\"205.623746\"/>\r\n     <use style=\"fill:#e24a33;stroke:#e24a33;stroke-width:0.5;\" x=\"54.868182\" xlink:href=\"#m34121517b8\" y=\"191.14334\"/>\r\n     <use style=\"fill:#e24a33;stroke:#e24a33;stroke-width:0.5;\" x=\"54.868182\" xlink:href=\"#m34121517b8\" y=\"214.114763\"/>\r\n     <use style=\"fill:#e24a33;stroke:#e24a33;stroke-width:0.5;\" x=\"54.868182\" xlink:href=\"#m34121517b8\" y=\"169.445626\"/>\r\n     <use style=\"fill:#e24a33;stroke:#e24a33;stroke-width:0.5;\" x=\"54.868182\" xlink:href=\"#m34121517b8\" y=\"210.515322\"/>\r\n     <use style=\"fill:#e24a33;stroke:#e24a33;stroke-width:0.5;\" x=\"54.868182\" xlink:href=\"#m34121517b8\" y=\"206.356366\"/>\r\n     <use style=\"fill:#e24a33;stroke:#e24a33;stroke-width:0.5;\" x=\"54.868182\" xlink:href=\"#m34121517b8\" y=\"205.619279\"/>\r\n     <use style=\"fill:#e24a33;stroke:#e24a33;stroke-width:0.5;\" x=\"54.868182\" xlink:href=\"#m34121517b8\" y=\"210.77442\"/>\r\n     <use style=\"fill:#e24a33;stroke:#e24a33;stroke-width:0.5;\" x=\"54.868182\" xlink:href=\"#m34121517b8\" y=\"201.159904\"/>\r\n     <use style=\"fill:#e24a33;stroke:#e24a33;stroke-width:0.5;\" x=\"54.868182\" xlink:href=\"#m34121517b8\" y=\"209.633052\"/>\r\n     <use style=\"fill:#e24a33;stroke:#e24a33;stroke-width:0.5;\" x=\"54.868182\" xlink:href=\"#m34121517b8\" y=\"214.383911\"/>\r\n     <use style=\"fill:#e24a33;stroke:#e24a33;stroke-width:0.5;\" x=\"54.868182\" xlink:href=\"#m34121517b8\" y=\"211.063112\"/>\r\n     <use style=\"fill:#e24a33;stroke:#e24a33;stroke-width:0.5;\" x=\"54.868182\" xlink:href=\"#m34121517b8\" y=\"213.680329\"/>\r\n     <use style=\"fill:#e24a33;stroke:#e24a33;stroke-width:0.5;\" x=\"54.868182\" xlink:href=\"#m34121517b8\" y=\"165.575362\"/>\r\n     <use style=\"fill:#e24a33;stroke:#e24a33;stroke-width:0.5;\" x=\"54.868182\" xlink:href=\"#m34121517b8\" y=\"190.019841\"/>\r\n     <use style=\"fill:#e24a33;stroke:#e24a33;stroke-width:0.5;\" x=\"54.868182\" xlink:href=\"#m34121517b8\" y=\"207.926026\"/>\r\n     <use style=\"fill:#e24a33;stroke:#e24a33;stroke-width:0.5;\" x=\"54.868182\" xlink:href=\"#m34121517b8\" y=\"203.242732\"/>\r\n     <use style=\"fill:#e24a33;stroke:#e24a33;stroke-width:0.5;\" x=\"54.868182\" xlink:href=\"#m34121517b8\" y=\"191.996574\"/>\r\n     <use style=\"fill:#e24a33;stroke:#e24a33;stroke-width:0.5;\" x=\"54.868182\" xlink:href=\"#m34121517b8\" y=\"212.972837\"/>\r\n     <use style=\"fill:#e24a33;stroke:#e24a33;stroke-width:0.5;\" x=\"54.868182\" xlink:href=\"#m34121517b8\" y=\"212.968928\"/>\r\n     <use style=\"fill:#e24a33;stroke:#e24a33;stroke-width:0.5;\" x=\"54.868182\" xlink:href=\"#m34121517b8\" y=\"212.886843\"/>\r\n     <use style=\"fill:#e24a33;stroke:#e24a33;stroke-width:0.5;\" x=\"54.868182\" xlink:href=\"#m34121517b8\" y=\"214.200757\"/>\r\n     <use style=\"fill:#e24a33;stroke:#e24a33;stroke-width:0.5;\" x=\"54.868182\" xlink:href=\"#m34121517b8\" y=\"205.138497\"/>\r\n     <use style=\"fill:#e24a33;stroke:#e24a33;stroke-width:0.5;\" x=\"54.868182\" xlink:href=\"#m34121517b8\" y=\"172.96354\"/>\r\n     <use style=\"fill:#e24a33;stroke:#e24a33;stroke-width:0.5;\" x=\"54.868182\" xlink:href=\"#m34121517b8\" y=\"211.040218\"/>\r\n     <use style=\"fill:#e24a33;stroke:#e24a33;stroke-width:0.5;\" x=\"54.868182\" xlink:href=\"#m34121517b8\" y=\"209.773768\"/>\r\n     <use style=\"fill:#e24a33;stroke:#e24a33;stroke-width:0.5;\" x=\"54.868182\" xlink:href=\"#m34121517b8\" y=\"183.776939\"/>\r\n     <use style=\"fill:#e24a33;stroke:#e24a33;stroke-width:0.5;\" x=\"54.868182\" xlink:href=\"#m34121517b8\" y=\"213.305084\"/>\r\n     <use style=\"fill:#e24a33;stroke:#e24a33;stroke-width:0.5;\" x=\"54.868182\" xlink:href=\"#m34121517b8\" y=\"213.470929\"/>\r\n     <use style=\"fill:#e24a33;stroke:#e24a33;stroke-width:0.5;\" x=\"54.868182\" xlink:href=\"#m34121517b8\" y=\"213.942776\"/>\r\n     <use style=\"fill:#e24a33;stroke:#e24a33;stroke-width:0.5;\" x=\"54.868182\" xlink:href=\"#m34121517b8\" y=\"212.373675\"/>\r\n     <use style=\"fill:#e24a33;stroke:#e24a33;stroke-width:0.5;\" x=\"54.868182\" xlink:href=\"#m34121517b8\" y=\"212.636681\"/>\r\n     <use style=\"fill:#e24a33;stroke:#e24a33;stroke-width:0.5;\" x=\"54.868182\" xlink:href=\"#m34121517b8\" y=\"191.096993\"/>\r\n     <use style=\"fill:#e24a33;stroke:#e24a33;stroke-width:0.5;\" x=\"54.868182\" xlink:href=\"#m34121517b8\" y=\"210.457249\"/>\r\n     <use style=\"fill:#e24a33;stroke:#e24a33;stroke-width:0.5;\" x=\"54.868182\" xlink:href=\"#m34121517b8\" y=\"205.227283\"/>\r\n     <use style=\"fill:#e24a33;stroke:#e24a33;stroke-width:0.5;\" x=\"54.868182\" xlink:href=\"#m34121517b8\" y=\"210.219371\"/>\r\n     <use style=\"fill:#e24a33;stroke:#e24a33;stroke-width:0.5;\" x=\"54.868182\" xlink:href=\"#m34121517b8\" y=\"207.642917\"/>\r\n     <use style=\"fill:#e24a33;stroke:#e24a33;stroke-width:0.5;\" x=\"65.013636\" xlink:href=\"#m34121517b8\" y=\"180.830826\"/>\r\n     <use style=\"fill:#e24a33;stroke:#e24a33;stroke-width:0.5;\" x=\"65.013636\" xlink:href=\"#m34121517b8\" y=\"208.648036\"/>\r\n     <use style=\"fill:#e24a33;stroke:#e24a33;stroke-width:0.5;\" x=\"65.013636\" xlink:href=\"#m34121517b8\" y=\"197.56493\"/>\r\n     <use style=\"fill:#e24a33;stroke:#e24a33;stroke-width:0.5;\" x=\"65.013636\" xlink:href=\"#m34121517b8\" y=\"213.640124\"/>\r\n     <use style=\"fill:#e24a33;stroke:#e24a33;stroke-width:0.5;\" x=\"65.013636\" xlink:href=\"#m34121517b8\" y=\"207.520628\"/>\r\n     <use style=\"fill:#e24a33;stroke:#e24a33;stroke-width:0.5;\" x=\"65.013636\" xlink:href=\"#m34121517b8\" y=\"210.66609\"/>\r\n     <use style=\"fill:#e24a33;stroke:#e24a33;stroke-width:0.5;\" x=\"65.013636\" xlink:href=\"#m34121517b8\" y=\"211.223372\"/>\r\n     <use style=\"fill:#e24a33;stroke:#e24a33;stroke-width:0.5;\" x=\"65.013636\" xlink:href=\"#m34121517b8\" y=\"212.931515\"/>\r\n     <use style=\"fill:#e24a33;stroke:#e24a33;stroke-width:0.5;\" x=\"65.013636\" xlink:href=\"#m34121517b8\" y=\"206.146408\"/>\r\n     <use style=\"fill:#e24a33;stroke:#e24a33;stroke-width:0.5;\" x=\"65.013636\" xlink:href=\"#m34121517b8\" y=\"208.09187\"/>\r\n     <use style=\"fill:#e24a33;stroke:#e24a33;stroke-width:0.5;\" x=\"65.013636\" xlink:href=\"#m34121517b8\" y=\"210.03845\"/>\r\n     <use style=\"fill:#e24a33;stroke:#e24a33;stroke-width:0.5;\" x=\"65.013636\" xlink:href=\"#m34121517b8\" y=\"155.449352\"/>\r\n     <use style=\"fill:#e24a33;stroke:#e24a33;stroke-width:0.5;\" x=\"65.013636\" xlink:href=\"#m34121517b8\" y=\"173.681083\"/>\r\n     <use style=\"fill:#e24a33;stroke:#e24a33;stroke-width:0.5;\" x=\"65.013636\" xlink:href=\"#m34121517b8\" y=\"208.019837\"/>\r\n     <use style=\"fill:#e24a33;stroke:#e24a33;stroke-width:0.5;\" x=\"65.013636\" xlink:href=\"#m34121517b8\" y=\"175.603093\"/>\r\n     <use style=\"fill:#e24a33;stroke:#e24a33;stroke-width:0.5;\" x=\"65.013636\" xlink:href=\"#m34121517b8\" y=\"208.205784\"/>\r\n     <use style=\"fill:#e24a33;stroke:#e24a33;stroke-width:0.5;\" x=\"65.013636\" xlink:href=\"#m34121517b8\" y=\"196.225889\"/>\r\n     <use style=\"fill:#e24a33;stroke:#e24a33;stroke-width:0.5;\" x=\"65.013636\" xlink:href=\"#m34121517b8\" y=\"206.581959\"/>\r\n     <use style=\"fill:#e24a33;stroke:#e24a33;stroke-width:0.5;\" x=\"65.013636\" xlink:href=\"#m34121517b8\" y=\"196.276145\"/>\r\n     <use style=\"fill:#e24a33;stroke:#e24a33;stroke-width:0.5;\" x=\"65.013636\" xlink:href=\"#m34121517b8\" y=\"197.308067\"/>\r\n     <use style=\"fill:#e24a33;stroke:#e24a33;stroke-width:0.5;\" x=\"65.013636\" xlink:href=\"#m34121517b8\" y=\"206.336263\"/>\r\n     <use style=\"fill:#e24a33;stroke:#e24a33;stroke-width:0.5;\" x=\"65.013636\" xlink:href=\"#m34121517b8\" y=\"201.166604\"/>\r\n     <use style=\"fill:#e24a33;stroke:#e24a33;stroke-width:0.5;\" x=\"65.013636\" xlink:href=\"#m34121517b8\" y=\"212.219556\"/>\r\n     <use style=\"fill:#e24a33;stroke:#e24a33;stroke-width:0.5;\" x=\"65.013636\" xlink:href=\"#m34121517b8\" y=\"168.386343\"/>\r\n     <use style=\"fill:#e24a33;stroke:#e24a33;stroke-width:0.5;\" x=\"65.013636\" xlink:href=\"#m34121517b8\" y=\"210.097081\"/>\r\n     <use style=\"fill:#e24a33;stroke:#e24a33;stroke-width:0.5;\" x=\"65.013636\" xlink:href=\"#m34121517b8\" y=\"209.246081\"/>\r\n     <use style=\"fill:#e24a33;stroke:#e24a33;stroke-width:0.5;\" x=\"65.013636\" xlink:href=\"#m34121517b8\" y=\"160.486112\"/>\r\n     <use style=\"fill:#e24a33;stroke:#e24a33;stroke-width:0.5;\" x=\"65.013636\" xlink:href=\"#m34121517b8\" y=\"211.967718\"/>\r\n     <use style=\"fill:#e24a33;stroke:#e24a33;stroke-width:0.5;\" x=\"65.013636\" xlink:href=\"#m34121517b8\" y=\"206.249153\"/>\r\n     <use style=\"fill:#e24a33;stroke:#e24a33;stroke-width:0.5;\" x=\"65.013636\" xlink:href=\"#m34121517b8\" y=\"206.270931\"/>\r\n     <use style=\"fill:#e24a33;stroke:#e24a33;stroke-width:0.5;\" x=\"65.013636\" xlink:href=\"#m34121517b8\" y=\"164.597047\"/>\r\n     <use style=\"fill:#e24a33;stroke:#e24a33;stroke-width:0.5;\" x=\"65.013636\" xlink:href=\"#m34121517b8\" y=\"159.803749\"/>\r\n     <use style=\"fill:#e24a33;stroke:#e24a33;stroke-width:0.5;\" x=\"65.013636\" xlink:href=\"#m34121517b8\" y=\"168.384668\"/>\r\n     <use style=\"fill:#e24a33;stroke:#e24a33;stroke-width:0.5;\" x=\"65.013636\" xlink:href=\"#m34121517b8\" y=\"133.342331\"/>\r\n     <use style=\"fill:#e24a33;stroke:#e24a33;stroke-width:0.5;\" x=\"156.322727\" xlink:href=\"#m34121517b8\" y=\"163.384204\"/>\r\n     <use style=\"fill:#e24a33;stroke:#e24a33;stroke-width:0.5;\" x=\"115.740909\" xlink:href=\"#m34121517b8\" y=\"169.582434\"/>\r\n     <use style=\"fill:#e24a33;stroke:#e24a33;stroke-width:0.5;\" x=\"136.031818\" xlink:href=\"#m34121517b8\" y=\"97.883988\"/>\r\n     <use style=\"fill:#e24a33;stroke:#e24a33;stroke-width:0.5;\" x=\"349.086364\" xlink:href=\"#m34121517b8\" y=\"139.708081\"/>\r\n     <use style=\"fill:#e24a33;stroke:#e24a33;stroke-width:0.5;\" x=\"227.340909\" xlink:href=\"#m34121517b8\" y=\"17.083636\"/>\r\n     <use style=\"fill:#e24a33;stroke:#e24a33;stroke-width:0.5;\" x=\"318.65\" xlink:href=\"#m34121517b8\" y=\"65.999399\"/>\r\n     <use style=\"fill:#e24a33;stroke:#e24a33;stroke-width:0.5;\" x=\"136.031818\" xlink:href=\"#m34121517b8\" y=\"120.499152\"/>\r\n     <use style=\"fill:#e24a33;stroke:#e24a33;stroke-width:0.5;\" x=\"65.013636\" xlink:href=\"#m34121517b8\" y=\"96.208791\"/>\r\n     <use style=\"fill:#e24a33;stroke:#e24a33;stroke-width:0.5;\" x=\"186.759091\" xlink:href=\"#m34121517b8\" y=\"117.651316\"/>\r\n     <use style=\"fill:#e24a33;stroke:#e24a33;stroke-width:0.5;\" x=\"359.231818\" xlink:href=\"#m34121517b8\" y=\"183.486572\"/>\r\n     <use style=\"fill:#e24a33;stroke:#e24a33;stroke-width:0.5;\" x=\"125.886364\" xlink:href=\"#m34121517b8\" y=\"139.149682\"/>\r\n     <use style=\"fill:#e24a33;stroke:#e24a33;stroke-width:0.5;\" x=\"186.759091\" xlink:href=\"#m34121517b8\" y=\"164.054283\"/>\r\n     <use style=\"fill:#e24a33;stroke:#e24a33;stroke-width:0.5;\" x=\"176.613636\" xlink:href=\"#m34121517b8\" y=\"146.74391\"/>\r\n     <use style=\"fill:#e24a33;stroke:#e24a33;stroke-width:0.5;\" x=\"176.613636\" xlink:href=\"#m34121517b8\" y=\"136.246007\"/>\r\n     <use style=\"fill:#e24a33;stroke:#e24a33;stroke-width:0.5;\" x=\"136.031818\" xlink:href=\"#m34121517b8\" y=\"142.835116\"/>\r\n     <use style=\"fill:#e24a33;stroke:#e24a33;stroke-width:0.5;\" x=\"217.195455\" xlink:href=\"#m34121517b8\" y=\"187.730405\"/>\r\n     <use style=\"fill:#e24a33;stroke:#e24a33;stroke-width:0.5;\" x=\"115.740909\" xlink:href=\"#m34121517b8\" y=\"160.927248\"/>\r\n     <use style=\"fill:#e24a33;stroke:#e24a33;stroke-width:0.5;\" x=\"136.031818\" xlink:href=\"#m34121517b8\" y=\"178.3493\"/>\r\n     <use style=\"fill:#e24a33;stroke:#e24a33;stroke-width:0.5;\" x=\"146.177273\" xlink:href=\"#m34121517b8\" y=\"130.550336\"/>\r\n     <use style=\"fill:#e24a33;stroke:#e24a33;stroke-width:0.5;\" x=\"65.013636\" xlink:href=\"#m34121517b8\" y=\"128.428419\"/>\r\n     <use style=\"fill:#e24a33;stroke:#e24a33;stroke-width:0.5;\" x=\"54.868182\" xlink:href=\"#m34121517b8\" y=\"124.854665\"/>\r\n     <use style=\"fill:#e24a33;stroke:#e24a33;stroke-width:0.5;\" x=\"75.159091\" xlink:href=\"#m34121517b8\" y=\"103.300459\"/>\r\n     <use style=\"fill:#e24a33;stroke:#e24a33;stroke-width:0.5;\" x=\"156.322727\" xlink:href=\"#m34121517b8\" y=\"142.779276\"/>\r\n     <use style=\"fill:#e24a33;stroke:#e24a33;stroke-width:0.5;\" x=\"308.504545\" xlink:href=\"#m34121517b8\" y=\"130.885375\"/>\r\n     <use style=\"fill:#e24a33;stroke:#e24a33;stroke-width:0.5;\" x=\"54.868182\" xlink:href=\"#m34121517b8\" y=\"122.174349\"/>\r\n     <use style=\"fill:#e24a33;stroke:#e24a33;stroke-width:0.5;\" x=\"125.886364\" xlink:href=\"#m34121517b8\" y=\"142.611757\"/>\r\n     <use style=\"fill:#e24a33;stroke:#e24a33;stroke-width:0.5;\" x=\"186.759091\" xlink:href=\"#m34121517b8\" y=\"150.205985\"/>\r\n     <use style=\"fill:#e24a33;stroke:#e24a33;stroke-width:0.5;\" x=\"125.886364\" xlink:href=\"#m34121517b8\" y=\"23.114347\"/>\r\n     <use style=\"fill:#e24a33;stroke:#e24a33;stroke-width:0.5;\" x=\"288.213636\" xlink:href=\"#m34121517b8\" y=\"120.052433\"/>\r\n     <use style=\"fill:#e24a33;stroke:#e24a33;stroke-width:0.5;\" x=\"267.922727\" xlink:href=\"#m34121517b8\" y=\"57.735092\"/>\r\n     <use style=\"fill:#e24a33;stroke:#e24a33;stroke-width:0.5;\" x=\"95.45\" xlink:href=\"#m34121517b8\" y=\"182.369774\"/>\r\n     <use style=\"fill:#e24a33;stroke:#e24a33;stroke-width:0.5;\" x=\"288.213636\" xlink:href=\"#m34121517b8\" y=\"152.551261\"/>\r\n     <use style=\"fill:#e24a33;stroke:#e24a33;stroke-width:0.5;\" x=\"186.759091\" xlink:href=\"#m34121517b8\" y=\"172.653629\"/>\r\n     <use style=\"fill:#e24a33;stroke:#e24a33;stroke-width:0.5;\" x=\"288.213636\" xlink:href=\"#m34121517b8\" y=\"32.495452\"/>\r\n     <use style=\"fill:#e24a33;stroke:#e24a33;stroke-width:0.5;\" x=\"186.759091\" xlink:href=\"#m34121517b8\" y=\"49.024066\"/>\r\n     <use style=\"fill:#e24a33;stroke:#e24a33;stroke-width:0.5;\" x=\"247.631818\" xlink:href=\"#m34121517b8\" y=\"74.263705\"/>\r\n     <use style=\"fill:#e24a33;stroke:#e24a33;stroke-width:0.5;\" x=\"146.177273\" xlink:href=\"#m34121517b8\" y=\"164.221802\"/>\r\n     <use style=\"fill:#e24a33;stroke:#e24a33;stroke-width:0.5;\" x=\"349.086364\" xlink:href=\"#m34121517b8\" y=\"136.134327\"/>\r\n     <use style=\"fill:#e24a33;stroke:#e24a33;stroke-width:0.5;\" x=\"247.631818\" xlink:href=\"#m34121517b8\" y=\"174.328826\"/>\r\n     <use style=\"fill:#e24a33;stroke:#e24a33;stroke-width:0.5;\" x=\"54.868182\" xlink:href=\"#m34121517b8\" y=\"143.616875\"/>\r\n     <use style=\"fill:#e24a33;stroke:#e24a33;stroke-width:0.5;\" x=\"115.740909\" xlink:href=\"#m34121517b8\" y=\"145.738792\"/>\r\n     <use style=\"fill:#e24a33;stroke:#e24a33;stroke-width:0.5;\" x=\"328.795455\" xlink:href=\"#m34121517b8\" y=\"90.56896\"/>\r\n     <use style=\"fill:#e24a33;stroke:#e24a33;stroke-width:0.5;\" x=\"65.013636\" xlink:href=\"#m34121517b8\" y=\"151.992862\"/>\r\n     <use style=\"fill:#e24a33;stroke:#e24a33;stroke-width:0.5;\" x=\"115.740909\" xlink:href=\"#m34121517b8\" y=\"69.573153\"/>\r\n     <use style=\"fill:#e24a33;stroke:#e24a33;stroke-width:0.5;\" x=\"65.013636\" xlink:href=\"#m34121517b8\" y=\"207.870744\"/>\r\n     <use style=\"fill:#e24a33;stroke:#e24a33;stroke-width:0.5;\" x=\"65.013636\" xlink:href=\"#m34121517b8\" y=\"213.696522\"/>\r\n     <use style=\"fill:#e24a33;stroke:#e24a33;stroke-width:0.5;\" x=\"65.013636\" xlink:href=\"#m34121517b8\" y=\"212.152549\"/>\r\n     <use style=\"fill:#e24a33;stroke:#e24a33;stroke-width:0.5;\" x=\"65.013636\" xlink:href=\"#m34121517b8\" y=\"188.768469\"/>\r\n     <use style=\"fill:#e24a33;stroke:#e24a33;stroke-width:0.5;\" x=\"65.013636\" xlink:href=\"#m34121517b8\" y=\"199.882286\"/>\r\n     <use style=\"fill:#e24a33;stroke:#e24a33;stroke-width:0.5;\" x=\"65.013636\" xlink:href=\"#m34121517b8\" y=\"213.238076\"/>\r\n     <use style=\"fill:#e24a33;stroke:#e24a33;stroke-width:0.5;\" x=\"65.013636\" xlink:href=\"#m34121517b8\" y=\"214.005317\"/>\r\n     <use style=\"fill:#e24a33;stroke:#e24a33;stroke-width:0.5;\" x=\"65.013636\" xlink:href=\"#m34121517b8\" y=\"203.751992\"/>\r\n     <use style=\"fill:#e24a33;stroke:#e24a33;stroke-width:0.5;\" x=\"65.013636\" xlink:href=\"#m34121517b8\" y=\"213.989682\"/>\r\n     <use style=\"fill:#e24a33;stroke:#e24a33;stroke-width:0.5;\" x=\"65.013636\" xlink:href=\"#m34121517b8\" y=\"214.725093\"/>\r\n     <use style=\"fill:#e24a33;stroke:#e24a33;stroke-width:0.5;\" x=\"65.013636\" xlink:href=\"#m34121517b8\" y=\"214.110296\"/>\r\n     <use style=\"fill:#e24a33;stroke:#e24a33;stroke-width:0.5;\" x=\"65.013636\" xlink:href=\"#m34121517b8\" y=\"213.124163\"/>\r\n     <use style=\"fill:#e24a33;stroke:#e24a33;stroke-width:0.5;\" x=\"65.013636\" xlink:href=\"#m34121517b8\" y=\"214.693823\"/>\r\n     <use style=\"fill:#e24a33;stroke:#e24a33;stroke-width:0.5;\" x=\"65.013636\" xlink:href=\"#m34121517b8\" y=\"207.786984\"/>\r\n     <use style=\"fill:#e24a33;stroke:#e24a33;stroke-width:0.5;\" x=\"65.013636\" xlink:href=\"#m34121517b8\" y=\"208.294569\"/>\r\n     <use style=\"fill:#e24a33;stroke:#e24a33;stroke-width:0.5;\" x=\"65.013636\" xlink:href=\"#m34121517b8\" y=\"176.155908\"/>\r\n     <use style=\"fill:#e24a33;stroke:#e24a33;stroke-width:0.5;\" x=\"65.013636\" xlink:href=\"#m34121517b8\" y=\"212.725466\"/>\r\n     <use style=\"fill:#e24a33;stroke:#e24a33;stroke-width:0.5;\" x=\"65.013636\" xlink:href=\"#m34121517b8\" y=\"193.652786\"/>\r\n     <use style=\"fill:#e24a33;stroke:#e24a33;stroke-width:0.5;\" x=\"65.013636\" xlink:href=\"#m34121517b8\" y=\"209.572745\"/>\r\n     <use style=\"fill:#e24a33;stroke:#e24a33;stroke-width:0.5;\" x=\"65.013636\" xlink:href=\"#m34121517b8\" y=\"208.138776\"/>\r\n     <use style=\"fill:#e24a33;stroke:#e24a33;stroke-width:0.5;\" x=\"65.013636\" xlink:href=\"#m34121517b8\" y=\"204.281355\"/>\r\n     <use style=\"fill:#e24a33;stroke:#e24a33;stroke-width:0.5;\" x=\"65.013636\" xlink:href=\"#m34121517b8\" y=\"183.354231\"/>\r\n     <use style=\"fill:#e24a33;stroke:#e24a33;stroke-width:0.5;\" x=\"65.013636\" xlink:href=\"#m34121517b8\" y=\"213.147057\"/>\r\n     <use style=\"fill:#e24a33;stroke:#e24a33;stroke-width:0.5;\" x=\"65.013636\" xlink:href=\"#m34121517b8\" y=\"198.318769\"/>\r\n     <use style=\"fill:#e24a33;stroke:#e24a33;stroke-width:0.5;\" x=\"65.013636\" xlink:href=\"#m34121517b8\" y=\"214.159435\"/>\r\n     <use style=\"fill:#e24a33;stroke:#e24a33;stroke-width:0.5;\" x=\"65.013636\" xlink:href=\"#m34121517b8\" y=\"214.325838\"/>\r\n     <use style=\"fill:#e24a33;stroke:#e24a33;stroke-width:0.5;\" x=\"65.013636\" xlink:href=\"#m34121517b8\" y=\"208.035472\"/>\r\n     <use style=\"fill:#e24a33;stroke:#e24a33;stroke-width:0.5;\" x=\"65.013636\" xlink:href=\"#m34121517b8\" y=\"183.833338\"/>\r\n     <use style=\"fill:#e24a33;stroke:#e24a33;stroke-width:0.5;\" x=\"65.013636\" xlink:href=\"#m34121517b8\" y=\"198.52426\"/>\r\n     <use style=\"fill:#e24a33;stroke:#e24a33;stroke-width:0.5;\" x=\"65.013636\" xlink:href=\"#m34121517b8\" y=\"207.776933\"/>\r\n     <use style=\"fill:#e24a33;stroke:#e24a33;stroke-width:0.5;\" x=\"65.013636\" xlink:href=\"#m34121517b8\" y=\"211.814159\"/>\r\n     <use style=\"fill:#e24a33;stroke:#e24a33;stroke-width:0.5;\" x=\"65.013636\" xlink:href=\"#m34121517b8\" y=\"213.555247\"/>\r\n     <use style=\"fill:#e24a33;stroke:#e24a33;stroke-width:0.5;\" x=\"65.013636\" xlink:href=\"#m34121517b8\" y=\"192.384103\"/>\r\n     <use style=\"fill:#e24a33;stroke:#e24a33;stroke-width:0.5;\" x=\"65.013636\" xlink:href=\"#m34121517b8\" y=\"207.981307\"/>\r\n     <use style=\"fill:#e24a33;stroke:#e24a33;stroke-width:0.5;\" x=\"65.013636\" xlink:href=\"#m34121517b8\" y=\"212.779631\"/>\r\n     <use style=\"fill:#e24a33;stroke:#e24a33;stroke-width:0.5;\" x=\"65.013636\" xlink:href=\"#m34121517b8\" y=\"204.682285\"/>\r\n     <use style=\"fill:#e24a33;stroke:#e24a33;stroke-width:0.5;\" x=\"65.013636\" xlink:href=\"#m34121517b8\" y=\"199.750504\"/>\r\n     <use style=\"fill:#e24a33;stroke:#e24a33;stroke-width:0.5;\" x=\"65.013636\" xlink:href=\"#m34121517b8\" y=\"199.326121\"/>\r\n     <use style=\"fill:#e24a33;stroke:#e24a33;stroke-width:0.5;\" x=\"65.013636\" xlink:href=\"#m34121517b8\" y=\"198.111045\"/>\r\n     <use style=\"fill:#e24a33;stroke:#e24a33;stroke-width:0.5;\" x=\"65.013636\" xlink:href=\"#m34121517b8\" y=\"214.239286\"/>\r\n     <use style=\"fill:#e24a33;stroke:#e24a33;stroke-width:0.5;\" x=\"65.013636\" xlink:href=\"#m34121517b8\" y=\"193.629892\"/>\r\n     <use style=\"fill:#e24a33;stroke:#e24a33;stroke-width:0.5;\" x=\"65.013636\" xlink:href=\"#m34121517b8\" y=\"207.472047\"/>\r\n     <use style=\"fill:#e24a33;stroke:#e24a33;stroke-width:0.5;\" x=\"65.013636\" xlink:href=\"#m34121517b8\" y=\"212.188286\"/>\r\n     <use style=\"fill:#e24a33;stroke:#e24a33;stroke-width:0.5;\" x=\"65.013636\" xlink:href=\"#m34121517b8\" y=\"210.32435\"/>\r\n     <use style=\"fill:#e24a33;stroke:#e24a33;stroke-width:0.5;\" x=\"65.013636\" xlink:href=\"#m34121517b8\" y=\"174.673359\"/>\r\n     <use style=\"fill:#e24a33;stroke:#e24a33;stroke-width:0.5;\" x=\"65.013636\" xlink:href=\"#m34121517b8\" y=\"212.923139\"/>\r\n     <use style=\"fill:#e24a33;stroke:#e24a33;stroke-width:0.5;\" x=\"65.013636\" xlink:href=\"#m34121517b8\" y=\"207.963438\"/>\r\n     <use style=\"fill:#e24a33;stroke:#e24a33;stroke-width:0.5;\" x=\"65.013636\" xlink:href=\"#m34121517b8\" y=\"211.642172\"/>\r\n     <use style=\"fill:#e24a33;stroke:#e24a33;stroke-width:0.5;\" x=\"65.013636\" xlink:href=\"#m34121517b8\" y=\"204.346129\"/>\r\n     <use style=\"fill:#e24a33;stroke:#e24a33;stroke-width:0.5;\" x=\"65.013636\" xlink:href=\"#m34121517b8\" y=\"212.79024\"/>\r\n     <use style=\"fill:#e24a33;stroke:#e24a33;stroke-width:0.5;\" x=\"65.013636\" xlink:href=\"#m34121517b8\" y=\"206.397129\"/>\r\n     <use style=\"fill:#e24a33;stroke:#e24a33;stroke-width:0.5;\" x=\"65.013636\" xlink:href=\"#m34121517b8\" y=\"207.950037\"/>\r\n     <use style=\"fill:#e24a33;stroke:#e24a33;stroke-width:0.5;\" x=\"65.013636\" xlink:href=\"#m34121517b8\" y=\"213.31346\"/>\r\n     <use style=\"fill:#e24a33;stroke:#e24a33;stroke-width:0.5;\" x=\"65.013636\" xlink:href=\"#m34121517b8\" y=\"214.209133\"/>\r\n     <use style=\"fill:#e24a33;stroke:#e24a33;stroke-width:0.5;\" x=\"65.013636\" xlink:href=\"#m34121517b8\" y=\"206.326212\"/>\r\n     <use style=\"fill:#e24a33;stroke:#e24a33;stroke-width:0.5;\" x=\"65.013636\" xlink:href=\"#m34121517b8\" y=\"179.461073\"/>\r\n     <use style=\"fill:#e24a33;stroke:#e24a33;stroke-width:0.5;\" x=\"65.013636\" xlink:href=\"#m34121517b8\" y=\"205.542778\"/>\r\n     <use style=\"fill:#e24a33;stroke:#e24a33;stroke-width:0.5;\" x=\"65.013636\" xlink:href=\"#m34121517b8\" y=\"212.658458\"/>\r\n     <use style=\"fill:#e24a33;stroke:#e24a33;stroke-width:0.5;\" x=\"65.013636\" xlink:href=\"#m34121517b8\" y=\"214.473255\"/>\r\n     <use style=\"fill:#e24a33;stroke:#e24a33;stroke-width:0.5;\" x=\"65.013636\" xlink:href=\"#m34121517b8\" y=\"214.582702\"/>\r\n     <use style=\"fill:#e24a33;stroke:#e24a33;stroke-width:0.5;\" x=\"65.013636\" xlink:href=\"#m34121517b8\" y=\"210.381307\"/>\r\n     <use style=\"fill:#e24a33;stroke:#e24a33;stroke-width:0.5;\" x=\"65.013636\" xlink:href=\"#m34121517b8\" y=\"213.674745\"/>\r\n     <use style=\"fill:#e24a33;stroke:#e24a33;stroke-width:0.5;\" x=\"65.013636\" xlink:href=\"#m34121517b8\" y=\"205.529935\"/>\r\n     <use style=\"fill:#e24a33;stroke:#e24a33;stroke-width:0.5;\" x=\"65.013636\" xlink:href=\"#m34121517b8\" y=\"206.610996\"/>\r\n     <use style=\"fill:#e24a33;stroke:#e24a33;stroke-width:0.5;\" x=\"65.013636\" xlink:href=\"#m34121517b8\" y=\"213.053805\"/>\r\n     <use style=\"fill:#e24a33;stroke:#e24a33;stroke-width:0.5;\" x=\"65.013636\" xlink:href=\"#m34121517b8\" y=\"208.180656\"/>\r\n     <use style=\"fill:#e24a33;stroke:#e24a33;stroke-width:0.5;\" x=\"65.013636\" xlink:href=\"#m34121517b8\" y=\"211.23119\"/>\r\n     <use style=\"fill:#e24a33;stroke:#e24a33;stroke-width:0.5;\" x=\"65.013636\" xlink:href=\"#m34121517b8\" y=\"213.737285\"/>\r\n     <use style=\"fill:#e24a33;stroke:#e24a33;stroke-width:0.5;\" x=\"65.013636\" xlink:href=\"#m34121517b8\" y=\"214.163344\"/>\r\n     <use style=\"fill:#e24a33;stroke:#e24a33;stroke-width:0.5;\" x=\"65.013636\" xlink:href=\"#m34121517b8\" y=\"213.859575\"/>\r\n     <use style=\"fill:#e24a33;stroke:#e24a33;stroke-width:0.5;\" x=\"65.013636\" xlink:href=\"#m34121517b8\" y=\"213.035936\"/>\r\n     <use style=\"fill:#e24a33;stroke:#e24a33;stroke-width:0.5;\" x=\"65.013636\" xlink:href=\"#m34121517b8\" y=\"214.445335\"/>\r\n     <use style=\"fill:#e24a33;stroke:#e24a33;stroke-width:0.5;\" x=\"65.013636\" xlink:href=\"#m34121517b8\" y=\"175.142414\"/>\r\n     <use style=\"fill:#e24a33;stroke:#e24a33;stroke-width:0.5;\" x=\"65.013636\" xlink:href=\"#m34121517b8\" y=\"208.926119\"/>\r\n     <use style=\"fill:#e24a33;stroke:#e24a33;stroke-width:0.5;\" x=\"65.013636\" xlink:href=\"#m34121517b8\" y=\"198.209323\"/>\r\n     <use style=\"fill:#e24a33;stroke:#e24a33;stroke-width:0.5;\" x=\"65.013636\" xlink:href=\"#m34121517b8\" y=\"184.216958\"/>\r\n     <use style=\"fill:#e24a33;stroke:#e24a33;stroke-width:0.5;\" x=\"65.013636\" xlink:href=\"#m34121517b8\" y=\"205.34678\"/>\r\n     <use style=\"fill:#e24a33;stroke:#e24a33;stroke-width:0.5;\" x=\"65.013636\" xlink:href=\"#m34121517b8\" y=\"214.323604\"/>\r\n     <use style=\"fill:#e24a33;stroke:#e24a33;stroke-width:0.5;\" x=\"65.013636\" xlink:href=\"#m34121517b8\" y=\"214.65641\"/>\r\n     <use style=\"fill:#e24a33;stroke:#e24a33;stroke-width:0.5;\" x=\"65.013636\" xlink:href=\"#m34121517b8\" y=\"212.402711\"/>\r\n     <use style=\"fill:#e24a33;stroke:#e24a33;stroke-width:0.5;\" x=\"65.013636\" xlink:href=\"#m34121517b8\" y=\"212.021883\"/>\r\n     <use style=\"fill:#e24a33;stroke:#e24a33;stroke-width:0.5;\" x=\"65.013636\" xlink:href=\"#m34121517b8\" y=\"214.612297\"/>\r\n     <use style=\"fill:#e24a33;stroke:#e24a33;stroke-width:0.5;\" x=\"65.013636\" xlink:href=\"#m34121517b8\" y=\"214.335889\"/>\r\n     <use style=\"fill:#e24a33;stroke:#e24a33;stroke-width:0.5;\" x=\"65.013636\" xlink:href=\"#m34121517b8\" y=\"196.264977\"/>\r\n     <use style=\"fill:#e24a33;stroke:#e24a33;stroke-width:0.5;\" x=\"65.013636\" xlink:href=\"#m34121517b8\" y=\"212.946592\"/>\r\n     <use style=\"fill:#e24a33;stroke:#e24a33;stroke-width:0.5;\" x=\"65.013636\" xlink:href=\"#m34121517b8\" y=\"213.851199\"/>\r\n     <use style=\"fill:#e24a33;stroke:#e24a33;stroke-width:0.5;\" x=\"65.013636\" xlink:href=\"#m34121517b8\" y=\"196.359905\"/>\r\n     <use style=\"fill:#e24a33;stroke:#e24a33;stroke-width:0.5;\" x=\"65.013636\" xlink:href=\"#m34121517b8\" y=\"213.429049\"/>\r\n     <use style=\"fill:#e24a33;stroke:#e24a33;stroke-width:0.5;\" x=\"65.013636\" xlink:href=\"#m34121517b8\" y=\"192.122214\"/>\r\n     <use style=\"fill:#e24a33;stroke:#e24a33;stroke-width:0.5;\" x=\"65.013636\" xlink:href=\"#m34121517b8\" y=\"214.606154\"/>\r\n     <use style=\"fill:#e24a33;stroke:#e24a33;stroke-width:0.5;\" x=\"65.013636\" xlink:href=\"#m34121517b8\" y=\"211.432214\"/>\r\n     <use style=\"fill:#e24a33;stroke:#e24a33;stroke-width:0.5;\" x=\"65.013636\" xlink:href=\"#m34121517b8\" y=\"213.009133\"/>\r\n     <use style=\"fill:#e24a33;stroke:#e24a33;stroke-width:0.5;\" x=\"65.013636\" xlink:href=\"#m34121517b8\" y=\"213.134214\"/>\r\n     <use style=\"fill:#e24a33;stroke:#e24a33;stroke-width:0.5;\" x=\"65.013636\" xlink:href=\"#m34121517b8\" y=\"211.727048\"/>\r\n     <use style=\"fill:#e24a33;stroke:#e24a33;stroke-width:0.5;\" x=\"65.013636\" xlink:href=\"#m34121517b8\" y=\"210.38019\"/>\r\n     <use style=\"fill:#e24a33;stroke:#e24a33;stroke-width:0.5;\" x=\"65.013636\" xlink:href=\"#m34121517b8\" y=\"208.400107\"/>\r\n     <use style=\"fill:#e24a33;stroke:#e24a33;stroke-width:0.5;\" x=\"65.013636\" xlink:href=\"#m34121517b8\" y=\"211.353479\"/>\r\n     <use style=\"fill:#e24a33;stroke:#e24a33;stroke-width:0.5;\" x=\"65.013636\" xlink:href=\"#m34121517b8\" y=\"201.955064\"/>\r\n     <use style=\"fill:#e24a33;stroke:#e24a33;stroke-width:0.5;\" x=\"65.013636\" xlink:href=\"#m34121517b8\" y=\"187.637711\"/>\r\n     <use style=\"fill:#e24a33;stroke:#e24a33;stroke-width:0.5;\" x=\"65.013636\" xlink:href=\"#m34121517b8\" y=\"214.243195\"/>\r\n     <use style=\"fill:#e24a33;stroke:#e24a33;stroke-width:0.5;\" x=\"65.013636\" xlink:href=\"#m34121517b8\" y=\"201.553017\"/>\r\n     <use style=\"fill:#e24a33;stroke:#e24a33;stroke-width:0.5;\" x=\"65.013636\" xlink:href=\"#m34121517b8\" y=\"205.646082\"/>\r\n     <use style=\"fill:#e24a33;stroke:#e24a33;stroke-width:0.5;\" x=\"65.013636\" xlink:href=\"#m34121517b8\" y=\"214.607829\"/>\r\n     <use style=\"fill:#e24a33;stroke:#e24a33;stroke-width:0.5;\" x=\"65.013636\" xlink:href=\"#m34121517b8\" y=\"196.096341\"/>\r\n     <use style=\"fill:#e24a33;stroke:#e24a33;stroke-width:0.5;\" x=\"65.013636\" xlink:href=\"#m34121517b8\" y=\"214.335331\"/>\r\n     <use style=\"fill:#e24a33;stroke:#e24a33;stroke-width:0.5;\" x=\"65.013636\" xlink:href=\"#m34121517b8\" y=\"185.143342\"/>\r\n     <use style=\"fill:#e24a33;stroke:#e24a33;stroke-width:0.5;\" x=\"65.013636\" xlink:href=\"#m34121517b8\" y=\"199.37526\"/>\r\n     <use style=\"fill:#e24a33;stroke:#e24a33;stroke-width:0.5;\" x=\"65.013636\" xlink:href=\"#m34121517b8\" y=\"201.783077\"/>\r\n     <use style=\"fill:#e24a33;stroke:#e24a33;stroke-width:0.5;\" x=\"65.013636\" xlink:href=\"#m34121517b8\" y=\"195.593781\"/>\r\n     <use style=\"fill:#e24a33;stroke:#e24a33;stroke-width:0.5;\" x=\"65.013636\" xlink:href=\"#m34121517b8\" y=\"205.682378\"/>\r\n     <use style=\"fill:#e24a33;stroke:#e24a33;stroke-width:0.5;\" x=\"65.013636\" xlink:href=\"#m34121517b8\" y=\"214.536913\"/>\r\n     <use style=\"fill:#e24a33;stroke:#e24a33;stroke-width:0.5;\" x=\"65.013636\" xlink:href=\"#m34121517b8\" y=\"206.243011\"/>\r\n     <use style=\"fill:#e24a33;stroke:#e24a33;stroke-width:0.5;\" x=\"65.013636\" xlink:href=\"#m34121517b8\" y=\"207.460321\"/>\r\n     <use style=\"fill:#e24a33;stroke:#e24a33;stroke-width:0.5;\" x=\"65.013636\" xlink:href=\"#m34121517b8\" y=\"198.776656\"/>\r\n     <use style=\"fill:#e24a33;stroke:#e24a33;stroke-width:0.5;\" x=\"65.013636\" xlink:href=\"#m34121517b8\" y=\"213.813228\"/>\r\n     <use style=\"fill:#e24a33;stroke:#e24a33;stroke-width:0.5;\" x=\"65.013636\" xlink:href=\"#m34121517b8\" y=\"212.693637\"/>\r\n     <use style=\"fill:#e24a33;stroke:#e24a33;stroke-width:0.5;\" x=\"65.013636\" xlink:href=\"#m34121517b8\" y=\"189.20402\"/>\r\n     <use style=\"fill:#e24a33;stroke:#e24a33;stroke-width:0.5;\" x=\"65.013636\" xlink:href=\"#m34121517b8\" y=\"212.687495\"/>\r\n     <use style=\"fill:#e24a33;stroke:#e24a33;stroke-width:0.5;\" x=\"65.013636\" xlink:href=\"#m34121517b8\" y=\"210.143987\"/>\r\n     <use style=\"fill:#e24a33;stroke:#e24a33;stroke-width:0.5;\" x=\"65.013636\" xlink:href=\"#m34121517b8\" y=\"213.726676\"/>\r\n     <use style=\"fill:#e24a33;stroke:#e24a33;stroke-width:0.5;\" x=\"65.013636\" xlink:href=\"#m34121517b8\" y=\"210.764368\"/>\r\n     <use style=\"fill:#e24a33;stroke:#e24a33;stroke-width:0.5;\" x=\"65.013636\" xlink:href=\"#m34121517b8\" y=\"198.07084\"/>\r\n     <use style=\"fill:#e24a33;stroke:#e24a33;stroke-width:0.5;\" x=\"65.013636\" xlink:href=\"#m34121517b8\" y=\"204.030633\"/>\r\n     <use style=\"fill:#e24a33;stroke:#e24a33;stroke-width:0.5;\" x=\"65.013636\" xlink:href=\"#m34121517b8\" y=\"198.066373\"/>\r\n     <use style=\"fill:#e24a33;stroke:#e24a33;stroke-width:0.5;\" x=\"65.013636\" xlink:href=\"#m34121517b8\" y=\"209.764834\"/>\r\n     <use style=\"fill:#e24a33;stroke:#e24a33;stroke-width:0.5;\" x=\"65.013636\" xlink:href=\"#m34121517b8\" y=\"208.380004\"/>\r\n     <use style=\"fill:#e24a33;stroke:#e24a33;stroke-width:0.5;\" x=\"65.013636\" xlink:href=\"#m34121517b8\" y=\"207.164928\"/>\r\n     <use style=\"fill:#e24a33;stroke:#e24a33;stroke-width:0.5;\" x=\"65.013636\" xlink:href=\"#m34121517b8\" y=\"203.944082\"/>\r\n     <use style=\"fill:#e24a33;stroke:#e24a33;stroke-width:0.5;\" x=\"65.013636\" xlink:href=\"#m34121517b8\" y=\"191.351623\"/>\r\n     <use style=\"fill:#e24a33;stroke:#e24a33;stroke-width:0.5;\" x=\"65.013636\" xlink:href=\"#m34121517b8\" y=\"206.482006\"/>\r\n     <use style=\"fill:#e24a33;stroke:#e24a33;stroke-width:0.5;\" x=\"65.013636\" xlink:href=\"#m34121517b8\" y=\"212.628305\"/>\r\n     <use style=\"fill:#e24a33;stroke:#e24a33;stroke-width:0.5;\" x=\"65.013636\" xlink:href=\"#m34121517b8\" y=\"208.844592\"/>\r\n     <use style=\"fill:#e24a33;stroke:#e24a33;stroke-width:0.5;\" x=\"65.013636\" xlink:href=\"#m34121517b8\" y=\"203.597874\"/>\r\n     <use style=\"fill:#e24a33;stroke:#e24a33;stroke-width:0.5;\" x=\"65.013636\" xlink:href=\"#m34121517b8\" y=\"214.655293\"/>\r\n     <use style=\"fill:#e24a33;stroke:#e24a33;stroke-width:0.5;\" x=\"65.013636\" xlink:href=\"#m34121517b8\" y=\"210.775536\"/>\r\n     <use style=\"fill:#e24a33;stroke:#e24a33;stroke-width:0.5;\" x=\"65.013636\" xlink:href=\"#m34121517b8\" y=\"183.29895\"/>\r\n     <use style=\"fill:#e24a33;stroke:#e24a33;stroke-width:0.5;\" x=\"65.013636\" xlink:href=\"#m34121517b8\" y=\"212.78354\"/>\r\n     <use style=\"fill:#e24a33;stroke:#e24a33;stroke-width:0.5;\" x=\"65.013636\" xlink:href=\"#m34121517b8\" y=\"212.595359\"/>\r\n     <use style=\"fill:#e24a33;stroke:#e24a33;stroke-width:0.5;\" x=\"65.013636\" xlink:href=\"#m34121517b8\" y=\"199.096061\"/>\r\n     <use style=\"fill:#e24a33;stroke:#e24a33;stroke-width:0.5;\" x=\"65.013636\" xlink:href=\"#m34121517b8\" y=\"212.525559\"/>\r\n     <use style=\"fill:#e24a33;stroke:#e24a33;stroke-width:0.5;\" x=\"65.013636\" xlink:href=\"#m34121517b8\" y=\"210.456132\"/>\r\n     <use style=\"fill:#e24a33;stroke:#e24a33;stroke-width:0.5;\" x=\"65.013636\" xlink:href=\"#m34121517b8\" y=\"185.111513\"/>\r\n     <use style=\"fill:#e24a33;stroke:#e24a33;stroke-width:0.5;\" x=\"65.013636\" xlink:href=\"#m34121517b8\" y=\"212.957202\"/>\r\n     <use style=\"fill:#e24a33;stroke:#e24a33;stroke-width:0.5;\" x=\"65.013636\" xlink:href=\"#m34121517b8\" y=\"210.700711\"/>\r\n     <use style=\"fill:#e24a33;stroke:#e24a33;stroke-width:0.5;\" x=\"65.013636\" xlink:href=\"#m34121517b8\" y=\"214.159435\"/>\r\n     <use style=\"fill:#e24a33;stroke:#e24a33;stroke-width:0.5;\" x=\"65.013636\" xlink:href=\"#m34121517b8\" y=\"213.829421\"/>\r\n     <use style=\"fill:#e24a33;stroke:#e24a33;stroke-width:0.5;\" x=\"65.013636\" xlink:href=\"#m34121517b8\" y=\"210.169115\"/>\r\n     <use style=\"fill:#e24a33;stroke:#e24a33;stroke-width:0.5;\" x=\"75.159091\" xlink:href=\"#m34121517b8\" y=\"204.667208\"/>\r\n     <use style=\"fill:#e24a33;stroke:#e24a33;stroke-width:0.5;\" x=\"75.159091\" xlink:href=\"#m34121517b8\" y=\"204.94585\"/>\r\n     <use style=\"fill:#e24a33;stroke:#e24a33;stroke-width:0.5;\" x=\"75.159091\" xlink:href=\"#m34121517b8\" y=\"186.877171\"/>\r\n     <use style=\"fill:#e24a33;stroke:#e24a33;stroke-width:0.5;\" x=\"75.159091\" xlink:href=\"#m34121517b8\" y=\"195.72668\"/>\r\n     <use style=\"fill:#e24a33;stroke:#e24a33;stroke-width:0.5;\" x=\"75.159091\" xlink:href=\"#m34121517b8\" y=\"209.576095\"/>\r\n     <use style=\"fill:#e24a33;stroke:#e24a33;stroke-width:0.5;\" x=\"75.159091\" xlink:href=\"#m34121517b8\" y=\"212.64394\"/>\r\n     <use style=\"fill:#e24a33;stroke:#e24a33;stroke-width:0.5;\" x=\"75.159091\" xlink:href=\"#m34121517b8\" y=\"193.824215\"/>\r\n     <use style=\"fill:#e24a33;stroke:#e24a33;stroke-width:0.5;\" x=\"75.159091\" xlink:href=\"#m34121517b8\" y=\"208.604481\"/>\r\n     <use style=\"fill:#e24a33;stroke:#e24a33;stroke-width:0.5;\" x=\"75.159091\" xlink:href=\"#m34121517b8\" y=\"207.182796\"/>\r\n     <use style=\"fill:#e24a33;stroke:#e24a33;stroke-width:0.5;\" x=\"75.159091\" xlink:href=\"#m34121517b8\" y=\"187.940921\"/>\r\n     <use style=\"fill:#e24a33;stroke:#e24a33;stroke-width:0.5;\" x=\"54.868182\" xlink:href=\"#m34121517b8\" y=\"205.900154\"/>\r\n     <use style=\"fill:#e24a33;stroke:#e24a33;stroke-width:0.5;\" x=\"54.868182\" xlink:href=\"#m34121517b8\" y=\"214.341473\"/>\r\n     <use style=\"fill:#e24a33;stroke:#e24a33;stroke-width:0.5;\" x=\"146.177273\" xlink:href=\"#m34121517b8\" y=\"211.367439\"/>\r\n     <use style=\"fill:#e24a33;stroke:#e24a33;stroke-width:0.5;\" x=\"146.177273\" xlink:href=\"#m34121517b8\" y=\"188.086664\"/>\r\n     <use style=\"fill:#e24a33;stroke:#e24a33;stroke-width:0.5;\" x=\"186.759091\" xlink:href=\"#m34121517b8\" y=\"207.205691\"/>\r\n     <use style=\"fill:#e24a33;stroke:#e24a33;stroke-width:0.5;\" x=\"54.868182\" xlink:href=\"#m34121517b8\" y=\"212.703689\"/>\r\n     <use style=\"fill:#e24a33;stroke:#e24a33;stroke-width:0.5;\" x=\"54.868182\" xlink:href=\"#m34121517b8\" y=\"209.52919\"/>\r\n     <use style=\"fill:#e24a33;stroke:#e24a33;stroke-width:0.5;\" x=\"156.322727\" xlink:href=\"#m34121517b8\" y=\"209.390148\"/>\r\n     <use style=\"fill:#e24a33;stroke:#e24a33;stroke-width:0.5;\" x=\"156.322727\" xlink:href=\"#m34121517b8\" y=\"196.060603\"/>\r\n     <use style=\"fill:#e24a33;stroke:#e24a33;stroke-width:0.5;\" x=\"54.868182\" xlink:href=\"#m34121517b8\" y=\"210.348361\"/>\r\n     <use style=\"fill:#e24a33;stroke:#e24a33;stroke-width:0.5;\" x=\"54.868182\" xlink:href=\"#m34121517b8\" y=\"197.777122\"/>\r\n     <use style=\"fill:#e24a33;stroke:#e24a33;stroke-width:0.5;\" x=\"54.868182\" xlink:href=\"#m34121517b8\" y=\"158.361404\"/>\r\n     <use style=\"fill:#e24a33;stroke:#e24a33;stroke-width:0.5;\" x=\"54.868182\" xlink:href=\"#m34121517b8\" y=\"213.028118\"/>\r\n     <use style=\"fill:#e24a33;stroke:#e24a33;stroke-width:0.5;\" x=\"166.468182\" xlink:href=\"#m34121517b8\" y=\"210.700152\"/>\r\n     <use style=\"fill:#e24a33;stroke:#e24a33;stroke-width:0.5;\" x=\"166.468182\" xlink:href=\"#m34121517b8\" y=\"197.740826\"/>\r\n     <use style=\"fill:#e24a33;stroke:#e24a33;stroke-width:0.5;\" x=\"54.868182\" xlink:href=\"#m34121517b8\" y=\"214.148267\"/>\r\n     <use style=\"fill:#e24a33;stroke:#e24a33;stroke-width:0.5;\" x=\"54.868182\" xlink:href=\"#m34121517b8\" y=\"206.068232\"/>\r\n     <use style=\"fill:#e24a33;stroke:#e24a33;stroke-width:0.5;\" x=\"186.759091\" xlink:href=\"#m34121517b8\" y=\"191.117096\"/>\r\n     <use style=\"fill:#e24a33;stroke:#e24a33;stroke-width:0.5;\" x=\"54.868182\" xlink:href=\"#m34121517b8\" y=\"201.187824\"/>\r\n     <use style=\"fill:#e24a33;stroke:#e24a33;stroke-width:0.5;\" x=\"54.868182\" xlink:href=\"#m34121517b8\" y=\"137.027207\"/>\r\n     <use style=\"fill:#e24a33;stroke:#e24a33;stroke-width:0.5;\" x=\"54.868182\" xlink:href=\"#m34121517b8\" y=\"207.885821\"/>\r\n     <use style=\"fill:#e24a33;stroke:#e24a33;stroke-width:0.5;\" x=\"54.868182\" xlink:href=\"#m34121517b8\" y=\"205.781215\"/>\r\n     <use style=\"fill:#e24a33;stroke:#e24a33;stroke-width:0.5;\" x=\"54.868182\" xlink:href=\"#m34121517b8\" y=\"208.358227\"/>\r\n     <use style=\"fill:#e24a33;stroke:#e24a33;stroke-width:0.5;\" x=\"54.868182\" xlink:href=\"#m34121517b8\" y=\"210.791172\"/>\r\n     <use style=\"fill:#e24a33;stroke:#e24a33;stroke-width:0.5;\" x=\"54.868182\" xlink:href=\"#m34121517b8\" y=\"213.528444\"/>\r\n     <use style=\"fill:#e24a33;stroke:#e24a33;stroke-width:0.5;\" x=\"54.868182\" xlink:href=\"#m34121517b8\" y=\"169.861633\"/>\r\n     <use style=\"fill:#e24a33;stroke:#e24a33;stroke-width:0.5;\" x=\"54.868182\" xlink:href=\"#m34121517b8\" y=\"207.941661\"/>\r\n     <use style=\"fill:#e24a33;stroke:#e24a33;stroke-width:0.5;\" x=\"54.868182\" xlink:href=\"#m34121517b8\" y=\"206.283216\"/>\r\n     <use style=\"fill:#e24a33;stroke:#e24a33;stroke-width:0.5;\" x=\"54.868182\" xlink:href=\"#m34121517b8\" y=\"194.259766\"/>\r\n     <use style=\"fill:#e24a33;stroke:#e24a33;stroke-width:0.5;\" x=\"54.868182\" xlink:href=\"#m34121517b8\" y=\"210.432679\"/>\r\n     <use style=\"fill:#e24a33;stroke:#e24a33;stroke-width:0.5;\" x=\"54.868182\" xlink:href=\"#m34121517b8\" y=\"211.532167\"/>\r\n     <use style=\"fill:#e24a33;stroke:#e24a33;stroke-width:0.5;\" x=\"54.868182\" xlink:href=\"#m34121517b8\" y=\"146.095609\"/>\r\n     <use style=\"fill:#e24a33;stroke:#e24a33;stroke-width:0.5;\" x=\"54.868182\" xlink:href=\"#m34121517b8\" y=\"208.753573\"/>\r\n     <use style=\"fill:#e24a33;stroke:#e24a33;stroke-width:0.5;\" x=\"54.868182\" xlink:href=\"#m34121517b8\" y=\"213.174977\"/>\r\n     <use style=\"fill:#e24a33;stroke:#e24a33;stroke-width:0.5;\" x=\"54.868182\" xlink:href=\"#m34121517b8\" y=\"208.008669\"/>\r\n     <use style=\"fill:#e24a33;stroke:#e24a33;stroke-width:0.5;\" x=\"54.868182\" xlink:href=\"#m34121517b8\" y=\"206.665719\"/>\r\n     <use style=\"fill:#e24a33;stroke:#e24a33;stroke-width:0.5;\" x=\"54.868182\" xlink:href=\"#m34121517b8\" y=\"165.856795\"/>\r\n     <use style=\"fill:#e24a33;stroke:#e24a33;stroke-width:0.5;\" x=\"54.868182\" xlink:href=\"#m34121517b8\" y=\"161.67997\"/>\r\n     <use style=\"fill:#e24a33;stroke:#e24a33;stroke-width:0.5;\" x=\"54.868182\" xlink:href=\"#m34121517b8\" y=\"191.632498\"/>\r\n     <use style=\"fill:#e24a33;stroke:#e24a33;stroke-width:0.5;\" x=\"54.868182\" xlink:href=\"#m34121517b8\" y=\"190.927798\"/>\r\n     <use style=\"fill:#e24a33;stroke:#e24a33;stroke-width:0.5;\" x=\"176.613636\" xlink:href=\"#m34121517b8\" y=\"202.845152\"/>\r\n     <use style=\"fill:#e24a33;stroke:#e24a33;stroke-width:0.5;\" x=\"176.613636\" xlink:href=\"#m34121517b8\" y=\"179.738597\"/>\r\n     <use style=\"fill:#e24a33;stroke:#e24a33;stroke-width:0.5;\" x=\"54.868182\" xlink:href=\"#m34121517b8\" y=\"187.934221\"/>\r\n     <use style=\"fill:#e24a33;stroke:#e24a33;stroke-width:0.5;\" x=\"54.868182\" xlink:href=\"#m34121517b8\" y=\"206.26758\"/>\r\n     <use style=\"fill:#e24a33;stroke:#e24a33;stroke-width:0.5;\" x=\"54.868182\" xlink:href=\"#m34121517b8\" y=\"151.452331\"/>\r\n     <use style=\"fill:#e24a33;stroke:#e24a33;stroke-width:0.5;\" x=\"54.868182\" xlink:href=\"#m34121517b8\" y=\"207.877445\"/>\r\n     <use style=\"fill:#e24a33;stroke:#e24a33;stroke-width:0.5;\" x=\"54.868182\" xlink:href=\"#m34121517b8\" y=\"108.138429\"/>\r\n     <use style=\"fill:#e24a33;stroke:#e24a33;stroke-width:0.5;\" x=\"54.868182\" xlink:href=\"#m34121517b8\" y=\"213.539612\"/>\r\n     <use style=\"fill:#e24a33;stroke:#e24a33;stroke-width:0.5;\" x=\"54.868182\" xlink:href=\"#m34121517b8\" y=\"159.792022\"/>\r\n     <use style=\"fill:#e24a33;stroke:#e24a33;stroke-width:0.5;\" x=\"54.868182\" xlink:href=\"#m34121517b8\" y=\"208.137101\"/>\r\n     <use style=\"fill:#e24a33;stroke:#e24a33;stroke-width:0.5;\" x=\"54.868182\" xlink:href=\"#m34121517b8\" y=\"213.363158\"/>\r\n     <use style=\"fill:#e24a33;stroke:#e24a33;stroke-width:0.5;\" x=\"54.868182\" xlink:href=\"#m34121517b8\" y=\"198.568932\"/>\r\n     <use style=\"fill:#e24a33;stroke:#e24a33;stroke-width:0.5;\" x=\"54.868182\" xlink:href=\"#m34121517b8\" y=\"211.003363\"/>\r\n     <use style=\"fill:#e24a33;stroke:#e24a33;stroke-width:0.5;\" x=\"54.868182\" xlink:href=\"#m34121517b8\" y=\"202.567069\"/>\r\n     <use style=\"fill:#e24a33;stroke:#e24a33;stroke-width:0.5;\" x=\"54.868182\" xlink:href=\"#m34121517b8\" y=\"205.821978\"/>\r\n     <use style=\"fill:#e24a33;stroke:#e24a33;stroke-width:0.5;\" x=\"54.868182\" xlink:href=\"#m34121517b8\" y=\"210.506388\"/>\r\n     <use style=\"fill:#e24a33;stroke:#e24a33;stroke-width:0.5;\" x=\"54.868182\" xlink:href=\"#m34121517b8\" y=\"212.752269\"/>\r\n     <use style=\"fill:#e24a33;stroke:#e24a33;stroke-width:0.5;\" x=\"54.868182\" xlink:href=\"#m34121517b8\" y=\"181.240132\"/>\r\n     <use style=\"fill:#e24a33;stroke:#e24a33;stroke-width:0.5;\" x=\"54.868182\" xlink:href=\"#m34121517b8\" y=\"214.08461\"/>\r\n     <use style=\"fill:#e24a33;stroke:#e24a33;stroke-width:0.5;\" x=\"54.868182\" xlink:href=\"#m34121517b8\" y=\"190.022633\"/>\r\n     <use style=\"fill:#e24a33;stroke:#e24a33;stroke-width:0.5;\" x=\"54.868182\" xlink:href=\"#m34121517b8\" y=\"212.86004\"/>\r\n     <use style=\"fill:#e24a33;stroke:#e24a33;stroke-width:0.5;\" x=\"54.868182\" xlink:href=\"#m34121517b8\" y=\"165.006353\"/>\r\n     <use style=\"fill:#e24a33;stroke:#e24a33;stroke-width:0.5;\" x=\"54.868182\" xlink:href=\"#m34121517b8\" y=\"207.260972\"/>\r\n     <use style=\"fill:#e24a33;stroke:#e24a33;stroke-width:0.5;\" x=\"54.868182\" xlink:href=\"#m34121517b8\" y=\"210.742032\"/>\r\n     <use style=\"fill:#e24a33;stroke:#e24a33;stroke-width:0.5;\" x=\"54.868182\" xlink:href=\"#m34121517b8\" y=\"205.00504\"/>\r\n     <use style=\"fill:#e24a33;stroke:#e24a33;stroke-width:0.5;\" x=\"54.868182\" xlink:href=\"#m34121517b8\" y=\"214.756364\"/>\r\n     <use style=\"fill:#e24a33;stroke:#e24a33;stroke-width:0.5;\" x=\"54.868182\" xlink:href=\"#m34121517b8\" y=\"209.277352\"/>\r\n     <use style=\"fill:#e24a33;stroke:#e24a33;stroke-width:0.5;\" x=\"54.868182\" xlink:href=\"#m34121517b8\" y=\"164.858377\"/>\r\n     <use style=\"fill:#e24a33;stroke:#e24a33;stroke-width:0.5;\" x=\"54.868182\" xlink:href=\"#m34121517b8\" y=\"185.588944\"/>\r\n     <use style=\"fill:#e24a33;stroke:#e24a33;stroke-width:0.5;\" x=\"54.868182\" xlink:href=\"#m34121517b8\" y=\"212.812018\"/>\r\n     <use style=\"fill:#e24a33;stroke:#e24a33;stroke-width:0.5;\" x=\"54.868182\" xlink:href=\"#m34121517b8\" y=\"207.006342\"/>\r\n     <use style=\"fill:#e24a33;stroke:#e24a33;stroke-width:0.5;\" x=\"54.868182\" xlink:href=\"#m34121517b8\" y=\"191.74697\"/>\r\n     <use style=\"fill:#e24a33;stroke:#e24a33;stroke-width:0.5;\" x=\"54.868182\" xlink:href=\"#m34121517b8\" y=\"210.253992\"/>\r\n     <use style=\"fill:#e24a33;stroke:#e24a33;stroke-width:0.5;\" x=\"54.868182\" xlink:href=\"#m34121517b8\" y=\"203.893267\"/>\r\n     <use style=\"fill:#e24a33;stroke:#e24a33;stroke-width:0.5;\" x=\"54.868182\" xlink:href=\"#m34121517b8\" y=\"201.984101\"/>\r\n     <use style=\"fill:#e24a33;stroke:#e24a33;stroke-width:0.5;\" x=\"54.868182\" xlink:href=\"#m34121517b8\" y=\"138.908454\"/>\r\n     <use style=\"fill:#e24a33;stroke:#e24a33;stroke-width:0.5;\" x=\"54.868182\" xlink:href=\"#m34121517b8\" y=\"209.993778\"/>\r\n     <use style=\"fill:#e24a33;stroke:#e24a33;stroke-width:0.5;\" x=\"54.868182\" xlink:href=\"#m34121517b8\" y=\"180.531524\"/>\r\n     <use style=\"fill:#e24a33;stroke:#e24a33;stroke-width:0.5;\" x=\"54.868182\" xlink:href=\"#m34121517b8\" y=\"174.988296\"/>\r\n     <use style=\"fill:#e24a33;stroke:#e24a33;stroke-width:0.5;\" x=\"54.868182\" xlink:href=\"#m34121517b8\" y=\"210.112158\"/>\r\n     <use style=\"fill:#e24a33;stroke:#e24a33;stroke-width:0.5;\" x=\"54.868182\" xlink:href=\"#m34121517b8\" y=\"163.991742\"/>\r\n     <use style=\"fill:#e24a33;stroke:#e24a33;stroke-width:0.5;\" x=\"54.868182\" xlink:href=\"#m34121517b8\" y=\"198.666093\"/>\r\n     <use style=\"fill:#e24a33;stroke:#e24a33;stroke-width:0.5;\" x=\"54.868182\" xlink:href=\"#m34121517b8\" y=\"205.079865\"/>\r\n     <use style=\"fill:#e24a33;stroke:#e24a33;stroke-width:0.5;\" x=\"54.868182\" xlink:href=\"#m34121517b8\" y=\"166.865264\"/>\r\n     <use style=\"fill:#e24a33;stroke:#e24a33;stroke-width:0.5;\" x=\"54.868182\" xlink:href=\"#m34121517b8\" y=\"202.781495\"/>\r\n     <use style=\"fill:#e24a33;stroke:#e24a33;stroke-width:0.5;\" x=\"54.868182\" xlink:href=\"#m34121517b8\" y=\"204.788381\"/>\r\n     <use style=\"fill:#e24a33;stroke:#e24a33;stroke-width:0.5;\" x=\"54.868182\" xlink:href=\"#m34121517b8\" y=\"207.015277\"/>\r\n     <use style=\"fill:#e24a33;stroke:#e24a33;stroke-width:0.5;\" x=\"54.868182\" xlink:href=\"#m34121517b8\" y=\"168.061355\"/>\r\n     <use style=\"fill:#e24a33;stroke:#e24a33;stroke-width:0.5;\" x=\"54.868182\" xlink:href=\"#m34121517b8\" y=\"154.592768\"/>\r\n     <use style=\"fill:#e24a33;stroke:#e24a33;stroke-width:0.5;\" x=\"54.868182\" xlink:href=\"#m34121517b8\" y=\"211.946499\"/>\r\n     <use style=\"fill:#e24a33;stroke:#e24a33;stroke-width:0.5;\" x=\"54.868182\" xlink:href=\"#m34121517b8\" y=\"214.08461\"/>\r\n     <use style=\"fill:#e24a33;stroke:#e24a33;stroke-width:0.5;\" x=\"54.868182\" xlink:href=\"#m34121517b8\" y=\"164.530039\"/>\r\n     <use style=\"fill:#e24a33;stroke:#e24a33;stroke-width:0.5;\" x=\"54.868182\" xlink:href=\"#m34121517b8\" y=\"178.568192\"/>\r\n     <use style=\"fill:#e24a33;stroke:#e24a33;stroke-width:0.5;\" x=\"54.868182\" xlink:href=\"#m34121517b8\" y=\"209.133843\"/>\r\n     <use style=\"fill:#e24a33;stroke:#e24a33;stroke-width:0.5;\" x=\"54.868182\" xlink:href=\"#m34121517b8\" y=\"210.842544\"/>\r\n     <use style=\"fill:#e24a33;stroke:#e24a33;stroke-width:0.5;\" x=\"54.868182\" xlink:href=\"#m34121517b8\" y=\"208.274467\"/>\r\n     <use style=\"fill:#e24a33;stroke:#e24a33;stroke-width:0.5;\" x=\"54.868182\" xlink:href=\"#m34121517b8\" y=\"150.344468\"/>\r\n     <use style=\"fill:#e24a33;stroke:#e24a33;stroke-width:0.5;\" x=\"54.868182\" xlink:href=\"#m34121517b8\" y=\"180.797322\"/>\r\n     <use style=\"fill:#e24a33;stroke:#e24a33;stroke-width:0.5;\" x=\"54.868182\" xlink:href=\"#m34121517b8\" y=\"153.627854\"/>\r\n     <use style=\"fill:#e24a33;stroke:#e24a33;stroke-width:0.5;\" x=\"54.868182\" xlink:href=\"#m34121517b8\" y=\"184.442551\"/>\r\n     <use style=\"fill:#e24a33;stroke:#e24a33;stroke-width:0.5;\" x=\"54.868182\" xlink:href=\"#m34121517b8\" y=\"207.138125\"/>\r\n     <use style=\"fill:#e24a33;stroke:#e24a33;stroke-width:0.5;\" x=\"54.868182\" xlink:href=\"#m34121517b8\" y=\"147.534045\"/>\r\n     <use style=\"fill:#e24a33;stroke:#e24a33;stroke-width:0.5;\" x=\"54.868182\" xlink:href=\"#m34121517b8\" y=\"177.260422\"/>\r\n     <use style=\"fill:#e24a33;stroke:#e24a33;stroke-width:0.5;\" x=\"54.868182\" xlink:href=\"#m34121517b8\" y=\"208.003085\"/>\r\n     <use style=\"fill:#e24a33;stroke:#e24a33;stroke-width:0.5;\" x=\"54.868182\" xlink:href=\"#m34121517b8\" y=\"203.781587\"/>\r\n     <use style=\"fill:#e24a33;stroke:#e24a33;stroke-width:0.5;\" x=\"54.868182\" xlink:href=\"#m34121517b8\" y=\"208.09187\"/>\r\n     <use style=\"fill:#e24a33;stroke:#e24a33;stroke-width:0.5;\" x=\"54.868182\" xlink:href=\"#m34121517b8\" y=\"209.877631\"/>\r\n     <use style=\"fill:#e24a33;stroke:#e24a33;stroke-width:0.5;\" x=\"54.868182\" xlink:href=\"#m34121517b8\" y=\"208.960739\"/>\r\n     <use style=\"fill:#e24a33;stroke:#e24a33;stroke-width:0.5;\" x=\"65.013636\" xlink:href=\"#m34121517b8\" y=\"180.830826\"/>\r\n     <use style=\"fill:#e24a33;stroke:#e24a33;stroke-width:0.5;\" x=\"65.013636\" xlink:href=\"#m34121517b8\" y=\"208.648036\"/>\r\n     <use style=\"fill:#e24a33;stroke:#e24a33;stroke-width:0.5;\" x=\"65.013636\" xlink:href=\"#m34121517b8\" y=\"197.56493\"/>\r\n     <use style=\"fill:#e24a33;stroke:#e24a33;stroke-width:0.5;\" x=\"65.013636\" xlink:href=\"#m34121517b8\" y=\"213.640124\"/>\r\n     <use style=\"fill:#e24a33;stroke:#e24a33;stroke-width:0.5;\" x=\"65.013636\" xlink:href=\"#m34121517b8\" y=\"207.520628\"/>\r\n     <use style=\"fill:#e24a33;stroke:#e24a33;stroke-width:0.5;\" x=\"65.013636\" xlink:href=\"#m34121517b8\" y=\"210.66609\"/>\r\n     <use style=\"fill:#e24a33;stroke:#e24a33;stroke-width:0.5;\" x=\"65.013636\" xlink:href=\"#m34121517b8\" y=\"211.223372\"/>\r\n     <use style=\"fill:#e24a33;stroke:#e24a33;stroke-width:0.5;\" x=\"65.013636\" xlink:href=\"#m34121517b8\" y=\"212.931515\"/>\r\n     <use style=\"fill:#e24a33;stroke:#e24a33;stroke-width:0.5;\" x=\"65.013636\" xlink:href=\"#m34121517b8\" y=\"206.146408\"/>\r\n     <use style=\"fill:#e24a33;stroke:#e24a33;stroke-width:0.5;\" x=\"65.013636\" xlink:href=\"#m34121517b8\" y=\"208.09187\"/>\r\n     <use style=\"fill:#e24a33;stroke:#e24a33;stroke-width:0.5;\" x=\"65.013636\" xlink:href=\"#m34121517b8\" y=\"210.03845\"/>\r\n     <use style=\"fill:#e24a33;stroke:#e24a33;stroke-width:0.5;\" x=\"65.013636\" xlink:href=\"#m34121517b8\" y=\"155.449352\"/>\r\n     <use style=\"fill:#e24a33;stroke:#e24a33;stroke-width:0.5;\" x=\"65.013636\" xlink:href=\"#m34121517b8\" y=\"173.681083\"/>\r\n     <use style=\"fill:#e24a33;stroke:#e24a33;stroke-width:0.5;\" x=\"65.013636\" xlink:href=\"#m34121517b8\" y=\"208.019837\"/>\r\n     <use style=\"fill:#e24a33;stroke:#e24a33;stroke-width:0.5;\" x=\"65.013636\" xlink:href=\"#m34121517b8\" y=\"175.603093\"/>\r\n     <use style=\"fill:#e24a33;stroke:#e24a33;stroke-width:0.5;\" x=\"65.013636\" xlink:href=\"#m34121517b8\" y=\"208.205784\"/>\r\n     <use style=\"fill:#e24a33;stroke:#e24a33;stroke-width:0.5;\" x=\"65.013636\" xlink:href=\"#m34121517b8\" y=\"196.225889\"/>\r\n     <use style=\"fill:#e24a33;stroke:#e24a33;stroke-width:0.5;\" x=\"65.013636\" xlink:href=\"#m34121517b8\" y=\"206.581959\"/>\r\n     <use style=\"fill:#e24a33;stroke:#e24a33;stroke-width:0.5;\" x=\"65.013636\" xlink:href=\"#m34121517b8\" y=\"196.276145\"/>\r\n     <use style=\"fill:#e24a33;stroke:#e24a33;stroke-width:0.5;\" x=\"65.013636\" xlink:href=\"#m34121517b8\" y=\"197.308067\"/>\r\n     <use style=\"fill:#e24a33;stroke:#e24a33;stroke-width:0.5;\" x=\"65.013636\" xlink:href=\"#m34121517b8\" y=\"206.336263\"/>\r\n     <use style=\"fill:#e24a33;stroke:#e24a33;stroke-width:0.5;\" x=\"65.013636\" xlink:href=\"#m34121517b8\" y=\"201.166604\"/>\r\n     <use style=\"fill:#e24a33;stroke:#e24a33;stroke-width:0.5;\" x=\"65.013636\" xlink:href=\"#m34121517b8\" y=\"212.219556\"/>\r\n     <use style=\"fill:#e24a33;stroke:#e24a33;stroke-width:0.5;\" x=\"65.013636\" xlink:href=\"#m34121517b8\" y=\"168.386343\"/>\r\n     <use style=\"fill:#e24a33;stroke:#e24a33;stroke-width:0.5;\" x=\"65.013636\" xlink:href=\"#m34121517b8\" y=\"210.097081\"/>\r\n     <use style=\"fill:#e24a33;stroke:#e24a33;stroke-width:0.5;\" x=\"65.013636\" xlink:href=\"#m34121517b8\" y=\"209.246081\"/>\r\n     <use style=\"fill:#e24a33;stroke:#e24a33;stroke-width:0.5;\" x=\"65.013636\" xlink:href=\"#m34121517b8\" y=\"160.486112\"/>\r\n     <use style=\"fill:#e24a33;stroke:#e24a33;stroke-width:0.5;\" x=\"65.013636\" xlink:href=\"#m34121517b8\" y=\"211.967718\"/>\r\n     <use style=\"fill:#e24a33;stroke:#e24a33;stroke-width:0.5;\" x=\"65.013636\" xlink:href=\"#m34121517b8\" y=\"206.249153\"/>\r\n     <use style=\"fill:#e24a33;stroke:#e24a33;stroke-width:0.5;\" x=\"65.013636\" xlink:href=\"#m34121517b8\" y=\"206.270931\"/>\r\n     <use style=\"fill:#e24a33;stroke:#e24a33;stroke-width:0.5;\" x=\"65.013636\" xlink:href=\"#m34121517b8\" y=\"164.597047\"/>\r\n     <use style=\"fill:#e24a33;stroke:#e24a33;stroke-width:0.5;\" x=\"65.013636\" xlink:href=\"#m34121517b8\" y=\"159.803749\"/>\r\n     <use style=\"fill:#e24a33;stroke:#e24a33;stroke-width:0.5;\" x=\"65.013636\" xlink:href=\"#m34121517b8\" y=\"168.384668\"/>\r\n     <use style=\"fill:#e24a33;stroke:#e24a33;stroke-width:0.5;\" x=\"65.013636\" xlink:href=\"#m34121517b8\" y=\"133.342331\"/>\r\n     <use style=\"fill:#e24a33;stroke:#e24a33;stroke-width:0.5;\" x=\"146.177273\" xlink:href=\"#m34121517b8\" y=\"185.900531\"/>\r\n     <use style=\"fill:#e24a33;stroke:#e24a33;stroke-width:0.5;\" x=\"146.177273\" xlink:href=\"#m34121517b8\" y=\"185.439852\"/>\r\n     <use style=\"fill:#e24a33;stroke:#e24a33;stroke-width:0.5;\" x=\"186.759091\" xlink:href=\"#m34121517b8\" y=\"211.718672\"/>\r\n     <use style=\"fill:#e24a33;stroke:#e24a33;stroke-width:0.5;\" x=\"54.868182\" xlink:href=\"#m34121517b8\" y=\"184.960745\"/>\r\n     <use style=\"fill:#e24a33;stroke:#e24a33;stroke-width:0.5;\" x=\"54.868182\" xlink:href=\"#m34121517b8\" y=\"210.926304\"/>\r\n     <use style=\"fill:#e24a33;stroke:#e24a33;stroke-width:0.5;\" x=\"156.322727\" xlink:href=\"#m34121517b8\" y=\"214.295684\"/>\r\n     <use style=\"fill:#e24a33;stroke:#e24a33;stroke-width:0.5;\" x=\"156.322727\" xlink:href=\"#m34121517b8\" y=\"214.42635\"/>\r\n     <use style=\"fill:#e24a33;stroke:#e24a33;stroke-width:0.5;\" x=\"54.868182\" xlink:href=\"#m34121517b8\" y=\"207.83724\"/>\r\n     <use style=\"fill:#e24a33;stroke:#e24a33;stroke-width:0.5;\" x=\"54.868182\" xlink:href=\"#m34121517b8\" y=\"213.25092\"/>\r\n     <use style=\"fill:#e24a33;stroke:#e24a33;stroke-width:0.5;\" x=\"54.868182\" xlink:href=\"#m34121517b8\" y=\"209.850827\"/>\r\n     <use style=\"fill:#e24a33;stroke:#e24a33;stroke-width:0.5;\" x=\"54.868182\" xlink:href=\"#m34121517b8\" y=\"194.031939\"/>\r\n     <use style=\"fill:#e24a33;stroke:#e24a33;stroke-width:0.5;\" x=\"166.468182\" xlink:href=\"#m34121517b8\" y=\"212.786332\"/>\r\n     <use style=\"fill:#e24a33;stroke:#e24a33;stroke-width:0.5;\" x=\"166.468182\" xlink:href=\"#m34121517b8\" y=\"202.806064\"/>\r\n     <use style=\"fill:#e24a33;stroke:#e24a33;stroke-width:0.5;\" x=\"54.868182\" xlink:href=\"#m34121517b8\" y=\"211.604759\"/>\r\n     <use style=\"fill:#e24a33;stroke:#e24a33;stroke-width:0.5;\" x=\"54.868182\" xlink:href=\"#m34121517b8\" y=\"211.354038\"/>\r\n     <use style=\"fill:#e24a33;stroke:#e24a33;stroke-width:0.5;\" x=\"186.759091\" xlink:href=\"#m34121517b8\" y=\"206.120721\"/>\r\n     <use style=\"fill:#e24a33;stroke:#e24a33;stroke-width:0.5;\" x=\"54.868182\" xlink:href=\"#m34121517b8\" y=\"201.449713\"/>\r\n     <use style=\"fill:#e24a33;stroke:#e24a33;stroke-width:0.5;\" x=\"54.868182\" xlink:href=\"#m34121517b8\" y=\"205.648316\"/>\r\n     <use style=\"fill:#e24a33;stroke:#e24a33;stroke-width:0.5;\" x=\"54.868182\" xlink:href=\"#m34121517b8\" y=\"209.289636\"/>\r\n     <use style=\"fill:#e24a33;stroke:#e24a33;stroke-width:0.5;\" x=\"54.868182\" xlink:href=\"#m34121517b8\" y=\"208.326398\"/>\r\n     <use style=\"fill:#e24a33;stroke:#e24a33;stroke-width:0.5;\" x=\"54.868182\" xlink:href=\"#m34121517b8\" y=\"213.161576\"/>\r\n     <use style=\"fill:#e24a33;stroke:#e24a33;stroke-width:0.5;\" x=\"54.868182\" xlink:href=\"#m34121517b8\" y=\"182.615469\"/>\r\n     <use style=\"fill:#e24a33;stroke:#e24a33;stroke-width:0.5;\" x=\"54.868182\" xlink:href=\"#m34121517b8\" y=\"213.238076\"/>\r\n     <use style=\"fill:#e24a33;stroke:#e24a33;stroke-width:0.5;\" x=\"54.868182\" xlink:href=\"#m34121517b8\" y=\"202.66088\"/>\r\n     <use style=\"fill:#e24a33;stroke:#e24a33;stroke-width:0.5;\" x=\"54.868182\" xlink:href=\"#m34121517b8\" y=\"184.248787\"/>\r\n     <use style=\"fill:#e24a33;stroke:#e24a33;stroke-width:0.5;\" x=\"54.868182\" xlink:href=\"#m34121517b8\" y=\"206.839381\"/>\r\n     <use style=\"fill:#e24a33;stroke:#e24a33;stroke-width:0.5;\" x=\"54.868182\" xlink:href=\"#m34121517b8\" y=\"196.850179\"/>\r\n     <use style=\"fill:#e24a33;stroke:#e24a33;stroke-width:0.5;\" x=\"54.868182\" xlink:href=\"#m34121517b8\" y=\"214.462646\"/>\r\n     <use style=\"fill:#e24a33;stroke:#e24a33;stroke-width:0.5;\" x=\"54.868182\" xlink:href=\"#m34121517b8\" y=\"209.624117\"/>\r\n     <use style=\"fill:#e24a33;stroke:#e24a33;stroke-width:0.5;\" x=\"54.868182\" xlink:href=\"#m34121517b8\" y=\"192.393038\"/>\r\n     <use style=\"fill:#e24a33;stroke:#e24a33;stroke-width:0.5;\" x=\"54.868182\" xlink:href=\"#m34121517b8\" y=\"206.533378\"/>\r\n     <use style=\"fill:#e24a33;stroke:#e24a33;stroke-width:0.5;\" x=\"54.868182\" xlink:href=\"#m34121517b8\" y=\"198.877168\"/>\r\n     <use style=\"fill:#e24a33;stroke:#e24a33;stroke-width:0.5;\" x=\"54.868182\" xlink:href=\"#m34121517b8\" y=\"208.859111\"/>\r\n     <use style=\"fill:#e24a33;stroke:#e24a33;stroke-width:0.5;\" x=\"54.868182\" xlink:href=\"#m34121517b8\" y=\"201.497735\"/>\r\n     <use style=\"fill:#e24a33;stroke:#e24a33;stroke-width:0.5;\" x=\"54.868182\" xlink:href=\"#m34121517b8\" y=\"214.44031\"/>\r\n     <use style=\"fill:#e24a33;stroke:#e24a33;stroke-width:0.5;\" x=\"54.868182\" xlink:href=\"#m34121517b8\" y=\"211.912995\"/>\r\n     <use style=\"fill:#e24a33;stroke:#e24a33;stroke-width:0.5;\" x=\"54.868182\" xlink:href=\"#m34121517b8\" y=\"187.282569\"/>\r\n     <use style=\"fill:#e24a33;stroke:#e24a33;stroke-width:0.5;\" x=\"54.868182\" xlink:href=\"#m34121517b8\" y=\"187.180382\"/>\r\n     <use style=\"fill:#e24a33;stroke:#e24a33;stroke-width:0.5;\" x=\"176.613636\" xlink:href=\"#m34121517b8\" y=\"187.863862\"/>\r\n     <use style=\"fill:#e24a33;stroke:#e24a33;stroke-width:0.5;\" x=\"176.613636\" xlink:href=\"#m34121517b8\" y=\"213.879119\"/>\r\n     <use style=\"fill:#e24a33;stroke:#e24a33;stroke-width:0.5;\" x=\"54.868182\" xlink:href=\"#m34121517b8\" y=\"212.50769\"/>\r\n     <use style=\"fill:#e24a33;stroke:#e24a33;stroke-width:0.5;\" x=\"54.868182\" xlink:href=\"#m34121517b8\" y=\"214.298476\"/>\r\n     <use style=\"fill:#e24a33;stroke:#e24a33;stroke-width:0.5;\" x=\"54.868182\" xlink:href=\"#m34121517b8\" y=\"210.149013\"/>\r\n     <use style=\"fill:#e24a33;stroke:#e24a33;stroke-width:0.5;\" x=\"54.868182\" xlink:href=\"#m34121517b8\" y=\"185.622448\"/>\r\n     <use style=\"fill:#e24a33;stroke:#e24a33;stroke-width:0.5;\" x=\"54.868182\" xlink:href=\"#m34121517b8\" y=\"209.143894\"/>\r\n     <use style=\"fill:#e24a33;stroke:#e24a33;stroke-width:0.5;\" x=\"54.868182\" xlink:href=\"#m34121517b8\" y=\"193.757765\"/>\r\n     <use style=\"fill:#e24a33;stroke:#e24a33;stroke-width:0.5;\" x=\"54.868182\" xlink:href=\"#m34121517b8\" y=\"200.765674\"/>\r\n     <use style=\"fill:#e24a33;stroke:#e24a33;stroke-width:0.5;\" x=\"54.868182\" xlink:href=\"#m34121517b8\" y=\"210.74985\"/>\r\n     <use style=\"fill:#e24a33;stroke:#e24a33;stroke-width:0.5;\" x=\"54.868182\" xlink:href=\"#m34121517b8\" y=\"207.463671\"/>\r\n     <use style=\"fill:#e24a33;stroke:#e24a33;stroke-width:0.5;\" x=\"54.868182\" xlink:href=\"#m34121517b8\" y=\"213.487122\"/>\r\n     <use style=\"fill:#e24a33;stroke:#e24a33;stroke-width:0.5;\" x=\"54.868182\" xlink:href=\"#m34121517b8\" y=\"210.092056\"/>\r\n     <use style=\"fill:#e24a33;stroke:#e24a33;stroke-width:0.5;\" x=\"54.868182\" xlink:href=\"#m34121517b8\" y=\"208.363252\"/>\r\n     <use style=\"fill:#e24a33;stroke:#e24a33;stroke-width:0.5;\" x=\"54.868182\" xlink:href=\"#m34121517b8\" y=\"207.183913\"/>\r\n     <use style=\"fill:#e24a33;stroke:#e24a33;stroke-width:0.5;\" x=\"54.868182\" xlink:href=\"#m34121517b8\" y=\"212.935424\"/>\r\n     <use style=\"fill:#e24a33;stroke:#e24a33;stroke-width:0.5;\" x=\"54.868182\" xlink:href=\"#m34121517b8\" y=\"185.08806\"/>\r\n     <use style=\"fill:#e24a33;stroke:#e24a33;stroke-width:0.5;\" x=\"54.868182\" xlink:href=\"#m34121517b8\" y=\"214.325838\"/>\r\n     <use style=\"fill:#e24a33;stroke:#e24a33;stroke-width:0.5;\" x=\"54.868182\" xlink:href=\"#m34121517b8\" y=\"212.67521\"/>\r\n     <use style=\"fill:#e24a33;stroke:#e24a33;stroke-width:0.5;\" x=\"54.868182\" xlink:href=\"#m34121517b8\" y=\"199.538313\"/>\r\n     <use style=\"fill:#e24a33;stroke:#e24a33;stroke-width:0.5;\" x=\"54.868182\" xlink:href=\"#m34121517b8\" y=\"204.257902\"/>\r\n     <use style=\"fill:#e24a33;stroke:#e24a33;stroke-width:0.5;\" x=\"54.868182\" xlink:href=\"#m34121517b8\" y=\"214.219742\"/>\r\n     <use style=\"fill:#e24a33;stroke:#e24a33;stroke-width:0.5;\" x=\"54.868182\" xlink:href=\"#m34121517b8\" y=\"188.006254\"/>\r\n     <use style=\"fill:#e24a33;stroke:#e24a33;stroke-width:0.5;\" x=\"54.868182\" xlink:href=\"#m34121517b8\" y=\"205.677911\"/>\r\n     <use style=\"fill:#e24a33;stroke:#e24a33;stroke-width:0.5;\" x=\"54.868182\" xlink:href=\"#m34121517b8\" y=\"208.621233\"/>\r\n     <use style=\"fill:#e24a33;stroke:#e24a33;stroke-width:0.5;\" x=\"54.868182\" xlink:href=\"#m34121517b8\" y=\"214.601687\"/>\r\n     <use style=\"fill:#e24a33;stroke:#e24a33;stroke-width:0.5;\" x=\"54.868182\" xlink:href=\"#m34121517b8\" y=\"203.220396\"/>\r\n     <use style=\"fill:#e24a33;stroke:#e24a33;stroke-width:0.5;\" x=\"54.868182\" xlink:href=\"#m34121517b8\" y=\"210.860413\"/>\r\n     <use style=\"fill:#e24a33;stroke:#e24a33;stroke-width:0.5;\" x=\"54.868182\" xlink:href=\"#m34121517b8\" y=\"187.783453\"/>\r\n     <use style=\"fill:#e24a33;stroke:#e24a33;stroke-width:0.5;\" x=\"54.868182\" xlink:href=\"#m34121517b8\" y=\"214.154409\"/>\r\n     <use style=\"fill:#e24a33;stroke:#e24a33;stroke-width:0.5;\" x=\"54.868182\" xlink:href=\"#m34121517b8\" y=\"208.436961\"/>\r\n     <use style=\"fill:#e24a33;stroke:#e24a33;stroke-width:0.5;\" x=\"54.868182\" xlink:href=\"#m34121517b8\" y=\"212.594801\"/>\r\n     <use style=\"fill:#e24a33;stroke:#e24a33;stroke-width:0.5;\" x=\"54.868182\" xlink:href=\"#m34121517b8\" y=\"189.941107\"/>\r\n     <use style=\"fill:#e24a33;stroke:#e24a33;stroke-width:0.5;\" x=\"54.868182\" xlink:href=\"#m34121517b8\" y=\"214.511785\"/>\r\n     <use style=\"fill:#e24a33;stroke:#e24a33;stroke-width:0.5;\" x=\"54.868182\" xlink:href=\"#m34121517b8\" y=\"195.935522\"/>\r\n     <use style=\"fill:#e24a33;stroke:#e24a33;stroke-width:0.5;\" x=\"54.868182\" xlink:href=\"#m34121517b8\" y=\"206.296059\"/>\r\n     <use style=\"fill:#e24a33;stroke:#e24a33;stroke-width:0.5;\" x=\"54.868182\" xlink:href=\"#m34121517b8\" y=\"208.361577\"/>\r\n     <use style=\"fill:#e24a33;stroke:#e24a33;stroke-width:0.5;\" x=\"54.868182\" xlink:href=\"#m34121517b8\" y=\"202.764743\"/>\r\n     <use style=\"fill:#e24a33;stroke:#e24a33;stroke-width:0.5;\" x=\"54.868182\" xlink:href=\"#m34121517b8\" y=\"196.352087\"/>\r\n     <use style=\"fill:#e24a33;stroke:#e24a33;stroke-width:0.5;\" x=\"54.868182\" xlink:href=\"#m34121517b8\" y=\"212.856131\"/>\r\n     <use style=\"fill:#e24a33;stroke:#e24a33;stroke-width:0.5;\" x=\"54.868182\" xlink:href=\"#m34121517b8\" y=\"210.486286\"/>\r\n     <use style=\"fill:#e24a33;stroke:#e24a33;stroke-width:0.5;\" x=\"54.868182\" xlink:href=\"#m34121517b8\" y=\"213.04152\"/>\r\n     <use style=\"fill:#e24a33;stroke:#e24a33;stroke-width:0.5;\" x=\"54.868182\" xlink:href=\"#m34121517b8\" y=\"203.372281\"/>\r\n     <use style=\"fill:#e24a33;stroke:#e24a33;stroke-width:0.5;\" x=\"54.868182\" xlink:href=\"#m34121517b8\" y=\"207.870744\"/>\r\n     <use style=\"fill:#e24a33;stroke:#e24a33;stroke-width:0.5;\" x=\"54.868182\" xlink:href=\"#m34121517b8\" y=\"213.696522\"/>\r\n     <use style=\"fill:#e24a33;stroke:#e24a33;stroke-width:0.5;\" x=\"54.868182\" xlink:href=\"#m34121517b8\" y=\"212.152549\"/>\r\n     <use style=\"fill:#e24a33;stroke:#e24a33;stroke-width:0.5;\" x=\"54.868182\" xlink:href=\"#m34121517b8\" y=\"188.768469\"/>\r\n     <use style=\"fill:#e24a33;stroke:#e24a33;stroke-width:0.5;\" x=\"54.868182\" xlink:href=\"#m34121517b8\" y=\"199.882286\"/>\r\n     <use style=\"fill:#e24a33;stroke:#e24a33;stroke-width:0.5;\" x=\"54.868182\" xlink:href=\"#m34121517b8\" y=\"213.238076\"/>\r\n     <use style=\"fill:#e24a33;stroke:#e24a33;stroke-width:0.5;\" x=\"54.868182\" xlink:href=\"#m34121517b8\" y=\"214.005317\"/>\r\n     <use style=\"fill:#e24a33;stroke:#e24a33;stroke-width:0.5;\" x=\"54.868182\" xlink:href=\"#m34121517b8\" y=\"203.751992\"/>\r\n     <use style=\"fill:#e24a33;stroke:#e24a33;stroke-width:0.5;\" x=\"54.868182\" xlink:href=\"#m34121517b8\" y=\"213.989682\"/>\r\n     <use style=\"fill:#e24a33;stroke:#e24a33;stroke-width:0.5;\" x=\"54.868182\" xlink:href=\"#m34121517b8\" y=\"214.725093\"/>\r\n     <use style=\"fill:#e24a33;stroke:#e24a33;stroke-width:0.5;\" x=\"54.868182\" xlink:href=\"#m34121517b8\" y=\"214.110296\"/>\r\n     <use style=\"fill:#e24a33;stroke:#e24a33;stroke-width:0.5;\" x=\"54.868182\" xlink:href=\"#m34121517b8\" y=\"213.124163\"/>\r\n     <use style=\"fill:#e24a33;stroke:#e24a33;stroke-width:0.5;\" x=\"54.868182\" xlink:href=\"#m34121517b8\" y=\"214.693823\"/>\r\n     <use style=\"fill:#e24a33;stroke:#e24a33;stroke-width:0.5;\" x=\"54.868182\" xlink:href=\"#m34121517b8\" y=\"207.786984\"/>\r\n     <use style=\"fill:#e24a33;stroke:#e24a33;stroke-width:0.5;\" x=\"54.868182\" xlink:href=\"#m34121517b8\" y=\"208.294569\"/>\r\n     <use style=\"fill:#e24a33;stroke:#e24a33;stroke-width:0.5;\" x=\"54.868182\" xlink:href=\"#m34121517b8\" y=\"176.155908\"/>\r\n     <use style=\"fill:#e24a33;stroke:#e24a33;stroke-width:0.5;\" x=\"54.868182\" xlink:href=\"#m34121517b8\" y=\"212.725466\"/>\r\n     <use style=\"fill:#e24a33;stroke:#e24a33;stroke-width:0.5;\" x=\"54.868182\" xlink:href=\"#m34121517b8\" y=\"193.652786\"/>\r\n     <use style=\"fill:#e24a33;stroke:#e24a33;stroke-width:0.5;\" x=\"54.868182\" xlink:href=\"#m34121517b8\" y=\"209.572745\"/>\r\n     <use style=\"fill:#e24a33;stroke:#e24a33;stroke-width:0.5;\" x=\"54.868182\" xlink:href=\"#m34121517b8\" y=\"208.138776\"/>\r\n     <use style=\"fill:#e24a33;stroke:#e24a33;stroke-width:0.5;\" x=\"54.868182\" xlink:href=\"#m34121517b8\" y=\"204.281355\"/>\r\n     <use style=\"fill:#e24a33;stroke:#e24a33;stroke-width:0.5;\" x=\"54.868182\" xlink:href=\"#m34121517b8\" y=\"183.354231\"/>\r\n     <use style=\"fill:#e24a33;stroke:#e24a33;stroke-width:0.5;\" x=\"54.868182\" xlink:href=\"#m34121517b8\" y=\"213.147057\"/>\r\n     <use style=\"fill:#e24a33;stroke:#e24a33;stroke-width:0.5;\" x=\"54.868182\" xlink:href=\"#m34121517b8\" y=\"198.318769\"/>\r\n     <use style=\"fill:#e24a33;stroke:#e24a33;stroke-width:0.5;\" x=\"54.868182\" xlink:href=\"#m34121517b8\" y=\"214.159435\"/>\r\n     <use style=\"fill:#e24a33;stroke:#e24a33;stroke-width:0.5;\" x=\"65.013636\" xlink:href=\"#m34121517b8\" y=\"214.325838\"/>\r\n     <use style=\"fill:#e24a33;stroke:#e24a33;stroke-width:0.5;\" x=\"65.013636\" xlink:href=\"#m34121517b8\" y=\"208.035472\"/>\r\n     <use style=\"fill:#e24a33;stroke:#e24a33;stroke-width:0.5;\" x=\"65.013636\" xlink:href=\"#m34121517b8\" y=\"183.833338\"/>\r\n     <use style=\"fill:#e24a33;stroke:#e24a33;stroke-width:0.5;\" x=\"65.013636\" xlink:href=\"#m34121517b8\" y=\"198.52426\"/>\r\n     <use style=\"fill:#e24a33;stroke:#e24a33;stroke-width:0.5;\" x=\"65.013636\" xlink:href=\"#m34121517b8\" y=\"207.776933\"/>\r\n     <use style=\"fill:#e24a33;stroke:#e24a33;stroke-width:0.5;\" x=\"65.013636\" xlink:href=\"#m34121517b8\" y=\"211.814159\"/>\r\n     <use style=\"fill:#e24a33;stroke:#e24a33;stroke-width:0.5;\" x=\"65.013636\" xlink:href=\"#m34121517b8\" y=\"213.555247\"/>\r\n     <use style=\"fill:#e24a33;stroke:#e24a33;stroke-width:0.5;\" x=\"65.013636\" xlink:href=\"#m34121517b8\" y=\"192.384103\"/>\r\n     <use style=\"fill:#e24a33;stroke:#e24a33;stroke-width:0.5;\" x=\"65.013636\" xlink:href=\"#m34121517b8\" y=\"207.981307\"/>\r\n     <use style=\"fill:#e24a33;stroke:#e24a33;stroke-width:0.5;\" x=\"65.013636\" xlink:href=\"#m34121517b8\" y=\"212.779631\"/>\r\n     <use style=\"fill:#e24a33;stroke:#e24a33;stroke-width:0.5;\" x=\"65.013636\" xlink:href=\"#m34121517b8\" y=\"204.682285\"/>\r\n     <use style=\"fill:#e24a33;stroke:#e24a33;stroke-width:0.5;\" x=\"65.013636\" xlink:href=\"#m34121517b8\" y=\"199.750504\"/>\r\n     <use style=\"fill:#e24a33;stroke:#e24a33;stroke-width:0.5;\" x=\"65.013636\" xlink:href=\"#m34121517b8\" y=\"199.326121\"/>\r\n     <use style=\"fill:#e24a33;stroke:#e24a33;stroke-width:0.5;\" x=\"65.013636\" xlink:href=\"#m34121517b8\" y=\"198.111045\"/>\r\n     <use style=\"fill:#e24a33;stroke:#e24a33;stroke-width:0.5;\" x=\"65.013636\" xlink:href=\"#m34121517b8\" y=\"214.239286\"/>\r\n     <use style=\"fill:#e24a33;stroke:#e24a33;stroke-width:0.5;\" x=\"65.013636\" xlink:href=\"#m34121517b8\" y=\"193.629892\"/>\r\n     <use style=\"fill:#e24a33;stroke:#e24a33;stroke-width:0.5;\" x=\"65.013636\" xlink:href=\"#m34121517b8\" y=\"207.472047\"/>\r\n     <use style=\"fill:#e24a33;stroke:#e24a33;stroke-width:0.5;\" x=\"65.013636\" xlink:href=\"#m34121517b8\" y=\"212.188286\"/>\r\n     <use style=\"fill:#e24a33;stroke:#e24a33;stroke-width:0.5;\" x=\"65.013636\" xlink:href=\"#m34121517b8\" y=\"210.32435\"/>\r\n     <use style=\"fill:#e24a33;stroke:#e24a33;stroke-width:0.5;\" x=\"65.013636\" xlink:href=\"#m34121517b8\" y=\"174.673359\"/>\r\n     <use style=\"fill:#e24a33;stroke:#e24a33;stroke-width:0.5;\" x=\"65.013636\" xlink:href=\"#m34121517b8\" y=\"212.923139\"/>\r\n     <use style=\"fill:#e24a33;stroke:#e24a33;stroke-width:0.5;\" x=\"65.013636\" xlink:href=\"#m34121517b8\" y=\"207.963438\"/>\r\n     <use style=\"fill:#e24a33;stroke:#e24a33;stroke-width:0.5;\" x=\"65.013636\" xlink:href=\"#m34121517b8\" y=\"211.642172\"/>\r\n     <use style=\"fill:#e24a33;stroke:#e24a33;stroke-width:0.5;\" x=\"65.013636\" xlink:href=\"#m34121517b8\" y=\"204.346129\"/>\r\n     <use style=\"fill:#e24a33;stroke:#e24a33;stroke-width:0.5;\" x=\"65.013636\" xlink:href=\"#m34121517b8\" y=\"212.79024\"/>\r\n     <use style=\"fill:#e24a33;stroke:#e24a33;stroke-width:0.5;\" x=\"65.013636\" xlink:href=\"#m34121517b8\" y=\"206.397129\"/>\r\n     <use style=\"fill:#e24a33;stroke:#e24a33;stroke-width:0.5;\" x=\"65.013636\" xlink:href=\"#m34121517b8\" y=\"207.950037\"/>\r\n     <use style=\"fill:#e24a33;stroke:#e24a33;stroke-width:0.5;\" x=\"65.013636\" xlink:href=\"#m34121517b8\" y=\"213.31346\"/>\r\n     <use style=\"fill:#e24a33;stroke:#e24a33;stroke-width:0.5;\" x=\"65.013636\" xlink:href=\"#m34121517b8\" y=\"214.209133\"/>\r\n     <use style=\"fill:#e24a33;stroke:#e24a33;stroke-width:0.5;\" x=\"65.013636\" xlink:href=\"#m34121517b8\" y=\"206.326212\"/>\r\n     <use style=\"fill:#e24a33;stroke:#e24a33;stroke-width:0.5;\" x=\"65.013636\" xlink:href=\"#m34121517b8\" y=\"179.461073\"/>\r\n     <use style=\"fill:#e24a33;stroke:#e24a33;stroke-width:0.5;\" x=\"65.013636\" xlink:href=\"#m34121517b8\" y=\"205.542778\"/>\r\n     <use style=\"fill:#e24a33;stroke:#e24a33;stroke-width:0.5;\" x=\"65.013636\" xlink:href=\"#m34121517b8\" y=\"212.658458\"/>\r\n     <use style=\"fill:#e24a33;stroke:#e24a33;stroke-width:0.5;\" x=\"65.013636\" xlink:href=\"#m34121517b8\" y=\"214.473255\"/>\r\n     <use style=\"fill:#e24a33;stroke:#e24a33;stroke-width:0.5;\" x=\"65.013636\" xlink:href=\"#m34121517b8\" y=\"214.582702\"/>\r\n     <use style=\"fill:#e24a33;stroke:#e24a33;stroke-width:0.5;\" x=\"65.013636\" xlink:href=\"#m34121517b8\" y=\"210.381307\"/>\r\n     <use style=\"fill:#e24a33;stroke:#e24a33;stroke-width:0.5;\" x=\"65.013636\" xlink:href=\"#m34121517b8\" y=\"213.674745\"/>\r\n     <use style=\"fill:#e24a33;stroke:#e24a33;stroke-width:0.5;\" x=\"65.013636\" xlink:href=\"#m34121517b8\" y=\"205.529935\"/>\r\n     <use style=\"fill:#e24a33;stroke:#e24a33;stroke-width:0.5;\" x=\"65.013636\" xlink:href=\"#m34121517b8\" y=\"206.610996\"/>\r\n     <use style=\"fill:#e24a33;stroke:#e24a33;stroke-width:0.5;\" x=\"65.013636\" xlink:href=\"#m34121517b8\" y=\"213.053805\"/>\r\n     <use style=\"fill:#e24a33;stroke:#e24a33;stroke-width:0.5;\" x=\"65.013636\" xlink:href=\"#m34121517b8\" y=\"208.180656\"/>\r\n     <use style=\"fill:#e24a33;stroke:#e24a33;stroke-width:0.5;\" x=\"65.013636\" xlink:href=\"#m34121517b8\" y=\"211.23119\"/>\r\n     <use style=\"fill:#e24a33;stroke:#e24a33;stroke-width:0.5;\" x=\"65.013636\" xlink:href=\"#m34121517b8\" y=\"213.737285\"/>\r\n     <use style=\"fill:#e24a33;stroke:#e24a33;stroke-width:0.5;\" x=\"65.013636\" xlink:href=\"#m34121517b8\" y=\"214.163344\"/>\r\n     <use style=\"fill:#e24a33;stroke:#e24a33;stroke-width:0.5;\" x=\"65.013636\" xlink:href=\"#m34121517b8\" y=\"213.859575\"/>\r\n     <use style=\"fill:#e24a33;stroke:#e24a33;stroke-width:0.5;\" x=\"65.013636\" xlink:href=\"#m34121517b8\" y=\"213.035936\"/>\r\n     <use style=\"fill:#e24a33;stroke:#e24a33;stroke-width:0.5;\" x=\"65.013636\" xlink:href=\"#m34121517b8\" y=\"214.445335\"/>\r\n     <use style=\"fill:#e24a33;stroke:#e24a33;stroke-width:0.5;\" x=\"65.013636\" xlink:href=\"#m34121517b8\" y=\"175.142414\"/>\r\n     <use style=\"fill:#e24a33;stroke:#e24a33;stroke-width:0.5;\" x=\"65.013636\" xlink:href=\"#m34121517b8\" y=\"208.926119\"/>\r\n     <use style=\"fill:#e24a33;stroke:#e24a33;stroke-width:0.5;\" x=\"65.013636\" xlink:href=\"#m34121517b8\" y=\"198.209323\"/>\r\n     <use style=\"fill:#e24a33;stroke:#e24a33;stroke-width:0.5;\" x=\"65.013636\" xlink:href=\"#m34121517b8\" y=\"184.216958\"/>\r\n     <use style=\"fill:#e24a33;stroke:#e24a33;stroke-width:0.5;\" x=\"65.013636\" xlink:href=\"#m34121517b8\" y=\"205.34678\"/>\r\n     <use style=\"fill:#e24a33;stroke:#e24a33;stroke-width:0.5;\" x=\"65.013636\" xlink:href=\"#m34121517b8\" y=\"214.323604\"/>\r\n     <use style=\"fill:#e24a33;stroke:#e24a33;stroke-width:0.5;\" x=\"65.013636\" xlink:href=\"#m34121517b8\" y=\"214.65641\"/>\r\n     <use style=\"fill:#e24a33;stroke:#e24a33;stroke-width:0.5;\" x=\"65.013636\" xlink:href=\"#m34121517b8\" y=\"212.402711\"/>\r\n     <use style=\"fill:#e24a33;stroke:#e24a33;stroke-width:0.5;\" x=\"65.013636\" xlink:href=\"#m34121517b8\" y=\"212.021883\"/>\r\n     <use style=\"fill:#e24a33;stroke:#e24a33;stroke-width:0.5;\" x=\"65.013636\" xlink:href=\"#m34121517b8\" y=\"214.612297\"/>\r\n     <use style=\"fill:#e24a33;stroke:#e24a33;stroke-width:0.5;\" x=\"65.013636\" xlink:href=\"#m34121517b8\" y=\"214.335889\"/>\r\n     <use style=\"fill:#e24a33;stroke:#e24a33;stroke-width:0.5;\" x=\"65.013636\" xlink:href=\"#m34121517b8\" y=\"196.264977\"/>\r\n     <use style=\"fill:#e24a33;stroke:#e24a33;stroke-width:0.5;\" x=\"65.013636\" xlink:href=\"#m34121517b8\" y=\"212.946592\"/>\r\n     <use style=\"fill:#e24a33;stroke:#e24a33;stroke-width:0.5;\" x=\"65.013636\" xlink:href=\"#m34121517b8\" y=\"213.851199\"/>\r\n     <use style=\"fill:#e24a33;stroke:#e24a33;stroke-width:0.5;\" x=\"65.013636\" xlink:href=\"#m34121517b8\" y=\"196.359905\"/>\r\n     <use style=\"fill:#e24a33;stroke:#e24a33;stroke-width:0.5;\" x=\"65.013636\" xlink:href=\"#m34121517b8\" y=\"213.429049\"/>\r\n     <use style=\"fill:#e24a33;stroke:#e24a33;stroke-width:0.5;\" x=\"65.013636\" xlink:href=\"#m34121517b8\" y=\"192.122214\"/>\r\n     <use style=\"fill:#e24a33;stroke:#e24a33;stroke-width:0.5;\" x=\"65.013636\" xlink:href=\"#m34121517b8\" y=\"214.606154\"/>\r\n     <use style=\"fill:#e24a33;stroke:#e24a33;stroke-width:0.5;\" x=\"65.013636\" xlink:href=\"#m34121517b8\" y=\"211.432214\"/>\r\n     <use style=\"fill:#e24a33;stroke:#e24a33;stroke-width:0.5;\" x=\"65.013636\" xlink:href=\"#m34121517b8\" y=\"213.009133\"/>\r\n     <use style=\"fill:#e24a33;stroke:#e24a33;stroke-width:0.5;\" x=\"65.013636\" xlink:href=\"#m34121517b8\" y=\"213.134214\"/>\r\n     <use style=\"fill:#e24a33;stroke:#e24a33;stroke-width:0.5;\" x=\"65.013636\" xlink:href=\"#m34121517b8\" y=\"211.727048\"/>\r\n     <use style=\"fill:#e24a33;stroke:#e24a33;stroke-width:0.5;\" x=\"65.013636\" xlink:href=\"#m34121517b8\" y=\"210.38019\"/>\r\n     <use style=\"fill:#e24a33;stroke:#e24a33;stroke-width:0.5;\" x=\"65.013636\" xlink:href=\"#m34121517b8\" y=\"208.400107\"/>\r\n     <use style=\"fill:#e24a33;stroke:#e24a33;stroke-width:0.5;\" x=\"65.013636\" xlink:href=\"#m34121517b8\" y=\"211.353479\"/>\r\n     <use style=\"fill:#e24a33;stroke:#e24a33;stroke-width:0.5;\" x=\"65.013636\" xlink:href=\"#m34121517b8\" y=\"201.955064\"/>\r\n     <use style=\"fill:#e24a33;stroke:#e24a33;stroke-width:0.5;\" x=\"65.013636\" xlink:href=\"#m34121517b8\" y=\"187.637711\"/>\r\n     <use style=\"fill:#e24a33;stroke:#e24a33;stroke-width:0.5;\" x=\"65.013636\" xlink:href=\"#m34121517b8\" y=\"214.243195\"/>\r\n     <use style=\"fill:#e24a33;stroke:#e24a33;stroke-width:0.5;\" x=\"65.013636\" xlink:href=\"#m34121517b8\" y=\"201.553017\"/>\r\n     <use style=\"fill:#e24a33;stroke:#e24a33;stroke-width:0.5;\" x=\"65.013636\" xlink:href=\"#m34121517b8\" y=\"205.646082\"/>\r\n     <use style=\"fill:#e24a33;stroke:#e24a33;stroke-width:0.5;\" x=\"65.013636\" xlink:href=\"#m34121517b8\" y=\"214.607829\"/>\r\n     <use style=\"fill:#e24a33;stroke:#e24a33;stroke-width:0.5;\" x=\"65.013636\" xlink:href=\"#m34121517b8\" y=\"196.096341\"/>\r\n     <use style=\"fill:#e24a33;stroke:#e24a33;stroke-width:0.5;\" x=\"65.013636\" xlink:href=\"#m34121517b8\" y=\"214.335331\"/>\r\n     <use style=\"fill:#e24a33;stroke:#e24a33;stroke-width:0.5;\" x=\"65.013636\" xlink:href=\"#m34121517b8\" y=\"185.143342\"/>\r\n     <use style=\"fill:#e24a33;stroke:#e24a33;stroke-width:0.5;\" x=\"65.013636\" xlink:href=\"#m34121517b8\" y=\"199.37526\"/>\r\n     <use style=\"fill:#e24a33;stroke:#e24a33;stroke-width:0.5;\" x=\"65.013636\" xlink:href=\"#m34121517b8\" y=\"201.783077\"/>\r\n     <use style=\"fill:#e24a33;stroke:#e24a33;stroke-width:0.5;\" x=\"65.013636\" xlink:href=\"#m34121517b8\" y=\"195.593781\"/>\r\n     <use style=\"fill:#e24a33;stroke:#e24a33;stroke-width:0.5;\" x=\"65.013636\" xlink:href=\"#m34121517b8\" y=\"205.682378\"/>\r\n     <use style=\"fill:#e24a33;stroke:#e24a33;stroke-width:0.5;\" x=\"65.013636\" xlink:href=\"#m34121517b8\" y=\"214.536913\"/>\r\n     <use style=\"fill:#e24a33;stroke:#e24a33;stroke-width:0.5;\" x=\"65.013636\" xlink:href=\"#m34121517b8\" y=\"206.243011\"/>\r\n     <use style=\"fill:#e24a33;stroke:#e24a33;stroke-width:0.5;\" x=\"65.013636\" xlink:href=\"#m34121517b8\" y=\"207.460321\"/>\r\n     <use style=\"fill:#e24a33;stroke:#e24a33;stroke-width:0.5;\" x=\"65.013636\" xlink:href=\"#m34121517b8\" y=\"198.776656\"/>\r\n     <use style=\"fill:#e24a33;stroke:#e24a33;stroke-width:0.5;\" x=\"65.013636\" xlink:href=\"#m34121517b8\" y=\"213.813228\"/>\r\n     <use style=\"fill:#e24a33;stroke:#e24a33;stroke-width:0.5;\" x=\"65.013636\" xlink:href=\"#m34121517b8\" y=\"212.693637\"/>\r\n     <use style=\"fill:#e24a33;stroke:#e24a33;stroke-width:0.5;\" x=\"65.013636\" xlink:href=\"#m34121517b8\" y=\"189.20402\"/>\r\n     <use style=\"fill:#e24a33;stroke:#e24a33;stroke-width:0.5;\" x=\"65.013636\" xlink:href=\"#m34121517b8\" y=\"212.687495\"/>\r\n     <use style=\"fill:#e24a33;stroke:#e24a33;stroke-width:0.5;\" x=\"65.013636\" xlink:href=\"#m34121517b8\" y=\"210.143987\"/>\r\n     <use style=\"fill:#e24a33;stroke:#e24a33;stroke-width:0.5;\" x=\"65.013636\" xlink:href=\"#m34121517b8\" y=\"213.726676\"/>\r\n     <use style=\"fill:#e24a33;stroke:#e24a33;stroke-width:0.5;\" x=\"65.013636\" xlink:href=\"#m34121517b8\" y=\"210.764368\"/>\r\n     <use style=\"fill:#e24a33;stroke:#e24a33;stroke-width:0.5;\" x=\"65.013636\" xlink:href=\"#m34121517b8\" y=\"198.07084\"/>\r\n     <use style=\"fill:#e24a33;stroke:#e24a33;stroke-width:0.5;\" x=\"65.013636\" xlink:href=\"#m34121517b8\" y=\"204.030633\"/>\r\n     <use style=\"fill:#e24a33;stroke:#e24a33;stroke-width:0.5;\" x=\"65.013636\" xlink:href=\"#m34121517b8\" y=\"198.066373\"/>\r\n     <use style=\"fill:#e24a33;stroke:#e24a33;stroke-width:0.5;\" x=\"65.013636\" xlink:href=\"#m34121517b8\" y=\"209.764834\"/>\r\n     <use style=\"fill:#e24a33;stroke:#e24a33;stroke-width:0.5;\" x=\"65.013636\" xlink:href=\"#m34121517b8\" y=\"208.380004\"/>\r\n     <use style=\"fill:#e24a33;stroke:#e24a33;stroke-width:0.5;\" x=\"65.013636\" xlink:href=\"#m34121517b8\" y=\"207.164928\"/>\r\n     <use style=\"fill:#e24a33;stroke:#e24a33;stroke-width:0.5;\" x=\"65.013636\" xlink:href=\"#m34121517b8\" y=\"203.944082\"/>\r\n     <use style=\"fill:#e24a33;stroke:#e24a33;stroke-width:0.5;\" x=\"65.013636\" xlink:href=\"#m34121517b8\" y=\"191.351623\"/>\r\n     <use style=\"fill:#e24a33;stroke:#e24a33;stroke-width:0.5;\" x=\"65.013636\" xlink:href=\"#m34121517b8\" y=\"206.482006\"/>\r\n     <use style=\"fill:#e24a33;stroke:#e24a33;stroke-width:0.5;\" x=\"65.013636\" xlink:href=\"#m34121517b8\" y=\"212.628305\"/>\r\n     <use style=\"fill:#e24a33;stroke:#e24a33;stroke-width:0.5;\" x=\"65.013636\" xlink:href=\"#m34121517b8\" y=\"208.844592\"/>\r\n     <use style=\"fill:#e24a33;stroke:#e24a33;stroke-width:0.5;\" x=\"65.013636\" xlink:href=\"#m34121517b8\" y=\"203.597874\"/>\r\n     <use style=\"fill:#e24a33;stroke:#e24a33;stroke-width:0.5;\" x=\"65.013636\" xlink:href=\"#m34121517b8\" y=\"214.655293\"/>\r\n     <use style=\"fill:#e24a33;stroke:#e24a33;stroke-width:0.5;\" x=\"65.013636\" xlink:href=\"#m34121517b8\" y=\"210.775536\"/>\r\n     <use style=\"fill:#e24a33;stroke:#e24a33;stroke-width:0.5;\" x=\"65.013636\" xlink:href=\"#m34121517b8\" y=\"183.29895\"/>\r\n     <use style=\"fill:#e24a33;stroke:#e24a33;stroke-width:0.5;\" x=\"65.013636\" xlink:href=\"#m34121517b8\" y=\"212.78354\"/>\r\n     <use style=\"fill:#e24a33;stroke:#e24a33;stroke-width:0.5;\" x=\"65.013636\" xlink:href=\"#m34121517b8\" y=\"212.595359\"/>\r\n     <use style=\"fill:#e24a33;stroke:#e24a33;stroke-width:0.5;\" x=\"65.013636\" xlink:href=\"#m34121517b8\" y=\"199.096061\"/>\r\n     <use style=\"fill:#e24a33;stroke:#e24a33;stroke-width:0.5;\" x=\"65.013636\" xlink:href=\"#m34121517b8\" y=\"212.525559\"/>\r\n     <use style=\"fill:#e24a33;stroke:#e24a33;stroke-width:0.5;\" x=\"65.013636\" xlink:href=\"#m34121517b8\" y=\"210.456132\"/>\r\n     <use style=\"fill:#e24a33;stroke:#e24a33;stroke-width:0.5;\" x=\"65.013636\" xlink:href=\"#m34121517b8\" y=\"185.111513\"/>\r\n     <use style=\"fill:#e24a33;stroke:#e24a33;stroke-width:0.5;\" x=\"65.013636\" xlink:href=\"#m34121517b8\" y=\"212.957202\"/>\r\n     <use style=\"fill:#e24a33;stroke:#e24a33;stroke-width:0.5;\" x=\"65.013636\" xlink:href=\"#m34121517b8\" y=\"210.700711\"/>\r\n     <use style=\"fill:#e24a33;stroke:#e24a33;stroke-width:0.5;\" x=\"65.013636\" xlink:href=\"#m34121517b8\" y=\"214.159435\"/>\r\n     <use style=\"fill:#e24a33;stroke:#e24a33;stroke-width:0.5;\" x=\"65.013636\" xlink:href=\"#m34121517b8\" y=\"213.829421\"/>\r\n     <use style=\"fill:#e24a33;stroke:#e24a33;stroke-width:0.5;\" x=\"65.013636\" xlink:href=\"#m34121517b8\" y=\"210.169115\"/>\r\n     <use style=\"fill:#e24a33;stroke:#e24a33;stroke-width:0.5;\" x=\"75.159091\" xlink:href=\"#m34121517b8\" y=\"204.667208\"/>\r\n     <use style=\"fill:#e24a33;stroke:#e24a33;stroke-width:0.5;\" x=\"75.159091\" xlink:href=\"#m34121517b8\" y=\"204.94585\"/>\r\n     <use style=\"fill:#e24a33;stroke:#e24a33;stroke-width:0.5;\" x=\"75.159091\" xlink:href=\"#m34121517b8\" y=\"186.877171\"/>\r\n     <use style=\"fill:#e24a33;stroke:#e24a33;stroke-width:0.5;\" x=\"75.159091\" xlink:href=\"#m34121517b8\" y=\"195.72668\"/>\r\n     <use style=\"fill:#e24a33;stroke:#e24a33;stroke-width:0.5;\" x=\"75.159091\" xlink:href=\"#m34121517b8\" y=\"209.576095\"/>\r\n     <use style=\"fill:#e24a33;stroke:#e24a33;stroke-width:0.5;\" x=\"75.159091\" xlink:href=\"#m34121517b8\" y=\"212.64394\"/>\r\n     <use style=\"fill:#e24a33;stroke:#e24a33;stroke-width:0.5;\" x=\"75.159091\" xlink:href=\"#m34121517b8\" y=\"193.824215\"/>\r\n     <use style=\"fill:#e24a33;stroke:#e24a33;stroke-width:0.5;\" x=\"75.159091\" xlink:href=\"#m34121517b8\" y=\"208.604481\"/>\r\n     <use style=\"fill:#e24a33;stroke:#e24a33;stroke-width:0.5;\" x=\"75.159091\" xlink:href=\"#m34121517b8\" y=\"207.182796\"/>\r\n     <use style=\"fill:#e24a33;stroke:#e24a33;stroke-width:0.5;\" x=\"75.159091\" xlink:href=\"#m34121517b8\" y=\"187.940921\"/>\r\n    </g>\r\n   </g>\r\n   <g id=\"patch_3\">\r\n    <path d=\"M 39.65 224.64 \r\nL 39.65 7.2 \r\n\" style=\"fill:none;stroke:#ffffff;stroke-linecap:square;stroke-linejoin:miter;\"/>\r\n   </g>\r\n   <g id=\"patch_4\">\r\n    <path d=\"M 374.45 224.64 \r\nL 374.45 7.2 \r\n\" style=\"fill:none;stroke:#ffffff;stroke-linecap:square;stroke-linejoin:miter;\"/>\r\n   </g>\r\n   <g id=\"patch_5\">\r\n    <path d=\"M 39.65 224.64 \r\nL 374.45 224.64 \r\n\" style=\"fill:none;stroke:#ffffff;stroke-linecap:square;stroke-linejoin:miter;\"/>\r\n   </g>\r\n   <g id=\"patch_6\">\r\n    <path d=\"M 39.65 7.2 \r\nL 374.45 7.2 \r\n\" style=\"fill:none;stroke:#ffffff;stroke-linecap:square;stroke-linejoin:miter;\"/>\r\n   </g>\r\n  </g>\r\n </g>\r\n <defs>\r\n  <clipPath id=\"p21f77ac106\">\r\n   <rect height=\"217.44\" width=\"334.8\" x=\"39.65\" y=\"7.2\"/>\r\n  </clipPath>\r\n </defs>\r\n</svg>\r\n",
            "image/png": "[encoded data removed]"
          },
          "metadata": {}
        }
      ],
      "metadata": {
        "id": "bmET28xDacQb",
        "colab_type": "code",
        "colab": {
          "base_uri": "https://localhost:8080/",
          "height": 430
        },
        "outputId": "8e7cd981-3d01-44b5-895b-16b27f431b8a"
      }
    },
    {
      "cell_type": "code",
      "execution_count": null,
      "source": [
        "#Salvando em png\r\n",
        "df_2019.groupby(df_2019[\"mes_venda\"])[\"Qtde\"].sum().plot(marker = \"v\")\r\n",
        "plt.title(\"Quantidade de produtos vendidos x mês\")\r\n",
        "plt.xlabel(\"Mês\")\r\n",
        "plt.ylabel(\"Total Produtos Vendidos\")\r\n",
        "plt.legend()\r\n",
        "plt.savefig(\"grafico QTDE x MES.png\")"
      ],
      "outputs": [
        {
          "output_type": "display_data",
          "data": {
            "text/plain": [
              "<Figure size 432x288 with 1 Axes>"
            ],
            "image/svg+xml": "<?xml version=\"1.0\" encoding=\"utf-8\" standalone=\"no\"?>\r\n<!DOCTYPE svg PUBLIC \"-//W3C//DTD SVG 1.1//EN\"\r\n  \"http://www.w3.org/Graphics/SVG/1.1/DTD/svg11.dtd\">\r\n<!-- Created with matplotlib (https://matplotlib.org/) -->\r\n<svg height=\"281.649625pt\" version=\"1.1\" viewBox=\"0 0 397.26375 281.649625\" width=\"397.26375pt\" xmlns=\"http://www.w3.org/2000/svg\" xmlns:xlink=\"http://www.w3.org/1999/xlink\">\r\n <defs>\r\n  <style type=\"text/css\">\r\n*{stroke-linecap:butt;stroke-linejoin:round;}\r\n  </style>\r\n </defs>\r\n <g id=\"figure_1\">\r\n  <g id=\"patch_1\">\r\n   <path d=\"M 0 281.649625 \r\nL 397.26375 281.649625 \r\nL 397.26375 0 \r\nL 0 0 \r\nz\r\n\" style=\"fill:#ffffff;\"/>\r\n  </g>\r\n  <g id=\"axes_1\">\r\n   <g id=\"patch_2\">\r\n    <path d=\"M 55.26375 242.15775 \r\nL 390.06375 242.15775 \r\nL 390.06375 24.71775 \r\nL 55.26375 24.71775 \r\nz\r\n\" style=\"fill:#e5e5e5;\"/>\r\n   </g>\r\n   <g id=\"matplotlib.axis_1\">\r\n    <g id=\"xtick_1\">\r\n     <g id=\"line2d_1\">\r\n      <path clip-path=\"url(#pa7a6c9e067)\" d=\"M 70.481932 242.15775 \r\nL 70.481932 24.71775 \r\n\" style=\"fill:none;stroke:#ffffff;stroke-linecap:square;stroke-width:0.8;\"/>\r\n     </g>\r\n     <g id=\"line2d_2\">\r\n      <defs>\r\n       <path d=\"M 0 0 \r\nL 0 3.5 \r\n\" id=\"m7d9c854752\" style=\"stroke:#555555;stroke-width:0.8;\"/>\r\n      </defs>\r\n      <g>\r\n       <use style=\"fill:#555555;stroke:#555555;stroke-width:0.8;\" x=\"70.481932\" xlink:href=\"#m7d9c854752\" y=\"242.15775\"/>\r\n      </g>\r\n     </g>\r\n     <g id=\"text_1\">\r\n      <!-- 1.0 -->\r\n      <defs>\r\n       <path d=\"M 12.40625 8.296875 \r\nL 28.515625 8.296875 \r\nL 28.515625 63.921875 \r\nL 10.984375 60.40625 \r\nL 10.984375 69.390625 \r\nL 28.421875 72.90625 \r\nL 38.28125 72.90625 \r\nL 38.28125 8.296875 \r\nL 54.390625 8.296875 \r\nL 54.390625 0 \r\nL 12.40625 0 \r\nz\r\n\" id=\"DejaVuSans-49\"/>\r\n       <path d=\"M 10.6875 12.40625 \r\nL 21 12.40625 \r\nL 21 0 \r\nL 10.6875 0 \r\nz\r\n\" id=\"DejaVuSans-46\"/>\r\n       <path d=\"M 31.78125 66.40625 \r\nQ 24.171875 66.40625 20.328125 58.90625 \r\nQ 16.5 51.421875 16.5 36.375 \r\nQ 16.5 21.390625 20.328125 13.890625 \r\nQ 24.171875 6.390625 31.78125 6.390625 \r\nQ 39.453125 6.390625 43.28125 13.890625 \r\nQ 47.125 21.390625 47.125 36.375 \r\nQ 47.125 51.421875 43.28125 58.90625 \r\nQ 39.453125 66.40625 31.78125 66.40625 \r\nz\r\nM 31.78125 74.21875 \r\nQ 44.046875 74.21875 50.515625 64.515625 \r\nQ 56.984375 54.828125 56.984375 36.375 \r\nQ 56.984375 17.96875 50.515625 8.265625 \r\nQ 44.046875 -1.421875 31.78125 -1.421875 \r\nQ 19.53125 -1.421875 13.0625 8.265625 \r\nQ 6.59375 17.96875 6.59375 36.375 \r\nQ 6.59375 54.828125 13.0625 64.515625 \r\nQ 19.53125 74.21875 31.78125 74.21875 \r\nz\r\n\" id=\"DejaVuSans-48\"/>\r\n      </defs>\r\n      <g style=\"fill:#555555;\" transform=\"translate(62.530369 256.756187)scale(0.1 -0.1)\">\r\n       <use xlink:href=\"#DejaVuSans-49\"/>\r\n       <use x=\"63.623047\" xlink:href=\"#DejaVuSans-46\"/>\r\n       <use x=\"95.410156\" xlink:href=\"#DejaVuSans-48\"/>\r\n      </g>\r\n     </g>\r\n    </g>\r\n    <g id=\"xtick_2\">\r\n     <g id=\"line2d_3\">\r\n      <path clip-path=\"url(#pa7a6c9e067)\" d=\"M 121.209205 242.15775 \r\nL 121.209205 24.71775 \r\n\" style=\"fill:none;stroke:#ffffff;stroke-linecap:square;stroke-width:0.8;\"/>\r\n     </g>\r\n     <g id=\"line2d_4\">\r\n      <g>\r\n       <use style=\"fill:#555555;stroke:#555555;stroke-width:0.8;\" x=\"121.209205\" xlink:href=\"#m7d9c854752\" y=\"242.15775\"/>\r\n      </g>\r\n     </g>\r\n     <g id=\"text_2\">\r\n      <!-- 1.5 -->\r\n      <defs>\r\n       <path d=\"M 10.796875 72.90625 \r\nL 49.515625 72.90625 \r\nL 49.515625 64.59375 \r\nL 19.828125 64.59375 \r\nL 19.828125 46.734375 \r\nQ 21.96875 47.46875 24.109375 47.828125 \r\nQ 26.265625 48.1875 28.421875 48.1875 \r\nQ 40.625 48.1875 47.75 41.5 \r\nQ 54.890625 34.8125 54.890625 23.390625 \r\nQ 54.890625 11.625 47.5625 5.09375 \r\nQ 40.234375 -1.421875 26.90625 -1.421875 \r\nQ 22.3125 -1.421875 17.546875 -0.640625 \r\nQ 12.796875 0.140625 7.71875 1.703125 \r\nL 7.71875 11.625 \r\nQ 12.109375 9.234375 16.796875 8.0625 \r\nQ 21.484375 6.890625 26.703125 6.890625 \r\nQ 35.15625 6.890625 40.078125 11.328125 \r\nQ 45.015625 15.765625 45.015625 23.390625 \r\nQ 45.015625 31 40.078125 35.4375 \r\nQ 35.15625 39.890625 26.703125 39.890625 \r\nQ 22.75 39.890625 18.8125 39.015625 \r\nQ 14.890625 38.140625 10.796875 36.28125 \r\nz\r\n\" id=\"DejaVuSans-53\"/>\r\n      </defs>\r\n      <g style=\"fill:#555555;\" transform=\"translate(113.257642 256.756187)scale(0.1 -0.1)\">\r\n       <use xlink:href=\"#DejaVuSans-49\"/>\r\n       <use x=\"63.623047\" xlink:href=\"#DejaVuSans-46\"/>\r\n       <use x=\"95.410156\" xlink:href=\"#DejaVuSans-53\"/>\r\n      </g>\r\n     </g>\r\n    </g>\r\n    <g id=\"xtick_3\">\r\n     <g id=\"line2d_5\">\r\n      <path clip-path=\"url(#pa7a6c9e067)\" d=\"M 171.936477 242.15775 \r\nL 171.936477 24.71775 \r\n\" style=\"fill:none;stroke:#ffffff;stroke-linecap:square;stroke-width:0.8;\"/>\r\n     </g>\r\n     <g id=\"line2d_6\">\r\n      <g>\r\n       <use style=\"fill:#555555;stroke:#555555;stroke-width:0.8;\" x=\"171.936477\" xlink:href=\"#m7d9c854752\" y=\"242.15775\"/>\r\n      </g>\r\n     </g>\r\n     <g id=\"text_3\">\r\n      <!-- 2.0 -->\r\n      <defs>\r\n       <path d=\"M 19.1875 8.296875 \r\nL 53.609375 8.296875 \r\nL 53.609375 0 \r\nL 7.328125 0 \r\nL 7.328125 8.296875 \r\nQ 12.9375 14.109375 22.625 23.890625 \r\nQ 32.328125 33.6875 34.8125 36.53125 \r\nQ 39.546875 41.84375 41.421875 45.53125 \r\nQ 43.3125 49.21875 43.3125 52.78125 \r\nQ 43.3125 58.59375 39.234375 62.25 \r\nQ 35.15625 65.921875 28.609375 65.921875 \r\nQ 23.96875 65.921875 18.8125 64.3125 \r\nQ 13.671875 62.703125 7.8125 59.421875 \r\nL 7.8125 69.390625 \r\nQ 13.765625 71.78125 18.9375 73 \r\nQ 24.125 74.21875 28.421875 74.21875 \r\nQ 39.75 74.21875 46.484375 68.546875 \r\nQ 53.21875 62.890625 53.21875 53.421875 \r\nQ 53.21875 48.921875 51.53125 44.890625 \r\nQ 49.859375 40.875 45.40625 35.40625 \r\nQ 44.1875 33.984375 37.640625 27.21875 \r\nQ 31.109375 20.453125 19.1875 8.296875 \r\nz\r\n\" id=\"DejaVuSans-50\"/>\r\n      </defs>\r\n      <g style=\"fill:#555555;\" transform=\"translate(163.984915 256.756187)scale(0.1 -0.1)\">\r\n       <use xlink:href=\"#DejaVuSans-50\"/>\r\n       <use x=\"63.623047\" xlink:href=\"#DejaVuSans-46\"/>\r\n       <use x=\"95.410156\" xlink:href=\"#DejaVuSans-48\"/>\r\n      </g>\r\n     </g>\r\n    </g>\r\n    <g id=\"xtick_4\">\r\n     <g id=\"line2d_7\">\r\n      <path clip-path=\"url(#pa7a6c9e067)\" d=\"M 222.66375 242.15775 \r\nL 222.66375 24.71775 \r\n\" style=\"fill:none;stroke:#ffffff;stroke-linecap:square;stroke-width:0.8;\"/>\r\n     </g>\r\n     <g id=\"line2d_8\">\r\n      <g>\r\n       <use style=\"fill:#555555;stroke:#555555;stroke-width:0.8;\" x=\"222.66375\" xlink:href=\"#m7d9c854752\" y=\"242.15775\"/>\r\n      </g>\r\n     </g>\r\n     <g id=\"text_4\">\r\n      <!-- 2.5 -->\r\n      <g style=\"fill:#555555;\" transform=\"translate(214.712187 256.756187)scale(0.1 -0.1)\">\r\n       <use xlink:href=\"#DejaVuSans-50\"/>\r\n       <use x=\"63.623047\" xlink:href=\"#DejaVuSans-46\"/>\r\n       <use x=\"95.410156\" xlink:href=\"#DejaVuSans-53\"/>\r\n      </g>\r\n     </g>\r\n    </g>\r\n    <g id=\"xtick_5\">\r\n     <g id=\"line2d_9\">\r\n      <path clip-path=\"url(#pa7a6c9e067)\" d=\"M 273.391023 242.15775 \r\nL 273.391023 24.71775 \r\n\" style=\"fill:none;stroke:#ffffff;stroke-linecap:square;stroke-width:0.8;\"/>\r\n     </g>\r\n     <g id=\"line2d_10\">\r\n      <g>\r\n       <use style=\"fill:#555555;stroke:#555555;stroke-width:0.8;\" x=\"273.391023\" xlink:href=\"#m7d9c854752\" y=\"242.15775\"/>\r\n      </g>\r\n     </g>\r\n     <g id=\"text_5\">\r\n      <!-- 3.0 -->\r\n      <defs>\r\n       <path d=\"M 40.578125 39.3125 \r\nQ 47.65625 37.796875 51.625 33 \r\nQ 55.609375 28.21875 55.609375 21.1875 \r\nQ 55.609375 10.40625 48.1875 4.484375 \r\nQ 40.765625 -1.421875 27.09375 -1.421875 \r\nQ 22.515625 -1.421875 17.65625 -0.515625 \r\nQ 12.796875 0.390625 7.625 2.203125 \r\nL 7.625 11.71875 \r\nQ 11.71875 9.328125 16.59375 8.109375 \r\nQ 21.484375 6.890625 26.8125 6.890625 \r\nQ 36.078125 6.890625 40.9375 10.546875 \r\nQ 45.796875 14.203125 45.796875 21.1875 \r\nQ 45.796875 27.640625 41.28125 31.265625 \r\nQ 36.765625 34.90625 28.71875 34.90625 \r\nL 20.21875 34.90625 \r\nL 20.21875 43.015625 \r\nL 29.109375 43.015625 \r\nQ 36.375 43.015625 40.234375 45.921875 \r\nQ 44.09375 48.828125 44.09375 54.296875 \r\nQ 44.09375 59.90625 40.109375 62.90625 \r\nQ 36.140625 65.921875 28.71875 65.921875 \r\nQ 24.65625 65.921875 20.015625 65.03125 \r\nQ 15.375 64.15625 9.8125 62.3125 \r\nL 9.8125 71.09375 \r\nQ 15.4375 72.65625 20.34375 73.4375 \r\nQ 25.25 74.21875 29.59375 74.21875 \r\nQ 40.828125 74.21875 47.359375 69.109375 \r\nQ 53.90625 64.015625 53.90625 55.328125 \r\nQ 53.90625 49.265625 50.4375 45.09375 \r\nQ 46.96875 40.921875 40.578125 39.3125 \r\nz\r\n\" id=\"DejaVuSans-51\"/>\r\n      </defs>\r\n      <g style=\"fill:#555555;\" transform=\"translate(265.43946 256.756187)scale(0.1 -0.1)\">\r\n       <use xlink:href=\"#DejaVuSans-51\"/>\r\n       <use x=\"63.623047\" xlink:href=\"#DejaVuSans-46\"/>\r\n       <use x=\"95.410156\" xlink:href=\"#DejaVuSans-48\"/>\r\n      </g>\r\n     </g>\r\n    </g>\r\n    <g id=\"xtick_6\">\r\n     <g id=\"line2d_11\">\r\n      <path clip-path=\"url(#pa7a6c9e067)\" d=\"M 324.118295 242.15775 \r\nL 324.118295 24.71775 \r\n\" style=\"fill:none;stroke:#ffffff;stroke-linecap:square;stroke-width:0.8;\"/>\r\n     </g>\r\n     <g id=\"line2d_12\">\r\n      <g>\r\n       <use style=\"fill:#555555;stroke:#555555;stroke-width:0.8;\" x=\"324.118295\" xlink:href=\"#m7d9c854752\" y=\"242.15775\"/>\r\n      </g>\r\n     </g>\r\n     <g id=\"text_6\">\r\n      <!-- 3.5 -->\r\n      <g style=\"fill:#555555;\" transform=\"translate(316.166733 256.756187)scale(0.1 -0.1)\">\r\n       <use xlink:href=\"#DejaVuSans-51\"/>\r\n       <use x=\"63.623047\" xlink:href=\"#DejaVuSans-46\"/>\r\n       <use x=\"95.410156\" xlink:href=\"#DejaVuSans-53\"/>\r\n      </g>\r\n     </g>\r\n    </g>\r\n    <g id=\"xtick_7\">\r\n     <g id=\"line2d_13\">\r\n      <path clip-path=\"url(#pa7a6c9e067)\" d=\"M 374.845568 242.15775 \r\nL 374.845568 24.71775 \r\n\" style=\"fill:none;stroke:#ffffff;stroke-linecap:square;stroke-width:0.8;\"/>\r\n     </g>\r\n     <g id=\"line2d_14\">\r\n      <g>\r\n       <use style=\"fill:#555555;stroke:#555555;stroke-width:0.8;\" x=\"374.845568\" xlink:href=\"#m7d9c854752\" y=\"242.15775\"/>\r\n      </g>\r\n     </g>\r\n     <g id=\"text_7\">\r\n      <!-- 4.0 -->\r\n      <defs>\r\n       <path d=\"M 37.796875 64.3125 \r\nL 12.890625 25.390625 \r\nL 37.796875 25.390625 \r\nz\r\nM 35.203125 72.90625 \r\nL 47.609375 72.90625 \r\nL 47.609375 25.390625 \r\nL 58.015625 25.390625 \r\nL 58.015625 17.1875 \r\nL 47.609375 17.1875 \r\nL 47.609375 0 \r\nL 37.796875 0 \r\nL 37.796875 17.1875 \r\nL 4.890625 17.1875 \r\nL 4.890625 26.703125 \r\nz\r\n\" id=\"DejaVuSans-52\"/>\r\n      </defs>\r\n      <g style=\"fill:#555555;\" transform=\"translate(366.894006 256.756187)scale(0.1 -0.1)\">\r\n       <use xlink:href=\"#DejaVuSans-52\"/>\r\n       <use x=\"63.623047\" xlink:href=\"#DejaVuSans-46\"/>\r\n       <use x=\"95.410156\" xlink:href=\"#DejaVuSans-48\"/>\r\n      </g>\r\n     </g>\r\n    </g>\r\n    <g id=\"text_8\">\r\n     <!-- Mês -->\r\n     <defs>\r\n      <path d=\"M 9.8125 72.90625 \r\nL 24.515625 72.90625 \r\nL 43.109375 23.296875 \r\nL 61.8125 72.90625 \r\nL 76.515625 72.90625 \r\nL 76.515625 0 \r\nL 66.890625 0 \r\nL 66.890625 64.015625 \r\nL 48.09375 14.015625 \r\nL 38.1875 14.015625 \r\nL 19.390625 64.015625 \r\nL 19.390625 0 \r\nL 9.8125 0 \r\nz\r\n\" id=\"DejaVuSans-77\"/>\r\n      <path d=\"M 56.203125 29.59375 \r\nL 56.203125 25.203125 \r\nL 14.890625 25.203125 \r\nQ 15.484375 15.921875 20.484375 11.0625 \r\nQ 25.484375 6.203125 34.421875 6.203125 \r\nQ 39.59375 6.203125 44.453125 7.46875 \r\nQ 49.3125 8.734375 54.109375 11.28125 \r\nL 54.109375 2.78125 \r\nQ 49.265625 0.734375 44.1875 -0.34375 \r\nQ 39.109375 -1.421875 33.890625 -1.421875 \r\nQ 20.796875 -1.421875 13.15625 6.1875 \r\nQ 5.515625 13.8125 5.515625 26.8125 \r\nQ 5.515625 40.234375 12.765625 48.109375 \r\nQ 20.015625 56 32.328125 56 \r\nQ 43.359375 56 49.78125 48.890625 \r\nQ 56.203125 41.796875 56.203125 29.59375 \r\nz\r\nM 47.21875 32.234375 \r\nQ 47.125 39.59375 43.09375 43.984375 \r\nQ 39.0625 48.390625 32.421875 48.390625 \r\nQ 24.90625 48.390625 20.390625 44.140625 \r\nQ 15.875 39.890625 15.1875 32.171875 \r\nz\r\nM 28.171875 79.984375 \r\nL 35.40625 79.984375 \r\nL 47.359375 61.625 \r\nL 40.578125 61.625 \r\nL 31.78125 73.578125 \r\nL 23 61.625 \r\nL 16.21875 61.625 \r\nz\r\n\" id=\"DejaVuSans-234\"/>\r\n      <path d=\"M 44.28125 53.078125 \r\nL 44.28125 44.578125 \r\nQ 40.484375 46.53125 36.375 47.5 \r\nQ 32.28125 48.484375 27.875 48.484375 \r\nQ 21.1875 48.484375 17.84375 46.4375 \r\nQ 14.5 44.390625 14.5 40.28125 \r\nQ 14.5 37.15625 16.890625 35.375 \r\nQ 19.28125 33.59375 26.515625 31.984375 \r\nL 29.59375 31.296875 \r\nQ 39.15625 29.25 43.1875 25.515625 \r\nQ 47.21875 21.78125 47.21875 15.09375 \r\nQ 47.21875 7.46875 41.1875 3.015625 \r\nQ 35.15625 -1.421875 24.609375 -1.421875 \r\nQ 20.21875 -1.421875 15.453125 -0.5625 \r\nQ 10.6875 0.296875 5.421875 2 \r\nL 5.421875 11.28125 \r\nQ 10.40625 8.6875 15.234375 7.390625 \r\nQ 20.0625 6.109375 24.8125 6.109375 \r\nQ 31.15625 6.109375 34.5625 8.28125 \r\nQ 37.984375 10.453125 37.984375 14.40625 \r\nQ 37.984375 18.0625 35.515625 20.015625 \r\nQ 33.0625 21.96875 24.703125 23.78125 \r\nL 21.578125 24.515625 \r\nQ 13.234375 26.265625 9.515625 29.90625 \r\nQ 5.8125 33.546875 5.8125 39.890625 \r\nQ 5.8125 47.609375 11.28125 51.796875 \r\nQ 16.75 56 26.8125 56 \r\nQ 31.78125 56 36.171875 55.265625 \r\nQ 40.578125 54.546875 44.28125 53.078125 \r\nz\r\n\" id=\"DejaVuSans-115\"/>\r\n     </defs>\r\n     <g style=\"fill:#555555;\" transform=\"translate(210.669375 271.954)scale(0.12 -0.12)\">\r\n      <use xlink:href=\"#DejaVuSans-77\"/>\r\n      <use x=\"86.279297\" xlink:href=\"#DejaVuSans-234\"/>\r\n      <use x=\"147.802734\" xlink:href=\"#DejaVuSans-115\"/>\r\n     </g>\r\n    </g>\r\n   </g>\r\n   <g id=\"matplotlib.axis_2\">\r\n    <g id=\"ytick_1\">\r\n     <g id=\"line2d_15\">\r\n      <path clip-path=\"url(#pa7a6c9e067)\" d=\"M 55.26375 233.825502 \r\nL 390.06375 233.825502 \r\n\" style=\"fill:none;stroke:#ffffff;stroke-linecap:square;stroke-width:0.8;\"/>\r\n     </g>\r\n     <g id=\"line2d_16\">\r\n      <defs>\r\n       <path d=\"M 0 0 \r\nL -3.5 0 \r\n\" id=\"m4603a06acc\" style=\"stroke:#555555;stroke-width:0.8;\"/>\r\n      </defs>\r\n      <g>\r\n       <use style=\"fill:#555555;stroke:#555555;stroke-width:0.8;\" x=\"55.26375\" xlink:href=\"#m4603a06acc\" y=\"233.825502\"/>\r\n      </g>\r\n     </g>\r\n     <g id=\"text_9\">\r\n      <!-- 0 -->\r\n      <g style=\"fill:#555555;\" transform=\"translate(41.90125 237.624721)scale(0.1 -0.1)\">\r\n       <use xlink:href=\"#DejaVuSans-48\"/>\r\n      </g>\r\n     </g>\r\n    </g>\r\n    <g id=\"ytick_2\">\r\n     <g id=\"line2d_17\">\r\n      <path clip-path=\"url(#pa7a6c9e067)\" d=\"M 55.26375 207.96903 \r\nL 390.06375 207.96903 \r\n\" style=\"fill:none;stroke:#ffffff;stroke-linecap:square;stroke-width:0.8;\"/>\r\n     </g>\r\n     <g id=\"line2d_18\">\r\n      <g>\r\n       <use style=\"fill:#555555;stroke:#555555;stroke-width:0.8;\" x=\"55.26375\" xlink:href=\"#m4603a06acc\" y=\"207.96903\"/>\r\n      </g>\r\n     </g>\r\n     <g id=\"text_10\">\r\n      <!-- 200 -->\r\n      <g style=\"fill:#555555;\" transform=\"translate(29.17625 211.768249)scale(0.1 -0.1)\">\r\n       <use xlink:href=\"#DejaVuSans-50\"/>\r\n       <use x=\"63.623047\" xlink:href=\"#DejaVuSans-48\"/>\r\n       <use x=\"127.246094\" xlink:href=\"#DejaVuSans-48\"/>\r\n      </g>\r\n     </g>\r\n    </g>\r\n    <g id=\"ytick_3\">\r\n     <g id=\"line2d_19\">\r\n      <path clip-path=\"url(#pa7a6c9e067)\" d=\"M 55.26375 182.112558 \r\nL 390.06375 182.112558 \r\n\" style=\"fill:none;stroke:#ffffff;stroke-linecap:square;stroke-width:0.8;\"/>\r\n     </g>\r\n     <g id=\"line2d_20\">\r\n      <g>\r\n       <use style=\"fill:#555555;stroke:#555555;stroke-width:0.8;\" x=\"55.26375\" xlink:href=\"#m4603a06acc\" y=\"182.112558\"/>\r\n      </g>\r\n     </g>\r\n     <g id=\"text_11\">\r\n      <!-- 400 -->\r\n      <g style=\"fill:#555555;\" transform=\"translate(29.17625 185.911777)scale(0.1 -0.1)\">\r\n       <use xlink:href=\"#DejaVuSans-52\"/>\r\n       <use x=\"63.623047\" xlink:href=\"#DejaVuSans-48\"/>\r\n       <use x=\"127.246094\" xlink:href=\"#DejaVuSans-48\"/>\r\n      </g>\r\n     </g>\r\n    </g>\r\n    <g id=\"ytick_4\">\r\n     <g id=\"line2d_21\">\r\n      <path clip-path=\"url(#pa7a6c9e067)\" d=\"M 55.26375 156.256086 \r\nL 390.06375 156.256086 \r\n\" style=\"fill:none;stroke:#ffffff;stroke-linecap:square;stroke-width:0.8;\"/>\r\n     </g>\r\n     <g id=\"line2d_22\">\r\n      <g>\r\n       <use style=\"fill:#555555;stroke:#555555;stroke-width:0.8;\" x=\"55.26375\" xlink:href=\"#m4603a06acc\" y=\"156.256086\"/>\r\n      </g>\r\n     </g>\r\n     <g id=\"text_12\">\r\n      <!-- 600 -->\r\n      <defs>\r\n       <path d=\"M 33.015625 40.375 \r\nQ 26.375 40.375 22.484375 35.828125 \r\nQ 18.609375 31.296875 18.609375 23.390625 \r\nQ 18.609375 15.53125 22.484375 10.953125 \r\nQ 26.375 6.390625 33.015625 6.390625 \r\nQ 39.65625 6.390625 43.53125 10.953125 \r\nQ 47.40625 15.53125 47.40625 23.390625 \r\nQ 47.40625 31.296875 43.53125 35.828125 \r\nQ 39.65625 40.375 33.015625 40.375 \r\nz\r\nM 52.59375 71.296875 \r\nL 52.59375 62.3125 \r\nQ 48.875 64.0625 45.09375 64.984375 \r\nQ 41.3125 65.921875 37.59375 65.921875 \r\nQ 27.828125 65.921875 22.671875 59.328125 \r\nQ 17.53125 52.734375 16.796875 39.40625 \r\nQ 19.671875 43.65625 24.015625 45.921875 \r\nQ 28.375 48.1875 33.59375 48.1875 \r\nQ 44.578125 48.1875 50.953125 41.515625 \r\nQ 57.328125 34.859375 57.328125 23.390625 \r\nQ 57.328125 12.15625 50.6875 5.359375 \r\nQ 44.046875 -1.421875 33.015625 -1.421875 \r\nQ 20.359375 -1.421875 13.671875 8.265625 \r\nQ 6.984375 17.96875 6.984375 36.375 \r\nQ 6.984375 53.65625 15.1875 63.9375 \r\nQ 23.390625 74.21875 37.203125 74.21875 \r\nQ 40.921875 74.21875 44.703125 73.484375 \r\nQ 48.484375 72.75 52.59375 71.296875 \r\nz\r\n\" id=\"DejaVuSans-54\"/>\r\n      </defs>\r\n      <g style=\"fill:#555555;\" transform=\"translate(29.17625 160.055305)scale(0.1 -0.1)\">\r\n       <use xlink:href=\"#DejaVuSans-54\"/>\r\n       <use x=\"63.623047\" xlink:href=\"#DejaVuSans-48\"/>\r\n       <use x=\"127.246094\" xlink:href=\"#DejaVuSans-48\"/>\r\n      </g>\r\n     </g>\r\n    </g>\r\n    <g id=\"ytick_5\">\r\n     <g id=\"line2d_23\">\r\n      <path clip-path=\"url(#pa7a6c9e067)\" d=\"M 55.26375 130.399615 \r\nL 390.06375 130.399615 \r\n\" style=\"fill:none;stroke:#ffffff;stroke-linecap:square;stroke-width:0.8;\"/>\r\n     </g>\r\n     <g id=\"line2d_24\">\r\n      <g>\r\n       <use style=\"fill:#555555;stroke:#555555;stroke-width:0.8;\" x=\"55.26375\" xlink:href=\"#m4603a06acc\" y=\"130.399615\"/>\r\n      </g>\r\n     </g>\r\n     <g id=\"text_13\">\r\n      <!-- 800 -->\r\n      <defs>\r\n       <path d=\"M 31.78125 34.625 \r\nQ 24.75 34.625 20.71875 30.859375 \r\nQ 16.703125 27.09375 16.703125 20.515625 \r\nQ 16.703125 13.921875 20.71875 10.15625 \r\nQ 24.75 6.390625 31.78125 6.390625 \r\nQ 38.8125 6.390625 42.859375 10.171875 \r\nQ 46.921875 13.96875 46.921875 20.515625 \r\nQ 46.921875 27.09375 42.890625 30.859375 \r\nQ 38.875 34.625 31.78125 34.625 \r\nz\r\nM 21.921875 38.8125 \r\nQ 15.578125 40.375 12.03125 44.71875 \r\nQ 8.5 49.078125 8.5 55.328125 \r\nQ 8.5 64.0625 14.71875 69.140625 \r\nQ 20.953125 74.21875 31.78125 74.21875 \r\nQ 42.671875 74.21875 48.875 69.140625 \r\nQ 55.078125 64.0625 55.078125 55.328125 \r\nQ 55.078125 49.078125 51.53125 44.71875 \r\nQ 48 40.375 41.703125 38.8125 \r\nQ 48.828125 37.15625 52.796875 32.3125 \r\nQ 56.78125 27.484375 56.78125 20.515625 \r\nQ 56.78125 9.90625 50.3125 4.234375 \r\nQ 43.84375 -1.421875 31.78125 -1.421875 \r\nQ 19.734375 -1.421875 13.25 4.234375 \r\nQ 6.78125 9.90625 6.78125 20.515625 \r\nQ 6.78125 27.484375 10.78125 32.3125 \r\nQ 14.796875 37.15625 21.921875 38.8125 \r\nz\r\nM 18.3125 54.390625 \r\nQ 18.3125 48.734375 21.84375 45.5625 \r\nQ 25.390625 42.390625 31.78125 42.390625 \r\nQ 38.140625 42.390625 41.71875 45.5625 \r\nQ 45.3125 48.734375 45.3125 54.390625 \r\nQ 45.3125 60.0625 41.71875 63.234375 \r\nQ 38.140625 66.40625 31.78125 66.40625 \r\nQ 25.390625 66.40625 21.84375 63.234375 \r\nQ 18.3125 60.0625 18.3125 54.390625 \r\nz\r\n\" id=\"DejaVuSans-56\"/>\r\n      </defs>\r\n      <g style=\"fill:#555555;\" transform=\"translate(29.17625 134.198833)scale(0.1 -0.1)\">\r\n       <use xlink:href=\"#DejaVuSans-56\"/>\r\n       <use x=\"63.623047\" xlink:href=\"#DejaVuSans-48\"/>\r\n       <use x=\"127.246094\" xlink:href=\"#DejaVuSans-48\"/>\r\n      </g>\r\n     </g>\r\n    </g>\r\n    <g id=\"ytick_6\">\r\n     <g id=\"line2d_25\">\r\n      <path clip-path=\"url(#pa7a6c9e067)\" d=\"M 55.26375 104.543143 \r\nL 390.06375 104.543143 \r\n\" style=\"fill:none;stroke:#ffffff;stroke-linecap:square;stroke-width:0.8;\"/>\r\n     </g>\r\n     <g id=\"line2d_26\">\r\n      <g>\r\n       <use style=\"fill:#555555;stroke:#555555;stroke-width:0.8;\" x=\"55.26375\" xlink:href=\"#m4603a06acc\" y=\"104.543143\"/>\r\n      </g>\r\n     </g>\r\n     <g id=\"text_14\">\r\n      <!-- 1000 -->\r\n      <g style=\"fill:#555555;\" transform=\"translate(22.81375 108.342361)scale(0.1 -0.1)\">\r\n       <use xlink:href=\"#DejaVuSans-49\"/>\r\n       <use x=\"63.623047\" xlink:href=\"#DejaVuSans-48\"/>\r\n       <use x=\"127.246094\" xlink:href=\"#DejaVuSans-48\"/>\r\n       <use x=\"190.869141\" xlink:href=\"#DejaVuSans-48\"/>\r\n      </g>\r\n     </g>\r\n    </g>\r\n    <g id=\"ytick_7\">\r\n     <g id=\"line2d_27\">\r\n      <path clip-path=\"url(#pa7a6c9e067)\" d=\"M 55.26375 78.686671 \r\nL 390.06375 78.686671 \r\n\" style=\"fill:none;stroke:#ffffff;stroke-linecap:square;stroke-width:0.8;\"/>\r\n     </g>\r\n     <g id=\"line2d_28\">\r\n      <g>\r\n       <use style=\"fill:#555555;stroke:#555555;stroke-width:0.8;\" x=\"55.26375\" xlink:href=\"#m4603a06acc\" y=\"78.686671\"/>\r\n      </g>\r\n     </g>\r\n     <g id=\"text_15\">\r\n      <!-- 1200 -->\r\n      <g style=\"fill:#555555;\" transform=\"translate(22.81375 82.48589)scale(0.1 -0.1)\">\r\n       <use xlink:href=\"#DejaVuSans-49\"/>\r\n       <use x=\"63.623047\" xlink:href=\"#DejaVuSans-50\"/>\r\n       <use x=\"127.246094\" xlink:href=\"#DejaVuSans-48\"/>\r\n       <use x=\"190.869141\" xlink:href=\"#DejaVuSans-48\"/>\r\n      </g>\r\n     </g>\r\n    </g>\r\n    <g id=\"ytick_8\">\r\n     <g id=\"line2d_29\">\r\n      <path clip-path=\"url(#pa7a6c9e067)\" d=\"M 55.26375 52.830199 \r\nL 390.06375 52.830199 \r\n\" style=\"fill:none;stroke:#ffffff;stroke-linecap:square;stroke-width:0.8;\"/>\r\n     </g>\r\n     <g id=\"line2d_30\">\r\n      <g>\r\n       <use style=\"fill:#555555;stroke:#555555;stroke-width:0.8;\" x=\"55.26375\" xlink:href=\"#m4603a06acc\" y=\"52.830199\"/>\r\n      </g>\r\n     </g>\r\n     <g id=\"text_16\">\r\n      <!-- 1400 -->\r\n      <g style=\"fill:#555555;\" transform=\"translate(22.81375 56.629418)scale(0.1 -0.1)\">\r\n       <use xlink:href=\"#DejaVuSans-49\"/>\r\n       <use x=\"63.623047\" xlink:href=\"#DejaVuSans-52\"/>\r\n       <use x=\"127.246094\" xlink:href=\"#DejaVuSans-48\"/>\r\n       <use x=\"190.869141\" xlink:href=\"#DejaVuSans-48\"/>\r\n      </g>\r\n     </g>\r\n    </g>\r\n    <g id=\"ytick_9\">\r\n     <g id=\"line2d_31\">\r\n      <path clip-path=\"url(#pa7a6c9e067)\" d=\"M 55.26375 26.973727 \r\nL 390.06375 26.973727 \r\n\" style=\"fill:none;stroke:#ffffff;stroke-linecap:square;stroke-width:0.8;\"/>\r\n     </g>\r\n     <g id=\"line2d_32\">\r\n      <g>\r\n       <use style=\"fill:#555555;stroke:#555555;stroke-width:0.8;\" x=\"55.26375\" xlink:href=\"#m4603a06acc\" y=\"26.973727\"/>\r\n      </g>\r\n     </g>\r\n     <g id=\"text_17\">\r\n      <!-- 1600 -->\r\n      <g style=\"fill:#555555;\" transform=\"translate(22.81375 30.772946)scale(0.1 -0.1)\">\r\n       <use xlink:href=\"#DejaVuSans-49\"/>\r\n       <use x=\"63.623047\" xlink:href=\"#DejaVuSans-54\"/>\r\n       <use x=\"127.246094\" xlink:href=\"#DejaVuSans-48\"/>\r\n       <use x=\"190.869141\" xlink:href=\"#DejaVuSans-48\"/>\r\n      </g>\r\n     </g>\r\n    </g>\r\n    <g id=\"text_18\">\r\n     <!-- Total Produtos Vendidos -->\r\n     <defs>\r\n      <path d=\"M -0.296875 72.90625 \r\nL 61.375 72.90625 \r\nL 61.375 64.59375 \r\nL 35.5 64.59375 \r\nL 35.5 0 \r\nL 25.59375 0 \r\nL 25.59375 64.59375 \r\nL -0.296875 64.59375 \r\nz\r\n\" id=\"DejaVuSans-84\"/>\r\n      <path d=\"M 30.609375 48.390625 \r\nQ 23.390625 48.390625 19.1875 42.75 \r\nQ 14.984375 37.109375 14.984375 27.296875 \r\nQ 14.984375 17.484375 19.15625 11.84375 \r\nQ 23.34375 6.203125 30.609375 6.203125 \r\nQ 37.796875 6.203125 41.984375 11.859375 \r\nQ 46.1875 17.53125 46.1875 27.296875 \r\nQ 46.1875 37.015625 41.984375 42.703125 \r\nQ 37.796875 48.390625 30.609375 48.390625 \r\nz\r\nM 30.609375 56 \r\nQ 42.328125 56 49.015625 48.375 \r\nQ 55.71875 40.765625 55.71875 27.296875 \r\nQ 55.71875 13.875 49.015625 6.21875 \r\nQ 42.328125 -1.421875 30.609375 -1.421875 \r\nQ 18.84375 -1.421875 12.171875 6.21875 \r\nQ 5.515625 13.875 5.515625 27.296875 \r\nQ 5.515625 40.765625 12.171875 48.375 \r\nQ 18.84375 56 30.609375 56 \r\nz\r\n\" id=\"DejaVuSans-111\"/>\r\n      <path d=\"M 18.3125 70.21875 \r\nL 18.3125 54.6875 \r\nL 36.8125 54.6875 \r\nL 36.8125 47.703125 \r\nL 18.3125 47.703125 \r\nL 18.3125 18.015625 \r\nQ 18.3125 11.328125 20.140625 9.421875 \r\nQ 21.96875 7.515625 27.59375 7.515625 \r\nL 36.8125 7.515625 \r\nL 36.8125 0 \r\nL 27.59375 0 \r\nQ 17.1875 0 13.234375 3.875 \r\nQ 9.28125 7.765625 9.28125 18.015625 \r\nL 9.28125 47.703125 \r\nL 2.6875 47.703125 \r\nL 2.6875 54.6875 \r\nL 9.28125 54.6875 \r\nL 9.28125 70.21875 \r\nz\r\n\" id=\"DejaVuSans-116\"/>\r\n      <path d=\"M 34.28125 27.484375 \r\nQ 23.390625 27.484375 19.1875 25 \r\nQ 14.984375 22.515625 14.984375 16.5 \r\nQ 14.984375 11.71875 18.140625 8.90625 \r\nQ 21.296875 6.109375 26.703125 6.109375 \r\nQ 34.1875 6.109375 38.703125 11.40625 \r\nQ 43.21875 16.703125 43.21875 25.484375 \r\nL 43.21875 27.484375 \r\nz\r\nM 52.203125 31.203125 \r\nL 52.203125 0 \r\nL 43.21875 0 \r\nL 43.21875 8.296875 \r\nQ 40.140625 3.328125 35.546875 0.953125 \r\nQ 30.953125 -1.421875 24.3125 -1.421875 \r\nQ 15.921875 -1.421875 10.953125 3.296875 \r\nQ 6 8.015625 6 15.921875 \r\nQ 6 25.140625 12.171875 29.828125 \r\nQ 18.359375 34.515625 30.609375 34.515625 \r\nL 43.21875 34.515625 \r\nL 43.21875 35.40625 \r\nQ 43.21875 41.609375 39.140625 45 \r\nQ 35.0625 48.390625 27.6875 48.390625 \r\nQ 23 48.390625 18.546875 47.265625 \r\nQ 14.109375 46.140625 10.015625 43.890625 \r\nL 10.015625 52.203125 \r\nQ 14.9375 54.109375 19.578125 55.046875 \r\nQ 24.21875 56 28.609375 56 \r\nQ 40.484375 56 46.34375 49.84375 \r\nQ 52.203125 43.703125 52.203125 31.203125 \r\nz\r\n\" id=\"DejaVuSans-97\"/>\r\n      <path d=\"M 9.421875 75.984375 \r\nL 18.40625 75.984375 \r\nL 18.40625 0 \r\nL 9.421875 0 \r\nz\r\n\" id=\"DejaVuSans-108\"/>\r\n      <path id=\"DejaVuSans-32\"/>\r\n      <path d=\"M 19.671875 64.796875 \r\nL 19.671875 37.40625 \r\nL 32.078125 37.40625 \r\nQ 38.96875 37.40625 42.71875 40.96875 \r\nQ 46.484375 44.53125 46.484375 51.125 \r\nQ 46.484375 57.671875 42.71875 61.234375 \r\nQ 38.96875 64.796875 32.078125 64.796875 \r\nz\r\nM 9.8125 72.90625 \r\nL 32.078125 72.90625 \r\nQ 44.34375 72.90625 50.609375 67.359375 \r\nQ 56.890625 61.8125 56.890625 51.125 \r\nQ 56.890625 40.328125 50.609375 34.8125 \r\nQ 44.34375 29.296875 32.078125 29.296875 \r\nL 19.671875 29.296875 \r\nL 19.671875 0 \r\nL 9.8125 0 \r\nz\r\n\" id=\"DejaVuSans-80\"/>\r\n      <path d=\"M 41.109375 46.296875 \r\nQ 39.59375 47.171875 37.8125 47.578125 \r\nQ 36.03125 48 33.890625 48 \r\nQ 26.265625 48 22.1875 43.046875 \r\nQ 18.109375 38.09375 18.109375 28.8125 \r\nL 18.109375 0 \r\nL 9.078125 0 \r\nL 9.078125 54.6875 \r\nL 18.109375 54.6875 \r\nL 18.109375 46.1875 \r\nQ 20.953125 51.171875 25.484375 53.578125 \r\nQ 30.03125 56 36.53125 56 \r\nQ 37.453125 56 38.578125 55.875 \r\nQ 39.703125 55.765625 41.0625 55.515625 \r\nz\r\n\" id=\"DejaVuSans-114\"/>\r\n      <path d=\"M 45.40625 46.390625 \r\nL 45.40625 75.984375 \r\nL 54.390625 75.984375 \r\nL 54.390625 0 \r\nL 45.40625 0 \r\nL 45.40625 8.203125 \r\nQ 42.578125 3.328125 38.25 0.953125 \r\nQ 33.9375 -1.421875 27.875 -1.421875 \r\nQ 17.96875 -1.421875 11.734375 6.484375 \r\nQ 5.515625 14.40625 5.515625 27.296875 \r\nQ 5.515625 40.1875 11.734375 48.09375 \r\nQ 17.96875 56 27.875 56 \r\nQ 33.9375 56 38.25 53.625 \r\nQ 42.578125 51.265625 45.40625 46.390625 \r\nz\r\nM 14.796875 27.296875 \r\nQ 14.796875 17.390625 18.875 11.75 \r\nQ 22.953125 6.109375 30.078125 6.109375 \r\nQ 37.203125 6.109375 41.296875 11.75 \r\nQ 45.40625 17.390625 45.40625 27.296875 \r\nQ 45.40625 37.203125 41.296875 42.84375 \r\nQ 37.203125 48.484375 30.078125 48.484375 \r\nQ 22.953125 48.484375 18.875 42.84375 \r\nQ 14.796875 37.203125 14.796875 27.296875 \r\nz\r\n\" id=\"DejaVuSans-100\"/>\r\n      <path d=\"M 8.5 21.578125 \r\nL 8.5 54.6875 \r\nL 17.484375 54.6875 \r\nL 17.484375 21.921875 \r\nQ 17.484375 14.15625 20.5 10.265625 \r\nQ 23.53125 6.390625 29.59375 6.390625 \r\nQ 36.859375 6.390625 41.078125 11.03125 \r\nQ 45.3125 15.671875 45.3125 23.6875 \r\nL 45.3125 54.6875 \r\nL 54.296875 54.6875 \r\nL 54.296875 0 \r\nL 45.3125 0 \r\nL 45.3125 8.40625 \r\nQ 42.046875 3.421875 37.71875 1 \r\nQ 33.40625 -1.421875 27.6875 -1.421875 \r\nQ 18.265625 -1.421875 13.375 4.4375 \r\nQ 8.5 10.296875 8.5 21.578125 \r\nz\r\nM 31.109375 56 \r\nz\r\n\" id=\"DejaVuSans-117\"/>\r\n      <path d=\"M 28.609375 0 \r\nL 0.78125 72.90625 \r\nL 11.078125 72.90625 \r\nL 34.1875 11.53125 \r\nL 57.328125 72.90625 \r\nL 67.578125 72.90625 \r\nL 39.796875 0 \r\nz\r\n\" id=\"DejaVuSans-86\"/>\r\n      <path d=\"M 56.203125 29.59375 \r\nL 56.203125 25.203125 \r\nL 14.890625 25.203125 \r\nQ 15.484375 15.921875 20.484375 11.0625 \r\nQ 25.484375 6.203125 34.421875 6.203125 \r\nQ 39.59375 6.203125 44.453125 7.46875 \r\nQ 49.3125 8.734375 54.109375 11.28125 \r\nL 54.109375 2.78125 \r\nQ 49.265625 0.734375 44.1875 -0.34375 \r\nQ 39.109375 -1.421875 33.890625 -1.421875 \r\nQ 20.796875 -1.421875 13.15625 6.1875 \r\nQ 5.515625 13.8125 5.515625 26.8125 \r\nQ 5.515625 40.234375 12.765625 48.109375 \r\nQ 20.015625 56 32.328125 56 \r\nQ 43.359375 56 49.78125 48.890625 \r\nQ 56.203125 41.796875 56.203125 29.59375 \r\nz\r\nM 47.21875 32.234375 \r\nQ 47.125 39.59375 43.09375 43.984375 \r\nQ 39.0625 48.390625 32.421875 48.390625 \r\nQ 24.90625 48.390625 20.390625 44.140625 \r\nQ 15.875 39.890625 15.1875 32.171875 \r\nz\r\n\" id=\"DejaVuSans-101\"/>\r\n      <path d=\"M 54.890625 33.015625 \r\nL 54.890625 0 \r\nL 45.90625 0 \r\nL 45.90625 32.71875 \r\nQ 45.90625 40.484375 42.875 44.328125 \r\nQ 39.84375 48.1875 33.796875 48.1875 \r\nQ 26.515625 48.1875 22.3125 43.546875 \r\nQ 18.109375 38.921875 18.109375 30.90625 \r\nL 18.109375 0 \r\nL 9.078125 0 \r\nL 9.078125 54.6875 \r\nL 18.109375 54.6875 \r\nL 18.109375 46.1875 \r\nQ 21.34375 51.125 25.703125 53.5625 \r\nQ 30.078125 56 35.796875 56 \r\nQ 45.21875 56 50.046875 50.171875 \r\nQ 54.890625 44.34375 54.890625 33.015625 \r\nz\r\n\" id=\"DejaVuSans-110\"/>\r\n      <path d=\"M 9.421875 54.6875 \r\nL 18.40625 54.6875 \r\nL 18.40625 0 \r\nL 9.421875 0 \r\nz\r\nM 9.421875 75.984375 \r\nL 18.40625 75.984375 \r\nL 18.40625 64.59375 \r\nL 9.421875 64.59375 \r\nz\r\n\" id=\"DejaVuSans-105\"/>\r\n     </defs>\r\n     <g style=\"fill:#555555;\" transform=\"translate(16.318125 204.75525)rotate(-90)scale(0.12 -0.12)\">\r\n      <use xlink:href=\"#DejaVuSans-84\"/>\r\n      <use x=\"44.083984\" xlink:href=\"#DejaVuSans-111\"/>\r\n      <use x=\"105.265625\" xlink:href=\"#DejaVuSans-116\"/>\r\n      <use x=\"144.474609\" xlink:href=\"#DejaVuSans-97\"/>\r\n      <use x=\"205.753906\" xlink:href=\"#DejaVuSans-108\"/>\r\n      <use x=\"233.537109\" xlink:href=\"#DejaVuSans-32\"/>\r\n      <use x=\"265.324219\" xlink:href=\"#DejaVuSans-80\"/>\r\n      <use x=\"323.876953\" xlink:href=\"#DejaVuSans-114\"/>\r\n      <use x=\"362.740234\" xlink:href=\"#DejaVuSans-111\"/>\r\n      <use x=\"423.921875\" xlink:href=\"#DejaVuSans-100\"/>\r\n      <use x=\"487.398438\" xlink:href=\"#DejaVuSans-117\"/>\r\n      <use x=\"550.777344\" xlink:href=\"#DejaVuSans-116\"/>\r\n      <use x=\"589.986328\" xlink:href=\"#DejaVuSans-111\"/>\r\n      <use x=\"651.167969\" xlink:href=\"#DejaVuSans-115\"/>\r\n      <use x=\"703.267578\" xlink:href=\"#DejaVuSans-32\"/>\r\n      <use x=\"735.054688\" xlink:href=\"#DejaVuSans-86\"/>\r\n      <use x=\"795.712891\" xlink:href=\"#DejaVuSans-101\"/>\r\n      <use x=\"857.236328\" xlink:href=\"#DejaVuSans-110\"/>\r\n      <use x=\"920.615234\" xlink:href=\"#DejaVuSans-100\"/>\r\n      <use x=\"984.091797\" xlink:href=\"#DejaVuSans-105\"/>\r\n      <use x=\"1011.875\" xlink:href=\"#DejaVuSans-100\"/>\r\n      <use x=\"1075.351562\" xlink:href=\"#DejaVuSans-111\"/>\r\n      <use x=\"1136.533203\" xlink:href=\"#DejaVuSans-115\"/>\r\n     </g>\r\n    </g>\r\n   </g>\r\n   <g id=\"line2d_33\">\r\n    <path clip-path=\"url(#pa7a6c9e067)\" d=\"M 70.481932 34.601386 \r\nL 171.936477 217.27736 \r\nL 273.391023 174.355617 \r\nL 374.845568 232.274114 \r\n\" style=\"fill:none;stroke:#e24a33;stroke-linecap:square;stroke-width:1.5;\"/>\r\n    <defs>\r\n     <path d=\"M -0 3 \r\nL 3 -3 \r\nL -3 -3 \r\nz\r\n\" id=\"m5163dfac60\" style=\"stroke:#e24a33;stroke-linejoin:miter;\"/>\r\n    </defs>\r\n    <g clip-path=\"url(#pa7a6c9e067)\">\r\n     <use style=\"fill:#e24a33;stroke:#e24a33;stroke-linejoin:miter;\" x=\"70.481932\" xlink:href=\"#m5163dfac60\" y=\"34.601386\"/>\r\n     <use style=\"fill:#e24a33;stroke:#e24a33;stroke-linejoin:miter;\" x=\"171.936477\" xlink:href=\"#m5163dfac60\" y=\"217.27736\"/>\r\n     <use style=\"fill:#e24a33;stroke:#e24a33;stroke-linejoin:miter;\" x=\"273.391023\" xlink:href=\"#m5163dfac60\" y=\"174.355617\"/>\r\n     <use style=\"fill:#e24a33;stroke:#e24a33;stroke-linejoin:miter;\" x=\"374.845568\" xlink:href=\"#m5163dfac60\" y=\"232.274114\"/>\r\n    </g>\r\n   </g>\r\n   <g id=\"patch_3\">\r\n    <path d=\"M 55.26375 242.15775 \r\nL 55.26375 24.71775 \r\n\" style=\"fill:none;stroke:#ffffff;stroke-linecap:square;stroke-linejoin:miter;\"/>\r\n   </g>\r\n   <g id=\"patch_4\">\r\n    <path d=\"M 390.06375 242.15775 \r\nL 390.06375 24.71775 \r\n\" style=\"fill:none;stroke:#ffffff;stroke-linecap:square;stroke-linejoin:miter;\"/>\r\n   </g>\r\n   <g id=\"patch_5\">\r\n    <path d=\"M 55.26375 242.15775 \r\nL 390.06375 242.15775 \r\n\" style=\"fill:none;stroke:#ffffff;stroke-linecap:square;stroke-linejoin:miter;\"/>\r\n   </g>\r\n   <g id=\"patch_6\">\r\n    <path d=\"M 55.26375 24.71775 \r\nL 390.06375 24.71775 \r\n\" style=\"fill:none;stroke:#ffffff;stroke-linecap:square;stroke-linejoin:miter;\"/>\r\n   </g>\r\n   <g id=\"text_19\">\r\n    <!-- Quantidade de produtos vendidos x mês -->\r\n    <defs>\r\n     <path d=\"M 39.40625 66.21875 \r\nQ 28.65625 66.21875 22.328125 58.203125 \r\nQ 16.015625 50.203125 16.015625 36.375 \r\nQ 16.015625 22.609375 22.328125 14.59375 \r\nQ 28.65625 6.59375 39.40625 6.59375 \r\nQ 50.140625 6.59375 56.421875 14.59375 \r\nQ 62.703125 22.609375 62.703125 36.375 \r\nQ 62.703125 50.203125 56.421875 58.203125 \r\nQ 50.140625 66.21875 39.40625 66.21875 \r\nz\r\nM 53.21875 1.3125 \r\nL 66.21875 -12.890625 \r\nL 54.296875 -12.890625 \r\nL 43.5 -1.21875 \r\nQ 41.890625 -1.3125 41.03125 -1.359375 \r\nQ 40.1875 -1.421875 39.40625 -1.421875 \r\nQ 24.03125 -1.421875 14.8125 8.859375 \r\nQ 5.609375 19.140625 5.609375 36.375 \r\nQ 5.609375 53.65625 14.8125 63.9375 \r\nQ 24.03125 74.21875 39.40625 74.21875 \r\nQ 54.734375 74.21875 63.90625 63.9375 \r\nQ 73.09375 53.65625 73.09375 36.375 \r\nQ 73.09375 23.6875 67.984375 14.640625 \r\nQ 62.890625 5.609375 53.21875 1.3125 \r\nz\r\n\" id=\"DejaVuSans-81\"/>\r\n     <path d=\"M 18.109375 8.203125 \r\nL 18.109375 -20.796875 \r\nL 9.078125 -20.796875 \r\nL 9.078125 54.6875 \r\nL 18.109375 54.6875 \r\nL 18.109375 46.390625 \r\nQ 20.953125 51.265625 25.265625 53.625 \r\nQ 29.59375 56 35.59375 56 \r\nQ 45.5625 56 51.78125 48.09375 \r\nQ 58.015625 40.1875 58.015625 27.296875 \r\nQ 58.015625 14.40625 51.78125 6.484375 \r\nQ 45.5625 -1.421875 35.59375 -1.421875 \r\nQ 29.59375 -1.421875 25.265625 0.953125 \r\nQ 20.953125 3.328125 18.109375 8.203125 \r\nz\r\nM 48.6875 27.296875 \r\nQ 48.6875 37.203125 44.609375 42.84375 \r\nQ 40.53125 48.484375 33.40625 48.484375 \r\nQ 26.265625 48.484375 22.1875 42.84375 \r\nQ 18.109375 37.203125 18.109375 27.296875 \r\nQ 18.109375 17.390625 22.1875 11.75 \r\nQ 26.265625 6.109375 33.40625 6.109375 \r\nQ 40.53125 6.109375 44.609375 11.75 \r\nQ 48.6875 17.390625 48.6875 27.296875 \r\nz\r\n\" id=\"DejaVuSans-112\"/>\r\n     <path d=\"M 2.984375 54.6875 \r\nL 12.5 54.6875 \r\nL 29.59375 8.796875 \r\nL 46.6875 54.6875 \r\nL 56.203125 54.6875 \r\nL 35.6875 0 \r\nL 23.484375 0 \r\nz\r\n\" id=\"DejaVuSans-118\"/>\r\n     <path d=\"M 54.890625 54.6875 \r\nL 35.109375 28.078125 \r\nL 55.90625 0 \r\nL 45.3125 0 \r\nL 29.390625 21.484375 \r\nL 13.484375 0 \r\nL 2.875 0 \r\nL 24.125 28.609375 \r\nL 4.6875 54.6875 \r\nL 15.28125 54.6875 \r\nL 29.78125 35.203125 \r\nL 44.28125 54.6875 \r\nz\r\n\" id=\"DejaVuSans-120\"/>\r\n     <path d=\"M 52 44.1875 \r\nQ 55.375 50.25 60.0625 53.125 \r\nQ 64.75 56 71.09375 56 \r\nQ 79.640625 56 84.28125 50.015625 \r\nQ 88.921875 44.046875 88.921875 33.015625 \r\nL 88.921875 0 \r\nL 79.890625 0 \r\nL 79.890625 32.71875 \r\nQ 79.890625 40.578125 77.09375 44.375 \r\nQ 74.3125 48.1875 68.609375 48.1875 \r\nQ 61.625 48.1875 57.5625 43.546875 \r\nQ 53.515625 38.921875 53.515625 30.90625 \r\nL 53.515625 0 \r\nL 44.484375 0 \r\nL 44.484375 32.71875 \r\nQ 44.484375 40.625 41.703125 44.40625 \r\nQ 38.921875 48.1875 33.109375 48.1875 \r\nQ 26.21875 48.1875 22.15625 43.53125 \r\nQ 18.109375 38.875 18.109375 30.90625 \r\nL 18.109375 0 \r\nL 9.078125 0 \r\nL 9.078125 54.6875 \r\nL 18.109375 54.6875 \r\nL 18.109375 46.1875 \r\nQ 21.1875 51.21875 25.484375 53.609375 \r\nQ 29.78125 56 35.6875 56 \r\nQ 41.65625 56 45.828125 52.96875 \r\nQ 50 49.953125 52 44.1875 \r\nz\r\n\" id=\"DejaVuSans-109\"/>\r\n    </defs>\r\n    <g transform=\"translate(76.3125 18.71775)scale(0.144 -0.144)\">\r\n     <use xlink:href=\"#DejaVuSans-81\"/>\r\n     <use x=\"78.710938\" xlink:href=\"#DejaVuSans-117\"/>\r\n     <use x=\"142.089844\" xlink:href=\"#DejaVuSans-97\"/>\r\n     <use x=\"203.369141\" xlink:href=\"#DejaVuSans-110\"/>\r\n     <use x=\"266.748047\" xlink:href=\"#DejaVuSans-116\"/>\r\n     <use x=\"305.957031\" xlink:href=\"#DejaVuSans-105\"/>\r\n     <use x=\"333.740234\" xlink:href=\"#DejaVuSans-100\"/>\r\n     <use x=\"397.216797\" xlink:href=\"#DejaVuSans-97\"/>\r\n     <use x=\"458.496094\" xlink:href=\"#DejaVuSans-100\"/>\r\n     <use x=\"521.972656\" xlink:href=\"#DejaVuSans-101\"/>\r\n     <use x=\"583.496094\" xlink:href=\"#DejaVuSans-32\"/>\r\n     <use x=\"615.283203\" xlink:href=\"#DejaVuSans-100\"/>\r\n     <use x=\"678.759766\" xlink:href=\"#DejaVuSans-101\"/>\r\n     <use x=\"740.283203\" xlink:href=\"#DejaVuSans-32\"/>\r\n     <use x=\"772.070312\" xlink:href=\"#DejaVuSans-112\"/>\r\n     <use x=\"835.546875\" xlink:href=\"#DejaVuSans-114\"/>\r\n     <use x=\"874.410156\" xlink:href=\"#DejaVuSans-111\"/>\r\n     <use x=\"935.591797\" xlink:href=\"#DejaVuSans-100\"/>\r\n     <use x=\"999.068359\" xlink:href=\"#DejaVuSans-117\"/>\r\n     <use x=\"1062.447266\" xlink:href=\"#DejaVuSans-116\"/>\r\n     <use x=\"1101.65625\" xlink:href=\"#DejaVuSans-111\"/>\r\n     <use x=\"1162.837891\" xlink:href=\"#DejaVuSans-115\"/>\r\n     <use x=\"1214.9375\" xlink:href=\"#DejaVuSans-32\"/>\r\n     <use x=\"1246.724609\" xlink:href=\"#DejaVuSans-118\"/>\r\n     <use x=\"1305.904297\" xlink:href=\"#DejaVuSans-101\"/>\r\n     <use x=\"1367.427734\" xlink:href=\"#DejaVuSans-110\"/>\r\n     <use x=\"1430.806641\" xlink:href=\"#DejaVuSans-100\"/>\r\n     <use x=\"1494.283203\" xlink:href=\"#DejaVuSans-105\"/>\r\n     <use x=\"1522.066406\" xlink:href=\"#DejaVuSans-100\"/>\r\n     <use x=\"1585.542969\" xlink:href=\"#DejaVuSans-111\"/>\r\n     <use x=\"1646.724609\" xlink:href=\"#DejaVuSans-115\"/>\r\n     <use x=\"1698.824219\" xlink:href=\"#DejaVuSans-32\"/>\r\n     <use x=\"1730.611328\" xlink:href=\"#DejaVuSans-120\"/>\r\n     <use x=\"1789.791016\" xlink:href=\"#DejaVuSans-32\"/>\r\n     <use x=\"1821.578125\" xlink:href=\"#DejaVuSans-109\"/>\r\n     <use x=\"1918.990234\" xlink:href=\"#DejaVuSans-234\"/>\r\n     <use x=\"1980.513672\" xlink:href=\"#DejaVuSans-115\"/>\r\n    </g>\r\n   </g>\r\n   <g id=\"legend_1\">\r\n    <g id=\"patch_7\">\r\n     <path d=\"M 326.77 47.395875 \r\nL 383.06375 47.395875 \r\nQ 385.06375 47.395875 385.06375 45.395875 \r\nL 385.06375 31.71775 \r\nQ 385.06375 29.71775 383.06375 29.71775 \r\nL 326.77 29.71775 \r\nQ 324.77 29.71775 324.77 31.71775 \r\nL 324.77 45.395875 \r\nQ 324.77 47.395875 326.77 47.395875 \r\nz\r\n\" style=\"fill:#e5e5e5;opacity:0.8;stroke:#cccccc;stroke-linejoin:miter;stroke-width:0.5;\"/>\r\n    </g>\r\n    <g id=\"line2d_34\">\r\n     <path d=\"M 328.77 37.816187 \r\nL 348.77 37.816187 \r\n\" style=\"fill:none;stroke:#e24a33;stroke-linecap:square;stroke-width:1.5;\"/>\r\n    </g>\r\n    <g id=\"line2d_35\">\r\n     <g>\r\n      <use style=\"fill:#e24a33;stroke:#e24a33;stroke-linejoin:miter;\" x=\"338.77\" xlink:href=\"#m5163dfac60\" y=\"37.816187\"/>\r\n     </g>\r\n    </g>\r\n    <g id=\"text_20\">\r\n     <!-- Qtde -->\r\n     <g transform=\"translate(356.77 41.316187)scale(0.1 -0.1)\">\r\n      <use xlink:href=\"#DejaVuSans-81\"/>\r\n      <use x=\"78.710938\" xlink:href=\"#DejaVuSans-116\"/>\r\n      <use x=\"117.919922\" xlink:href=\"#DejaVuSans-100\"/>\r\n      <use x=\"181.396484\" xlink:href=\"#DejaVuSans-101\"/>\r\n     </g>\r\n    </g>\r\n   </g>\r\n  </g>\r\n </g>\r\n <defs>\r\n  <clipPath id=\"pa7a6c9e067\">\r\n   <rect height=\"217.44\" width=\"334.8\" x=\"55.26375\" y=\"24.71775\"/>\r\n  </clipPath>\r\n </defs>\r\n</svg>\r\n",
            "image/png": "[encoded data removed]"
          },
          "metadata": {}
        }
      ],
      "metadata": {
        "id": "1tFrsehWc7IN",
        "colab_type": "code",
        "colab": {
          "base_uri": "https://localhost:8080/",
          "height": 478
        },
        "outputId": "b185e26f-1aa4-4d09-f2aa-e5bc3ee748c6"
      }
    },
    {
      "cell_type": "code",
      "execution_count": null,
      "source": [],
      "outputs": [],
      "metadata": {
        "id": "mIcmLx2iktxl",
        "colab_type": "code",
        "colab": {}
      }
    }
  ]
}